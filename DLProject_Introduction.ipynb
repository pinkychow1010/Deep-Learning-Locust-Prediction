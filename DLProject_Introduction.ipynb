{
 "cells": [
  {
   "cell_type": "markdown",
   "id": "70229e39",
   "metadata": {},
   "source": [
    "# Satellite Forecasting of Locust Swarms using Deep Learning\n",
    "\n",
    "### Semester Project SS 2021 @ Advanced Programming for Remote Sensing\n",
    "#### Julius-Maximilians-Universität Würzburg, 19.09.2021\n",
    "\n",
    "This is a semester project for the course advanced programming aiming to use deep learning model and real-time climate variables to predict the emergence of locust swarms using data from Locust hub."
   ]
  },
  {
   "cell_type": "markdown",
   "id": "a3582460",
   "metadata": {},
   "source": [
    "<img src=https://www.unocha.org/sites/unocha/files/locuts_banner_1_0.jpg width=\"900\">"
   ]
  },
  {
   "cell_type": "markdown",
   "id": "35c6f659",
   "metadata": {},
   "source": [
    "## Abstract"
   ]
  },
  {
   "cell_type": "markdown",
   "id": "b18c7b1e",
   "metadata": {},
   "source": [
    "Locust outbreaks is a regular natural hazard which affects vast population in the vulnerable countries. It does not only induce huge economic costs, but also highly affect food security by locust rapidly damaging huge quantity of crops. Due to the vast scale of outbreaks and locusts' perferences of bio-climatic conditions, remote sensing data and machine learning have distinct potential for locust prediction. In this study, we assess around 20,000 desert locust swarms occurrence records between 1998 and 2011 and applied a deep learning model to predict the occurences of swarms in Ethiopia, Eastern Africa using Landsat series and FLDAS bio-climatic data at the cooresponding month. Results show good potential for scale expansion in further research and  to increase prediction performances using near-time climatic variables."
   ]
  },
  {
   "cell_type": "markdown",
   "id": "b2c6bc0e",
   "metadata": {},
   "source": [
    "## Background"
   ]
  },
  {
   "cell_type": "markdown",
   "id": "5b3b45c9",
   "metadata": {},
   "source": [
    "Remote sensing has become an important data source for locust management due to its increasing spatial and temporal resolution. The existing research regarding locust management is, nevertheless, limited and highly biased geographically (Klein, I., Oppelt, N., & Kuenzer, C., 2021). Most of the research focus on land use information, long term bio-climatic data and vegetation indices (eg. EVI, NDVI), which restricts the uses of available spectral information near-real time climatic data. Meanwhile, existing research covers relatively short temporal period, focus on either a specific outbreak, or general habitat suitability of locust. In comparison, the present study assess data between 1998 and 2011 across Africa for training, and apply the model in Ethiopia for prediction and accuracy assessment. It aims to increase locust prediction performance by using near-time climatic variables instead of long term average, to emphasis the influences of short-term climatic conditions compared to general climate range of a region in the deep learning model. Besides, the model includes a large range of variables including VI, land cover information, temperature, soil moisture and geomorphology, in order to cover all significant parameters for locust prediction given in the existing studies."
   ]
  },
  {
   "cell_type": "markdown",
   "id": "f3128052",
   "metadata": {},
   "source": [
    "## Objective"
   ]
  },
  {
   "cell_type": "markdown",
   "id": "7d6785b5",
   "metadata": {},
   "source": [
    "The present study aims to predict occurences of desert locust adults that form swarms and cause an outbreak using deep learning algorithms. The goal is to able to generate the possibility of swarm formations using near-time climate variables and Landsat imagery, potentially can be integrated with previous time stamps and more climate variables (eg. GCOM-C/SGLI L3 Leaf Area Index), as well as be extended to global scale (for example, can be applied also to countries like India and Pakistan)."
   ]
  },
  {
   "cell_type": "markdown",
   "id": "df716d1e",
   "metadata": {},
   "source": [
    "## Methodology"
   ]
  },
  {
   "cell_type": "markdown",
   "id": "833044aa",
   "metadata": {},
   "source": [
    "This study uses swarm data from Locust Hub published on 2020, which includes data in the global scale and cover over the last 4 decades. Regarding bio-climatic variables, data includes WorldClim which is global climate layers aggregated across the last few descades, as well as FLDAS which is the Famine Early Warning Systems Network (FEWS NET) Land Data\n",
    "Assimilation System (FLDAS), a multi-model and multi-forcing estimates of hydro-climate conditions specifically intended for sub-Saharan Africa. Those climate variables include soil moisture, temperature at different depths, as well as surface air temperature statistics and wind speed. Other data including in the deep learning model includes spectral data from Landsat 5,7, and 8, as well es SRTM DEM data for elevation. \n",
    "\n",
    "the presence data is generated by resampling the data points provided in Locust Hub by jittering, whereas the absence data is generated by resampling the absence of present data in the spatio-temporal dimensions with 1000-kilometers buffer. the total data points are then used in Google Earth Engine to extract values from the raster stacks between 1998 and 2011. The resulting time series for all variables are then used to extract information for the corresponding month, before exploratory data analysis for data transformation and outliner removal. Afterwards, the datasets are appended and split by years into training, testing, and validaiton. It is then feed into the deep learning model for training before applying to the testing dataset."
   ]
  },
  {
   "cell_type": "markdown",
   "id": "6f736848",
   "metadata": {},
   "source": [
    "## Workflow"
   ]
  },
  {
   "cell_type": "markdown",
   "id": "7aca6632",
   "metadata": {},
   "source": [
    "![workflow](workflow.png)"
   ]
  },
  {
   "cell_type": "markdown",
   "id": "c549d216",
   "metadata": {},
   "source": [
    "## Limitations and Further Efforts"
   ]
  },
  {
   "cell_type": "markdown",
   "id": "7a4e12cc",
   "metadata": {},
   "source": [
    "This study aims to accurately predict the locust swarms with multiple climatic variables using deep learning model. Nevertheless, due to the limiting time and resources, the model is limited to restricted number of variables and temporal periods. Further bio-climatic variables can be integrated into the model include MODIS NDVI and satellite-derived LAI. Meanwhile, the workflow also allow the integration of bio-climatic variables in the previous time stamps into the model (eg. precipitation one month before outbreak), which would be helpful to capture phenology and the evolution of climatic patterns. Besides, the period of study can be further extended to the last 3 decades, or including regions such as India and Arabian  peninsula given good computational power. Further efforts will be needed in these directions."
   ]
  },
  {
   "cell_type": "markdown",
   "id": "29ffae59",
   "metadata": {},
   "source": [
    "## References"
   ]
  },
  {
   "cell_type": "markdown",
   "id": "ec2d466e",
   "metadata": {},
   "source": [
    "Fick, S. E., & Hijmans, R. J. (2017). WorldClim 2: new 1‐km spatial resolution climate surfaces for global land areas. \n",
    "    International journal of climatology, 37(12), 4302-4315.\n",
    "\n",
    "Kimathi, E., Tonnang, H. E., Subramanian, S., Cressman, K., Abdel-Rahman, E. M., Tesfayohannes, M., ... & Kelemu, S. (2020). \n",
    "    Prediction of breeding regions for the desert locust Schistocerca gregaria in East Africa. Scientific Reports, 10(1), 1-10.\n",
    "\n",
    "Klein, I., Oppelt, N., & Kuenzer, C. (2021). Application of remote sensing data for locust research and management—A review. \n",
    "    Insects, 12(3), 233.\n",
    "\n",
    "McNally, A., Arsenault, K., Kumar, S., Shukla, S., Peterson, P., Wang, S., ... & Verdin, J. P. (2017). A land data assimilation \n",
    "    system for sub-Saharan Africa food and water security applications. Scientific data, 4(1), 1-19."
   ]
  }
 ],
 "metadata": {
  "kernelspec": {
   "display_name": "Python 3",
   "language": "python",
   "name": "python3"
  },
  "language_info": {
   "codemirror_mode": {
    "name": "ipython",
    "version": 3
   },
   "file_extension": ".py",
   "mimetype": "text/x-python",
   "name": "python",
   "nbconvert_exporter": "python",
   "pygments_lexer": "ipython3",
   "version": "3.7.9"
  },
  "toc": {
   "base_numbering": 1,
   "nav_menu": {},
   "number_sections": false,
   "sideBar": true,
   "skip_h1_title": false,
   "title_cell": "Table of Contents",
   "title_sidebar": "Contents",
   "toc_cell": false,
   "toc_position": {},
   "toc_section_display": true,
   "toc_window_display": false
  }
 },
 "nbformat": 4,
 "nbformat_minor": 5
}
