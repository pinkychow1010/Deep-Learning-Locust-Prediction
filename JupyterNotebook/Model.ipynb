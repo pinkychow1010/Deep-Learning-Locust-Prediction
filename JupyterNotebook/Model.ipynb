{
  "nbformat": 4,
  "nbformat_minor": 0,
  "metadata": {
    "colab": {
      "name": "Model.ipynb",
      "provenance": [],
      "collapsed_sections": [],
      "toc_visible": true,
      "authorship_tag": "ABX9TyODgFJGNj1lDiQPD1V6iGQx",
      "include_colab_link": true
    },
    "kernelspec": {
      "name": "python3",
      "display_name": "Python 3"
    },
    "language_info": {
      "name": "python"
    }
  },
  "cells": [
    {
      "cell_type": "markdown",
      "metadata": {
        "id": "view-in-github",
        "colab_type": "text"
      },
      "source": [
        "<a href=\"https://colab.research.google.com/github/pinkychow1010/DeepLearning_LocustPrediction/blob/main/JupyterNotebook/Model.ipynb\" target=\"_parent\"><img src=\"https://colab.research.google.com/assets/colab-badge.svg\" alt=\"Open In Colab\"/></a>"
      ]
    },
    {
      "cell_type": "markdown",
      "metadata": {
        "id": "PoBnWpkcxtwR"
      },
      "source": [
        "## This notebook includes 4 sections: \n",
        "\n",
        "\n",
        "1.   Train, validation & test data\n",
        "2.   Model creation and hyperparameter tuning\n",
        "3.   Model Evaluation\n",
        "4.   Unnecessary analysis\n",
        "\n",
        "\n"
      ]
    },
    {
      "cell_type": "markdown",
      "metadata": {
        "id": "s8SvZVTUyg3n"
      },
      "source": [
        "## Section 1\n",
        "### Train, validation & test data"
      ]
    },
    {
      "cell_type": "code",
      "metadata": {
        "id": "Wa0sU8WXZqUk"
      },
      "source": [
        "import pandas as pd\n",
        "import io\n",
        "import seaborn as sns\n",
        "import numpy as np\n",
        "import matplotlib as mpl\n",
        "import matplotlib.pyplot as plt\n",
        "from keras.models import Sequential\n",
        "from keras.layers import Dense\n",
        "from keras.wrappers.scikit_learn import KerasClassifier\n",
        "import tensorflow as tf\n",
        "from sklearn.model_selection import cross_val_score\n",
        "from sklearn.preprocessing import LabelEncoder\n",
        "from sklearn.model_selection import StratifiedKFold\n",
        "from sklearn.preprocessing import StandardScaler\n",
        "from sklearn.pipeline import Pipeline\n",
        "# machine learning\n",
        "from sklearn.linear_model import LogisticRegression\n",
        "from sklearn.svm import SVC, LinearSVC\n",
        "from sklearn.ensemble import RandomForestClassifier\n",
        "from sklearn.neighbors import KNeighborsClassifier\n",
        "from sklearn.naive_bayes import GaussianNB\n",
        "from sklearn.linear_model import Perceptron\n",
        "from sklearn.linear_model import SGDClassifier\n",
        "from sklearn.tree import DecisionTreeClassifier\n",
        "from sklearn.model_selection import GridSearchCV"
      ],
      "execution_count": 5,
      "outputs": []
    },
    {
      "cell_type": "markdown",
      "metadata": {
        "id": "xa6aqmiK_t1c"
      },
      "source": [
        "### Train data  \n",
        "#### FLDAS, Landsat, SRTM"
      ]
    },
    {
      "cell_type": "markdown",
      "metadata": {
        "id": "Kz9M71k1_LcT"
      },
      "source": [
        "#### FLDAS data"
      ]
    },
    {
      "cell_type": "code",
      "metadata": {
        "id": "kl_ZeyqxOtkc",
        "colab": {
          "resources": {
            "http://localhost:8080/nbextensions/google.colab/files.js": {
              "data": "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",
              "ok": true,
              "headers": [
                [
                  "content-type",
                  "application/javascript"
                ]
              ],
              "status": 200,
              "status_text": "OK"
            }
          },
          "base_uri": "https://localhost:8080/",
          "height": 93
        },
        "outputId": "6822b0c8-efa8-4d9a-d3a6-5db3038fc1a6"
      },
      "source": [
        "# load train data\n",
        "# select the \"tmax_1980_2018.csv\" from your local project drive\n",
        "from google.colab import files\n",
        "uploaded = files.upload()\n",
        "\n",
        "df_data_train_98_99 = pd.read_csv(io.BytesIO(uploaded['FLDAS_98_99_extracted.csv']))\n",
        "\n",
        "#dataset = dataframe.values\n",
        "df_data_train_98_99.head(3)\n",
        "print(df_data_train_98_99.shape)"
      ],
      "execution_count": 6,
      "outputs": [
        {
          "output_type": "display_data",
          "data": {
            "text/html": [
              "\n",
              "     <input type=\"file\" id=\"files-6fc907c4-3abb-488a-9b21-aed21272c732\" name=\"files[]\" multiple disabled\n",
              "        style=\"border:none\" />\n",
              "     <output id=\"result-6fc907c4-3abb-488a-9b21-aed21272c732\">\n",
              "      Upload widget is only available when the cell has been executed in the\n",
              "      current browser session. Please rerun this cell to enable.\n",
              "      </output>\n",
              "      <script src=\"/nbextensions/google.colab/files.js\"></script> "
            ],
            "text/plain": [
              "<IPython.core.display.HTML object>"
            ]
          },
          "metadata": {}
        },
        {
          "output_type": "stream",
          "name": "stdout",
          "text": [
            "Saving FLDAS_98_99_extracted.csv to FLDAS_98_99_extracted (1).csv\n",
            "(2418, 26)\n"
          ]
        }
      ]
    },
    {
      "cell_type": "code",
      "metadata": {
        "colab": {
          "resources": {
            "http://localhost:8080/nbextensions/google.colab/files.js": {
              "data": "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",
              "ok": true,
              "headers": [
                [
                  "content-type",
                  "application/javascript"
                ]
              ],
              "status": 200,
              "status_text": "OK"
            }
          },
          "base_uri": "https://localhost:8080/",
          "height": 93
        },
        "id": "A2S9_s2TR-ye",
        "outputId": "e52fa9c9-e474-4018-cd47-bf2645bf8ee1"
      },
      "source": [
        "from google.colab import files\n",
        "uploaded = files.upload()\n",
        "\n",
        "df_data_train_00_01 = pd.read_csv(io.BytesIO(uploaded['FLDAS_00_01_extracted.csv']))\n",
        "\n",
        "#dataset = dataframe.values\n",
        "#df_data_train_00_01.head(3)\n",
        "print(df_data_train_00_01.shape)"
      ],
      "execution_count": 7,
      "outputs": [
        {
          "output_type": "display_data",
          "data": {
            "text/html": [
              "\n",
              "     <input type=\"file\" id=\"files-e0274c02-1ce3-4f92-95e1-3f5e52e2cf05\" name=\"files[]\" multiple disabled\n",
              "        style=\"border:none\" />\n",
              "     <output id=\"result-e0274c02-1ce3-4f92-95e1-3f5e52e2cf05\">\n",
              "      Upload widget is only available when the cell has been executed in the\n",
              "      current browser session. Please rerun this cell to enable.\n",
              "      </output>\n",
              "      <script src=\"/nbextensions/google.colab/files.js\"></script> "
            ],
            "text/plain": [
              "<IPython.core.display.HTML object>"
            ]
          },
          "metadata": {}
        },
        {
          "output_type": "stream",
          "name": "stdout",
          "text": [
            "Saving FLDAS_00_01_extracted.csv to FLDAS_00_01_extracted (1).csv\n",
            "(2390, 26)\n"
          ]
        }
      ]
    },
    {
      "cell_type": "code",
      "metadata": {
        "colab": {
          "resources": {
            "http://localhost:8080/nbextensions/google.colab/files.js": {
              "data": "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",
              "ok": true,
              "headers": [
                [
                  "content-type",
                  "application/javascript"
                ]
              ],
              "status": 200,
              "status_text": "OK"
            }
          },
          "base_uri": "https://localhost:8080/",
          "height": 93
        },
        "id": "qpzixZUDR--O",
        "outputId": "74d090ff-66db-4c01-a41e-4256c36141d6"
      },
      "source": [
        "from google.colab import files\n",
        "uploaded = files.upload()\n",
        "\n",
        "df_data_train_02_03 = pd.read_csv(io.BytesIO(uploaded['FLDAS_02_03_extracted.csv']))\n",
        "\n",
        "#dataset = dataframe.values\n",
        "df_data_train_02_03.head(3)\n",
        "print(df_data_train_02_03.shape)"
      ],
      "execution_count": 8,
      "outputs": [
        {
          "output_type": "display_data",
          "data": {
            "text/html": [
              "\n",
              "     <input type=\"file\" id=\"files-ad1d866c-275c-43b1-baf8-3b0bd2e66fd9\" name=\"files[]\" multiple disabled\n",
              "        style=\"border:none\" />\n",
              "     <output id=\"result-ad1d866c-275c-43b1-baf8-3b0bd2e66fd9\">\n",
              "      Upload widget is only available when the cell has been executed in the\n",
              "      current browser session. Please rerun this cell to enable.\n",
              "      </output>\n",
              "      <script src=\"/nbextensions/google.colab/files.js\"></script> "
            ],
            "text/plain": [
              "<IPython.core.display.HTML object>"
            ]
          },
          "metadata": {}
        },
        {
          "output_type": "stream",
          "name": "stdout",
          "text": [
            "Saving FLDAS_02_03_extracted.csv to FLDAS_02_03_extracted (1).csv\n",
            "(2548, 26)\n"
          ]
        }
      ]
    },
    {
      "cell_type": "code",
      "metadata": {
        "colab": {
          "resources": {
            "http://localhost:8080/nbextensions/google.colab/files.js": {
              "data": "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",
              "ok": true,
              "headers": [
                [
                  "content-type",
                  "application/javascript"
                ]
              ],
              "status": 200,
              "status_text": "OK"
            }
          },
          "base_uri": "https://localhost:8080/",
          "height": 93
        },
        "id": "8ivt4kmxR_En",
        "outputId": "68a000ee-ca26-4ce3-fe2d-08c545388157"
      },
      "source": [
        "from google.colab import files\n",
        "uploaded = files.upload()\n",
        "\n",
        "df_data_train_04 = pd.read_csv(io.BytesIO(uploaded['FLDAS_04_extracted.csv']))\n",
        "\n",
        "#dataset = dataframe.values  \n",
        "df_data_train_04.head(3)  \n",
        "print(df_data_train_04.shape)  "
      ],
      "execution_count": 9,
      "outputs": [
        {
          "output_type": "display_data",
          "data": {
            "text/html": [
              "\n",
              "     <input type=\"file\" id=\"files-d9f17465-5df8-419e-9671-d79539660e06\" name=\"files[]\" multiple disabled\n",
              "        style=\"border:none\" />\n",
              "     <output id=\"result-d9f17465-5df8-419e-9671-d79539660e06\">\n",
              "      Upload widget is only available when the cell has been executed in the\n",
              "      current browser session. Please rerun this cell to enable.\n",
              "      </output>\n",
              "      <script src=\"/nbextensions/google.colab/files.js\"></script> "
            ],
            "text/plain": [
              "<IPython.core.display.HTML object>"
            ]
          },
          "metadata": {}
        },
        {
          "output_type": "stream",
          "name": "stdout",
          "text": [
            "Saving FLDAS_04_extracted.csv to FLDAS_04_extracted.csv\n",
            "(17344, 26)\n"
          ]
        }
      ]
    },
    {
      "cell_type": "code",
      "metadata": {
        "id": "ETt0dBnVR_Hx",
        "colab": {
          "resources": {
            "http://localhost:8080/nbextensions/google.colab/files.js": {
              "data": "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",
              "ok": true,
              "headers": [
                [
                  "content-type",
                  "application/javascript"
                ]
              ],
              "status": 200,
              "status_text": "OK"
            }
          },
          "base_uri": "https://localhost:8080/",
          "height": 75
        },
        "outputId": "84cb5e01-b177-4f1a-bcf4-c43af84345af"
      },
      "source": [
        "from google.colab import files\n",
        "uploaded = files.upload()\n",
        "\n",
        "df_data_train_05 = pd.read_csv(io.BytesIO(uploaded['FLDAS_05_extracted.csv']))\n",
        "\n",
        "#dataset = dataframe.values\n",
        "#df_data_train_05.head(3)\n",
        "#print(df_data_train_05.shape)"
      ],
      "execution_count": 10,
      "outputs": [
        {
          "output_type": "display_data",
          "data": {
            "text/html": [
              "\n",
              "     <input type=\"file\" id=\"files-4b847fb6-0102-44b1-845c-0e61b85a9986\" name=\"files[]\" multiple disabled\n",
              "        style=\"border:none\" />\n",
              "     <output id=\"result-4b847fb6-0102-44b1-845c-0e61b85a9986\">\n",
              "      Upload widget is only available when the cell has been executed in the\n",
              "      current browser session. Please rerun this cell to enable.\n",
              "      </output>\n",
              "      <script src=\"/nbextensions/google.colab/files.js\"></script> "
            ],
            "text/plain": [
              "<IPython.core.display.HTML object>"
            ]
          },
          "metadata": {}
        },
        {
          "output_type": "stream",
          "name": "stdout",
          "text": [
            "Saving FLDAS_05_extracted.csv to FLDAS_05_extracted.csv\n"
          ]
        }
      ]
    },
    {
      "cell_type": "code",
      "metadata": {
        "id": "x1S-IOfvSyNq"
      },
      "source": [
        "# combine train dataframes into one df\n",
        "frames = [df_data_train_98_99, df_data_train_00_01, df_data_train_02_03, df_data_train_04, df_data_train_05]\n",
        "\n",
        "train_df_fldas = pd.concat(frames)\n",
        "\n",
        "\n",
        "# change the order of columns in pandas dataframe\n",
        "train_df_fldas = train_df_fldas[[\"Unnamed: 0\", \"Month\", \"X\", \"Y\", \"Year\", \"evap\", \"heatnet\",\n",
        "       \"humid\", \"id\", \"latheat\", \"prep\", \"pressure\", \"radtemp\", \"runoff\",\n",
        "       \"soilheat\", \"soilmoi_10cm\", \"soilmoi_1m\", \"soilmoi_2m\", \"soilmoi_40cm\",\n",
        "       \"soiltemp_10cm\", \"soiltemp_1m\", \"soiltemp_2m\", \"soiltemp_40cm\",\"surfacetemp\", \"windspeed\", \"PRESENCE\"]]\n",
        "\n",
        "\n",
        "#print(train_df_fldas.info())"
      ],
      "execution_count": 11,
      "outputs": []
    },
    {
      "cell_type": "code",
      "metadata": {
        "colab": {
          "base_uri": "https://localhost:8080/"
        },
        "id": "8Y4BMihWfbyw",
        "outputId": "00f169d0-ed18-4ed6-a8ff-d1e1206821a0"
      },
      "source": [
        "print(type(train_df_fldas))\n",
        "print(len(train_df_fldas))\n",
        "print(train_df_fldas.shape)\n",
        "#train_df_fldas.describe().transpose()"
      ],
      "execution_count": 12,
      "outputs": [
        {
          "output_type": "stream",
          "name": "stdout",
          "text": [
            "<class 'pandas.core.frame.DataFrame'>\n",
            "26987\n",
            "(26987, 26)\n"
          ]
        }
      ]
    },
    {
      "cell_type": "code",
      "metadata": {
        "id": "q6TMQ8lpgvOK",
        "colab": {
          "base_uri": "https://localhost:8080/"
        },
        "outputId": "ad322038-94b3-4c1c-c305-1bb9ced5daaf"
      },
      "source": [
        "#sns.violinplot(data=train_df_fldas[['soilmoi_2m']])\n",
        "train_df_fldas.columns"
      ],
      "execution_count": 13,
      "outputs": [
        {
          "output_type": "execute_result",
          "data": {
            "text/plain": [
              "Index(['Unnamed: 0', 'Month', 'X', 'Y', 'Year', 'evap', 'heatnet', 'humid',\n",
              "       'id', 'latheat', 'prep', 'pressure', 'radtemp', 'runoff', 'soilheat',\n",
              "       'soilmoi_10cm', 'soilmoi_1m', 'soilmoi_2m', 'soilmoi_40cm',\n",
              "       'soiltemp_10cm', 'soiltemp_1m', 'soiltemp_2m', 'soiltemp_40cm',\n",
              "       'surfacetemp', 'windspeed', 'PRESENCE'],\n",
              "      dtype='object')"
            ]
          },
          "metadata": {},
          "execution_count": 13
        }
      ]
    },
    {
      "cell_type": "code",
      "metadata": {
        "colab": {
          "base_uri": "https://localhost:8080/",
          "height": 149
        },
        "id": "ud8vv_YMgRZy",
        "outputId": "7d69786d-c1a3-43bb-cfd7-e6bc953638c1"
      },
      "source": [
        "# Divide train data to presence and absence to exclude 2-5 % of upper and lower outliers\n",
        "\n",
        "train_df_fldas_presence = train_df_fldas[train_df_fldas['PRESENCE'] == 1]\n",
        "train_df_fldas_absence = train_df_fldas[train_df_fldas['PRESENCE'] == 0]\n",
        "train_df_fldas_presence.head(2)\n",
        "#sns.violinplot(data=train_df_fldas_presence[['soilmoi_2m']])\n",
        "#sns.violinplot(data=train_df_fldas_presence[['soilmoi_2m']])"
      ],
      "execution_count": 14,
      "outputs": [
        {
          "output_type": "execute_result",
          "data": {
            "text/html": [
              "<div>\n",
              "<style scoped>\n",
              "    .dataframe tbody tr th:only-of-type {\n",
              "        vertical-align: middle;\n",
              "    }\n",
              "\n",
              "    .dataframe tbody tr th {\n",
              "        vertical-align: top;\n",
              "    }\n",
              "\n",
              "    .dataframe thead th {\n",
              "        text-align: right;\n",
              "    }\n",
              "</style>\n",
              "<table border=\"1\" class=\"dataframe\">\n",
              "  <thead>\n",
              "    <tr style=\"text-align: right;\">\n",
              "      <th></th>\n",
              "      <th>Unnamed: 0</th>\n",
              "      <th>Month</th>\n",
              "      <th>X</th>\n",
              "      <th>Y</th>\n",
              "      <th>Year</th>\n",
              "      <th>evap</th>\n",
              "      <th>heatnet</th>\n",
              "      <th>humid</th>\n",
              "      <th>id</th>\n",
              "      <th>latheat</th>\n",
              "      <th>prep</th>\n",
              "      <th>pressure</th>\n",
              "      <th>radtemp</th>\n",
              "      <th>runoff</th>\n",
              "      <th>soilheat</th>\n",
              "      <th>soilmoi_10cm</th>\n",
              "      <th>soilmoi_1m</th>\n",
              "      <th>soilmoi_2m</th>\n",
              "      <th>soilmoi_40cm</th>\n",
              "      <th>soiltemp_10cm</th>\n",
              "      <th>soiltemp_1m</th>\n",
              "      <th>soiltemp_2m</th>\n",
              "      <th>soiltemp_40cm</th>\n",
              "      <th>surfacetemp</th>\n",
              "      <th>windspeed</th>\n",
              "      <th>PRESENCE</th>\n",
              "    </tr>\n",
              "  </thead>\n",
              "  <tbody>\n",
              "    <tr>\n",
              "      <th>99</th>\n",
              "      <td>2406</td>\n",
              "      <td>1</td>\n",
              "      <td>38.533</td>\n",
              "      <td>17.317</td>\n",
              "      <td>1998</td>\n",
              "      <td>0.000009</td>\n",
              "      <td>68.608475</td>\n",
              "      <td>0.012515</td>\n",
              "      <td>40221</td>\n",
              "      <td>22.448561</td>\n",
              "      <td>0.000014</td>\n",
              "      <td>97360.648438</td>\n",
              "      <td>297.968567</td>\n",
              "      <td>0.000001</td>\n",
              "      <td>-2.626832</td>\n",
              "      <td>0.241868</td>\n",
              "      <td>0.328349</td>\n",
              "      <td>0.324109</td>\n",
              "      <td>0.330645</td>\n",
              "      <td>298.107727</td>\n",
              "      <td>299.426208</td>\n",
              "      <td>300.359131</td>\n",
              "      <td>298.613708</td>\n",
              "      <td>296.056091</td>\n",
              "      <td>4.524924</td>\n",
              "      <td>1.0</td>\n",
              "    </tr>\n",
              "    <tr>\n",
              "      <th>100</th>\n",
              "      <td>2407</td>\n",
              "      <td>1</td>\n",
              "      <td>38.533</td>\n",
              "      <td>17.317</td>\n",
              "      <td>1998</td>\n",
              "      <td>0.000009</td>\n",
              "      <td>68.608475</td>\n",
              "      <td>0.012515</td>\n",
              "      <td>48390</td>\n",
              "      <td>22.448561</td>\n",
              "      <td>0.000014</td>\n",
              "      <td>97360.648438</td>\n",
              "      <td>297.968567</td>\n",
              "      <td>0.000001</td>\n",
              "      <td>-2.626832</td>\n",
              "      <td>0.241868</td>\n",
              "      <td>0.328349</td>\n",
              "      <td>0.324109</td>\n",
              "      <td>0.330645</td>\n",
              "      <td>298.107727</td>\n",
              "      <td>299.426208</td>\n",
              "      <td>300.359131</td>\n",
              "      <td>298.613708</td>\n",
              "      <td>296.056091</td>\n",
              "      <td>4.524924</td>\n",
              "      <td>1.0</td>\n",
              "    </tr>\n",
              "  </tbody>\n",
              "</table>\n",
              "</div>"
            ],
            "text/plain": [
              "     Unnamed: 0  Month       X  ...  surfacetemp  windspeed  PRESENCE\n",
              "99         2406      1  38.533  ...   296.056091   4.524924       1.0\n",
              "100        2407      1  38.533  ...   296.056091   4.524924       1.0\n",
              "\n",
              "[2 rows x 26 columns]"
            ]
          },
          "metadata": {},
          "execution_count": 14
        }
      ]
    },
    {
      "cell_type": "code",
      "metadata": {
        "colab": {
          "base_uri": "https://localhost:8080/"
        },
        "id": "KeqfW4ypvzls",
        "outputId": "b3428022-53ce-4feb-9759-6d9416b5b301"
      },
      "source": [
        "# Percentage of presence and absence in train data\n",
        "print (\"Presence: %i (%.1f%%)\"%(len(train_df_fldas_presence), float(len(train_df_fldas_presence))/len(train_df_fldas)*100.0))\n",
        "print (\"Absence: %i (%.1f%%)\"%(len(train_df_fldas_absence), float(len(train_df_fldas_absence))/len(train_df_fldas)*100.0))\n",
        "print (\"Total: %i\"%len(train_df_fldas))"
      ],
      "execution_count": 15,
      "outputs": [
        {
          "output_type": "stream",
          "name": "stdout",
          "text": [
            "Presence: 17428 (64.6%)\n",
            "Absence: 9559 (35.4%)\n",
            "Total: 26987\n"
          ]
        }
      ]
    },
    {
      "cell_type": "code",
      "metadata": {
        "colab": {
          "base_uri": "https://localhost:8080/",
          "height": 391
        },
        "id": "RobcUpwuy36G",
        "outputId": "59eba068-995e-415a-cc66-f4b401087a25"
      },
      "source": [
        "# Perform log transformation on \"latheat\", \"evap\" & \"runoff\" to deal with skewed data\n",
        "# 'latheat'\n",
        "dataset_train_fldas_latheat = np.log1p(train_df_fldas[['latheat']].values)\n",
        "#print(type(dataset_train))\n",
        "\n",
        "\n",
        "# Create a new dataframe to compare the original with log transform data\n",
        "dist_df_latheat = pd.DataFrame({'latheat' : train_df_fldas['latheat'], 'log_latheat': dataset_train_fldas_latheat[:, 0]})\n",
        "\n",
        "# Histogram plot original vs log transform data\n",
        "plt.figure(figsize = (12,6))\n",
        "dist_df_latheat.hist()\n",
        "\n",
        "# 'evap'\n",
        "dataset_train_fldas_evap = np.log1p(train_df_fldas[['evap']].values)\n",
        "#print(type(dataset_train))\n",
        "\n",
        "\n",
        "# Create a new dataframe to compare the original with log transform data\n",
        "dist_df_evap = pd.DataFrame({'evap' : train_df_fldas['evap'], 'log_evap': dataset_train_fldas_evap[:, 0]})\n",
        "\n",
        "# Histogram plot original vs log transform data\n",
        "plt.figure(figsize = (12,6))\n",
        "#dist_df_evap.hist()\n",
        "\n",
        "# 'runoff'\n",
        "dataset_train_fldas_runoff = np.log1p(train_df_fldas[['runoff']].values)\n",
        "#print(type(dataset_train))\n",
        "\n",
        "\n",
        "# Create a new dataframe to compare the original with log transform data\n",
        "#dist_df_runoff = pd.DataFrame({'runoff' : train_df_fldas['runoff'], 'log_runoff': dataset_train_fldas_runoff[:, 0]})\n",
        "\n",
        "# Histogram plot original vs log transform data\n",
        "plt.figure(figsize = (12,6))\n",
        "#dist_df_runoff.hist()"
      ],
      "execution_count": 16,
      "outputs": [
        {
          "output_type": "stream",
          "name": "stderr",
          "text": [
            "/usr/local/lib/python3.7/dist-packages/ipykernel_launcher.py:3: RuntimeWarning: invalid value encountered in log1p\n",
            "  This is separate from the ipykernel package so we can avoid doing imports until\n"
          ]
        },
        {
          "output_type": "execute_result",
          "data": {
            "text/plain": [
              "<Figure size 864x432 with 0 Axes>"
            ]
          },
          "metadata": {},
          "execution_count": 16
        },
        {
          "output_type": "display_data",
          "data": {
            "text/plain": [
              "<Figure size 864x432 with 0 Axes>"
            ]
          },
          "metadata": {}
        },
        {
          "output_type": "display_data",
          "data": {
            "image/png": "[encoded data removed]",
            "text/plain": [
              "<Figure size 432x288 with 2 Axes>"
            ]
          },
          "metadata": {
            "needs_background": "light"
          }
        },
        {
          "output_type": "display_data",
          "data": {
            "text/plain": [
              "<Figure size 864x432 with 0 Axes>"
            ]
          },
          "metadata": {}
        },
        {
          "output_type": "display_data",
          "data": {
            "text/plain": [
              "<Figure size 864x432 with 0 Axes>"
            ]
          },
          "metadata": {}
        }
      ]
    },
    {
      "cell_type": "markdown",
      "metadata": {
        "id": "Qwr2Fu10CZfd"
      },
      "source": [
        "#### Landsat\n"
      ]
    },
    {
      "cell_type": "code",
      "metadata": {
        "colab": {
          "resources": {
            "http://localhost:8080/nbextensions/google.colab/files.js": {
              "data": "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",
              "ok": true,
              "headers": [
                [
                  "content-type",
                  "application/javascript"
                ]
              ],
              "status": 200,
              "status_text": "OK"
            }
          },
          "base_uri": "https://localhost:8080/",
          "height": 93
        },
        "id": "3FDcrm1MFVU4",
        "outputId": "434e5e5d-5ce9-48a1-a6bd-7297e11fb4d6"
      },
      "source": [
        "from google.colab import files\n",
        "uploaded = files.upload()\n",
        "\n",
        "df_data_train_landsat_98_99 = pd.read_csv(io.BytesIO(uploaded['Landsat_98_99_extracted.csv']))\n",
        "\n",
        "#dataset = dataframe.values\n",
        "df_data_train_landsat_98_99.head(3)\n",
        "print(df_data_train_landsat_98_99.shape)"
      ],
      "execution_count": 17,
      "outputs": [
        {
          "output_type": "display_data",
          "data": {
            "text/html": [
              "\n",
              "     <input type=\"file\" id=\"files-c0c5accb-c272-4bb4-956c-3eafcf13a308\" name=\"files[]\" multiple disabled\n",
              "        style=\"border:none\" />\n",
              "     <output id=\"result-c0c5accb-c272-4bb4-956c-3eafcf13a308\">\n",
              "      Upload widget is only available when the cell has been executed in the\n",
              "      current browser session. Please rerun this cell to enable.\n",
              "      </output>\n",
              "      <script src=\"/nbextensions/google.colab/files.js\"></script> "
            ],
            "text/plain": [
              "<IPython.core.display.HTML object>"
            ]
          },
          "metadata": {}
        },
        {
          "output_type": "stream",
          "name": "stdout",
          "text": [
            "Saving Landsat_98_99_extracted.csv to Landsat_98_99_extracted.csv\n",
            "(1168, 13)\n"
          ]
        }
      ]
    },
    {
      "cell_type": "code",
      "metadata": {
        "colab": {
          "resources": {
            "http://localhost:8080/nbextensions/google.colab/files.js": {
              "data": "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",
              "ok": true,
              "headers": [
                [
                  "content-type",
                  "application/javascript"
                ]
              ],
              "status": 200,
              "status_text": "OK"
            }
          },
          "base_uri": "https://localhost:8080/",
          "height": 93
        },
        "id": "15ZpWNR-GWWy",
        "outputId": "1f03ef67-e9c7-428a-e288-40a45b1f599e"
      },
      "source": [
        "from google.colab import files\n",
        "uploaded = files.upload()\n",
        "\n",
        "df_data_train_landsat_00_01 = pd.read_csv(io.BytesIO(uploaded['Landsat_00_01_extracted.csv']))\n",
        "\n",
        "#dataset = dataframe.values\n",
        "df_data_train_landsat_00_01.head(3)\n",
        "print(df_data_train_landsat_00_01.shape)"
      ],
      "execution_count": 18,
      "outputs": [
        {
          "output_type": "display_data",
          "data": {
            "text/html": [
              "\n",
              "     <input type=\"file\" id=\"files-e587277e-f6a6-403d-a2e4-ec8f86f6e86e\" name=\"files[]\" multiple disabled\n",
              "        style=\"border:none\" />\n",
              "     <output id=\"result-e587277e-f6a6-403d-a2e4-ec8f86f6e86e\">\n",
              "      Upload widget is only available when the cell has been executed in the\n",
              "      current browser session. Please rerun this cell to enable.\n",
              "      </output>\n",
              "      <script src=\"/nbextensions/google.colab/files.js\"></script> "
            ],
            "text/plain": [
              "<IPython.core.display.HTML object>"
            ]
          },
          "metadata": {}
        },
        {
          "output_type": "stream",
          "name": "stdout",
          "text": [
            "Saving Landsat_00_01_extracted.csv to Landsat_00_01_extracted.csv\n",
            "(1587, 13)\n"
          ]
        }
      ]
    },
    {
      "cell_type": "code",
      "metadata": {
        "colab": {
          "resources": {
            "http://localhost:8080/nbextensions/google.colab/files.js": {
              "data": "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",
              "ok": true,
              "headers": [
                [
                  "content-type",
                  "application/javascript"
                ]
              ],
              "status": 200,
              "status_text": "OK"
            }
          },
          "base_uri": "https://localhost:8080/",
          "height": 93
        },
        "id": "clfGoevKGfzC",
        "outputId": "52741eed-7337-4c82-f72d-4b2da5bf211c"
      },
      "source": [
        "from google.colab import files\n",
        "uploaded = files.upload()\n",
        "\n",
        "df_data_train_landsat_02_03 = pd.read_csv(io.BytesIO(uploaded['Landsat_02_03_extracted.csv']))\n",
        "\n",
        "#dataset = dataframe.values\n",
        "df_data_train_landsat_02_03.head(3)\n",
        "print(df_data_train_landsat_02_03.shape)"
      ],
      "execution_count": 19,
      "outputs": [
        {
          "output_type": "display_data",
          "data": {
            "text/html": [
              "\n",
              "     <input type=\"file\" id=\"files-e2eb30d7-9770-4867-9837-4cbf4051bd9c\" name=\"files[]\" multiple disabled\n",
              "        style=\"border:none\" />\n",
              "     <output id=\"result-e2eb30d7-9770-4867-9837-4cbf4051bd9c\">\n",
              "      Upload widget is only available when the cell has been executed in the\n",
              "      current browser session. Please rerun this cell to enable.\n",
              "      </output>\n",
              "      <script src=\"/nbextensions/google.colab/files.js\"></script> "
            ],
            "text/plain": [
              "<IPython.core.display.HTML object>"
            ]
          },
          "metadata": {}
        },
        {
          "output_type": "stream",
          "name": "stdout",
          "text": [
            "Saving Landsat_02_03_extracted.csv to Landsat_02_03_extracted.csv\n",
            "(1651, 13)\n"
          ]
        }
      ]
    },
    {
      "cell_type": "code",
      "metadata": {
        "colab": {
          "resources": {
            "http://localhost:8080/nbextensions/google.colab/files.js": {
              "data": "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",
              "ok": true,
              "headers": [
                [
                  "content-type",
                  "application/javascript"
                ]
              ],
              "status": 200,
              "status_text": "OK"
            }
          },
          "base_uri": "https://localhost:8080/",
          "height": 93
        },
        "id": "_RbqOctdGpfU",
        "outputId": "5453bff2-d89f-41e7-e159-1fececd6c7e3"
      },
      "source": [
        "from google.colab import files\n",
        "uploaded = files.upload()\n",
        "\n",
        "df_data_train_landsat_04 = pd.read_csv(io.BytesIO(uploaded['Landsat_04_extracted.csv']))\n",
        "\n",
        "#dataset = dataframe.values\n",
        "df_data_train_landsat_04.head(3)\n",
        "print(df_data_train_landsat_04.shape)"
      ],
      "execution_count": 20,
      "outputs": [
        {
          "output_type": "display_data",
          "data": {
            "text/html": [
              "\n",
              "     <input type=\"file\" id=\"files-bf50cf6b-ed8f-4fb0-9500-6ae064acb9ee\" name=\"files[]\" multiple disabled\n",
              "        style=\"border:none\" />\n",
              "     <output id=\"result-bf50cf6b-ed8f-4fb0-9500-6ae064acb9ee\">\n",
              "      Upload widget is only available when the cell has been executed in the\n",
              "      current browser session. Please rerun this cell to enable.\n",
              "      </output>\n",
              "      <script src=\"/nbextensions/google.colab/files.js\"></script> "
            ],
            "text/plain": [
              "<IPython.core.display.HTML object>"
            ]
          },
          "metadata": {}
        },
        {
          "output_type": "stream",
          "name": "stdout",
          "text": [
            "Saving Landsat_04_extracted.csv to Landsat_04_extracted.csv\n",
            "(12712, 13)\n"
          ]
        }
      ]
    },
    {
      "cell_type": "code",
      "metadata": {
        "colab": {
          "resources": {
            "http://localhost:8080/nbextensions/google.colab/files.js": {
              "data": "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",
              "ok": true,
              "headers": [
                [
                  "content-type",
                  "application/javascript"
                ]
              ],
              "status": 200,
              "status_text": "OK"
            }
          },
          "base_uri": "https://localhost:8080/",
          "height": 93
        },
        "id": "jILE_tZL53yF",
        "outputId": "487c834b-2ddf-4118-d359-e6806d6e1556"
      },
      "source": [
        "from google.colab import files\n",
        "uploaded = files.upload()\n",
        "\n",
        "df_data_train_landsat_05 = pd.read_csv(io.BytesIO(uploaded['Landsat_05_extracted.csv']))\n",
        "\n",
        "#dataset = dataframe.values\n",
        "df_data_train_landsat_05.head(3)\n",
        "print(df_data_train_landsat_05.shape)"
      ],
      "execution_count": 21,
      "outputs": [
        {
          "output_type": "display_data",
          "data": {
            "text/html": [
              "\n",
              "     <input type=\"file\" id=\"files-d3b006d4-8540-44e0-a949-be05b50e4010\" name=\"files[]\" multiple disabled\n",
              "        style=\"border:none\" />\n",
              "     <output id=\"result-d3b006d4-8540-44e0-a949-be05b50e4010\">\n",
              "      Upload widget is only available when the cell has been executed in the\n",
              "      current browser session. Please rerun this cell to enable.\n",
              "      </output>\n",
              "      <script src=\"/nbextensions/google.colab/files.js\"></script> "
            ],
            "text/plain": [
              "<IPython.core.display.HTML object>"
            ]
          },
          "metadata": {}
        },
        {
          "output_type": "stream",
          "name": "stdout",
          "text": [
            "Saving Landsat_05_extracted.csv to Landsat_05_extracted.csv\n",
            "(1668, 13)\n"
          ]
        }
      ]
    },
    {
      "cell_type": "code",
      "metadata": {
        "id": "2eZBGrz_G3TF"
      },
      "source": [
        "# combine landsat train dataframes into one df\n",
        "frames_landsat = [df_data_train_landsat_98_99, df_data_train_landsat_00_01, df_data_train_landsat_02_03, df_data_train_landsat_04, df_data_train_landsat_05]\n",
        "\n",
        "train_df_landsat = pd.concat(frames_landsat)"
      ],
      "execution_count": 22,
      "outputs": []
    },
    {
      "cell_type": "markdown",
      "metadata": {
        "id": "bmj7HKjjCOKG"
      },
      "source": [
        "#### SRTM"
      ]
    },
    {
      "cell_type": "code",
      "metadata": {
        "colab": {
          "resources": {
            "http://localhost:8080/nbextensions/google.colab/files.js": {
              "data": "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",
              "ok": true,
              "headers": [
                [
                  "content-type",
                  "application/javascript"
                ]
              ],
              "status": 200,
              "status_text": "OK"
            }
          },
          "base_uri": "https://localhost:8080/",
          "height": 93
        },
        "id": "95QJn-RG-mDY",
        "outputId": "9ebd4a60-c786-4320-a3da-8ecb86d27d24"
      },
      "source": [
        "# Load DEM data\n",
        "from google.colab import files\n",
        "uploaded = files.upload()\n",
        "\n",
        "df_data_dem = pd.read_csv(io.BytesIO(uploaded['DEM_extracted.csv']))\n",
        "\n",
        "#dataset = dataframe.values  \n",
        "df_data_dem.head(3)  \n",
        "print(df_data_dem.shape) "
      ],
      "execution_count": 23,
      "outputs": [
        {
          "output_type": "display_data",
          "data": {
            "text/html": [
              "\n",
              "     <input type=\"file\" id=\"files-09269be6-2f46-4abe-acf1-9d7ccf9532cb\" name=\"files[]\" multiple disabled\n",
              "        style=\"border:none\" />\n",
              "     <output id=\"result-09269be6-2f46-4abe-acf1-9d7ccf9532cb\">\n",
              "      Upload widget is only available when the cell has been executed in the\n",
              "      current browser session. Please rerun this cell to enable.\n",
              "      </output>\n",
              "      <script src=\"/nbextensions/google.colab/files.js\"></script> "
            ],
            "text/plain": [
              "<IPython.core.display.HTML object>"
            ]
          },
          "metadata": {}
        },
        {
          "output_type": "stream",
          "name": "stdout",
          "text": [
            "Saving DEM_extracted.csv to DEM_extracted.csv\n",
            "(69876, 6)\n"
          ]
        }
      ]
    },
    {
      "cell_type": "code",
      "metadata": {
        "colab": {
          "base_uri": "https://localhost:8080/",
          "height": 162
        },
        "id": "LgOOltj8AkUa",
        "outputId": "6ad9e93b-088b-400b-b3c2-655e9e9b5e9d"
      },
      "source": [
        "print(type(df_data_dem))\n",
        "df_data_dem.head(3)  "
      ],
      "execution_count": null,
      "outputs": [
        {
          "output_type": "stream",
          "name": "stdout",
          "text": [
            "<class 'pandas.core.frame.DataFrame'>\n"
          ]
        },
        {
          "output_type": "execute_result",
          "data": {
            "text/html": [
              "<div>\n",
              "<style scoped>\n",
              "    .dataframe tbody tr th:only-of-type {\n",
              "        vertical-align: middle;\n",
              "    }\n",
              "\n",
              "    .dataframe tbody tr th {\n",
              "        vertical-align: top;\n",
              "    }\n",
              "\n",
              "    .dataframe thead th {\n",
              "        text-align: right;\n",
              "    }\n",
              "</style>\n",
              "<table border=\"1\" class=\"dataframe\">\n",
              "  <thead>\n",
              "    <tr style=\"text-align: right;\">\n",
              "      <th></th>\n",
              "      <th>Unnamed: 0</th>\n",
              "      <th>PRESENCE</th>\n",
              "      <th>X</th>\n",
              "      <th>Y</th>\n",
              "      <th>id</th>\n",
              "      <th>mean</th>\n",
              "    </tr>\n",
              "  </thead>\n",
              "  <tbody>\n",
              "    <tr>\n",
              "      <th>0</th>\n",
              "      <td>0</td>\n",
              "      <td>0.0</td>\n",
              "      <td>19.969617</td>\n",
              "      <td>-2.284019</td>\n",
              "      <td>145</td>\n",
              "      <td>359.0</td>\n",
              "    </tr>\n",
              "    <tr>\n",
              "      <th>1</th>\n",
              "      <td>1</td>\n",
              "      <td>0.0</td>\n",
              "      <td>29.771012</td>\n",
              "      <td>0.631425</td>\n",
              "      <td>131</td>\n",
              "      <td>761.0</td>\n",
              "    </tr>\n",
              "    <tr>\n",
              "      <th>2</th>\n",
              "      <td>2</td>\n",
              "      <td>0.0</td>\n",
              "      <td>29.375540</td>\n",
              "      <td>19.856063</td>\n",
              "      <td>164</td>\n",
              "      <td>288.0</td>\n",
              "    </tr>\n",
              "  </tbody>\n",
              "</table>\n",
              "</div>"
            ],
            "text/plain": [
              "   Unnamed: 0  PRESENCE          X          Y   id   mean\n",
              "0           0       0.0  19.969617  -2.284019  145  359.0\n",
              "1           1       0.0  29.771012   0.631425  131  761.0\n",
              "2           2       0.0  29.375540  19.856063  164  288.0"
            ]
          },
          "metadata": {},
          "execution_count": 28
        }
      ]
    },
    {
      "cell_type": "markdown",
      "metadata": {
        "id": "3Bq7Wqsv-m-0"
      },
      "source": [
        "#### Combine data from different sources \n",
        "##### The join is done on 'id' as the common column"
      ]
    },
    {
      "cell_type": "code",
      "metadata": {
        "colab": {
          "base_uri": "https://localhost:8080/"
        },
        "id": "qBfGvCDa-tD1",
        "outputId": "4bb7d56c-4c05-45fd-b0a1-5fff17d096fa"
      },
      "source": [
        "# train_df_landsat, train_df_fldas, df_data_dem\n",
        "train_df_landsat = train_df_landsat[['Blue', 'Green', 'NIR', 'Red', 'SWIR1', 'SWIR2', 'X', 'Y', 'id']] #'PRESENCE', 'Year' ,'Month'\n",
        "train_df_merge_fldas_landsat = pd.merge(train_df_fldas, train_df_landsat, on = 'id') #how='left', left_on=['X','Y'], right_on = ['X','Y']\n",
        "\n",
        "print(train_df_merge_fldas_landsat.head(2))\n",
        "print(train_df_merge_fldas_landsat.columns)\n",
        "\n",
        "\n",
        "df_data_dem = df_data_dem[['X', 'Y', 'mean', 'id']]\n",
        "train_df_merge_fldas_landsat_dem = pd.merge(train_df_merge_fldas_landsat, df_data_dem, on = 'id')# how='left', left_on=['X','Y'], right_on = ['X','Y']\n",
        "print(train_df_merge_fldas_landsat_dem.head(2))\n",
        "print(train_df_merge_fldas_landsat_dem.columns)\n"
      ],
      "execution_count": 24,
      "outputs": [
        {
          "output_type": "stream",
          "name": "stdout",
          "text": [
            "   Unnamed: 0  Month        X_x  ...        SWIR2        X_y        Y_y\n",
            "0        1096      1  35.731989  ...  1092.198413  35.731989   3.470450\n",
            "1        1101      1   0.073893  ...  4031.856574   0.073893  33.568867\n",
            "\n",
            "[2 rows x 34 columns]\n",
            "Index(['Unnamed: 0', 'Month', 'X_x', 'Y_x', 'Year', 'evap', 'heatnet', 'humid',\n",
            "       'id', 'latheat', 'prep', 'pressure', 'radtemp', 'runoff', 'soilheat',\n",
            "       'soilmoi_10cm', 'soilmoi_1m', 'soilmoi_2m', 'soilmoi_40cm',\n",
            "       'soiltemp_10cm', 'soiltemp_1m', 'soiltemp_2m', 'soiltemp_40cm',\n",
            "       'surfacetemp', 'windspeed', 'PRESENCE', 'Blue', 'Green', 'NIR', 'Red',\n",
            "       'SWIR1', 'SWIR2', 'X_y', 'Y_y'],\n",
            "      dtype='object')\n",
            "   Unnamed: 0  Month        X_x  ...          X          Y    mean\n",
            "0        1096      1  35.731989  ...  35.731989   3.470450   473.0\n",
            "1        1101      1   0.073893  ...   0.073893  33.568867  1178.0\n",
            "\n",
            "[2 rows x 37 columns]\n",
            "Index(['Unnamed: 0', 'Month', 'X_x', 'Y_x', 'Year', 'evap', 'heatnet', 'humid',\n",
            "       'id', 'latheat', 'prep', 'pressure', 'radtemp', 'runoff', 'soilheat',\n",
            "       'soilmoi_10cm', 'soilmoi_1m', 'soilmoi_2m', 'soilmoi_40cm',\n",
            "       'soiltemp_10cm', 'soiltemp_1m', 'soiltemp_2m', 'soiltemp_40cm',\n",
            "       'surfacetemp', 'windspeed', 'PRESENCE', 'Blue', 'Green', 'NIR', 'Red',\n",
            "       'SWIR1', 'SWIR2', 'X_y', 'Y_y', 'X', 'Y', 'mean'],\n",
            "      dtype='object')\n"
          ]
        }
      ]
    },
    {
      "cell_type": "code",
      "metadata": {
        "colab": {
          "base_uri": "https://localhost:8080/"
        },
        "id": "GRa5EpNkKnBl",
        "outputId": "7e52750c-7096-44af-d2f3-40ba6929950c"
      },
      "source": [
        "# move the \"PRESENCE\" column to the last one\n",
        "train_df_merge_fldas_landsat_dem = train_df_merge_fldas_landsat_dem[['evap', 'heatnet', 'humid',\n",
        "       'id', 'latheat', 'prep', 'pressure', 'radtemp', 'runoff', 'soilheat',\n",
        "       'soilmoi_10cm', 'soilmoi_1m', 'soilmoi_2m', 'soilmoi_40cm',\n",
        "       'soiltemp_10cm', 'soiltemp_1m', 'soiltemp_2m', 'soiltemp_40cm',\n",
        "       'surfacetemp', 'windspeed', 'Blue', 'Green', 'NIR', 'Red',\n",
        "       'SWIR1', 'SWIR2', 'mean','PRESENCE']] #'Unnamed: 0','Month', 'X', 'Y', 'Year', \n",
        "\n",
        "print(train_df_merge_fldas_landsat_dem.tail(2))\n",
        "print(train_df_merge_fldas_landsat_dem.shape)"
      ],
      "execution_count": 25,
      "outputs": [
        {
          "output_type": "stream",
          "name": "stdout",
          "text": [
            "           evap   heatnet     humid  ...       SWIR2   mean  PRESENCE\n",
            "18713  0.000048  8.988441  0.016091  ...  591.916335  574.0       0.0\n",
            "18714  0.000048  8.988441  0.016091  ...  591.916335  574.0       0.0\n",
            "\n",
            "[2 rows x 28 columns]\n",
            "(18715, 28)\n"
          ]
        }
      ]
    },
    {
      "cell_type": "code",
      "metadata": {
        "id": "xLmXDjX8ZB-3"
      },
      "source": [
        "# check for NaN values in train and test dataframes\n",
        "train_df_merge_fldas_landsat_dem.isnull().any()\n",
        "\n",
        "# impute the data\n",
        "train_df_merge_fldas_landsat_dem = train_df_merge_fldas_landsat_dem.fillna(train_df_merge_fldas_landsat_dem.median())#lambda x: x.median()"
      ],
      "execution_count": 26,
      "outputs": []
    },
    {
      "cell_type": "code",
      "metadata": {
        "id": "GKomEzg_nppL",
        "colab": {
          "base_uri": "https://localhost:8080/"
        },
        "outputId": "630abad5-4911-4896-ef29-425d29ff3611"
      },
      "source": [
        "#rm(train_df_merge_fldas_landsat_dem)"
      ],
      "execution_count": 60,
      "outputs": [
        {
          "output_type": "stream",
          "name": "stdout",
          "text": [
            "/bin/bash: -c: line 0: syntax error near unexpected token `train_df_merge_fldas_landsat_dem'\n",
            "/bin/bash: -c: line 0: `rm (train_df_merge_fldas_landsat_dem)'\n"
          ]
        }
      ]
    },
    {
      "cell_type": "markdown",
      "metadata": {
        "id": "Jv8lNXr6oOS8"
      },
      "source": [
        "#### Changing Features of numeric type (skewed distrib.)\n",
        "##### log-transformation on \"evap\", \"runoff\" and \"latheat\"\n"
      ]
    },
    {
      "cell_type": "markdown",
      "metadata": {
        "id": "Atj3DQ3Loe0B"
      },
      "source": [
        "###### 1. evap"
      ]
    },
    {
      "cell_type": "code",
      "metadata": {
        "id": "9wuQZkuppJlw"
      },
      "source": [
        " train_df_merge_fldas_landsat_dem['evap_log']= train_df_merge_fldas_landsat_dem['evap'].apply(np.log)"
      ],
      "execution_count": 27,
      "outputs": []
    },
    {
      "cell_type": "markdown",
      "metadata": {
        "id": "zqmgs2-f6ROu"
      },
      "source": [
        "###### 2. runoff "
      ]
    },
    {
      "cell_type": "code",
      "metadata": {
        "id": "5A_FfbkM7JQx"
      },
      "source": [
        "train_df_merge_fldas_landsat_dem['runoff_log']= train_df_merge_fldas_landsat_dem['runoff'].apply(np.log)"
      ],
      "execution_count": 28,
      "outputs": []
    },
    {
      "cell_type": "markdown",
      "metadata": {
        "id": "gCpU_teq6W9V"
      },
      "source": [
        "###### 3. latheat  "
      ]
    },
    {
      "cell_type": "code",
      "metadata": {
        "id": "UWSXyIueoRMn"
      },
      "source": [
        "train_df_merge_fldas_landsat_dem['latheat_log']= train_df_merge_fldas_landsat_dem['latheat'].apply(np.log)"
      ],
      "execution_count": 29,
      "outputs": []
    },
    {
      "cell_type": "code",
      "metadata": {
        "id": "ZWhpEceP7063"
      },
      "source": [
        "# impute the data\n",
        "train_df_merge_fldas_landsat_dem = train_df_merge_fldas_landsat_dem.fillna(train_df_merge_fldas_landsat_dem.median())"
      ],
      "execution_count": 30,
      "outputs": []
    },
    {
      "cell_type": "code",
      "metadata": {
        "id": "LxopJdtq7jmS"
      },
      "source": [
        "# move the \"PRESENCE\" column to the last one and remove \"id\"\n",
        "train_df_merge_fldas_landsat_dem = train_df_merge_fldas_landsat_dem[['evap_log', 'heatnet', 'humid',\n",
        "       'latheat_log', 'prep', 'pressure', 'radtemp', 'runoff_log', 'soilheat',\n",
        "       'soilmoi_10cm', 'soilmoi_1m', 'soilmoi_2m', 'soilmoi_40cm',\n",
        "       'soiltemp_10cm', 'soiltemp_1m', 'soiltemp_2m', 'soiltemp_40cm',\n",
        "       'surfacetemp', 'windspeed', 'Blue', 'Green', 'NIR', 'Red',\n",
        "       'SWIR1', 'SWIR2', 'mean','PRESENCE']] #'id', 'Month', 'X', 'Y', 'Year', "
      ],
      "execution_count": 31,
      "outputs": []
    },
    {
      "cell_type": "code",
      "metadata": {
        "id": "tRGmv2WoGAgC"
      },
      "source": [
        "train_df_merge_fldas_landsat_dem = train_df_merge_fldas_landsat_dem.fillna(train_df_merge_fldas_landsat_dem.median()).clip(-1e11,1e11)"
      ],
      "execution_count": 32,
      "outputs": []
    },
    {
      "cell_type": "code",
      "metadata": {
        "id": "VPLh0YC4AITF",
        "colab": {
          "base_uri": "https://localhost:8080/"
        },
        "outputId": "c6bd2dae-4c45-46b4-d279-2c4e5dfd83cc"
      },
      "source": [
        "print(train_df_merge_fldas_landsat_dem.columns)"
      ],
      "execution_count": 33,
      "outputs": [
        {
          "output_type": "stream",
          "name": "stdout",
          "text": [
            "Index(['evap_log', 'heatnet', 'humid', 'latheat_log', 'prep', 'pressure',\n",
            "       'radtemp', 'runoff_log', 'soilheat', 'soilmoi_10cm', 'soilmoi_1m',\n",
            "       'soilmoi_2m', 'soilmoi_40cm', 'soiltemp_10cm', 'soiltemp_1m',\n",
            "       'soiltemp_2m', 'soiltemp_40cm', 'surfacetemp', 'windspeed', 'Blue',\n",
            "       'Green', 'NIR', 'Red', 'SWIR1', 'SWIR2', 'mean', 'PRESENCE'],\n",
            "      dtype='object')\n"
          ]
        }
      ]
    },
    {
      "cell_type": "markdown",
      "metadata": {
        "id": "d-f1Nhf4Ly-q"
      },
      "source": [
        "#### Check correlation with heatmap graph"
      ]
    },
    {
      "cell_type": "code",
      "metadata": {
        "colab": {
          "base_uri": "https://localhost:8080/",
          "height": 353
        },
        "id": "G0h5CqElLnqi",
        "outputId": "12278d0c-49ff-4d12-dc92-b5325d44d29a"
      },
      "source": [
        "import seaborn as sns\n",
        "corr = train_df_merge_fldas_landsat_dem.corr()\n",
        "sns.heatmap(corr, \n",
        "            xticklabels=corr.columns.values,\n",
        "            yticklabels=corr.columns.values)"
      ],
      "execution_count": 34,
      "outputs": [
        {
          "output_type": "execute_result",
          "data": {
            "text/plain": [
              "<matplotlib.axes._subplots.AxesSubplot at 0x7f05e8513d90>"
            ]
          },
          "metadata": {},
          "execution_count": 34
        },
        {
          "output_type": "display_data",
          "data": {
            "image/png": "[encoded data removed]",
            "text/plain": [
              "<Figure size 432x288 with 2 Axes>"
            ]
          },
          "metadata": {
            "needs_background": "light"
          }
        }
      ]
    },
    {
      "cell_type": "code",
      "metadata": {
        "colab": {
          "base_uri": "https://localhost:8080/"
        },
        "id": "wqalRo8gaO2q",
        "outputId": "f8dcabd7-3671-48cd-88f4-aa25974e85f6"
      },
      "source": [
        "#dataset = train_df_merge_fldas_landsat_dem.values\n",
        "dataset = train_df_merge_fldas_landsat_dem.to_numpy()\n",
        "print(type(dataset))\n",
        "\n",
        "# split into input (X) and output (Y) variables\n",
        "X = dataset[:,0:26]\n",
        "Y = dataset[:,26]\n",
        "print(X.shape)\n",
        "print(Y)"
      ],
      "execution_count": 35,
      "outputs": [
        {
          "output_type": "stream",
          "name": "stdout",
          "text": [
            "<class 'numpy.ndarray'>\n",
            "(18715, 26)\n",
            "[0. 0. 0. ... 0. 0. 0.]\n"
          ]
        }
      ]
    },
    {
      "cell_type": "code",
      "metadata": {
        "colab": {
          "base_uri": "https://localhost:8080/",
          "height": 299
        },
        "id": "1bzHu6iOJ9Xm",
        "outputId": "a1dbc48b-9f7d-4d82-9dd1-a4a6e70b420e"
      },
      "source": [
        "Y = Y.astype(int)\n",
        "print(Y)\n",
        "_ = plt.hist(Y, bins='auto')  # arguments are passed to np.histogram\n",
        "\n",
        "plt.title(\"Histogram with 'auto' bins\")\n",
        "#Text(0.5, 1.0, \"Histogram with 'auto' bins\")\n",
        "\n",
        "plt.show()"
      ],
      "execution_count": 36,
      "outputs": [
        {
          "output_type": "stream",
          "name": "stdout",
          "text": [
            "[0 0 0 ... 0 0 0]\n"
          ]
        },
        {
          "output_type": "display_data",
          "data": {
            "image/png": "[encoded data removed]",
            "text/plain": [
              "<Figure size 432x288 with 1 Axes>"
            ]
          },
          "metadata": {
            "needs_background": "light"
          }
        }
      ]
    },
    {
      "cell_type": "code",
      "metadata": {
        "colab": {
          "base_uri": "https://localhost:8080/"
        },
        "id": "UlVP3pay4MTS",
        "outputId": "9c0db1dd-2299-4e56-ce07-8a56c329905a"
      },
      "source": [
        "print(Y.ndim)\n",
        "print(Y.shape)\n",
        "print(train_df_merge_fldas_landsat_dem[['PRESENCE']])"
      ],
      "execution_count": 37,
      "outputs": [
        {
          "output_type": "stream",
          "name": "stdout",
          "text": [
            "1\n",
            "(18715,)\n",
            "       PRESENCE\n",
            "0           0.0\n",
            "1           0.0\n",
            "2           0.0\n",
            "3           0.0\n",
            "4           0.0\n",
            "...         ...\n",
            "18710       0.0\n",
            "18711       0.0\n",
            "18712       0.0\n",
            "18713       0.0\n",
            "18714       0.0\n",
            "\n",
            "[18715 rows x 1 columns]\n"
          ]
        }
      ]
    },
    {
      "cell_type": "code",
      "metadata": {
        "id": "HeAbfsYtgfFe"
      },
      "source": [
        "# encode class values as integers\n",
        "encoder = LabelEncoder()\n",
        "encoder.fit(Y)\n",
        "encoded_Y = encoder.transform(Y)"
      ],
      "execution_count": 38,
      "outputs": []
    },
    {
      "cell_type": "markdown",
      "metadata": {
        "id": "1YrvPXaP6tvA"
      },
      "source": [
        "### Validation data"
      ]
    },
    {
      "cell_type": "code",
      "metadata": {
        "colab": {
          "resources": {
            "http://localhost:8080/nbextensions/google.colab/files.js": {
              "data": "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",
              "ok": true,
              "headers": [
                [
                  "content-type",
                  "application/javascript"
                ]
              ],
              "status": 200,
              "status_text": "OK"
            }
          },
          "base_uri": "https://localhost:8080/",
          "height": 93
        },
        "id": "kx08aMwy6wr6",
        "outputId": "3bbee232-9e7e-4595-936a-137fd1b802cc"
      },
      "source": [
        "# load validation data\n",
        "# select the \"tmax_1980_2018.csv\" from your local project drive\n",
        "from google.colab import files\n",
        "uploaded = files.upload()\n",
        "\n",
        "df_data_val = pd.read_csv(io.BytesIO(uploaded['FLDAS_06_07_extracted.csv']))\n",
        "\n",
        "#dataset = dataframe.values\n",
        "df_data_val.head(2)\n",
        "print(df_data_val.shape)"
      ],
      "execution_count": 39,
      "outputs": [
        {
          "output_type": "display_data",
          "data": {
            "text/html": [
              "\n",
              "     <input type=\"file\" id=\"files-e2dd2995-9aee-42cc-9eb9-5af0d93ff319\" name=\"files[]\" multiple disabled\n",
              "        style=\"border:none\" />\n",
              "     <output id=\"result-e2dd2995-9aee-42cc-9eb9-5af0d93ff319\">\n",
              "      Upload widget is only available when the cell has been executed in the\n",
              "      current browser session. Please rerun this cell to enable.\n",
              "      </output>\n",
              "      <script src=\"/nbextensions/google.colab/files.js\"></script> "
            ],
            "text/plain": [
              "<IPython.core.display.HTML object>"
            ]
          },
          "metadata": {}
        },
        {
          "output_type": "stream",
          "name": "stdout",
          "text": [
            "Saving FLDAS_06_07_extracted.csv to FLDAS_06_07_extracted.csv\n",
            "(2839, 26)\n"
          ]
        }
      ]
    },
    {
      "cell_type": "code",
      "metadata": {
        "colab": {
          "base_uri": "https://localhost:8080/"
        },
        "id": "9cjUCfNr6wr-",
        "outputId": "496d28be-b72c-4d1e-98cf-887c8d02286c"
      },
      "source": [
        "df_data_val.columns"
      ],
      "execution_count": 40,
      "outputs": [
        {
          "output_type": "execute_result",
          "data": {
            "text/plain": [
              "Index(['Unnamed: 0', 'Month', 'PRESENCE', 'X', 'Y', 'Year', 'evap', 'heatnet',\n",
              "       'humid', 'id', 'latheat', 'prep', 'pressure', 'radtemp', 'runoff',\n",
              "       'soilheat', 'soilmoi_10cm', 'soilmoi_1m', 'soilmoi_2m', 'soilmoi_40cm',\n",
              "       'soiltemp_10cm', 'soiltemp_1m', 'soiltemp_2m', 'soiltemp_40cm',\n",
              "       'surfacetemp', 'windspeed'],\n",
              "      dtype='object')"
            ]
          },
          "metadata": {},
          "execution_count": 40
        }
      ]
    },
    {
      "cell_type": "code",
      "metadata": {
        "id": "xToQkiW_6wsC"
      },
      "source": [
        "# Change the order of columns in pandas df to have \"PRESENCE\" as the last col\n",
        "df_data_val = df_data_val[[\"Month\", \"X\", \"Y\", \"Year\", \"evap\", \"heatnet\",\n",
        "       \"humid\", \"id\", \"latheat\", \"prep\", \"pressure\", \"radtemp\", \"runoff\",\n",
        "       \"soilheat\", \"soilmoi_10cm\", \"soilmoi_1m\", \"soilmoi_2m\", \"soilmoi_40cm\",\n",
        "       \"soiltemp_10cm\", \"soiltemp_1m\", \"soiltemp_2m\", \"soiltemp_40cm\",\"surfacetemp\", \"windspeed\", \"PRESENCE\"]]# \n"
      ],
      "execution_count": 41,
      "outputs": []
    },
    {
      "cell_type": "code",
      "metadata": {
        "colab": {
          "base_uri": "https://localhost:8080/"
        },
        "id": "Zf2dFSPo6wsH",
        "outputId": "36469d32-224a-437c-edb8-28520afc3e57"
      },
      "source": [
        "print(df_data_val.head(2))\n",
        "print(df_data_val.shape)\n",
        "#print(df_data_val.info())"
      ],
      "execution_count": 42,
      "outputs": [
        {
          "output_type": "stream",
          "name": "stdout",
          "text": [
            "   Month          X          Y  ...  surfacetemp  windspeed  PRESENCE\n",
            "0      1  21.384989  -0.281897  ...   300.521423   2.289917       0.0\n",
            "1      1  36.557216  16.060265  ...   298.687592   6.868981       0.0\n",
            "\n",
            "[2 rows x 25 columns]\n",
            "(2839, 25)\n"
          ]
        }
      ]
    },
    {
      "cell_type": "code",
      "metadata": {
        "colab": {
          "base_uri": "https://localhost:8080/",
          "height": 834
        },
        "id": "OZciN33E6wsK",
        "outputId": "d3ea3c85-d16f-4eac-d346-6b7cf9582447"
      },
      "source": [
        "df_data_val.describe().transpose()\n",
        "#len(df_data_val)"
      ],
      "execution_count": 43,
      "outputs": [
        {
          "output_type": "execute_result",
          "data": {
            "text/html": [
              "<div>\n",
              "<style scoped>\n",
              "    .dataframe tbody tr th:only-of-type {\n",
              "        vertical-align: middle;\n",
              "    }\n",
              "\n",
              "    .dataframe tbody tr th {\n",
              "        vertical-align: top;\n",
              "    }\n",
              "\n",
              "    .dataframe thead th {\n",
              "        text-align: right;\n",
              "    }\n",
              "</style>\n",
              "<table border=\"1\" class=\"dataframe\">\n",
              "  <thead>\n",
              "    <tr style=\"text-align: right;\">\n",
              "      <th></th>\n",
              "      <th>count</th>\n",
              "      <th>mean</th>\n",
              "      <th>std</th>\n",
              "      <th>min</th>\n",
              "      <th>25%</th>\n",
              "      <th>50%</th>\n",
              "      <th>75%</th>\n",
              "      <th>max</th>\n",
              "    </tr>\n",
              "  </thead>\n",
              "  <tbody>\n",
              "    <tr>\n",
              "      <th>Month</th>\n",
              "      <td>2839.0</td>\n",
              "      <td>6.856640</td>\n",
              "      <td>3.564104</td>\n",
              "      <td>1.000000e+00</td>\n",
              "      <td>4.000000e+00</td>\n",
              "      <td>7.000000e+00</td>\n",
              "      <td>1.000000e+01</td>\n",
              "      <td>12.000000</td>\n",
              "    </tr>\n",
              "    <tr>\n",
              "      <th>X</th>\n",
              "      <td>2839.0</td>\n",
              "      <td>18.649586</td>\n",
              "      <td>16.216305</td>\n",
              "      <td>-1.662118e+01</td>\n",
              "      <td>7.085231e+00</td>\n",
              "      <td>2.034771e+01</td>\n",
              "      <td>3.326788e+01</td>\n",
              "      <td>49.628811</td>\n",
              "    </tr>\n",
              "    <tr>\n",
              "      <th>Y</th>\n",
              "      <td>2839.0</td>\n",
              "      <td>14.737187</td>\n",
              "      <td>11.424770</td>\n",
              "      <td>-1.191785e+01</td>\n",
              "      <td>6.826402e+00</td>\n",
              "      <td>1.731075e+01</td>\n",
              "      <td>2.303427e+01</td>\n",
              "      <td>36.745027</td>\n",
              "    </tr>\n",
              "    <tr>\n",
              "      <th>Year</th>\n",
              "      <td>2839.0</td>\n",
              "      <td>2006.577316</td>\n",
              "      <td>0.494073</td>\n",
              "      <td>2.006000e+03</td>\n",
              "      <td>2.006000e+03</td>\n",
              "      <td>2.007000e+03</td>\n",
              "      <td>2.007000e+03</td>\n",
              "      <td>2007.000000</td>\n",
              "    </tr>\n",
              "    <tr>\n",
              "      <th>evap</th>\n",
              "      <td>2839.0</td>\n",
              "      <td>0.000015</td>\n",
              "      <td>0.000020</td>\n",
              "      <td>-2.301517e-07</td>\n",
              "      <td>4.243267e-07</td>\n",
              "      <td>3.458980e-06</td>\n",
              "      <td>3.000919e-05</td>\n",
              "      <td>0.000072</td>\n",
              "    </tr>\n",
              "    <tr>\n",
              "      <th>heatnet</th>\n",
              "      <td>2839.0</td>\n",
              "      <td>56.842540</td>\n",
              "      <td>38.600993</td>\n",
              "      <td>-2.803090e+01</td>\n",
              "      <td>2.418934e+01</td>\n",
              "      <td>5.568921e+01</td>\n",
              "      <td>8.298677e+01</td>\n",
              "      <td>176.265305</td>\n",
              "    </tr>\n",
              "    <tr>\n",
              "      <th>humid</th>\n",
              "      <td>2839.0</td>\n",
              "      <td>0.009301</td>\n",
              "      <td>0.004670</td>\n",
              "      <td>1.777293e-03</td>\n",
              "      <td>4.785058e-03</td>\n",
              "      <td>9.276419e-03</td>\n",
              "      <td>1.365306e-02</td>\n",
              "      <td>0.018755</td>\n",
              "    </tr>\n",
              "    <tr>\n",
              "      <th>id</th>\n",
              "      <td>2839.0</td>\n",
              "      <td>31169.158859</td>\n",
              "      <td>11669.466969</td>\n",
              "      <td>2.520000e+04</td>\n",
              "      <td>2.591050e+04</td>\n",
              "      <td>2.662300e+04</td>\n",
              "      <td>2.733350e+04</td>\n",
              "      <td>69202.000000</td>\n",
              "    </tr>\n",
              "    <tr>\n",
              "      <th>latheat</th>\n",
              "      <td>2839.0</td>\n",
              "      <td>37.547384</td>\n",
              "      <td>49.074036</td>\n",
              "      <td>-5.756093e-01</td>\n",
              "      <td>1.061241e+00</td>\n",
              "      <td>8.650908e+00</td>\n",
              "      <td>7.505299e+01</td>\n",
              "      <td>180.976532</td>\n",
              "    </tr>\n",
              "    <tr>\n",
              "      <th>prep</th>\n",
              "      <td>2839.0</td>\n",
              "      <td>0.000018</td>\n",
              "      <td>0.000031</td>\n",
              "      <td>0.000000e+00</td>\n",
              "      <td>0.000000e+00</td>\n",
              "      <td>2.435070e-06</td>\n",
              "      <td>2.217668e-05</td>\n",
              "      <td>0.000228</td>\n",
              "    </tr>\n",
              "    <tr>\n",
              "      <th>pressure</th>\n",
              "      <td>2839.0</td>\n",
              "      <td>95416.077737</td>\n",
              "      <td>4210.097704</td>\n",
              "      <td>6.380552e+04</td>\n",
              "      <td>9.387890e+04</td>\n",
              "      <td>9.613039e+04</td>\n",
              "      <td>9.804684e+04</td>\n",
              "      <td>103336.257812</td>\n",
              "    </tr>\n",
              "    <tr>\n",
              "      <th>radtemp</th>\n",
              "      <td>2839.0</td>\n",
              "      <td>299.055937</td>\n",
              "      <td>6.015650</td>\n",
              "      <td>2.693591e+02</td>\n",
              "      <td>2.962777e+02</td>\n",
              "      <td>2.995618e+02</td>\n",
              "      <td>3.030133e+02</td>\n",
              "      <td>313.410187</td>\n",
              "    </tr>\n",
              "    <tr>\n",
              "      <th>runoff</th>\n",
              "      <td>2839.0</td>\n",
              "      <td>0.000001</td>\n",
              "      <td>0.000005</td>\n",
              "      <td>0.000000e+00</td>\n",
              "      <td>2.146470e-12</td>\n",
              "      <td>1.440109e-08</td>\n",
              "      <td>6.370177e-07</td>\n",
              "      <td>0.000083</td>\n",
              "    </tr>\n",
              "    <tr>\n",
              "      <th>soilheat</th>\n",
              "      <td>2839.0</td>\n",
              "      <td>-0.044336</td>\n",
              "      <td>3.145530</td>\n",
              "      <td>-1.075154e+01</td>\n",
              "      <td>-1.928482e+00</td>\n",
              "      <td>2.764029e-02</td>\n",
              "      <td>1.771412e+00</td>\n",
              "      <td>10.446856</td>\n",
              "    </tr>\n",
              "    <tr>\n",
              "      <th>soilmoi_10cm</th>\n",
              "      <td>2839.0</td>\n",
              "      <td>0.225260</td>\n",
              "      <td>0.093089</td>\n",
              "      <td>1.383975e-01</td>\n",
              "      <td>1.515268e-01</td>\n",
              "      <td>1.817053e-01</td>\n",
              "      <td>2.909513e-01</td>\n",
              "      <td>0.434899</td>\n",
              "    </tr>\n",
              "    <tr>\n",
              "      <th>soilmoi_1m</th>\n",
              "      <td>2839.0</td>\n",
              "      <td>0.259590</td>\n",
              "      <td>0.109016</td>\n",
              "      <td>7.999995e-02</td>\n",
              "      <td>1.793646e-01</td>\n",
              "      <td>2.844091e-01</td>\n",
              "      <td>3.408947e-01</td>\n",
              "      <td>0.444428</td>\n",
              "    </tr>\n",
              "    <tr>\n",
              "      <th>soilmoi_2m</th>\n",
              "      <td>2839.0</td>\n",
              "      <td>0.267653</td>\n",
              "      <td>0.122906</td>\n",
              "      <td>7.999995e-02</td>\n",
              "      <td>1.093287e-01</td>\n",
              "      <td>3.094366e-01</td>\n",
              "      <td>3.531672e-01</td>\n",
              "      <td>0.467923</td>\n",
              "    </tr>\n",
              "    <tr>\n",
              "      <th>soilmoi_40cm</th>\n",
              "      <td>2839.0</td>\n",
              "      <td>0.271602</td>\n",
              "      <td>0.097612</td>\n",
              "      <td>7.999995e-02</td>\n",
              "      <td>2.082649e-01</td>\n",
              "      <td>2.905281e-01</td>\n",
              "      <td>3.427378e-01</td>\n",
              "      <td>0.437361</td>\n",
              "    </tr>\n",
              "    <tr>\n",
              "      <th>soiltemp_10cm</th>\n",
              "      <td>2839.0</td>\n",
              "      <td>299.060477</td>\n",
              "      <td>5.924755</td>\n",
              "      <td>2.735899e+02</td>\n",
              "      <td>2.963526e+02</td>\n",
              "      <td>2.995877e+02</td>\n",
              "      <td>3.029637e+02</td>\n",
              "      <td>313.248505</td>\n",
              "    </tr>\n",
              "    <tr>\n",
              "      <th>soiltemp_1m</th>\n",
              "      <td>2839.0</td>\n",
              "      <td>299.071660</td>\n",
              "      <td>5.291779</td>\n",
              "      <td>2.771136e+02</td>\n",
              "      <td>2.963382e+02</td>\n",
              "      <td>2.996284e+02</td>\n",
              "      <td>3.026732e+02</td>\n",
              "      <td>311.297577</td>\n",
              "    </tr>\n",
              "    <tr>\n",
              "      <th>soiltemp_2m</th>\n",
              "      <td>2839.0</td>\n",
              "      <td>298.984819</td>\n",
              "      <td>4.944814</td>\n",
              "      <td>2.788129e+02</td>\n",
              "      <td>2.964060e+02</td>\n",
              "      <td>2.994639e+02</td>\n",
              "      <td>3.026881e+02</td>\n",
              "      <td>308.923706</td>\n",
              "    </tr>\n",
              "    <tr>\n",
              "      <th>soiltemp_40cm</th>\n",
              "      <td>2839.0</td>\n",
              "      <td>299.068150</td>\n",
              "      <td>5.652301</td>\n",
              "      <td>2.756757e+02</td>\n",
              "      <td>2.963599e+02</td>\n",
              "      <td>2.995842e+02</td>\n",
              "      <td>3.026216e+02</td>\n",
              "      <td>312.640900</td>\n",
              "    </tr>\n",
              "    <tr>\n",
              "      <th>surfacetemp</th>\n",
              "      <td>2839.0</td>\n",
              "      <td>298.045535</td>\n",
              "      <td>5.491145</td>\n",
              "      <td>2.740001e+02</td>\n",
              "      <td>2.958588e+02</td>\n",
              "      <td>2.985714e+02</td>\n",
              "      <td>3.012449e+02</td>\n",
              "      <td>311.498779</td>\n",
              "    </tr>\n",
              "    <tr>\n",
              "      <th>windspeed</th>\n",
              "      <td>2839.0</td>\n",
              "      <td>5.476658</td>\n",
              "      <td>1.852137</td>\n",
              "      <td>1.338898e+00</td>\n",
              "      <td>4.333723e+00</td>\n",
              "      <td>5.575811e+00</td>\n",
              "      <td>6.813821e+00</td>\n",
              "      <td>11.495053</td>\n",
              "    </tr>\n",
              "    <tr>\n",
              "      <th>PRESENCE</th>\n",
              "      <td>2839.0</td>\n",
              "      <td>0.156393</td>\n",
              "      <td>0.363292</td>\n",
              "      <td>0.000000e+00</td>\n",
              "      <td>0.000000e+00</td>\n",
              "      <td>0.000000e+00</td>\n",
              "      <td>0.000000e+00</td>\n",
              "      <td>1.000000</td>\n",
              "    </tr>\n",
              "  </tbody>\n",
              "</table>\n",
              "</div>"
            ],
            "text/plain": [
              "                count          mean  ...           75%            max\n",
              "Month          2839.0      6.856640  ...  1.000000e+01      12.000000\n",
              "X              2839.0     18.649586  ...  3.326788e+01      49.628811\n",
              "Y              2839.0     14.737187  ...  2.303427e+01      36.745027\n",
              "Year           2839.0   2006.577316  ...  2.007000e+03    2007.000000\n",
              "evap           2839.0      0.000015  ...  3.000919e-05       0.000072\n",
              "heatnet        2839.0     56.842540  ...  8.298677e+01     176.265305\n",
              "humid          2839.0      0.009301  ...  1.365306e-02       0.018755\n",
              "id             2839.0  31169.158859  ...  2.733350e+04   69202.000000\n",
              "latheat        2839.0     37.547384  ...  7.505299e+01     180.976532\n",
              "prep           2839.0      0.000018  ...  2.217668e-05       0.000228\n",
              "pressure       2839.0  95416.077737  ...  9.804684e+04  103336.257812\n",
              "radtemp        2839.0    299.055937  ...  3.030133e+02     313.410187\n",
              "runoff         2839.0      0.000001  ...  6.370177e-07       0.000083\n",
              "soilheat       2839.0     -0.044336  ...  1.771412e+00      10.446856\n",
              "soilmoi_10cm   2839.0      0.225260  ...  2.909513e-01       0.434899\n",
              "soilmoi_1m     2839.0      0.259590  ...  3.408947e-01       0.444428\n",
              "soilmoi_2m     2839.0      0.267653  ...  3.531672e-01       0.467923\n",
              "soilmoi_40cm   2839.0      0.271602  ...  3.427378e-01       0.437361\n",
              "soiltemp_10cm  2839.0    299.060477  ...  3.029637e+02     313.248505\n",
              "soiltemp_1m    2839.0    299.071660  ...  3.026732e+02     311.297577\n",
              "soiltemp_2m    2839.0    298.984819  ...  3.026881e+02     308.923706\n",
              "soiltemp_40cm  2839.0    299.068150  ...  3.026216e+02     312.640900\n",
              "surfacetemp    2839.0    298.045535  ...  3.012449e+02     311.498779\n",
              "windspeed      2839.0      5.476658  ...  6.813821e+00      11.495053\n",
              "PRESENCE       2839.0      0.156393  ...  0.000000e+00       1.000000\n",
              "\n",
              "[25 rows x 8 columns]"
            ]
          },
          "metadata": {},
          "execution_count": 43
        }
      ]
    },
    {
      "cell_type": "code",
      "metadata": {
        "colab": {
          "base_uri": "https://localhost:8080/",
          "height": 132
        },
        "id": "nKo0i5B96wsN",
        "outputId": "07e61570-c44a-43b2-94d9-149206911683"
      },
      "source": [
        "# divide validation data to presence and absence to exclude 2-5 % of upper and lower outliers\n",
        "df_data_val_presence = df_data_val[df_data_val['PRESENCE'] == 1]\n",
        "df_data_val_absence = df_data_val[df_data_val['PRESENCE'] == 0]\n",
        "df_data_val_absence.head(2)"
      ],
      "execution_count": 44,
      "outputs": [
        {
          "output_type": "execute_result",
          "data": {
            "text/html": [
              "<div>\n",
              "<style scoped>\n",
              "    .dataframe tbody tr th:only-of-type {\n",
              "        vertical-align: middle;\n",
              "    }\n",
              "\n",
              "    .dataframe tbody tr th {\n",
              "        vertical-align: top;\n",
              "    }\n",
              "\n",
              "    .dataframe thead th {\n",
              "        text-align: right;\n",
              "    }\n",
              "</style>\n",
              "<table border=\"1\" class=\"dataframe\">\n",
              "  <thead>\n",
              "    <tr style=\"text-align: right;\">\n",
              "      <th></th>\n",
              "      <th>Month</th>\n",
              "      <th>X</th>\n",
              "      <th>Y</th>\n",
              "      <th>Year</th>\n",
              "      <th>evap</th>\n",
              "      <th>heatnet</th>\n",
              "      <th>humid</th>\n",
              "      <th>id</th>\n",
              "      <th>latheat</th>\n",
              "      <th>prep</th>\n",
              "      <th>pressure</th>\n",
              "      <th>radtemp</th>\n",
              "      <th>runoff</th>\n",
              "      <th>soilheat</th>\n",
              "      <th>soilmoi_10cm</th>\n",
              "      <th>soilmoi_1m</th>\n",
              "      <th>soilmoi_2m</th>\n",
              "      <th>soilmoi_40cm</th>\n",
              "      <th>soiltemp_10cm</th>\n",
              "      <th>soiltemp_1m</th>\n",
              "      <th>soiltemp_2m</th>\n",
              "      <th>soiltemp_40cm</th>\n",
              "      <th>surfacetemp</th>\n",
              "      <th>windspeed</th>\n",
              "      <th>PRESENCE</th>\n",
              "    </tr>\n",
              "  </thead>\n",
              "  <tbody>\n",
              "    <tr>\n",
              "      <th>0</th>\n",
              "      <td>1</td>\n",
              "      <td>21.384989</td>\n",
              "      <td>-0.281897</td>\n",
              "      <td>2006</td>\n",
              "      <td>5.991438e-05</td>\n",
              "      <td>-0.872525</td>\n",
              "      <td>0.015506</td>\n",
              "      <td>25239</td>\n",
              "      <td>149.845856</td>\n",
              "      <td>0.000065</td>\n",
              "      <td>96397.65625</td>\n",
              "      <td>298.997528</td>\n",
              "      <td>5.876605e-06</td>\n",
              "      <td>0.64746</td>\n",
              "      <td>0.411574</td>\n",
              "      <td>0.42046</td>\n",
              "      <td>0.436016</td>\n",
              "      <td>0.414271</td>\n",
              "      <td>298.905762</td>\n",
              "      <td>298.359406</td>\n",
              "      <td>298.134247</td>\n",
              "      <td>298.557770</td>\n",
              "      <td>300.521423</td>\n",
              "      <td>2.289917</td>\n",
              "      <td>0.0</td>\n",
              "    </tr>\n",
              "    <tr>\n",
              "      <th>1</th>\n",
              "      <td>1</td>\n",
              "      <td>36.557216</td>\n",
              "      <td>16.060265</td>\n",
              "      <td>2006</td>\n",
              "      <td>5.806991e-07</td>\n",
              "      <td>64.039223</td>\n",
              "      <td>0.008563</td>\n",
              "      <td>25204</td>\n",
              "      <td>1.452328</td>\n",
              "      <td>0.000000</td>\n",
              "      <td>95336.40625</td>\n",
              "      <td>300.164062</td>\n",
              "      <td>5.769270e-12</td>\n",
              "      <td>-1.63430</td>\n",
              "      <td>0.145005</td>\n",
              "      <td>0.32994</td>\n",
              "      <td>0.331969</td>\n",
              "      <td>0.329165</td>\n",
              "      <td>300.277191</td>\n",
              "      <td>301.167755</td>\n",
              "      <td>301.835480</td>\n",
              "      <td>300.690979</td>\n",
              "      <td>298.687592</td>\n",
              "      <td>6.868981</td>\n",
              "      <td>0.0</td>\n",
              "    </tr>\n",
              "  </tbody>\n",
              "</table>\n",
              "</div>"
            ],
            "text/plain": [
              "   Month          X          Y  ...  surfacetemp  windspeed  PRESENCE\n",
              "0      1  21.384989  -0.281897  ...   300.521423   2.289917       0.0\n",
              "1      1  36.557216  16.060265  ...   298.687592   6.868981       0.0\n",
              "\n",
              "[2 rows x 25 columns]"
            ]
          },
          "metadata": {},
          "execution_count": 44
        }
      ]
    },
    {
      "cell_type": "code",
      "metadata": {
        "colab": {
          "base_uri": "https://localhost:8080/"
        },
        "id": "jDwjMHgU6wsR",
        "outputId": "90c4d1ad-42ac-4634-af31-8b7b15af009d"
      },
      "source": [
        "# Percentage of presence and absence in test data\n",
        "print (\"Presence: %i (%.1f%%)\"%(len(df_data_val_presence), float(len(df_data_val_presence))/len(df_data_val)*100.0))\n",
        "print (\"Absence: %i (%.1f%%)\"%(len(df_data_val_absence), float(len(df_data_val_absence))/len(df_data_val)*100.0))\n",
        "print (\"Total: %i\"%len(df_data_val))"
      ],
      "execution_count": 45,
      "outputs": [
        {
          "output_type": "stream",
          "name": "stdout",
          "text": [
            "Presence: 444 (15.6%)\n",
            "Absence: 2395 (84.4%)\n",
            "Total: 2839\n"
          ]
        }
      ]
    },
    {
      "cell_type": "code",
      "metadata": {
        "colab": {
          "resources": {
            "http://localhost:8080/nbextensions/google.colab/files.js": {
              "data": "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",
              "ok": true,
              "headers": [
                [
                  "content-type",
                  "application/javascript"
                ]
              ],
              "status": 200,
              "status_text": "OK"
            }
          },
          "base_uri": "https://localhost:8080/",
          "height": 93
        },
        "id": "ZrZloQwb6wsT",
        "outputId": "f3b8fabf-2a24-4cc8-c4e7-72db1eca3844"
      },
      "source": [
        "from google.colab import files\n",
        "uploaded = files.upload()\n",
        "\n",
        "df_data_val_landsat_06_07 = pd.read_csv(io.BytesIO(uploaded['Landsat_06_07_extracted.csv']))\n",
        "\n",
        "#dataset = dataframe.values\n",
        "df_data_val_landsat_06_07.head(2)\n",
        "print(df_data_val_landsat_06_07.shape)"
      ],
      "execution_count": 46,
      "outputs": [
        {
          "output_type": "display_data",
          "data": {
            "text/html": [
              "\n",
              "     <input type=\"file\" id=\"files-1d53e7e3-e2df-472d-a537-f7bff4c9c079\" name=\"files[]\" multiple disabled\n",
              "        style=\"border:none\" />\n",
              "     <output id=\"result-1d53e7e3-e2df-472d-a537-f7bff4c9c079\">\n",
              "      Upload widget is only available when the cell has been executed in the\n",
              "      current browser session. Please rerun this cell to enable.\n",
              "      </output>\n",
              "      <script src=\"/nbextensions/google.colab/files.js\"></script> "
            ],
            "text/plain": [
              "<IPython.core.display.HTML object>"
            ]
          },
          "metadata": {}
        },
        {
          "output_type": "stream",
          "name": "stdout",
          "text": [
            "Saving Landsat_06_07_extracted.csv to Landsat_06_07_extracted.csv\n",
            "(1810, 13)\n"
          ]
        }
      ]
    },
    {
      "cell_type": "code",
      "metadata": {
        "colab": {
          "base_uri": "https://localhost:8080/"
        },
        "id": "lgWSLeDJ6wsZ",
        "outputId": "72a77b1f-ad49-400d-a01d-683f39c33cbe"
      },
      "source": [
        "# df_data_val_landsat_06_07, df_data_val, df_data_dem\n",
        "val_df_landsat = df_data_val_landsat_06_07[['Blue', 'Green', 'NIR', 'Red', 'SWIR1', 'SWIR2', 'X', 'Y', 'id']] #'PRESENCE', 'Year' ,'Month'\n",
        "val_df_merge_fldas_landsat = pd.merge(df_data_val, val_df_landsat, on = 'id') #how='left', left_on=['X','Y'], right_on = ['X','Y']\n",
        "\n",
        "print(val_df_merge_fldas_landsat.head(2))\n",
        "print(val_df_merge_fldas_landsat.columns)\n",
        "\n",
        "df_data_dem = df_data_dem[['X', 'Y', 'mean', 'id']]\n",
        "val_df_merge_fldas_landsat_dem = pd.merge(val_df_merge_fldas_landsat, df_data_dem, on = 'id')# how='left', left_on=['X','Y'], right_on = ['X','Y']\n",
        "print(val_df_merge_fldas_landsat_dem.head(2))\n",
        "print(val_df_merge_fldas_landsat_dem.columns)"
      ],
      "execution_count": 47,
      "outputs": [
        {
          "output_type": "stream",
          "name": "stdout",
          "text": [
            "   Month        X_x        Y_x  ...        SWIR2        X_y        Y_y\n",
            "0      1  36.557216  16.060265  ...  2863.392000  36.557216  16.060265\n",
            "1      1  40.222654   7.432943  ...   780.242063  40.222654   7.432943\n",
            "\n",
            "[2 rows x 33 columns]\n",
            "Index(['Month', 'X_x', 'Y_x', 'Year', 'evap', 'heatnet', 'humid', 'id',\n",
            "       'latheat', 'prep', 'pressure', 'radtemp', 'runoff', 'soilheat',\n",
            "       'soilmoi_10cm', 'soilmoi_1m', 'soilmoi_2m', 'soilmoi_40cm',\n",
            "       'soiltemp_10cm', 'soiltemp_1m', 'soiltemp_2m', 'soiltemp_40cm',\n",
            "       'surfacetemp', 'windspeed', 'PRESENCE', 'Blue', 'Green', 'NIR', 'Red',\n",
            "       'SWIR1', 'SWIR2', 'X_y', 'Y_y'],\n",
            "      dtype='object')\n",
            "   Month        X_x        Y_x  Year  ...        Y_y          X          Y    mean\n",
            "0      1  36.557216  16.060265  2006  ...  16.060265  36.557216  16.060265   493.0\n",
            "1      1  40.222654   7.432943  2006  ...   7.432943  40.222654   7.432943  2084.0\n",
            "\n",
            "[2 rows x 36 columns]\n",
            "Index(['Month', 'X_x', 'Y_x', 'Year', 'evap', 'heatnet', 'humid', 'id',\n",
            "       'latheat', 'prep', 'pressure', 'radtemp', 'runoff', 'soilheat',\n",
            "       'soilmoi_10cm', 'soilmoi_1m', 'soilmoi_2m', 'soilmoi_40cm',\n",
            "       'soiltemp_10cm', 'soiltemp_1m', 'soiltemp_2m', 'soiltemp_40cm',\n",
            "       'surfacetemp', 'windspeed', 'PRESENCE', 'Blue', 'Green', 'NIR', 'Red',\n",
            "       'SWIR1', 'SWIR2', 'X_y', 'Y_y', 'X', 'Y', 'mean'],\n",
            "      dtype='object')\n"
          ]
        }
      ]
    },
    {
      "cell_type": "code",
      "metadata": {
        "colab": {
          "base_uri": "https://localhost:8080/"
        },
        "id": "PtVeE_3K6wsc",
        "outputId": "a52eb726-a451-46ae-8c13-3c3354b827c7"
      },
      "source": [
        "# move the \"PRESENCE\" column to the last one\n",
        "val_df_merge_fldas_landsat_dem = val_df_merge_fldas_landsat_dem[['evap', 'heatnet', 'humid',\n",
        "       'latheat', 'prep', 'pressure', 'radtemp', 'runoff', 'soilheat',\n",
        "       'soilmoi_10cm', 'soilmoi_1m', 'soilmoi_2m', 'soilmoi_40cm',\n",
        "       'soiltemp_10cm', 'soiltemp_1m', 'soiltemp_2m', 'soiltemp_40cm',\n",
        "       'surfacetemp', 'windspeed', 'Blue', 'Green', 'NIR', 'Red',\n",
        "       'SWIR1', 'SWIR2', 'mean','PRESENCE']] #'Unnamed: 0', 'id', 'Month', 'X', 'Y', 'Year', \n",
        "\n",
        "print(val_df_merge_fldas_landsat_dem.tail(2))\n",
        "print(val_df_merge_fldas_landsat_dem.shape)"
      ],
      "execution_count": 48,
      "outputs": [
        {
          "output_type": "stream",
          "name": "stdout",
          "text": [
            "          evap    heatnet     humid  ...        SWIR2   mean  PRESENCE\n",
            "1806  0.000001  81.211723  0.014092  ...  2163.334661   37.0       1.0\n",
            "1807  0.000013  -1.305877  0.003731  ...  3818.438735  627.0       0.0\n",
            "\n",
            "[2 rows x 27 columns]\n",
            "(1808, 27)\n"
          ]
        }
      ]
    },
    {
      "cell_type": "code",
      "metadata": {
        "id": "6CYDkKUE6wsg"
      },
      "source": [
        "# check for NaN values in train and test dataframes\n",
        "val_df_merge_fldas_landsat_dem.isnull().any()\n",
        "\n",
        "# impute the data\n",
        "val_df_merge_fldas_landsat_dem = val_df_merge_fldas_landsat_dem.fillna(val_df_merge_fldas_landsat_dem.median())"
      ],
      "execution_count": 49,
      "outputs": []
    },
    {
      "cell_type": "code",
      "metadata": {
        "id": "ecy3ekZ46wsi"
      },
      "source": [
        "#val_df_merge_fldas_landsat_dem.isnull().any()\n",
        "#print(val_df_merge_fldas_landsat_dem.shape)"
      ],
      "execution_count": 50,
      "outputs": []
    },
    {
      "cell_type": "markdown",
      "metadata": {
        "id": "ihJAh2ID6wsk"
      },
      "source": [
        "#### Log tranform on validation data for \"evap\", \"runoff\", \"latheat\""
      ]
    },
    {
      "cell_type": "code",
      "metadata": {
        "id": "IZGUa0cV6wsm"
      },
      "source": [
        " val_df_merge_fldas_landsat_dem['evap_log']= val_df_merge_fldas_landsat_dem['evap'].apply(np.log)"
      ],
      "execution_count": 51,
      "outputs": []
    },
    {
      "cell_type": "code",
      "metadata": {
        "id": "ig9FGQoQ6wso"
      },
      "source": [
        "val_df_merge_fldas_landsat_dem['runoff_log']= val_df_merge_fldas_landsat_dem['runoff'].apply(np.log)"
      ],
      "execution_count": 52,
      "outputs": []
    },
    {
      "cell_type": "code",
      "metadata": {
        "id": "WsH6V6936wsp"
      },
      "source": [
        "val_df_merge_fldas_landsat_dem['latheat_log']= val_df_merge_fldas_landsat_dem['latheat'].apply(np.log)"
      ],
      "execution_count": 53,
      "outputs": []
    },
    {
      "cell_type": "code",
      "metadata": {
        "id": "Nzdi70ri6wsr"
      },
      "source": [
        "# impute the data\n",
        "val_df_merge_fldas_landsat_dem = val_df_merge_fldas_landsat_dem.fillna(val_df_merge_fldas_landsat_dem.median())"
      ],
      "execution_count": 54,
      "outputs": []
    },
    {
      "cell_type": "code",
      "metadata": {
        "id": "NIEpwelC6wst"
      },
      "source": [
        "# move the \"PRESENCE\" column to the last one\n",
        "val_df_merge_fldas_landsat_dem = val_df_merge_fldas_landsat_dem[['evap_log', 'heatnet', 'humid',\n",
        "       'latheat_log', 'prep', 'pressure', 'radtemp', 'runoff_log', 'soilheat',\n",
        "       'soilmoi_10cm', 'soilmoi_1m', 'soilmoi_2m', 'soilmoi_40cm',\n",
        "       'soiltemp_10cm', 'soiltemp_1m', 'soiltemp_2m', 'soiltemp_40cm',\n",
        "       'surfacetemp', 'windspeed', 'Blue', 'Green', 'NIR', 'Red',\n",
        "       'SWIR1', 'SWIR2', 'mean','PRESENCE']] #'id', 'Month', 'X', 'Y', 'Year', "
      ],
      "execution_count": 55,
      "outputs": []
    },
    {
      "cell_type": "code",
      "metadata": {
        "id": "eQVrPG3t6wsv"
      },
      "source": [
        "val_df_merge_fldas_landsat_dem = val_df_merge_fldas_landsat_dem.fillna(val_df_merge_fldas_landsat_dem.median()).clip(-1e11,1e11)"
      ],
      "execution_count": 56,
      "outputs": []
    },
    {
      "cell_type": "code",
      "metadata": {
        "id": "sM97wsihAbP4"
      },
      "source": [
        "#rm(val_df_merge_fldas_landsat_dem)\n",
        "#a =2"
      ],
      "execution_count": 134,
      "outputs": []
    },
    {
      "cell_type": "code",
      "metadata": {
        "colab": {
          "base_uri": "https://localhost:8080/"
        },
        "id": "d0q8giRH6wsw",
        "outputId": "134aeacb-55fa-44a4-a9d8-1bf886ada495"
      },
      "source": [
        "#print(val_df_merge_fldas_landsat_dem.info())\n",
        "print(val_df_merge_fldas_landsat_dem.shape)"
      ],
      "execution_count": 57,
      "outputs": [
        {
          "output_type": "stream",
          "name": "stdout",
          "text": [
            "(1808, 27)\n"
          ]
        }
      ]
    },
    {
      "cell_type": "code",
      "metadata": {
        "colab": {
          "base_uri": "https://localhost:8080/"
        },
        "id": "Tm2MP3wT6wsy",
        "outputId": "d7b9775c-533e-49a7-a27d-2230fc25ca35"
      },
      "source": [
        "dataset_val = val_df_merge_fldas_landsat_dem.values\n",
        "print(type(dataset_val))\n",
        "print(dataset_val.size)\n",
        "\n",
        "# split into input (X) and output (Y) variables\n",
        "X_val = dataset_val[:,0:26]\n",
        "Y_val = dataset_val[:,26]\n",
        "Y_val\n",
        "#print(X_val.shape)\n",
        "#print(Y_val) "
      ],
      "execution_count": 58,
      "outputs": [
        {
          "output_type": "stream",
          "name": "stdout",
          "text": [
            "<class 'numpy.ndarray'>\n",
            "48816\n"
          ]
        },
        {
          "output_type": "execute_result",
          "data": {
            "text/plain": [
              "array([0., 0., 0., ..., 1., 1., 0.])"
            ]
          },
          "metadata": {},
          "execution_count": 58
        }
      ]
    },
    {
      "cell_type": "code",
      "metadata": {
        "id": "rDUqx01aK1j7"
      },
      "source": [
        "Y_val = Y_val.astype(int)"
      ],
      "execution_count": 59,
      "outputs": []
    },
    {
      "cell_type": "code",
      "metadata": {
        "id": "4ZFLngBM6ws0"
      },
      "source": [
        "# encode class values as integers\n",
        "encoder_val = LabelEncoder()\n",
        "encoder_val.fit(Y_val) \n",
        "encoded_Y_val = encoder_val.transform(Y_val)"
      ],
      "execution_count": 60,
      "outputs": []
    },
    {
      "cell_type": "code",
      "metadata": {
        "id": "HNDdguIp6ws2"
      },
      "source": [
        "#print(X_val.size)\n",
        "#X_val"
      ],
      "execution_count": 61,
      "outputs": []
    },
    {
      "cell_type": "markdown",
      "metadata": {
        "id": "ShpLWfYAWNhI"
      },
      "source": [
        "### Train_new & Val_new"
      ]
    },
    {
      "cell_type": "code",
      "metadata": {
        "colab": {
          "base_uri": "https://localhost:8080/",
          "height": 132
        },
        "id": "AlSwbiZoWOFk",
        "outputId": "754fc17d-0aa0-463a-edad-84f8d2b88227"
      },
      "source": [
        "tv_frames = [train_df_merge_fldas_landsat_dem, val_df_merge_fldas_landsat_dem]\n",
        "tv_new = pd.concat(tv_frames)\n",
        "tv_new.head(2)"
      ],
      "execution_count": 62,
      "outputs": [
        {
          "output_type": "execute_result",
          "data": {
            "text/html": [
              "<div>\n",
              "<style scoped>\n",
              "    .dataframe tbody tr th:only-of-type {\n",
              "        vertical-align: middle;\n",
              "    }\n",
              "\n",
              "    .dataframe tbody tr th {\n",
              "        vertical-align: top;\n",
              "    }\n",
              "\n",
              "    .dataframe thead th {\n",
              "        text-align: right;\n",
              "    }\n",
              "</style>\n",
              "<table border=\"1\" class=\"dataframe\">\n",
              "  <thead>\n",
              "    <tr style=\"text-align: right;\">\n",
              "      <th></th>\n",
              "      <th>evap_log</th>\n",
              "      <th>heatnet</th>\n",
              "      <th>humid</th>\n",
              "      <th>latheat_log</th>\n",
              "      <th>prep</th>\n",
              "      <th>pressure</th>\n",
              "      <th>radtemp</th>\n",
              "      <th>runoff_log</th>\n",
              "      <th>soilheat</th>\n",
              "      <th>soilmoi_10cm</th>\n",
              "      <th>soilmoi_1m</th>\n",
              "      <th>soilmoi_2m</th>\n",
              "      <th>soilmoi_40cm</th>\n",
              "      <th>soiltemp_10cm</th>\n",
              "      <th>soiltemp_1m</th>\n",
              "      <th>soiltemp_2m</th>\n",
              "      <th>soiltemp_40cm</th>\n",
              "      <th>surfacetemp</th>\n",
              "      <th>windspeed</th>\n",
              "      <th>Blue</th>\n",
              "      <th>Green</th>\n",
              "      <th>NIR</th>\n",
              "      <th>Red</th>\n",
              "      <th>SWIR1</th>\n",
              "      <th>SWIR2</th>\n",
              "      <th>mean</th>\n",
              "      <th>PRESENCE</th>\n",
              "    </tr>\n",
              "  </thead>\n",
              "  <tbody>\n",
              "    <tr>\n",
              "      <th>0</th>\n",
              "      <td>-12.173651</td>\n",
              "      <td>119.128960</td>\n",
              "      <td>0.014811</td>\n",
              "      <td>2.55855</td>\n",
              "      <td>0.000005</td>\n",
              "      <td>95705.359375</td>\n",
              "      <td>302.899567</td>\n",
              "      <td>-16.444806</td>\n",
              "      <td>1.246766</td>\n",
              "      <td>0.202167</td>\n",
              "      <td>0.312230</td>\n",
              "      <td>0.307770</td>\n",
              "      <td>0.312708</td>\n",
              "      <td>302.830627</td>\n",
              "      <td>302.213257</td>\n",
              "      <td>301.765289</td>\n",
              "      <td>302.570862</td>\n",
              "      <td>299.943359</td>\n",
              "      <td>6.886012</td>\n",
              "      <td>796.285714</td>\n",
              "      <td>1172.329365</td>\n",
              "      <td>1851.488095</td>\n",
              "      <td>1327.222222</td>\n",
              "      <td>1573.500000</td>\n",
              "      <td>1092.198413</td>\n",
              "      <td>473.0</td>\n",
              "      <td>0.0</td>\n",
              "    </tr>\n",
              "    <tr>\n",
              "      <th>1</th>\n",
              "      <td>-11.942462</td>\n",
              "      <td>4.174149</td>\n",
              "      <td>0.004427</td>\n",
              "      <td>2.78974</td>\n",
              "      <td>0.000006</td>\n",
              "      <td>88644.242188</td>\n",
              "      <td>279.236481</td>\n",
              "      <td>-15.782495</td>\n",
              "      <td>-3.765432</td>\n",
              "      <td>0.283599</td>\n",
              "      <td>0.318301</td>\n",
              "      <td>0.323309</td>\n",
              "      <td>0.311076</td>\n",
              "      <td>279.421295</td>\n",
              "      <td>281.684265</td>\n",
              "      <td>283.677917</td>\n",
              "      <td>280.183350</td>\n",
              "      <td>279.670135</td>\n",
              "      <td>6.322828</td>\n",
              "      <td>1070.948207</td>\n",
              "      <td>1809.454183</td>\n",
              "      <td>3534.836653</td>\n",
              "      <td>2750.888446</td>\n",
              "      <td>4557.131474</td>\n",
              "      <td>4031.856574</td>\n",
              "      <td>1178.0</td>\n",
              "      <td>0.0</td>\n",
              "    </tr>\n",
              "  </tbody>\n",
              "</table>\n",
              "</div>"
            ],
            "text/plain": [
              "    evap_log     heatnet     humid  ...        SWIR2    mean  PRESENCE\n",
              "0 -12.173651  119.128960  0.014811  ...  1092.198413   473.0       0.0\n",
              "1 -11.942462    4.174149  0.004427  ...  4031.856574  1178.0       0.0\n",
              "\n",
              "[2 rows x 27 columns]"
            ]
          },
          "metadata": {},
          "execution_count": 62
        }
      ]
    },
    {
      "cell_type": "code",
      "metadata": {
        "colab": {
          "base_uri": "https://localhost:8080/"
        },
        "id": "g4VE0O7V7zc2",
        "outputId": "4131caf9-dd76-4503-a4e6-431015ae93b6"
      },
      "source": [
        "tv_new.shape"
      ],
      "execution_count": 63,
      "outputs": [
        {
          "output_type": "execute_result",
          "data": {
            "text/plain": [
              "(20523, 27)"
            ]
          },
          "metadata": {},
          "execution_count": 63
        }
      ]
    },
    {
      "cell_type": "code",
      "metadata": {
        "colab": {
          "base_uri": "https://localhost:8080/",
          "height": 1000
        },
        "id": "A9i1iP_cwb9r",
        "outputId": "b0d40cd2-3bbf-4986-dc46-2a13ab158b70"
      },
      "source": [
        "# check the distribution of each column using histogram\n",
        "fig = plt.figure(figsize = (15,20))\n",
        "ax = fig.gca()\n",
        "tv_new.hist(ax = ax)"
      ],
      "execution_count": 64,
      "outputs": [
        {
          "output_type": "stream",
          "name": "stderr",
          "text": [
            "/usr/local/lib/python3.7/dist-packages/ipykernel_launcher.py:4: UserWarning: To output multiple subplots, the figure containing the passed axes is being cleared\n",
            "  after removing the cwd from sys.path.\n"
          ]
        },
        {
          "output_type": "execute_result",
          "data": {
            "text/plain": [
              "array([[<matplotlib.axes._subplots.AxesSubplot object at 0x7f05e83288d0>,\n",
              "        <matplotlib.axes._subplots.AxesSubplot object at 0x7f05e8273250>,\n",
              "        <matplotlib.axes._subplots.AxesSubplot object at 0x7f05e8a0a290>,\n",
              "        <matplotlib.axes._subplots.AxesSubplot object at 0x7f05e84fc210>,\n",
              "        <matplotlib.axes._subplots.AxesSubplot object at 0x7f05e8a6ba10>],\n",
              "       [<matplotlib.axes._subplots.AxesSubplot object at 0x7f05e8310f50>,\n",
              "        <matplotlib.axes._subplots.AxesSubplot object at 0x7f05e8a7c690>,\n",
              "        <matplotlib.axes._subplots.AxesSubplot object at 0x7f05e823cc50>,\n",
              "        <matplotlib.axes._subplots.AxesSubplot object at 0x7f05e823cc90>,\n",
              "        <matplotlib.axes._subplots.AxesSubplot object at 0x7f05e81ff450>],\n",
              "       [<matplotlib.axes._subplots.AxesSubplot object at 0x7f05e8161b90>,\n",
              "        <matplotlib.axes._subplots.AxesSubplot object at 0x7f05e812d710>,\n",
              "        <matplotlib.axes._subplots.AxesSubplot object at 0x7f05e80e2d90>,\n",
              "        <matplotlib.axes._subplots.AxesSubplot object at 0x7f05e80a5450>,\n",
              "        <matplotlib.axes._subplots.AxesSubplot object at 0x7f05e805cad0>],\n",
              "       [<matplotlib.axes._subplots.AxesSubplot object at 0x7f05e801f190>,\n",
              "        <matplotlib.axes._subplots.AxesSubplot object at 0x7f05e80547d0>,\n",
              "        <matplotlib.axes._subplots.AxesSubplot object at 0x7f05e800ae10>,\n",
              "        <matplotlib.axes._subplots.AxesSubplot object at 0x7f05e7fcd4d0>,\n",
              "        <matplotlib.axes._subplots.AxesSubplot object at 0x7f05e7f83b50>],\n",
              "       [<matplotlib.axes._subplots.AxesSubplot object at 0x7f05e7f45210>,\n",
              "        <matplotlib.axes._subplots.AxesSubplot object at 0x7f05e7efb890>,\n",
              "        <matplotlib.axes._subplots.AxesSubplot object at 0x7f05e7eaff10>,\n",
              "        <matplotlib.axes._subplots.AxesSubplot object at 0x7f05e7e725d0>,\n",
              "        <matplotlib.axes._subplots.AxesSubplot object at 0x7f05e7e26c50>],\n",
              "       [<matplotlib.axes._subplots.AxesSubplot object at 0x7f05e7de7810>,\n",
              "        <matplotlib.axes._subplots.AxesSubplot object at 0x7f05e7e1bd90>,\n",
              "        <matplotlib.axes._subplots.AxesSubplot object at 0x7f05e7d5f350>,\n",
              "        <matplotlib.axes._subplots.AxesSubplot object at 0x7f05e7d928d0>,\n",
              "        <matplotlib.axes._subplots.AxesSubplot object at 0x7f05e7d4ae50>]],\n",
              "      dtype=object)"
            ]
          },
          "metadata": {},
          "execution_count": 64
        },
        {
          "output_type": "display_data",
          "data": {
            "image/png": "[encoded data removed]",
            "text/plain": [
              "<Figure size 1080x1440 with 30 Axes>"
            ]
          },
          "metadata": {
            "needs_background": "light"
          }
        }
      ]
    },
    {
      "cell_type": "code",
      "metadata": {
        "colab": {
          "base_uri": "https://localhost:8080/"
        },
        "id": "hVCFM2UxYug7",
        "outputId": "3e5d9f73-b07c-43e9-c831-def30fd5d5d6"
      },
      "source": [
        "dataset_new_tv = tv_new.values\n",
        "print(type(dataset_new_tv))\n",
        "print(dataset_new_tv.size)\n",
        "\n",
        "# split into input (X) and output (Y) variables\n",
        "X_new_tv = dataset_new_tv[:,0:26]\n",
        "Y_new_tv = dataset_new_tv[:,26]"
      ],
      "execution_count": 65,
      "outputs": [
        {
          "output_type": "stream",
          "name": "stdout",
          "text": [
            "<class 'numpy.ndarray'>\n",
            "554121\n"
          ]
        }
      ]
    },
    {
      "cell_type": "code",
      "metadata": {
        "colab": {
          "base_uri": "https://localhost:8080/"
        },
        "id": "FHnyalFrYdBS",
        "outputId": "b8b78274-1995-44bf-b517-34f6d14544de"
      },
      "source": [
        "# split the new combined data (train and validation ) with 70 %, 30% proportions\n",
        "from sklearn.model_selection import train_test_split\n",
        "\n",
        "train_new_X, val_new_X, train_new_y, val_new_y = train_test_split(X_new_tv, Y_new_tv,\n",
        "                                                    test_size=0.3,\n",
        "                                                    random_state=123, \n",
        "                                                    #stratify=y\n",
        "                                                    )\n",
        "\n",
        "print(train_new_X)"
      ],
      "execution_count": 66,
      "outputs": [
        {
          "output_type": "stream",
          "name": "stdout",
          "text": [
            "[[-1.04883002e+01  4.62759323e+01  1.81671176e-02 ...  2.27989243e+03\n",
            "   1.17998805e+03  2.40000000e+01]\n",
            " [-9.85889221e+00  1.29687538e+01  1.55984042e-02 ...  1.21071713e+03\n",
            "   4.55533864e+02  4.35000000e+02]\n",
            " [-1.30234487e+01  5.54511642e+01  7.29128905e-03 ...  2.09062698e+03\n",
            "   1.63661905e+03  7.14000000e+02]\n",
            " ...\n",
            " [-1.42701649e+01  3.47534332e+01  3.40295373e-03 ...  5.89355159e+03\n",
            "   5.01252778e+03  3.72000000e+02]\n",
            " [-1.14222409e+01  9.20344353e+00  4.20614751e-03 ...  7.67083333e+02\n",
            "   6.43994048e+02  8.24000000e+02]\n",
            " [-9.93648385e+00 -2.10795355e+00  1.58923753e-02 ...  2.69668526e+03\n",
            "   1.76849801e+03  2.98000000e+02]]\n"
          ]
        }
      ]
    },
    {
      "cell_type": "code",
      "metadata": {
        "id": "IepYNbG43NkM"
      },
      "source": [
        "# encode class values as integers\n",
        "encoder_train_new = LabelEncoder()\n",
        "encoder_train_new.fit(train_new_y)\n",
        "encoded_train_new_Y = encoder_train_new.transform(train_new_y)"
      ],
      "execution_count": 67,
      "outputs": []
    },
    {
      "cell_type": "code",
      "metadata": {
        "id": "8JZWyrs242Du"
      },
      "source": [
        "# encode class values as integers\n",
        "encoder_val_new = LabelEncoder()\n",
        "encoder_val_new.fit(val_new_y)\n",
        "encoded_val_new_Y = encoder_train_new.transform(val_new_y)"
      ],
      "execution_count": 68,
      "outputs": []
    },
    {
      "cell_type": "markdown",
      "metadata": {
        "id": "rOLii9KpMFz0"
      },
      "source": [
        "### Test data"
      ]
    },
    {
      "cell_type": "code",
      "metadata": {
        "colab": {
          "resources": {
            "http://localhost:8080/nbextensions/google.colab/files.js": {
              "data": "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",
              "ok": true,
              "headers": [
                [
                  "content-type",
                  "application/javascript"
                ]
              ],
              "status": 200,
              "status_text": "OK"
            }
          },
          "base_uri": "https://localhost:8080/",
          "height": 93
        },
        "id": "4m6iy2CvaJVV",
        "outputId": "5ecfb104-3d35-4843-fdea-9cc243d73e2a"
      },
      "source": [
        "# load test data\n",
        "# select the \"tmax_1980_2018.csv\" from your local project drive\n",
        "from google.colab import files\n",
        "uploaded = files.upload()\n",
        "\n",
        "df_data_test = pd.read_csv(io.BytesIO(uploaded['FLDAS_10_11_extracted.csv']))\n",
        "\n",
        "#dataset = dataframe.values\n",
        "df_data_test.head(3)\n",
        "print(df_data_test.shape)"
      ],
      "execution_count": 69,
      "outputs": [
        {
          "output_type": "display_data",
          "data": {
            "text/html": [
              "\n",
              "     <input type=\"file\" id=\"files-06c1d0f8-7873-49f2-a86a-5a3d02b61b69\" name=\"files[]\" multiple disabled\n",
              "        style=\"border:none\" />\n",
              "     <output id=\"result-06c1d0f8-7873-49f2-a86a-5a3d02b61b69\">\n",
              "      Upload widget is only available when the cell has been executed in the\n",
              "      current browser session. Please rerun this cell to enable.\n",
              "      </output>\n",
              "      <script src=\"/nbextensions/google.colab/files.js\"></script> "
            ],
            "text/plain": [
              "<IPython.core.display.HTML object>"
            ]
          },
          "metadata": {}
        },
        {
          "output_type": "stream",
          "name": "stdout",
          "text": [
            "Saving FLDAS_10_11_extracted.csv to FLDAS_10_11_extracted.csv\n",
            "(2501, 26)\n"
          ]
        }
      ]
    },
    {
      "cell_type": "code",
      "metadata": {
        "colab": {
          "base_uri": "https://localhost:8080/"
        },
        "id": "j98qR-PfDr74",
        "outputId": "c8a28372-b2ee-4fc8-c593-0b92b2dd3850"
      },
      "source": [
        "df_data_test.columns"
      ],
      "execution_count": 70,
      "outputs": [
        {
          "output_type": "execute_result",
          "data": {
            "text/plain": [
              "Index(['Unnamed: 0', 'Month', 'PRESENCE', 'X', 'Y', 'Year', 'evap', 'heatnet',\n",
              "       'humid', 'id', 'latheat', 'prep', 'pressure', 'radtemp', 'runoff',\n",
              "       'soilheat', 'soilmoi_10cm', 'soilmoi_1m', 'soilmoi_2m', 'soilmoi_40cm',\n",
              "       'soiltemp_10cm', 'soiltemp_1m', 'soiltemp_2m', 'soiltemp_40cm',\n",
              "       'surfacetemp', 'windspeed'],\n",
              "      dtype='object')"
            ]
          },
          "metadata": {},
          "execution_count": 70
        }
      ]
    },
    {
      "cell_type": "code",
      "metadata": {
        "id": "RuvtHelDBpIH"
      },
      "source": [
        "# Change the order of columns in pandas df to have \"PRESENCE\" as the last col\n",
        "df_data_test = df_data_test[[\"Month\", \"X\", \"Y\", \"Year\", \"evap\", \"heatnet\",\n",
        "       \"humid\", \"id\", \"latheat\", \"prep\", \"pressure\", \"radtemp\", \"runoff\",\n",
        "       \"soilheat\", \"soilmoi_10cm\", \"soilmoi_1m\", \"soilmoi_2m\", \"soilmoi_40cm\",\n",
        "       \"soiltemp_10cm\", \"soiltemp_1m\", \"soiltemp_2m\", \"soiltemp_40cm\",\"surfacetemp\", \"windspeed\", \"PRESENCE\"]]\n"
      ],
      "execution_count": 71,
      "outputs": []
    },
    {
      "cell_type": "code",
      "metadata": {
        "colab": {
          "base_uri": "https://localhost:8080/"
        },
        "id": "qpkMHaK5H5Ay",
        "outputId": "530764e3-87d5-4a70-977c-cdac9417fa12"
      },
      "source": [
        "print(df_data_test.head(2))\n",
        "print(df_data_test.shape)\n",
        "#print(df_data_test.info())"
      ],
      "execution_count": 72,
      "outputs": [
        {
          "output_type": "stream",
          "name": "stdout",
          "text": [
            "   Month          X          Y  ...  surfacetemp  windspeed  PRESENCE\n",
            "0      1  22.977782   8.294751  ...   299.809662   5.166034       0.0\n",
            "1      1   3.417286  28.594087  ...   287.979553   6.197610       0.0\n",
            "\n",
            "[2 rows x 25 columns]\n",
            "(2501, 25)\n"
          ]
        }
      ]
    },
    {
      "cell_type": "code",
      "metadata": {
        "colab": {
          "base_uri": "https://localhost:8080/"
        },
        "id": "cmGeUkhxfIFd",
        "outputId": "7f656242-416e-42a7-add3-b09a0200ce43"
      },
      "source": [
        "df_data_test.describe().transpose()\n",
        "len(df_data_test)"
      ],
      "execution_count": 73,
      "outputs": [
        {
          "output_type": "execute_result",
          "data": {
            "text/plain": [
              "2501"
            ]
          },
          "metadata": {},
          "execution_count": 73
        }
      ]
    },
    {
      "cell_type": "code",
      "metadata": {
        "colab": {
          "base_uri": "https://localhost:8080/",
          "height": 132
        },
        "id": "FPS5NAXUP3bg",
        "outputId": "97049548-9aa0-4034-d098-8e08d28025cf"
      },
      "source": [
        "# divide test data to presence and absence to exclude 2-5 % of upper and lower outliers\n",
        "df_data_test_presence = df_data_test[df_data_test['PRESENCE'] == 1]\n",
        "df_data_test_absence = df_data_test[df_data_test['PRESENCE'] == 0]\n",
        "df_data_test_absence.head(2)"
      ],
      "execution_count": 74,
      "outputs": [
        {
          "output_type": "execute_result",
          "data": {
            "text/html": [
              "<div>\n",
              "<style scoped>\n",
              "    .dataframe tbody tr th:only-of-type {\n",
              "        vertical-align: middle;\n",
              "    }\n",
              "\n",
              "    .dataframe tbody tr th {\n",
              "        vertical-align: top;\n",
              "    }\n",
              "\n",
              "    .dataframe thead th {\n",
              "        text-align: right;\n",
              "    }\n",
              "</style>\n",
              "<table border=\"1\" class=\"dataframe\">\n",
              "  <thead>\n",
              "    <tr style=\"text-align: right;\">\n",
              "      <th></th>\n",
              "      <th>Month</th>\n",
              "      <th>X</th>\n",
              "      <th>Y</th>\n",
              "      <th>Year</th>\n",
              "      <th>evap</th>\n",
              "      <th>heatnet</th>\n",
              "      <th>humid</th>\n",
              "      <th>id</th>\n",
              "      <th>latheat</th>\n",
              "      <th>prep</th>\n",
              "      <th>pressure</th>\n",
              "      <th>radtemp</th>\n",
              "      <th>runoff</th>\n",
              "      <th>soilheat</th>\n",
              "      <th>soilmoi_10cm</th>\n",
              "      <th>soilmoi_1m</th>\n",
              "      <th>soilmoi_2m</th>\n",
              "      <th>soilmoi_40cm</th>\n",
              "      <th>soiltemp_10cm</th>\n",
              "      <th>soiltemp_1m</th>\n",
              "      <th>soiltemp_2m</th>\n",
              "      <th>soiltemp_40cm</th>\n",
              "      <th>surfacetemp</th>\n",
              "      <th>windspeed</th>\n",
              "      <th>PRESENCE</th>\n",
              "    </tr>\n",
              "  </thead>\n",
              "  <tbody>\n",
              "    <tr>\n",
              "      <th>0</th>\n",
              "      <td>1</td>\n",
              "      <td>22.977782</td>\n",
              "      <td>8.294751</td>\n",
              "      <td>2010</td>\n",
              "      <td>5.837062e-06</td>\n",
              "      <td>94.003792</td>\n",
              "      <td>0.006183</td>\n",
              "      <td>30000</td>\n",
              "      <td>14.598494</td>\n",
              "      <td>0.0</td>\n",
              "      <td>92378.000000</td>\n",
              "      <td>301.950378</td>\n",
              "      <td>0.0</td>\n",
              "      <td>3.135654</td>\n",
              "      <td>0.159769</td>\n",
              "      <td>0.389519</td>\n",
              "      <td>0.398845</td>\n",
              "      <td>0.385400</td>\n",
              "      <td>301.583771</td>\n",
              "      <td>299.438660</td>\n",
              "      <td>298.589569</td>\n",
              "      <td>300.229584</td>\n",
              "      <td>299.809662</td>\n",
              "      <td>5.166034</td>\n",
              "      <td>0.0</td>\n",
              "    </tr>\n",
              "    <tr>\n",
              "      <th>1</th>\n",
              "      <td>1</td>\n",
              "      <td>3.417286</td>\n",
              "      <td>28.594087</td>\n",
              "      <td>2010</td>\n",
              "      <td>4.943250e-07</td>\n",
              "      <td>28.490023</td>\n",
              "      <td>0.003265</td>\n",
              "      <td>30001</td>\n",
              "      <td>1.236307</td>\n",
              "      <td>0.0</td>\n",
              "      <td>95231.046875</td>\n",
              "      <td>287.705688</td>\n",
              "      <td>0.0</td>\n",
              "      <td>-3.034967</td>\n",
              "      <td>0.158402</td>\n",
              "      <td>0.080000</td>\n",
              "      <td>0.080000</td>\n",
              "      <td>0.118378</td>\n",
              "      <td>287.926056</td>\n",
              "      <td>290.024445</td>\n",
              "      <td>292.021393</td>\n",
              "      <td>288.686218</td>\n",
              "      <td>287.979553</td>\n",
              "      <td>6.197610</td>\n",
              "      <td>0.0</td>\n",
              "    </tr>\n",
              "  </tbody>\n",
              "</table>\n",
              "</div>"
            ],
            "text/plain": [
              "   Month          X          Y  ...  surfacetemp  windspeed  PRESENCE\n",
              "0      1  22.977782   8.294751  ...   299.809662   5.166034       0.0\n",
              "1      1   3.417286  28.594087  ...   287.979553   6.197610       0.0\n",
              "\n",
              "[2 rows x 25 columns]"
            ]
          },
          "metadata": {},
          "execution_count": 74
        }
      ]
    },
    {
      "cell_type": "code",
      "metadata": {
        "colab": {
          "base_uri": "https://localhost:8080/"
        },
        "id": "u7t4yD0NwZ90",
        "outputId": "e77bfd10-5199-48d4-d22a-9cf6506b6726"
      },
      "source": [
        "# Percentage of presence and absence in test data\n",
        "print (\"Presence: %i (%.1f%%)\"%(len(df_data_test_presence), float(len(df_data_test_presence))/len(df_data_test)*100.0))\n",
        "print (\"Absence: %i (%.1f%%)\"%(len(df_data_test_absence), float(len(df_data_test_absence))/len(df_data_test)*100.0))\n",
        "print (\"Total: %i\"%len(df_data_test))"
      ],
      "execution_count": 75,
      "outputs": [
        {
          "output_type": "stream",
          "name": "stdout",
          "text": [
            "Presence: 108 (4.3%)\n",
            "Absence: 2393 (95.7%)\n",
            "Total: 2501\n"
          ]
        }
      ]
    },
    {
      "cell_type": "code",
      "metadata": {
        "colab": {
          "resources": {
            "http://localhost:8080/nbextensions/google.colab/files.js": {
              "data": "Ly8gQ29weXJpZ2h0IDIwMTcgR29vZ2xlIExMQwovLwovLyBMaWNlbnNlZCB1bmRlciB0aGUgQXBhY2hlIExpY2Vuc2UsIFZlcnNpb24gMi4wICh0aGUgIkxpY2Vuc2UiKTsKLy8geW91IG1heSBub3QgdXNlIHRoaXMgZmlsZSBleGNlcHQgaW4gY29tcGxpYW5jZSB3aXRoIHRoZSBMaWNlbnNlLgovLyBZb3UgbWF5IG9idGFpbiBhIGNvcHkgb2YgdGhlIExpY2Vuc2UgYXQKLy8KLy8gICAgICBodHRwOi8vd3d3LmFwYWNoZS5vcmcvbGljZW5zZXMvTElDRU5TRS0yLjAKLy8KLy8gVW5sZXNzIHJlcXVpcmVkIGJ5IGFwcGxpY2FibGUgbGF3IG9yIGFncmVlZCB0byBpbiB3cml0aW5nLCBzb2Z0d2FyZQovLyBkaXN0cmlidXRlZCB1bmRlciB0aGUgTGljZW5zZSBpcyBkaXN0cmlidXRlZCBvbiBhbiAiQVMgSVMiIEJBU0lTLAovLyBXSVRIT1VUIFdBUlJBTlRJRVMgT1IgQ09ORElUSU9OUyBPRiBBTlkgS0lORCwgZWl0aGVyIGV4cHJlc3Mgb3IgaW1wbGllZC4KLy8gU2VlIHRoZSBMaWNlbnNlIGZvciB0aGUgc3BlY2lmaWMgbGFuZ3VhZ2UgZ292ZXJuaW5nIHBlcm1pc3Npb25zIGFuZAovLyBsaW1pdGF0aW9ucyB1bmRlciB0aGUgTGljZW5zZS4KCi8qKgogKiBAZmlsZW92ZXJ2aWV3IEhlbHBlcnMgZm9yIGdvb2dsZS5jb2xhYiBQeXRob24gbW9kdWxlLgogKi8KKGZ1bmN0aW9uKHNjb3BlKSB7CmZ1bmN0aW9uIHNwYW4odGV4dCwgc3R5bGVBdHRyaWJ1dGVzID0ge30pIHsKICBjb25zdCBlbGVtZW50ID0gZG9jdW1lbnQuY3JlYXRlRWxlbWVudCgnc3BhbicpOwogIGVsZW1lbnQudGV4dENvbnRlbnQgPSB0ZXh0OwogIGZvciAoY29uc3Qga2V5IG9mIE9iamVjdC5rZXlzKHN0eWxlQXR0cmlidXRlcykpIHsKICAgIGVsZW1lbnQuc3R5bGVba2V5XSA9IHN0eWxlQXR0cmlidXRlc1trZXldOwogIH0KICByZXR1cm4gZWxlbWVudDsKfQoKLy8gTWF4IG51bWJlciBvZiBieXRlcyB3aGljaCB3aWxsIGJlIHVwbG9hZGVkIGF0IGEgdGltZS4KY29uc3QgTUFYX1BBWUxPQURfU0laRSA9IDEwMCAqIDEwMjQ7CgpmdW5jdGlvbiBfdXBsb2FkRmlsZXMoaW5wdXRJZCwgb3V0cHV0SWQpIHsKICBjb25zdCBzdGVwcyA9IHVwbG9hZEZpbGVzU3RlcChpbnB1dElkLCBvdXRwdXRJZCk7CiAgY29uc3Qgb3V0cHV0RWxlbWVudCA9IGRvY3VtZW50LmdldEVsZW1lbnRCeUlkKG91dHB1dElkKTsKICAvLyBDYWNoZSBzdGVwcyBvbiB0aGUgb3V0cHV0RWxlbWVudCB0byBtYWtlIGl0IGF2YWlsYWJsZSBmb3IgdGhlIG5leHQgY2FsbAogIC8vIHRvIHVwbG9hZEZpbGVzQ29udGludWUgZnJvbSBQeXRob24uCiAgb3V0cHV0RWxlbWVudC5zdGVwcyA9IHN0ZXBzOwoKICByZXR1cm4gX3VwbG9hZEZpbGVzQ29udGludWUob3V0cHV0SWQpOwp9CgovLyBUaGlzIGlzIHJvdWdobHkgYW4gYXN5bmMgZ2VuZXJhdG9yIChub3Qgc3VwcG9ydGVkIGluIHRoZSBicm93c2VyIHlldCksCi8vIHdoZXJlIHRoZXJlIGFyZSBtdWx0aXBsZSBhc3luY2hyb25vdXMgc3RlcHMgYW5kIHRoZSBQeXRob24gc2lkZSBpcyBnb2luZwovLyB0byBwb2xsIGZvciBjb21wbGV0aW9uIG9mIGVhY2ggc3RlcC4KLy8gVGhpcyB1c2VzIGEgUHJvbWlzZSB0byBibG9jayB0aGUgcHl0aG9uIHNpZGUgb24gY29tcGxldGlvbiBvZiBlYWNoIHN0ZXAsCi8vIHRoZW4gcGFzc2VzIHRoZSByZXN1bHQgb2YgdGhlIHByZXZpb3VzIHN0ZXAgYXMgdGhlIGlucHV0IHRvIHRoZSBuZXh0IHN0ZXAuCmZ1bmN0aW9uIF91cGxvYWRGaWxlc0NvbnRpbnVlKG91dHB1dElkKSB7CiAgY29uc3Qgb3V0cHV0RWxlbWVudCA9IGRvY3VtZW50LmdldEVsZW1lbnRCeUlkKG91dHB1dElkKTsKICBjb25zdCBzdGVwcyA9IG91dHB1dEVsZW1lbnQuc3RlcHM7CgogIGNvbnN0IG5leHQgPSBzdGVwcy5uZXh0KG91dHB1dEVsZW1lbnQubGFzdFByb21pc2VWYWx1ZSk7CiAgcmV0dXJuIFByb21pc2UucmVzb2x2ZShuZXh0LnZhbHVlLnByb21pc2UpLnRoZW4oKHZhbHVlKSA9PiB7CiAgICAvLyBDYWNoZSB0aGUgbGFzdCBwcm9taXNlIHZhbHVlIHRvIG1ha2UgaXQgYXZhaWxhYmxlIHRvIHRoZSBuZXh0CiAgICAvLyBzdGVwIG9mIHRoZSBnZW5lcmF0b3IuCiAgICBvdXRwdXRFbGVtZW50Lmxhc3RQcm9taXNlVmFsdWUgPSB2YWx1ZTsKICAgIHJldHVybiBuZXh0LnZhbHVlLnJlc3BvbnNlOwogIH0pOwp9CgovKioKICogR2VuZXJhdG9yIGZ1bmN0aW9uIHdoaWNoIGlzIGNhbGxlZCBiZXR3ZWVuIGVhY2ggYXN5bmMgc3RlcCBvZiB0aGUgdXBsb2FkCiAqIHByb2Nlc3MuCiAqIEBwYXJhbSB7c3RyaW5nfSBpbnB1dElkIEVsZW1lbnQgSUQgb2YgdGhlIGlucHV0IGZpbGUgcGlja2VyIGVsZW1lbnQuCiAqIEBwYXJhbSB7c3RyaW5nfSBvdXRwdXRJZCBFbGVtZW50IElEIG9mIHRoZSBvdXRwdXQgZGlzcGxheS4KICogQHJldHVybiB7IUl0ZXJhYmxlPCFPYmplY3Q+fSBJdGVyYWJsZSBvZiBuZXh0IHN0ZXBzLgogKi8KZnVuY3Rpb24qIHVwbG9hZEZpbGVzU3RlcChpbnB1dElkLCBvdXRwdXRJZCkgewogIGNvbnN0IGlucHV0RWxlbWVudCA9IGRvY3VtZW50LmdldEVsZW1lbnRCeUlkKGlucHV0SWQpOwogIGlucHV0RWxlbWVudC5kaXNhYmxlZCA9IGZhbHNlOwoKICBjb25zdCBvdXRwdXRFbGVtZW50ID0gZG9jdW1lbnQuZ2V0RWxlbWVudEJ5SWQob3V0cHV0SWQpOwogIG91dHB1dEVsZW1lbnQuaW5uZXJIVE1MID0gJyc7CgogIGNvbnN0IHBpY2tlZFByb21pc2UgPSBuZXcgUHJvbWlzZSgocmVzb2x2ZSkgPT4gewogICAgaW5wdXRFbGVtZW50LmFkZEV2ZW50TGlzdGVuZXIoJ2NoYW5nZScsIChlKSA9PiB7CiAgICAgIHJlc29sdmUoZS50YXJnZXQuZmlsZXMpOwogICAgfSk7CiAgfSk7CgogIGNvbnN0IGNhbmNlbCA9IGRvY3VtZW50LmNyZWF0ZUVsZW1lbnQoJ2J1dHRvbicpOwogIGlucHV0RWxlbWVudC5wYXJlbnRFbGVtZW50LmFwcGVuZENoaWxkKGNhbmNlbCk7CiAgY2FuY2VsLnRleHRDb250ZW50ID0gJ0NhbmNlbCB1cGxvYWQnOwogIGNvbnN0IGNhbmNlbFByb21pc2UgPSBuZXcgUHJvbWlzZSgocmVzb2x2ZSkgPT4gewogICAgY2FuY2VsLm9uY2xpY2sgPSAoKSA9PiB7CiAgICAgIHJlc29sdmUobnVsbCk7CiAgICB9OwogIH0pOwoKICAvLyBXYWl0IGZvciB0aGUgdXNlciB0byBwaWNrIHRoZSBmaWxlcy4KICBjb25zdCBmaWxlcyA9IHlpZWxkIHsKICAgIHByb21pc2U6IFByb21pc2UucmFjZShbcGlja2VkUHJvbWlzZSwgY2FuY2VsUHJvbWlzZV0pLAogICAgcmVzcG9uc2U6IHsKICAgICAgYWN0aW9uOiAnc3RhcnRpbmcnLAogICAgfQogIH07CgogIGNhbmNlbC5yZW1vdmUoKTsKCiAgLy8gRGlzYWJsZSB0aGUgaW5wdXQgZWxlbWVudCBzaW5jZSBmdXJ0aGVyIHBpY2tzIGFyZSBub3QgYWxsb3dlZC4KICBpbnB1dEVsZW1lbnQuZGlzYWJsZWQgPSB0cnVlOwoKICBpZiAoIWZpbGVzKSB7CiAgICByZXR1cm4gewogICAgICByZXNwb25zZTogewogICAgICAgIGFjdGlvbjogJ2NvbXBsZXRlJywKICAgICAgfQogICAgfTsKICB9CgogIGZvciAoY29uc3QgZmlsZSBvZiBmaWxlcykgewogICAgY29uc3QgbGkgPSBkb2N1bWVudC5jcmVhdGVFbGVtZW50KCdsaScpOwogICAgbGkuYXBwZW5kKHNwYW4oZmlsZS5uYW1lLCB7Zm9udFdlaWdodDogJ2JvbGQnfSkpOwogICAgbGkuYXBwZW5kKHNwYW4oCiAgICAgICAgYCgke2ZpbGUudHlwZSB8fCAnbi9hJ30pIC0gJHtmaWxlLnNpemV9IGJ5dGVzLCBgICsKICAgICAgICBgbGFzdCBtb2RpZmllZDogJHsKICAgICAgICAgICAgZmlsZS5sYXN0TW9kaWZpZWREYXRlID8gZmlsZS5sYXN0TW9kaWZpZWREYXRlLnRvTG9jYWxlRGF0ZVN0cmluZygpIDoKICAgICAgICAgICAgICAgICAgICAgICAgICAgICAgICAgICAgJ24vYSd9IC0gYCkpOwogICAgY29uc3QgcGVyY2VudCA9IHNwYW4oJzAlIGRvbmUnKTsKICAgIGxpLmFwcGVuZENoaWxkKHBlcmNlbnQpOwoKICAgIG91dHB1dEVsZW1lbnQuYXBwZW5kQ2hpbGQobGkpOwoKICAgIGNvbnN0IGZpbGVEYXRhUHJvbWlzZSA9IG5ldyBQcm9taXNlKChyZXNvbHZlKSA9PiB7CiAgICAgIGNvbnN0IHJlYWRlciA9IG5ldyBGaWxlUmVhZGVyKCk7CiAgICAgIHJlYWRlci5vbmxvYWQgPSAoZSkgPT4gewogICAgICAgIHJlc29sdmUoZS50YXJnZXQucmVzdWx0KTsKICAgICAgfTsKICAgICAgcmVhZGVyLnJlYWRBc0FycmF5QnVmZmVyKGZpbGUpOwogICAgfSk7CiAgICAvLyBXYWl0IGZvciB0aGUgZGF0YSB0byBiZSByZWFkeS4KICAgIGxldCBmaWxlRGF0YSA9IHlpZWxkIHsKICAgICAgcHJvbWlzZTogZmlsZURhdGFQcm9taXNlLAogICAgICByZXNwb25zZTogewogICAgICAgIGFjdGlvbjogJ2NvbnRpbnVlJywKICAgICAgfQogICAgfTsKCiAgICAvLyBVc2UgYSBjaHVua2VkIHNlbmRpbmcgdG8gYXZvaWQgbWVzc2FnZSBzaXplIGxpbWl0cy4gU2VlIGIvNjIxMTU2NjAuCiAgICBsZXQgcG9zaXRpb24gPSAwOwogICAgZG8gewogICAgICBjb25zdCBsZW5ndGggPSBNYXRoLm1pbihmaWxlRGF0YS5ieXRlTGVuZ3RoIC0gcG9zaXRpb24sIE1BWF9QQVlMT0FEX1NJWkUpOwogICAgICBjb25zdCBjaHVuayA9IG5ldyBVaW50OEFycmF5KGZpbGVEYXRhLCBwb3NpdGlvbiwgbGVuZ3RoKTsKICAgICAgcG9zaXRpb24gKz0gbGVuZ3RoOwoKICAgICAgY29uc3QgYmFzZTY0ID0gYnRvYShTdHJpbmcuZnJvbUNoYXJDb2RlLmFwcGx5KG51bGwsIGNodW5rKSk7CiAgICAgIHlpZWxkIHsKICAgICAgICByZXNwb25zZTogewogICAgICAgICAgYWN0aW9uOiAnYXBwZW5kJywKICAgICAgICAgIGZpbGU6IGZpbGUubmFtZSwKICAgICAgICAgIGRhdGE6IGJhc2U2NCwKICAgICAgICB9LAogICAgICB9OwoKICAgICAgbGV0IHBlcmNlbnREb25lID0gZmlsZURhdGEuYnl0ZUxlbmd0aCA9PT0gMCA/CiAgICAgICAgICAxMDAgOgogICAgICAgICAgTWF0aC5yb3VuZCgocG9zaXRpb24gLyBmaWxlRGF0YS5ieXRlTGVuZ3RoKSAqIDEwMCk7CiAgICAgIHBlcmNlbnQudGV4dENvbnRlbnQgPSBgJHtwZXJjZW50RG9uZX0lIGRvbmVgOwoKICAgIH0gd2hpbGUgKHBvc2l0aW9uIDwgZmlsZURhdGEuYnl0ZUxlbmd0aCk7CiAgfQoKICAvLyBBbGwgZG9uZS4KICB5aWVsZCB7CiAgICByZXNwb25zZTogewogICAgICBhY3Rpb246ICdjb21wbGV0ZScsCiAgICB9CiAgfTsKfQoKc2NvcGUuZ29vZ2xlID0gc2NvcGUuZ29vZ2xlIHx8IHt9OwpzY29wZS5nb29nbGUuY29sYWIgPSBzY29wZS5nb29nbGUuY29sYWIgfHwge307CnNjb3BlLmdvb2dsZS5jb2xhYi5fZmlsZXMgPSB7CiAgX3VwbG9hZEZpbGVzLAogIF91cGxvYWRGaWxlc0NvbnRpbnVlLAp9Owp9KShzZWxmKTsK",
              "ok": true,
              "headers": [
                [
                  "content-type",
                  "application/javascript"
                ]
              ],
              "status": 200,
              "status_text": "OK"
            }
          },
          "base_uri": "https://localhost:8080/",
          "height": 93
        },
        "id": "9p7lbmOlMl3f",
        "outputId": "55a30a5c-05f1-425c-c4d3-9ff7d63acead"
      },
      "source": [
        "from google.colab import files\n",
        "uploaded = files.upload()\n",
        "\n",
        "df_data_test_landsat_10_11 = pd.read_csv(io.BytesIO(uploaded['Landsat_10_11_extracted.csv']))\n",
        "\n",
        "#dataset = dataframe.values\n",
        "df_data_test_landsat_10_11.head(2)\n",
        "print(df_data_test_landsat_10_11.shape)"
      ],
      "execution_count": 76,
      "outputs": [
        {
          "output_type": "display_data",
          "data": {
            "text/html": [
              "\n",
              "     <input type=\"file\" id=\"files-0ef43572-0198-477c-8bd3-7e8d22d3f681\" name=\"files[]\" multiple disabled\n",
              "        style=\"border:none\" />\n",
              "     <output id=\"result-0ef43572-0198-477c-8bd3-7e8d22d3f681\">\n",
              "      Upload widget is only available when the cell has been executed in the\n",
              "      current browser session. Please rerun this cell to enable.\n",
              "      </output>\n",
              "      <script src=\"/nbextensions/google.colab/files.js\"></script> "
            ],
            "text/plain": [
              "<IPython.core.display.HTML object>"
            ]
          },
          "metadata": {}
        },
        {
          "output_type": "stream",
          "name": "stdout",
          "text": [
            "Saving Landsat_10_11_extracted.csv to Landsat_10_11_extracted.csv\n",
            "(1397, 13)\n"
          ]
        }
      ]
    },
    {
      "cell_type": "code",
      "metadata": {
        "colab": {
          "base_uri": "https://localhost:8080/"
        },
        "id": "wZgZkwZkNCtW",
        "outputId": "b525730d-641c-41ea-cd18-6773c86edea3"
      },
      "source": [
        "# df_data_test_landsat_10_11, df_data_test, df_data_dem\n",
        "test_df_landsat = df_data_test_landsat_10_11[['Blue', 'Green', 'NIR', 'Red', 'SWIR1', 'SWIR2', 'X', 'Y', 'id']] #'PRESENCE', 'Year' ,'Month'\n",
        "test_df_merge_fldas_landsat = pd.merge(df_data_test, test_df_landsat, on = 'id') #how='left', left_on=['X','Y'], right_on = ['X','Y']\n",
        "\n",
        "print(test_df_merge_fldas_landsat.head(2))\n",
        "print(test_df_merge_fldas_landsat.columns)\n",
        "\n",
        "df_data_dem = df_data_dem[['X', 'Y', 'mean', 'id']]\n",
        "test_df_merge_fldas_landsat_dem = pd.merge(test_df_merge_fldas_landsat, df_data_dem, on = 'id')# how='left', left_on=['X','Y'], right_on = ['X','Y']\n",
        "print(test_df_merge_fldas_landsat_dem.head(2))\n",
        "print(test_df_merge_fldas_landsat_dem.columns)"
      ],
      "execution_count": 77,
      "outputs": [
        {
          "output_type": "stream",
          "name": "stdout",
          "text": [
            "   Month        X_x        Y_x  ...        SWIR2        X_y        Y_y\n",
            "0      1  22.977782   8.294751  ...  1194.484000  22.977782   8.294751\n",
            "1      1   3.417286  28.594087  ...  4293.418327   3.417286  28.594087\n",
            "\n",
            "[2 rows x 33 columns]\n",
            "Index(['Month', 'X_x', 'Y_x', 'Year', 'evap', 'heatnet', 'humid', 'id',\n",
            "       'latheat', 'prep', 'pressure', 'radtemp', 'runoff', 'soilheat',\n",
            "       'soilmoi_10cm', 'soilmoi_1m', 'soilmoi_2m', 'soilmoi_40cm',\n",
            "       'soiltemp_10cm', 'soiltemp_1m', 'soiltemp_2m', 'soiltemp_40cm',\n",
            "       'surfacetemp', 'windspeed', 'PRESENCE', 'Blue', 'Green', 'NIR', 'Red',\n",
            "       'SWIR1', 'SWIR2', 'X_y', 'Y_y'],\n",
            "      dtype='object')\n",
            "   Month        X_x        Y_x  Year  ...        Y_y          X          Y   mean\n",
            "0      1  22.977782   8.294751  2010  ...   8.294751  22.977782   8.294751  856.0\n",
            "1      1   3.417286  28.594087  2010  ...  28.594087   3.417286  28.594087  551.0\n",
            "\n",
            "[2 rows x 36 columns]\n",
            "Index(['Month', 'X_x', 'Y_x', 'Year', 'evap', 'heatnet', 'humid', 'id',\n",
            "       'latheat', 'prep', 'pressure', 'radtemp', 'runoff', 'soilheat',\n",
            "       'soilmoi_10cm', 'soilmoi_1m', 'soilmoi_2m', 'soilmoi_40cm',\n",
            "       'soiltemp_10cm', 'soiltemp_1m', 'soiltemp_2m', 'soiltemp_40cm',\n",
            "       'surfacetemp', 'windspeed', 'PRESENCE', 'Blue', 'Green', 'NIR', 'Red',\n",
            "       'SWIR1', 'SWIR2', 'X_y', 'Y_y', 'X', 'Y', 'mean'],\n",
            "      dtype='object')\n"
          ]
        }
      ]
    },
    {
      "cell_type": "code",
      "metadata": {
        "colab": {
          "base_uri": "https://localhost:8080/"
        },
        "id": "5dYH2OcgXBOx",
        "outputId": "78af565c-cf84-4910-c9e3-a55f59985a54"
      },
      "source": [
        "# move the \"PRESENCE\" column to the last one\n",
        "test_df_merge_fldas_landsat_dem = test_df_merge_fldas_landsat_dem[['evap', 'heatnet', 'humid',\n",
        "        'latheat', 'prep', 'pressure', 'radtemp', 'runoff', 'soilheat',\n",
        "       'soilmoi_10cm', 'soilmoi_1m', 'soilmoi_2m', 'soilmoi_40cm',\n",
        "       'soiltemp_10cm', 'soiltemp_1m', 'soiltemp_2m', 'soiltemp_40cm',\n",
        "       'surfacetemp', 'windspeed', 'Blue', 'Green', 'NIR', 'Red',\n",
        "       'SWIR1', 'SWIR2', 'mean','PRESENCE']] #'Unnamed: 0', 'id', 'Month', 'X', 'Y', 'Year',\n",
        "\n",
        "print(test_df_merge_fldas_landsat_dem.tail(2))\n",
        "print(test_df_merge_fldas_landsat_dem.shape)"
      ],
      "execution_count": 78,
      "outputs": [
        {
          "output_type": "stream",
          "name": "stdout",
          "text": [
            "          evap    heatnet     humid  ...       SWIR2    mean  PRESENCE\n",
            "1390  0.000023  87.305443  0.011945  ...  1100.89243   620.0       0.0\n",
            "1391  0.000042  29.251736  0.013829  ...  2690.12749  1102.0       0.0\n",
            "\n",
            "[2 rows x 27 columns]\n",
            "(1392, 27)\n"
          ]
        }
      ]
    },
    {
      "cell_type": "code",
      "metadata": {
        "id": "9FqPzMQmYceK"
      },
      "source": [
        "# check for NaN values in train and test dataframes\n",
        "test_df_merge_fldas_landsat_dem.isnull().any()\n",
        "\n",
        "# impute the data\n",
        "test_df_merge_fldas_landsat_dem = test_df_merge_fldas_landsat_dem.fillna(test_df_merge_fldas_landsat_dem.median())#lambda x: x.median())"
      ],
      "execution_count": 79,
      "outputs": []
    },
    {
      "cell_type": "code",
      "metadata": {
        "id": "p_oyUIfHYvvq"
      },
      "source": [
        "#test_df_merge_fldas_landsat_dem.isnull().any()\n",
        "#rm(test_df_merge_fldas_landsat_dem)\n",
        "#rm(test_df_merge_fldas_landsat_dem)"
      ],
      "execution_count": 80,
      "outputs": []
    },
    {
      "cell_type": "markdown",
      "metadata": {
        "id": "8v9gF584Ha9k"
      },
      "source": [
        "#### Log tranform on test data for \"evap\", \"runoff\", \"latheat\""
      ]
    },
    {
      "cell_type": "code",
      "metadata": {
        "id": "6IV_RSf-HVpn"
      },
      "source": [
        " test_df_merge_fldas_landsat_dem['evap_log']= test_df_merge_fldas_landsat_dem['evap'].apply(np.log)"
      ],
      "execution_count": 81,
      "outputs": []
    },
    {
      "cell_type": "code",
      "metadata": {
        "id": "Lts9Q0tDHVpn"
      },
      "source": [
        "test_df_merge_fldas_landsat_dem['runoff_log']= test_df_merge_fldas_landsat_dem['runoff'].apply(np.log)"
      ],
      "execution_count": 82,
      "outputs": []
    },
    {
      "cell_type": "code",
      "metadata": {
        "id": "_gswpwGSHVpn"
      },
      "source": [
        "test_df_merge_fldas_landsat_dem['latheat_log']= test_df_merge_fldas_landsat_dem['latheat'].apply(np.log)"
      ],
      "execution_count": 83,
      "outputs": []
    },
    {
      "cell_type": "code",
      "metadata": {
        "id": "goFh0QHKHVpo"
      },
      "source": [
        "#  impute the data\n",
        "test_df_merge_fldas_landsat_dem = test_df_merge_fldas_landsat_dem.fillna(test_df_merge_fldas_landsat_dem.median())"
      ],
      "execution_count": 84,
      "outputs": []
    },
    {
      "cell_type": "code",
      "metadata": {
        "id": "F_p1unLlHVpo"
      },
      "source": [
        "# move the \"PRESENCE\" column to the last one\n",
        "test_df_merge_fldas_landsat_dem = test_df_merge_fldas_landsat_dem[['evap_log', 'heatnet', 'humid',\n",
        "        'latheat_log', 'prep', 'pressure', 'radtemp', 'runoff_log', 'soilheat',\n",
        "       'soilmoi_10cm', 'soilmoi_1m', 'soilmoi_2m', 'soilmoi_40cm',\n",
        "       'soiltemp_10cm', 'soiltemp_1m', 'soiltemp_2m', 'soiltemp_40cm',\n",
        "       'surfacetemp', 'windspeed', 'Blue', 'Green', 'NIR', 'Red',\n",
        "       'SWIR1', 'SWIR2', 'mean','PRESENCE']] #'id', 'Month', 'X', 'Y', 'Year',"
      ],
      "execution_count": 85,
      "outputs": []
    },
    {
      "cell_type": "code",
      "metadata": {
        "id": "W_rrWNMRHVpq"
      },
      "source": [
        "test_df_merge_fldas_landsat_dem = test_df_merge_fldas_landsat_dem.fillna(test_df_merge_fldas_landsat_dem.median()).clip(-1e11,1e11)"
      ],
      "execution_count": 86,
      "outputs": []
    },
    {
      "cell_type": "code",
      "metadata": {
        "id": "SfeuU5j1c8l7"
      },
      "source": [
        "#print(test_df_merge_fldas_landsat_dem.info())"
      ],
      "execution_count": 87,
      "outputs": []
    },
    {
      "cell_type": "code",
      "metadata": {
        "colab": {
          "base_uri": "https://localhost:8080/"
        },
        "id": "OiByUlafPsBa",
        "outputId": "6c0d4c45-164f-439c-98bb-1cb85c53533f"
      },
      "source": [
        "dataset_test = test_df_merge_fldas_landsat_dem.values\n",
        "print(type(dataset_test))\n",
        "print(dataset_test.size)\n",
        "\n",
        "# split into input (X) and output (Y) variables\n",
        "X_test = dataset_test[:,0:26]\n",
        "Y_test = dataset_test[:,26]\n",
        "Y_test\n",
        "#print(X_test.shape)\n",
        "#print(Y_test) "
      ],
      "execution_count": 88,
      "outputs": [
        {
          "output_type": "stream",
          "name": "stdout",
          "text": [
            "<class 'numpy.ndarray'>\n",
            "37584\n"
          ]
        },
        {
          "output_type": "execute_result",
          "data": {
            "text/plain": [
              "array([0., 0., 0., ..., 0., 0., 0.])"
            ]
          },
          "metadata": {},
          "execution_count": 88
        }
      ]
    },
    {
      "cell_type": "code",
      "metadata": {
        "id": "mU_90qTHK6gE"
      },
      "source": [
        "Y_test = Y_test.astype(int)"
      ],
      "execution_count": 89,
      "outputs": []
    },
    {
      "cell_type": "code",
      "metadata": {
        "id": "oYxYAfFwQBTJ"
      },
      "source": [
        "# encode class values as integers\n",
        "encoder_test = LabelEncoder()\n",
        "encoder_test.fit(Y_test) \n",
        "encoded_Y_test = encoder_test.transform(Y_test)"
      ],
      "execution_count": 90,
      "outputs": []
    },
    {
      "cell_type": "code",
      "metadata": {
        "colab": {
          "base_uri": "https://localhost:8080/"
        },
        "id": "QTkZXhtBXdBH",
        "outputId": "ef505d60-98e3-413b-de05-8e09fdfe04f0"
      },
      "source": [
        "#print(X.size)\n",
        "X_test "
      ],
      "execution_count": 91,
      "outputs": [
        {
          "output_type": "execute_result",
          "data": {
            "text/plain": [
              "array([[-1.20512830e+01,  9.40037918e+01,  6.18330156e-03, ...,\n",
              "         1.74822800e+03,  1.19448400e+03,  8.56000000e+02],\n",
              "       [-1.45200727e+01,  2.84900227e+01,  3.26459971e-03, ...,\n",
              "         5.67280279e+03,  4.29341833e+03,  5.51000000e+02],\n",
              "       [-1.33911888e+01,  1.17049614e+02,  1.07889539e-02, ...,\n",
              "         3.89746200e+03,  3.53162000e+03,  1.80000000e+02],\n",
              "       ...,\n",
              "       [-1.17428084e+01, -3.54882598e+00,  4.64060111e-03, ...,\n",
              "         5.47752966e+03,  4.94187712e+03,  6.98000000e+02],\n",
              "       [-1.06900717e+01,  8.73054428e+01,  1.19451135e-02, ...,\n",
              "         2.05273307e+03,  1.10089243e+03,  6.20000000e+02],\n",
              "       [-1.00864609e+01,  2.92517357e+01,  1.38289845e-02, ...,\n",
              "         3.37087649e+03,  2.69012749e+03,  1.10200000e+03]])"
            ]
          },
          "metadata": {},
          "execution_count": 91
        }
      ]
    },
    {
      "cell_type": "markdown",
      "metadata": {
        "id": "OQlonAHbfIod"
      },
      "source": [
        "## Section 2\n",
        "\n",
        "> Model creation and hyperparameter tuning\n",
        "\n"
      ]
    },
    {
      "cell_type": "markdown",
      "metadata": {
        "id": "5ccUSqqp4zrW"
      },
      "source": [
        "### Base_Model \n",
        "\n",
        "\n"
      ]
    },
    {
      "cell_type": "code",
      "metadata": {
        "id": "Znk_vmTqhNvu"
      },
      "source": [
        "def create_baseline():\n",
        "\t# create model\n",
        "\tmodel = Sequential()\n",
        "\tmodel.add(Dense(26, input_dim=26, activation='relu'))\n",
        "\tmodel.add(Dense(1, activation='sigmoid'))\n",
        "\t# Compile model\n",
        "\tmodel.compile(loss='binary_crossentropy', optimizer='adam', \n",
        "\t              metrics=['accuracy'])\n",
        "\treturn model"
      ],
      "execution_count": 92,
      "outputs": []
    },
    {
      "cell_type": "code",
      "metadata": {
        "colab": {
          "base_uri": "https://localhost:8080/"
        },
        "id": "OzPhe7ws40Bo",
        "outputId": "988c9020-b623-4459-d5ab-e3cf6283488a"
      },
      "source": [
        "base_model = create_baseline()\n",
        "base_model.summary()"
      ],
      "execution_count": 93,
      "outputs": [
        {
          "output_type": "stream",
          "name": "stdout",
          "text": [
            "Model: \"sequential\"\n",
            "_________________________________________________________________\n",
            "Layer (type)                 Output Shape              Param #   \n",
            "=================================================================\n",
            "dense (Dense)                (None, 26)                702       \n",
            "_________________________________________________________________\n",
            "dense_1 (Dense)              (None, 1)                 27        \n",
            "=================================================================\n",
            "Total params: 729\n",
            "Trainable params: 729\n",
            "Non-trainable params: 0\n",
            "_________________________________________________________________\n"
          ]
        }
      ]
    },
    {
      "cell_type": "code",
      "metadata": {
        "colab": {
          "base_uri": "https://localhost:8080/"
        },
        "id": "Oyq3EzY-AKdD",
        "outputId": "e03bdcb3-7c23-4c86-a0c4-4ca7370b7cba"
      },
      "source": [
        "#train_new_X.shape"
      ],
      "execution_count": 182,
      "outputs": [
        {
          "output_type": "execute_result",
          "data": {
            "text/plain": [
              "(14366, 26)"
            ]
          },
          "metadata": {},
          "execution_count": 182
        }
      ]
    },
    {
      "cell_type": "code",
      "metadata": {
        "id": "P7xxuVivhhwC",
        "colab": {
          "base_uri": "https://localhost:8080/"
        },
        "outputId": "2fdc5631-dab9-4bfc-d9fe-9af6d699c01d"
      },
      "source": [
        "# evaluate model with standardized dataset \n",
        "# 3' time with accu: 93.14%, 10 epochs and batch_size = 20\n",
        "# 1' 47 seconds accu: 93.31%,\n",
        "# 1' 56' accu: 92.48%\n",
        "# 1' 39\", epochs=10, accu: 75.66% (The difference with the previous results is removing a column called \"id\" in the train, validation and test data)\n",
        "# 3' 2\", epochs = 20, accu:77.78% (5.12%)(The difference with the previous results is removing a column called \"id\" in the train, validation and test data)\n",
        "# 14' 24\" epochs = 60 , accu : 80.00% (5.10%)(The difference with the previous results is removing a column called \"id\" in the train, validation and test data)\n",
        "# 16' 44\" epochs = 60 , accu : 77.90% (6.00%) (5.10%)(The difference with the previous results is removing a column called \"id\" in data & using encoded_train_new_y instead of train_new_y for cross validation)]'\n",
        "# 14' 26\": epochs = 60, 78.30% (4.11%)\n",
        "# epochs : 60, acc: 79.81% (4.67%)\n",
        "# new data(X,Y,month,year removed: eppoch = 60, accu: Baseline: 68.93% (9.94%))\n",
        "\n",
        "estimator = KerasClassifier(build_fn=create_baseline, epochs=60, batch_size=20, verbose=0)\n",
        "kfold = StratifiedKFold(n_splits=10, shuffle=True)\n",
        "results = cross_val_score(estimator, train_new_X, encoded_train_new_Y, cv=kfold) #train_new_X, val_new_X, train_new_y, val_new_y\n",
        "print(\"Baseline: %.2f%% (%.2f%%)\" % (results.mean()*100, results.std()*100))\n"
      ],
      "execution_count": 183,
      "outputs": [
        {
          "output_type": "stream",
          "name": "stdout",
          "text": [
            "Baseline: 68.93% (9.94%)\n"
          ]
        }
      ]
    },
    {
      "cell_type": "code",
      "metadata": {
        "colab": {
          "base_uri": "https://localhost:8080/"
        },
        "id": "dyzPeox1SZBU",
        "outputId": "80a162d4-7e14-4bc2-cd04-b2934148a915"
      },
      "source": [
        "#encoded_train_new_Y"
      ],
      "execution_count": null,
      "outputs": [
        {
          "output_type": "execute_result",
          "data": {
            "text/plain": [
              "array([0, 0, 1, ..., 1, 1, 0])"
            ]
          },
          "metadata": {},
          "execution_count": 466
        }
      ]
    },
    {
      "cell_type": "code",
      "metadata": {
        "id": "nUl-1TgPL6cI"
      },
      "source": [
        "def create_smaller():\n",
        "\t# create model\n",
        "\tmodel = Sequential()\n",
        "\tmodel.add(Dense(13, input_dim=26, activation='relu'))\n",
        "\tmodel.add(Dense(1, activation='sigmoid'))\n",
        "\t# Compile model\n",
        "\tmodel.compile(loss='binary_crossentropy', optimizer='adam', \n",
        "\t              metrics=['accuracy'])\n",
        "\treturn model"
      ],
      "execution_count": 94,
      "outputs": []
    },
    {
      "cell_type": "code",
      "metadata": {
        "colab": {
          "base_uri": "https://localhost:8080/"
        },
        "id": "eMGSVz3ZL6cK",
        "outputId": "9df4dc4d-d885-4a66-ab09-4be1ef2758bc"
      },
      "source": [
        "smaller_model = create_smaller()\n",
        "smaller_model.summary()"
      ],
      "execution_count": 103,
      "outputs": [
        {
          "output_type": "stream",
          "name": "stdout",
          "text": [
            "Model: \"sequential_4\"\n",
            "_________________________________________________________________\n",
            "Layer (type)                 Output Shape              Param #   \n",
            "=================================================================\n",
            "dense_9 (Dense)              (None, 13)                351       \n",
            "_________________________________________________________________\n",
            "dense_10 (Dense)             (None, 1)                 14        \n",
            "=================================================================\n",
            "Total params: 365\n",
            "Trainable params: 365\n",
            "Non-trainable params: 0\n",
            "_________________________________________________________________\n"
          ]
        }
      ]
    },
    {
      "cell_type": "code",
      "metadata": {
        "colab": {
          "base_uri": "https://localhost:8080/"
        },
        "id": "xBoOABvwVxwO",
        "outputId": "e657dfbe-0b9b-4517-ae5d-8b7b66246214"
      },
      "source": [
        "# smaller model\n",
        "#(new log_transformed train and test data: 30 epochs, 20' time and accuracy: 100%)\n",
        "# 60 epochs, accu:70.76% (5.58%) time: 57' \n",
        "from keras.wrappers.scikit_learn import KerasClassifier\n",
        "\n",
        "def create_smaller():\n",
        "\t# create model\n",
        "\tmodel = Sequential()\n",
        "\tmodel.add(Dense(13, input_dim=26, activation='relu'))\n",
        "\tmodel.add(Dense(1, activation='sigmoid'))\n",
        "\t# Compile model\n",
        "\tmodel.compile(loss='binary_crossentropy', optimizer='adam', metrics=['accuracy'])\n",
        "\treturn model\n",
        "\n",
        "#estimators = []\n",
        "#estimators.append(('standardize', StandardScaler()))# \"StandardScaler\" can not be used bc many of features do no have normal distribution\n",
        "#estimators.append(('mlp', KerasClassifier(build_fn=create_smaller, epochs=60, batch_size=5, verbose=0)))\n",
        "#pipeline = Pipeline(estimators)\n",
        "\n",
        "estimator = KerasClassifier(build_fn=create_smaller, epochs=60, batch_size=5, verbose=0)\n",
        "kfold = StratifiedKFold(n_splits=10, shuffle=True)\n",
        "results = cross_val_score(estimator, train_new_X, encoded_train_new_Y, cv=kfold)# X, encoded_Y\n",
        "print(\"Smaller: %.2f%% (%.2f%%)\" % (results.mean()*100, results.std()*100))"
      ],
      "execution_count": null,
      "outputs": [
        {
          "output_type": "stream",
          "name": "stdout",
          "text": [
            "Smaller: 70.76% (5.58%)\n"
          ]
        }
      ]
    },
    {
      "cell_type": "code",
      "metadata": {
        "id": "_yeE7GwWUzVV"
      },
      "source": [
        "def create_larger():\n",
        "\t# create model\n",
        "\tmodel = Sequential()\n",
        "\tmodel.add(Dense(26, input_dim=26, activation='relu'))\n",
        "\tmodel.add(Dense(13, activation='relu'))\n",
        "\tmodel.add(Dense(1, activation='sigmoid'))\n",
        "\t# Compile model\n",
        "\tmodel.compile(loss='binary_crossentropy', optimizer='adam', metrics=['accuracy'])\n",
        "\treturn model"
      ],
      "execution_count": 101,
      "outputs": []
    },
    {
      "cell_type": "code",
      "metadata": {
        "colab": {
          "base_uri": "https://localhost:8080/"
        },
        "id": "Pl2lxCjwUzVY",
        "outputId": "ecb0be36-ba0e-4f1f-d5dd-6dde6a0a7dd2"
      },
      "source": [
        "larger_model = create_larger()\n",
        "larger_model.summary()"
      ],
      "execution_count": 102,
      "outputs": [
        {
          "output_type": "stream",
          "name": "stdout",
          "text": [
            "Model: \"sequential_3\"\n",
            "_________________________________________________________________\n",
            "Layer (type)                 Output Shape              Param #   \n",
            "=================================================================\n",
            "dense_6 (Dense)              (None, 26)                702       \n",
            "_________________________________________________________________\n",
            "dense_7 (Dense)              (None, 13)                351       \n",
            "_________________________________________________________________\n",
            "dense_8 (Dense)              (None, 1)                 14        \n",
            "=================================================================\n",
            "Total params: 1,067\n",
            "Trainable params: 1,067\n",
            "Non-trainable params: 0\n",
            "_________________________________________________________________\n"
          ]
        }
      ]
    },
    {
      "cell_type": "code",
      "metadata": {
        "colab": {
          "base_uri": "https://localhost:8080/"
        },
        "id": "icN6p4lBaVj6",
        "outputId": "17e4294f-71fe-4bb2-83e3-83cb2b71ad8e"
      },
      "source": [
        "# time:19' , accuracy(sd):  100.00% (0.00%)\n",
        "# time: , accuracy: , \n",
        "# larger model\n",
        "def create_larger():\n",
        "\t# create model\n",
        "\tmodel = Sequential()\n",
        "\tmodel.add(Dense(26, input_dim=26, activation='relu'))\n",
        "\tmodel.add(Dense(13, activation='relu'))\n",
        "\tmodel.add(Dense(1, activation='sigmoid'))\n",
        "\t# Compile model\n",
        "\tmodel.compile(loss='binary_crossentropy', optimizer='adam', metrics=['accuracy'])\n",
        "\treturn model\n",
        "\n",
        "#estimators = []\n",
        "#estimators.append(('standardize', StandardScaler()))\n",
        "#estimators.append(('mlp', KerasClassifier(build_fn=create_larger, epochs=30, batch_size=5, verbose=0)))\n",
        "#pipeline = Pipeline(estimators)\n",
        "estimator = KerasClassifier(build_fn=create_larger, epochs=60, batch_size=5, verbose=0)\n",
        "kfold = StratifiedKFold(n_splits=10, shuffle=True)\n",
        "results = cross_val_score(estimator, train_new_X, encoded_train_new_Y, cv=kfold)#X, encoded_Y\n",
        "print(\"Larger: %.2f%% (%.2f%%)\" % (results.mean()*100, results.std()*100))"
      ],
      "execution_count": null,
      "outputs": [
        {
          "output_type": "stream",
          "name": "stdout",
          "text": [
            "Larger: 68.21% (5.15%)\n"
          ]
        }
      ]
    },
    {
      "cell_type": "markdown",
      "metadata": {
        "id": "1x6QaFp35cSu"
      },
      "source": [
        "#### Train the model"
      ]
    },
    {
      "cell_type": "code",
      "metadata": {
        "id": "GUiZ0GgD5vUR"
      },
      "source": [
        "EPOCHS = 50\n",
        "BATCH_SIZE = 20\n",
        "\n",
        "early_stopping = tf.keras.callbacks.EarlyStopping(\n",
        "    monitor = 'val_accuracy',#'val_prc', \n",
        "    verbose = 1,\n",
        "    patience = 10,\n",
        "    mode = 'max',\n",
        "    restore_best_weights = True)\n"
      ],
      "execution_count": null,
      "outputs": []
    },
    {
      "cell_type": "code",
      "metadata": {
        "colab": {
          "base_uri": "https://localhost:8080/"
        },
        "id": "DCqDzh-e5blj",
        "outputId": "5b2cd34b-65b0-4fe2-f336-f633db76d954"
      },
      "source": [
        "base_model = create_baseline()\n",
        "#model.load_weights(initial_weights)\n",
        "baseline_history = base_model.fit(\n",
        "    x = train_new_X,#X, \n",
        "    y = encoded_train_new_Y,#Y,#encoded_Y,\n",
        "    batch_size = BATCH_SIZE,\n",
        "    epochs = EPOCHS,\n",
        "    callbacks = [early_stopping],\n",
        "    validation_data = (val_new_X, val_new_y))# (X_val, Y_val)# encoded_Y_val\n"
      ],
      "execution_count": null,
      "outputs": [
        {
          "output_type": "stream",
          "name": "stdout",
          "text": [
            "Epoch 1/50\n",
            "719/719 [==============================] - 2s 2ms/step - loss: 18286198.0000 - accuracy: 0.8895 - val_loss: 4319578.5000 - val_accuracy: 0.9068\n",
            "Epoch 2/50\n",
            "719/719 [==============================] - 2s 2ms/step - loss: 8693589.0000 - accuracy: 0.9288 - val_loss: 5541875.5000 - val_accuracy: 0.9368\n",
            "Epoch 3/50\n",
            "719/719 [==============================] - 2s 2ms/step - loss: 11347966.0000 - accuracy: 0.9270 - val_loss: 3533570.0000 - val_accuracy: 0.9378\n",
            "Epoch 4/50\n",
            "719/719 [==============================] - 2s 2ms/step - loss: 6998716.0000 - accuracy: 0.9282 - val_loss: 2999156.5000 - val_accuracy: 0.9100\n",
            "Epoch 5/50\n",
            "719/719 [==============================] - 1s 2ms/step - loss: 8666818.0000 - accuracy: 0.9291 - val_loss: 5858154.0000 - val_accuracy: 0.9384\n",
            "Epoch 6/50\n",
            "719/719 [==============================] - 2s 2ms/step - loss: 8269050.0000 - accuracy: 0.9299 - val_loss: 635456.5000 - val_accuracy: 0.9100\n",
            "Epoch 7/50\n",
            "719/719 [==============================] - 2s 2ms/step - loss: 8984459.0000 - accuracy: 0.9283 - val_loss: 2094941.1250 - val_accuracy: 0.9099\n",
            "Epoch 8/50\n",
            "719/719 [==============================] - 2s 2ms/step - loss: 7953615.5000 - accuracy: 0.9307 - val_loss: 5768218.5000 - val_accuracy: 0.9381\n",
            "Epoch 9/50\n",
            "719/719 [==============================] - 2s 2ms/step - loss: 11500746.0000 - accuracy: 0.9298 - val_loss: 15445508.0000 - val_accuracy: 0.9389\n",
            "Epoch 10/50\n",
            "719/719 [==============================] - 2s 3ms/step - loss: 6142345.5000 - accuracy: 0.9292 - val_loss: 6900962.5000 - val_accuracy: 0.9383\n",
            "Epoch 11/50\n",
            "719/719 [==============================] - 2s 2ms/step - loss: 10599500.0000 - accuracy: 0.9307 - val_loss: 1688959.0000 - val_accuracy: 0.9108\n",
            "Epoch 12/50\n",
            "719/719 [==============================] - 2s 3ms/step - loss: 7182564.5000 - accuracy: 0.9314 - val_loss: 11524368.0000 - val_accuracy: 0.9388\n",
            "Epoch 13/50\n",
            "719/719 [==============================] - 2s 3ms/step - loss: 9036646.0000 - accuracy: 0.9314 - val_loss: 5124271.5000 - val_accuracy: 0.9383\n",
            "Epoch 14/50\n",
            "719/719 [==============================] - 2s 2ms/step - loss: 6301658.0000 - accuracy: 0.9264 - val_loss: 1264107.6250 - val_accuracy: 0.9103\n",
            "Epoch 15/50\n",
            "719/719 [==============================] - 2s 2ms/step - loss: 6510574.0000 - accuracy: 0.9310 - val_loss: 3484964.2500 - val_accuracy: 0.9095\n",
            "Epoch 16/50\n",
            "719/719 [==============================] - 2s 2ms/step - loss: 6796681.5000 - accuracy: 0.9287 - val_loss: 1160694.8750 - val_accuracy: 0.9102\n",
            "Epoch 17/50\n",
            "719/719 [==============================] - 2s 2ms/step - loss: 6646682.0000 - accuracy: 0.9305 - val_loss: 2346043.0000 - val_accuracy: 0.9386\n",
            "Epoch 18/50\n",
            "719/719 [==============================] - 2s 2ms/step - loss: 5425976.5000 - accuracy: 0.9284 - val_loss: 17459000.0000 - val_accuracy: 0.9388\n",
            "Epoch 19/50\n",
            "719/719 [==============================] - 2s 2ms/step - loss: 7834579.0000 - accuracy: 0.9300 - val_loss: 11492803.0000 - val_accuracy: 0.9383\n",
            "Restoring model weights from the end of the best epoch.\n",
            "Epoch 00019: early stopping\n"
          ]
        }
      ]
    },
    {
      "cell_type": "markdown",
      "metadata": {
        "id": "TmZJ2MmR-Ca3"
      },
      "source": [
        "#### Check training history"
      ]
    },
    {
      "cell_type": "code",
      "metadata": {
        "id": "OdY0u2mx-CuD"
      },
      "source": [
        "def plot_metrics(history):\n",
        "  metrics = ['loss', 'accuracy']#['loss', 'prc', 'precision', 'recall'] , 'val_loss', 'val_accuracy'\n",
        "  for n, metric in enumerate(metrics):\n",
        "    name = metric.replace(\"_\",\" \").capitalize()\n",
        "    plt.subplot(2,2,n+1)\n",
        "    plt.plot(history.epoch, history.history[metric], color=colors[0], label='Train')\n",
        "    plt.plot(history.epoch, history.history['val_'+metric],\n",
        "             color=colors[0], linestyle=\"--\", label='Val')\n",
        "    plt.xlabel('Epoch')\n",
        "    plt.ylabel(name)\n",
        "    if metric == 'loss':\n",
        "      plt.ylim([0, plt.ylim()[1]])\n",
        "    elif metric == 'auc':\n",
        "      plt.ylim([0.8,1])\n",
        "    else:\n",
        "      plt.ylim([0,1])\n",
        "\n",
        "    plt.legend()\n"
      ],
      "execution_count": null,
      "outputs": []
    },
    {
      "cell_type": "code",
      "metadata": {
        "id": "rVz3BxST-bCq"
      },
      "source": [
        "mpl.rcParams['figure.figsize'] = (12, 10)\n",
        "colors = plt.rcParams['axes.prop_cycle'].by_key()['color']"
      ],
      "execution_count": null,
      "outputs": []
    },
    {
      "cell_type": "code",
      "metadata": {
        "colab": {
          "base_uri": "https://localhost:8080/",
          "height": 338
        },
        "id": "EyU6DWBP-Oop",
        "outputId": "2e60e6f7-98fe-443c-c40d-5e92b8f7ebce"
      },
      "source": [
        "history_dict = baseline_history.history\n",
        "print(history_dict.keys())\n",
        "plot_metrics(baseline_history)"
      ],
      "execution_count": null,
      "outputs": [
        {
          "output_type": "stream",
          "name": "stdout",
          "text": [
            "dict_keys(['loss', 'accuracy', 'val_loss', 'val_accuracy'])\n"
          ]
        },
        {
          "output_type": "display_data",
          "data": {
            "image/png": "[encoded data removed]",
            "text/plain": [
              "<Figure size 864x720 with 2 Axes>"
            ]
          },
          "metadata": {
            "needs_background": "light"
          }
        }
      ]
    },
    {
      "cell_type": "markdown",
      "metadata": {
        "id": "4CP4E-YL8HnW"
      },
      "source": [
        " ### Linear method"
      ]
    },
    {
      "cell_type": "markdown",
      "metadata": {
        "id": "r6_szaCehifo"
      },
      "source": [
        "#### Logistic Regression"
      ]
    },
    {
      "cell_type": "code",
      "metadata": {
        "colab": {
          "base_uri": "https://localhost:8080/"
        },
        "id": "E8ub7X8GNrcB",
        "outputId": "3e096194-6a5c-46e5-a777-cf5e118de9de"
      },
      "source": [
        "# Logistic Regression\n",
        "logreg = LogisticRegression()\n",
        "logreg.fit(train_new_X, encoded_train_new_Y)  #(X, Y)\n",
        "Y_pred = logreg.predict(val_new_X)#(X_test)\n",
        "acc_log = round(logreg.score(train_new_X, encoded_train_new_Y) * 100, 2)\n",
        "acc_log "
      ],
      "execution_count": 184,
      "outputs": [
        {
          "output_type": "execute_result",
          "data": {
            "text/plain": [
              "70.16"
            ]
          },
          "metadata": {},
          "execution_count": 184
        }
      ]
    },
    {
      "cell_type": "markdown",
      "metadata": {
        "id": "5YV3c28DBRcy"
      },
      "source": [
        "### Instance methods"
      ]
    },
    {
      "cell_type": "markdown",
      "metadata": {
        "id": "LmfvsBbQhmWi"
      },
      "source": [
        "#### Support Vector Machines"
      ]
    },
    {
      "cell_type": "code",
      "metadata": {
        "colab": {
          "base_uri": "https://localhost:8080/"
        },
        "id": "4-wPFImqQUuA",
        "outputId": "1b827dad-df0a-41e9-ec2b-1dcfd1b8c7c4"
      },
      "source": [
        "# Support Vector Machines\n",
        "svc = SVC()\n",
        "svc.fit(train_new_X, encoded_train_new_Y)#(X, Y)\n",
        "Y_pred = svc.predict(val_new_X)\n",
        "acc_svc = round(svc.score(train_new_X, encoded_train_new_Y) * 100, 2)\n",
        "acc_svc "
      ],
      "execution_count": 185,
      "outputs": [
        {
          "output_type": "execute_result",
          "data": {
            "text/plain": [
              "69.34"
            ]
          },
          "metadata": {},
          "execution_count": 185
        }
      ]
    },
    {
      "cell_type": "markdown",
      "metadata": {
        "id": "JRBZ58t-hpq_"
      },
      "source": [
        "#### KNN"
      ]
    },
    {
      "cell_type": "code",
      "metadata": {
        "colab": {
          "base_uri": "https://localhost:8080/"
        },
        "id": "D4Dr1_nYQyiU",
        "outputId": "8b7f508c-66d3-4c25-fc45-dfbba9938f2b"
      },
      "source": [
        "knn = KNeighborsClassifier(n_neighbors = 3)\n",
        "knn.fit(train_new_X, encoded_train_new_Y)#(X, Y)\n",
        "Y_pred = knn.predict(val_new_X)\n",
        "acc_knn = round(knn.score(train_new_X, encoded_train_new_Y) * 100, 2)\n",
        "acc_knn"
      ],
      "execution_count": 186,
      "outputs": [
        {
          "output_type": "execute_result",
          "data": {
            "text/plain": [
              "94.86"
            ]
          },
          "metadata": {},
          "execution_count": 186
        }
      ]
    },
    {
      "cell_type": "markdown",
      "metadata": {
        "id": "ybJJPrhfhtzd"
      },
      "source": [
        "### Gaussian Naive Bayes"
      ]
    },
    {
      "cell_type": "code",
      "metadata": {
        "colab": {
          "base_uri": "https://localhost:8080/"
        },
        "id": "budo7JemQ9iZ",
        "outputId": "8ffcfa71-6223-4f27-fa3d-eb270fd2dd71"
      },
      "source": [
        "# Gaussian Naive Bayes\n",
        "\n",
        "gaussian = GaussianNB()\n",
        "gaussian.fit(train_new_X, encoded_train_new_Y)#(X, Y)\n",
        "Y_pred = gaussian.predict(val_new_X)\n",
        "acc_gaussian = round(gaussian.score(train_new_X, encoded_train_new_Y) * 100, 2)\n",
        "acc_gaussian"
      ],
      "execution_count": 187,
      "outputs": [
        {
          "output_type": "execute_result",
          "data": {
            "text/plain": [
              "69.34"
            ]
          },
          "metadata": {},
          "execution_count": 187
        }
      ]
    },
    {
      "cell_type": "markdown",
      "metadata": {
        "id": "v0IVQJ36BfRU"
      },
      "source": [
        "### Other neural network methods"
      ]
    },
    {
      "cell_type": "markdown",
      "metadata": {
        "id": "Mft8SnETh0m8"
      },
      "source": [
        "#### Perceptron\n",
        "##### Linear machine learning algorithm for binary classification, \n",
        "##### One of the simplest types of artificial neural networks\n"
      ]
    },
    {
      "cell_type": "code",
      "metadata": {
        "colab": {
          "base_uri": "https://localhost:8080/"
        },
        "id": "IrQk467ERFh1",
        "outputId": "04c62469-c1c3-4f30-925b-1d9aaab234b0"
      },
      "source": [
        "# Perceptron\n",
        "\n",
        "perceptron = Perceptron(max_iter=1000)# default: max_iter=1000\n",
        "perceptron.fit(train_new_X, encoded_train_new_Y)#(X, Y)\n",
        "Y_pred = perceptron.predict(val_new_X)\n",
        "acc_perceptron = round(perceptron.score(train_new_X, encoded_train_new_Y) * 100, 2)\n",
        "acc_perceptron"
      ],
      "execution_count": 188,
      "outputs": [
        {
          "output_type": "execute_result",
          "data": {
            "text/plain": [
              "55.79"
            ]
          },
          "metadata": {},
          "execution_count": 188
        }
      ]
    },
    {
      "cell_type": "code",
      "metadata": {
        "colab": {
          "base_uri": "https://localhost:8080/"
        },
        "id": "Xbf52xm7m4Lj",
        "outputId": "5a854048-76b9-438f-ab93-8f43be04b614"
      },
      "source": [
        "# Evaluate a perceptron model on the dataset\n",
        "from numpy import mean\n",
        "from numpy import std\n",
        "from sklearn.datasets import make_classification\n",
        "from sklearn.model_selection import RepeatedStratifiedKFold\n",
        "\n",
        "\n",
        "# Define model evaluation method\n",
        "cv = RepeatedStratifiedKFold(n_splits=10, n_repeats=3, random_state=1)\n",
        "\n",
        "# Evaluate model\n",
        "scores = cross_val_score(perceptron, train_new_X, encoded_train_new_Y, scoring='accuracy', cv=cv, n_jobs=-1)\n",
        "\n",
        "# Summarize result\n",
        "print('Mean Accuracy of Perceptron: %.3f (%.3f)' % (mean(scores), std(scores)))"
      ],
      "execution_count": 189,
      "outputs": [
        {
          "output_type": "stream",
          "name": "stdout",
          "text": [
            "Mean Accuracy of Perceptron: 0.597 (0.069)\n"
          ]
        }
      ]
    },
    {
      "cell_type": "markdown",
      "metadata": {
        "id": "-B7Bd7-aoVyN"
      },
      "source": [
        "##### Tune Perceptron Hyperparameters\n"
      ]
    },
    {
      "cell_type": "code",
      "metadata": {
        "id": "vsqpv-mWoTty"
      },
      "source": [
        "# define grid\n",
        "grid = dict()\n",
        "grid['eta0'] = [0.0001, 0.001, 0.01, 0.1, 1.0]"
      ],
      "execution_count": 190,
      "outputs": []
    },
    {
      "cell_type": "markdown",
      "metadata": {
        "id": "XqkwSG0SpMK7"
      },
      "source": [
        "###### 'eta0' parameter"
      ]
    },
    {
      "cell_type": "code",
      "metadata": {
        "colab": {
          "base_uri": "https://localhost:8080/"
        },
        "id": "vP7NF3i1otE7",
        "outputId": "276bcea9-1944-4244-d3e8-b6b60fe88a54"
      },
      "source": [
        "# grid search learning rate for the perceptron\n",
        "from sklearn.model_selection import GridSearchCV\n",
        "\n",
        "# define model evaluation method\n",
        "cv = RepeatedStratifiedKFold(n_splits=10, n_repeats=3, random_state=1)\n",
        "# define grid\n",
        "grid = dict()\n",
        "grid['eta0'] = [0.0001, 0.001, 0.01, 0.1, 1.0]\n",
        "\n",
        "# define search\n",
        "search = GridSearchCV(perceptron, grid, scoring='accuracy', cv=cv, n_jobs=-1)\n",
        "\n",
        "# perform the search\n",
        "results = search.fit(train_new_X, encoded_train_new_Y) #(X, Y)\n",
        "# summarize\n",
        "print('Mean Accuracy: %.3f' % results.best_score_)\n",
        "print('Config: %s' % results.best_params_)\n",
        "\n",
        "# summarize all\n",
        "means = results.cv_results_['mean_test_score']\n",
        "params = results.cv_results_['params']\n",
        "for mean, param in zip(means, params):\n",
        "    print(\">%.3f with: %r\" % (mean, param))"
      ],
      "execution_count": 191,
      "outputs": [
        {
          "output_type": "stream",
          "name": "stdout",
          "text": [
            "Mean Accuracy: 0.597\n",
            "Config: {'eta0': 0.0001}\n",
            ">0.597 with: {'eta0': 0.0001}\n",
            ">0.597 with: {'eta0': 0.001}\n",
            ">0.597 with: {'eta0': 0.01}\n",
            ">0.597 with: {'eta0': 0.1}\n",
            ">0.597 with: {'eta0': 1.0}\n"
          ]
        }
      ]
    },
    {
      "cell_type": "markdown",
      "metadata": {
        "id": "jsbuL11tpUMs"
      },
      "source": [
        "###### 'max_iter' parameter"
      ]
    },
    {
      "cell_type": "code",
      "metadata": {
        "id": "9B-VG9YXpUcK"
      },
      "source": [
        "# define grid\n",
        "grid = dict()\n",
        "grid['max_iter'] = [1, 10, 100, 1000, 10000]"
      ],
      "execution_count": 192,
      "outputs": []
    },
    {
      "cell_type": "code",
      "metadata": {
        "colab": {
          "base_uri": "https://localhost:8080/"
        },
        "id": "c7SlOeZTpx_-",
        "outputId": "b0f561a9-ee60-48a4-c76b-e8b9c8f41746"
      },
      "source": [
        "# grid search total epochs for the perceptron\n",
        "from sklearn.model_selection import GridSearchCV\n",
        "from sklearn.model_selection import RepeatedStratifiedKFold\n",
        "\n",
        "\n",
        "# define model\n",
        "model = Perceptron(eta0=0.0001)\n",
        "\n",
        "# define model evaluation method\n",
        "cv = RepeatedStratifiedKFold(n_splits=10, n_repeats=3, random_state=1)\n",
        "\n",
        "# define grid\n",
        "grid = dict()\n",
        "grid['max_iter'] = [1, 10, 100, 1000, 10000]\n",
        "\n",
        "# define search\n",
        "search = GridSearchCV(model, grid, scoring='accuracy', cv=cv, n_jobs=-1)\n",
        "\n",
        "# perform the search\n",
        "results = search.fit(train_new_X, encoded_train_new_Y) #(X, Y)\n",
        "\n",
        "# summarize\n",
        "print('Mean Accuracy: %.3f' % results.best_score_)\n",
        "print('Config: %s' % results.best_params_)\n",
        "# summarize all\n",
        "means = results.cv_results_['mean_test_score']\n",
        "params = results.cv_results_['params']\n",
        "for mean, param in zip(means, params):\n",
        "    print(\">%.3f with: %r\" % (mean, param))"
      ],
      "execution_count": 193,
      "outputs": [
        {
          "output_type": "stream",
          "name": "stdout",
          "text": [
            "Mean Accuracy: 0.598\n",
            "Config: {'max_iter': 10}\n",
            ">0.568 with: {'max_iter': 1}\n",
            ">0.598 with: {'max_iter': 10}\n",
            ">0.597 with: {'max_iter': 100}\n",
            ">0.597 with: {'max_iter': 1000}\n",
            ">0.597 with: {'max_iter': 10000}\n"
          ]
        }
      ]
    },
    {
      "cell_type": "markdown",
      "metadata": {
        "id": "ZWNuUUWlqNEN"
      },
      "source": [
        "##### Hyperparameter tuning for Perceptron model:\n",
        "###### 'max_iter' should be at least 100. For our dataset changing 'eta0' did not make any tangible difference to the accuracy result"
      ]
    },
    {
      "cell_type": "markdown",
      "metadata": {
        "id": "g_kj5Q-xEo2T"
      },
      "source": [
        "### Linear SVC"
      ]
    },
    {
      "cell_type": "code",
      "metadata": {
        "colab": {
          "base_uri": "https://localhost:8080/"
        },
        "id": "cvhcheIERRrc",
        "outputId": "4082a9d1-a3c8-4ce2-e85a-57bb0307ad29"
      },
      "source": [
        "linear_svc = LinearSVC()\n",
        "linear_svc.fit(train_new_X, encoded_train_new_Y)#(X, Y)\n",
        "Y_pred = linear_svc.predict(val_new_X)\n",
        "acc_linear_svc = round(linear_svc.score(train_new_X, encoded_train_new_Y) * 100, 2)\n",
        "acc_linear_svc"
      ],
      "execution_count": 194,
      "outputs": [
        {
          "output_type": "stream",
          "name": "stderr",
          "text": [
            "/usr/local/lib/python3.7/dist-packages/sklearn/svm/_base.py:947: ConvergenceWarning: Liblinear failed to converge, increase the number of iterations.\n",
            "  \"the number of iterations.\", ConvergenceWarning)\n"
          ]
        },
        {
          "output_type": "execute_result",
          "data": {
            "text/plain": [
              "67.53"
            ]
          },
          "metadata": {},
          "execution_count": 194
        }
      ]
    },
    {
      "cell_type": "markdown",
      "metadata": {
        "id": "jgQsSXlEEvXs"
      },
      "source": [
        "### Stochastic Gradient Descent"
      ]
    },
    {
      "cell_type": "code",
      "metadata": {
        "colab": {
          "base_uri": "https://localhost:8080/"
        },
        "id": "Kg0bojxBRYVQ",
        "outputId": "d2249d17-776a-40b0-dde3-9f03d8d2d5e5"
      },
      "source": [
        "sgd = SGDClassifier()\n",
        "sgd.fit(train_new_X, encoded_train_new_Y) #(X, Y)\n",
        "Y_pred = sgd.predict(val_new_X)\n",
        "acc_sgd = round(sgd.score(train_new_X, encoded_train_new_Y) * 100, 2)\n",
        "acc_sgd"
      ],
      "execution_count": 195,
      "outputs": [
        {
          "output_type": "execute_result",
          "data": {
            "text/plain": [
              "66.93"
            ]
          },
          "metadata": {},
          "execution_count": 195
        }
      ]
    },
    {
      "cell_type": "markdown",
      "metadata": {
        "id": "ChfjVRMf9gF3"
      },
      "source": [
        "### Tree method"
      ]
    },
    {
      "cell_type": "markdown",
      "metadata": {
        "id": "vOfjVNf-EMrt"
      },
      "source": [
        "#### Decision Tree"
      ]
    },
    {
      "cell_type": "code",
      "metadata": {
        "colab": {
          "base_uri": "https://localhost:8080/"
        },
        "id": "0QN9bpC7Rnl1",
        "outputId": "26f314fa-f3fb-4fa4-c1eb-1672037d5407"
      },
      "source": [
        "# Decision Tree\n",
        "decision_tree = DecisionTreeClassifier()\n",
        "decision_tree.fit(train_new_X, encoded_train_new_Y) #(X, Y)\n",
        "Y_pred = decision_tree.predict(val_new_X)\n",
        "acc_decision_tree = round(decision_tree.score(train_new_X, encoded_train_new_Y) * 100, 2)\n",
        "acc_decision_tree"
      ],
      "execution_count": 196,
      "outputs": [
        {
          "output_type": "execute_result",
          "data": {
            "text/plain": [
              "100.0"
            ]
          },
          "metadata": {},
          "execution_count": 196
        }
      ]
    },
    {
      "cell_type": "markdown",
      "metadata": {
        "id": "f2mC-5TyBoOp"
      },
      "source": [
        "#### Random Forest"
      ]
    },
    {
      "cell_type": "code",
      "metadata": {
        "colab": {
          "base_uri": "https://localhost:8080/"
        },
        "id": "zO6HN1D7RoDK",
        "outputId": "09f7bcb7-f2a7-4990-d1a3-049de8500317"
      },
      "source": [
        "random_forest = RandomForestClassifier(n_estimators=100)\n",
        "random_forest.fit(train_new_X, encoded_train_new_Y) #(X, Y)\n",
        "Y_pred = random_forest.predict(val_new_X)\n",
        "random_forest.score(train_new_X, encoded_train_new_Y)\n",
        "acc_random_forest = round(random_forest.score(train_new_X, encoded_train_new_Y) * 100, 2)\n",
        "acc_random_forest"
      ],
      "execution_count": 197,
      "outputs": [
        {
          "output_type": "execute_result",
          "data": {
            "text/plain": [
              "100.0"
            ]
          },
          "metadata": {},
          "execution_count": 197
        }
      ]
    },
    {
      "cell_type": "markdown",
      "metadata": {
        "id": "mIuFhcP4B5tu"
      },
      "source": [
        "### Comparison of methods "
      ]
    },
    {
      "cell_type": "code",
      "metadata": {
        "colab": {
          "base_uri": "https://localhost:8080/",
          "height": 332
        },
        "id": "5rpi7juDRzxI",
        "outputId": "7e3fbf70-82c0-453e-c4ba-1ec4ea8f8f26"
      },
      "source": [
        "models = pd.DataFrame({\n",
        "    'Model': ['Support Vector Machines', 'KNN', 'Logistic Regression', \n",
        "              'Random Forest', 'Naive Bayes', 'Perceptron', \n",
        "              'Stochastic Gradient Decent', 'Linear SVC', \n",
        "              'Decision Tree'],\n",
        "    'Score': [acc_svc, acc_knn, acc_log, \n",
        "              acc_random_forest, acc_gaussian, acc_perceptron, \n",
        "              acc_sgd, acc_linear_svc, acc_decision_tree]})\n",
        "models.sort_values(by='Score', ascending=False)"
      ],
      "execution_count": 198,
      "outputs": [
        {
          "output_type": "execute_result",
          "data": {
            "text/html": [
              "<div>\n",
              "<style scoped>\n",
              "    .dataframe tbody tr th:only-of-type {\n",
              "        vertical-align: middle;\n",
              "    }\n",
              "\n",
              "    .dataframe tbody tr th {\n",
              "        vertical-align: top;\n",
              "    }\n",
              "\n",
              "    .dataframe thead th {\n",
              "        text-align: right;\n",
              "    }\n",
              "</style>\n",
              "<table border=\"1\" class=\"dataframe\">\n",
              "  <thead>\n",
              "    <tr style=\"text-align: right;\">\n",
              "      <th></th>\n",
              "      <th>Model</th>\n",
              "      <th>Score</th>\n",
              "    </tr>\n",
              "  </thead>\n",
              "  <tbody>\n",
              "    <tr>\n",
              "      <th>3</th>\n",
              "      <td>Random Forest</td>\n",
              "      <td>100.00</td>\n",
              "    </tr>\n",
              "    <tr>\n",
              "      <th>8</th>\n",
              "      <td>Decision Tree</td>\n",
              "      <td>100.00</td>\n",
              "    </tr>\n",
              "    <tr>\n",
              "      <th>1</th>\n",
              "      <td>KNN</td>\n",
              "      <td>94.86</td>\n",
              "    </tr>\n",
              "    <tr>\n",
              "      <th>2</th>\n",
              "      <td>Logistic Regression</td>\n",
              "      <td>70.16</td>\n",
              "    </tr>\n",
              "    <tr>\n",
              "      <th>0</th>\n",
              "      <td>Support Vector Machines</td>\n",
              "      <td>69.34</td>\n",
              "    </tr>\n",
              "    <tr>\n",
              "      <th>4</th>\n",
              "      <td>Naive Bayes</td>\n",
              "      <td>69.34</td>\n",
              "    </tr>\n",
              "    <tr>\n",
              "      <th>7</th>\n",
              "      <td>Linear SVC</td>\n",
              "      <td>67.53</td>\n",
              "    </tr>\n",
              "    <tr>\n",
              "      <th>6</th>\n",
              "      <td>Stochastic Gradient Decent</td>\n",
              "      <td>66.93</td>\n",
              "    </tr>\n",
              "    <tr>\n",
              "      <th>5</th>\n",
              "      <td>Perceptron</td>\n",
              "      <td>55.79</td>\n",
              "    </tr>\n",
              "  </tbody>\n",
              "</table>\n",
              "</div>"
            ],
            "text/plain": [
              "                        Model   Score\n",
              "3               Random Forest  100.00\n",
              "8               Decision Tree  100.00\n",
              "1                         KNN   94.86\n",
              "2         Logistic Regression   70.16\n",
              "0     Support Vector Machines   69.34\n",
              "4                 Naive Bayes   69.34\n",
              "7                  Linear SVC   67.53\n",
              "6  Stochastic Gradient Decent   66.93\n",
              "5                  Perceptron   55.79"
            ]
          },
          "metadata": {},
          "execution_count": 198
        }
      ]
    },
    {
      "cell_type": "markdown",
      "metadata": {
        "id": "8_lkjeWER3Fg"
      },
      "source": [
        "## Section 3 \n",
        "\n",
        "\n",
        "> Model Evaluation\n",
        "\n"
      ]
    },
    {
      "cell_type": "markdown",
      "metadata": {
        "id": "BJ1TcqTXS06O"
      },
      "source": [
        "#### Keras Classification Metrics for \"base_model\"\n",
        "\n",
        "\n",
        "> Binary Accuracy: \"binary_accuracy\", \"acc\"\n",
        "\n"
      ]
    },
    {
      "cell_type": "markdown",
      "metadata": {
        "id": "WuMOuygGVRtm"
      },
      "source": [
        "##### \"accuracy\" of base_model with plot"
      ]
    },
    {
      "cell_type": "code",
      "metadata": {
        "colab": {
          "base_uri": "https://localhost:8080/",
          "height": 1000
        },
        "id": "HVM22oGMS_Nn",
        "outputId": "530b1a6e-ff2f-4efe-88c4-090cd9dc2bf6"
      },
      "source": [
        "# train model\n",
        "history = base_model.fit(train_new_X, encoded_train_new_Y, epochs=100, batch_size=20, verbose=2)\n",
        "\n",
        "# plot metrics\n",
        "plt.plot(history.history['accuracy'])\n",
        "plt.show()"
      ],
      "execution_count": 199,
      "outputs": [
        {
          "output_type": "stream",
          "name": "stdout",
          "text": [
            "Epoch 1/100\n",
            "719/719 - 2s - loss: 30692278.0000 - accuracy: 0.6133\n",
            "Epoch 2/100\n",
            "719/719 - 2s - loss: 17962654.0000 - accuracy: 0.6448\n",
            "Epoch 3/100\n",
            "719/719 - 2s - loss: 16480279.0000 - accuracy: 0.6774\n",
            "Epoch 4/100\n",
            "719/719 - 2s - loss: 16236005.0000 - accuracy: 0.6620\n",
            "Epoch 5/100\n",
            "719/719 - 2s - loss: 15162973.0000 - accuracy: 0.6837\n",
            "Epoch 6/100\n",
            "719/719 - 2s - loss: 11314794.0000 - accuracy: 0.6755\n",
            "Epoch 7/100\n",
            "719/719 - 2s - loss: 15689437.0000 - accuracy: 0.6834\n",
            "Epoch 8/100\n",
            "719/719 - 2s - loss: 14549974.0000 - accuracy: 0.6797\n",
            "Epoch 9/100\n",
            "719/719 - 2s - loss: 14741437.0000 - accuracy: 0.6886\n",
            "Epoch 10/100\n",
            "719/719 - 2s - loss: 12429133.0000 - accuracy: 0.6928\n",
            "Epoch 11/100\n",
            "719/719 - 2s - loss: 13085159.0000 - accuracy: 0.6806\n",
            "Epoch 12/100\n",
            "719/719 - 2s - loss: 13528988.0000 - accuracy: 0.7015\n",
            "Epoch 13/100\n",
            "719/719 - 2s - loss: 17884604.0000 - accuracy: 0.6866\n",
            "Epoch 14/100\n",
            "719/719 - 2s - loss: 13153723.0000 - accuracy: 0.6986\n",
            "Epoch 15/100\n",
            "719/719 - 2s - loss: 12601237.0000 - accuracy: 0.6914\n",
            "Epoch 16/100\n",
            "719/719 - 2s - loss: 12208615.0000 - accuracy: 0.7031\n",
            "Epoch 17/100\n",
            "719/719 - 2s - loss: 14745796.0000 - accuracy: 0.6932\n",
            "Epoch 18/100\n",
            "719/719 - 2s - loss: 9658934.0000 - accuracy: 0.7110\n",
            "Epoch 19/100\n",
            "719/719 - 2s - loss: 12281568.0000 - accuracy: 0.6929\n",
            "Epoch 20/100\n",
            "719/719 - 2s - loss: 11018866.0000 - accuracy: 0.7115\n",
            "Epoch 21/100\n",
            "719/719 - 2s - loss: 12325908.0000 - accuracy: 0.6959\n",
            "Epoch 22/100\n",
            "719/719 - 2s - loss: 16080880.0000 - accuracy: 0.7099\n",
            "Epoch 23/100\n",
            "719/719 - 2s - loss: 14984550.0000 - accuracy: 0.6934\n",
            "Epoch 24/100\n",
            "719/719 - 2s - loss: 14153228.0000 - accuracy: 0.7001\n",
            "Epoch 25/100\n",
            "719/719 - 2s - loss: 13560176.0000 - accuracy: 0.7106\n",
            "Epoch 26/100\n",
            "719/719 - 2s - loss: 12794758.0000 - accuracy: 0.6918\n",
            "Epoch 27/100\n",
            "719/719 - 2s - loss: 15401473.0000 - accuracy: 0.7032\n",
            "Epoch 28/100\n",
            "719/719 - 2s - loss: 12156152.0000 - accuracy: 0.7067\n",
            "Epoch 29/100\n",
            "719/719 - 2s - loss: 15325341.0000 - accuracy: 0.7067\n",
            "Epoch 30/100\n",
            "719/719 - 2s - loss: 13863360.0000 - accuracy: 0.7086\n",
            "Epoch 31/100\n",
            "719/719 - 2s - loss: 12547212.0000 - accuracy: 0.7059\n",
            "Epoch 32/100\n",
            "719/719 - 2s - loss: 13081010.0000 - accuracy: 0.7083\n",
            "Epoch 33/100\n",
            "719/719 - 2s - loss: 13026325.0000 - accuracy: 0.7081\n",
            "Epoch 34/100\n",
            "719/719 - 2s - loss: 13581693.0000 - accuracy: 0.7048\n",
            "Epoch 35/100\n",
            "719/719 - 2s - loss: 11259314.0000 - accuracy: 0.7124\n",
            "Epoch 36/100\n",
            "719/719 - 2s - loss: 12241899.0000 - accuracy: 0.7049\n",
            "Epoch 37/100\n",
            "719/719 - 2s - loss: 10677374.0000 - accuracy: 0.7147\n",
            "Epoch 38/100\n",
            "719/719 - 2s - loss: 12914757.0000 - accuracy: 0.7090\n",
            "Epoch 39/100\n",
            "719/719 - 2s - loss: 11596589.0000 - accuracy: 0.7168\n",
            "Epoch 40/100\n",
            "719/719 - 2s - loss: 14026409.0000 - accuracy: 0.7137\n",
            "Epoch 41/100\n",
            "719/719 - 2s - loss: 12806562.0000 - accuracy: 0.7124\n",
            "Epoch 42/100\n",
            "719/719 - 2s - loss: 12313097.0000 - accuracy: 0.7145\n",
            "Epoch 43/100\n",
            "719/719 - 2s - loss: 11579325.0000 - accuracy: 0.7210\n",
            "Epoch 44/100\n",
            "719/719 - 2s - loss: 13882520.0000 - accuracy: 0.7161\n",
            "Epoch 45/100\n",
            "719/719 - 2s - loss: 12381677.0000 - accuracy: 0.7131\n",
            "Epoch 46/100\n",
            "719/719 - 2s - loss: 12558668.0000 - accuracy: 0.7230\n",
            "Epoch 47/100\n",
            "719/719 - 2s - loss: 11069380.0000 - accuracy: 0.7237\n",
            "Epoch 48/100\n",
            "719/719 - 2s - loss: 10128224.0000 - accuracy: 0.7223\n",
            "Epoch 49/100\n",
            "719/719 - 2s - loss: 10064226.0000 - accuracy: 0.7181\n",
            "Epoch 50/100\n",
            "719/719 - 2s - loss: 10906961.0000 - accuracy: 0.7308\n",
            "Epoch 51/100\n",
            "719/719 - 2s - loss: 12835427.0000 - accuracy: 0.7308\n",
            "Epoch 52/100\n",
            "719/719 - 2s - loss: 11709221.0000 - accuracy: 0.7268\n",
            "Epoch 53/100\n",
            "719/719 - 2s - loss: 9373806.0000 - accuracy: 0.7337\n",
            "Epoch 54/100\n",
            "719/719 - 2s - loss: 11386847.0000 - accuracy: 0.7319\n",
            "Epoch 55/100\n",
            "719/719 - 2s - loss: 16798002.0000 - accuracy: 0.7185\n",
            "Epoch 56/100\n",
            "719/719 - 2s - loss: 11898657.0000 - accuracy: 0.7215\n",
            "Epoch 57/100\n",
            "719/719 - 2s - loss: 10426847.0000 - accuracy: 0.7226\n",
            "Epoch 58/100\n",
            "719/719 - 2s - loss: 10993273.0000 - accuracy: 0.7254\n",
            "Epoch 59/100\n",
            "719/719 - 2s - loss: 8364778.0000 - accuracy: 0.7324\n",
            "Epoch 60/100\n",
            "719/719 - 2s - loss: 10737940.0000 - accuracy: 0.7289\n",
            "Epoch 61/100\n",
            "719/719 - 2s - loss: 9715795.0000 - accuracy: 0.7263\n",
            "Epoch 62/100\n",
            "719/719 - 2s - loss: 11830561.0000 - accuracy: 0.7258\n",
            "Epoch 63/100\n",
            "719/719 - 2s - loss: 13797282.0000 - accuracy: 0.7065\n",
            "Epoch 64/100\n",
            "719/719 - 2s - loss: 12792884.0000 - accuracy: 0.7120\n",
            "Epoch 65/100\n",
            "719/719 - 2s - loss: 11300406.0000 - accuracy: 0.7150\n",
            "Epoch 66/100\n",
            "719/719 - 2s - loss: 13159047.0000 - accuracy: 0.7191\n",
            "Epoch 67/100\n",
            "719/719 - 2s - loss: 12243142.0000 - accuracy: 0.7168\n",
            "Epoch 68/100\n",
            "719/719 - 2s - loss: 10790871.0000 - accuracy: 0.7093\n",
            "Epoch 69/100\n",
            "719/719 - 2s - loss: 12405348.0000 - accuracy: 0.7049\n",
            "Epoch 70/100\n",
            "719/719 - 2s - loss: 9205894.0000 - accuracy: 0.6962\n",
            "Epoch 71/100\n",
            "719/719 - 2s - loss: 9479912.0000 - accuracy: 0.7005\n",
            "Epoch 72/100\n",
            "719/719 - 2s - loss: 10837735.0000 - accuracy: 0.6907\n",
            "Epoch 73/100\n",
            "719/719 - 2s - loss: 8582400.0000 - accuracy: 0.6998\n",
            "Epoch 74/100\n",
            "719/719 - 2s - loss: 10243701.0000 - accuracy: 0.6942\n",
            "Epoch 75/100\n",
            "719/719 - 2s - loss: 9588035.0000 - accuracy: 0.6952\n",
            "Epoch 76/100\n",
            "719/719 - 2s - loss: 13076002.0000 - accuracy: 0.6834\n",
            "Epoch 77/100\n",
            "719/719 - 2s - loss: 8865184.0000 - accuracy: 0.6964\n",
            "Epoch 78/100\n",
            "719/719 - 2s - loss: 12342735.0000 - accuracy: 0.6930\n",
            "Epoch 79/100\n",
            "719/719 - 2s - loss: 9619577.0000 - accuracy: 0.6902\n",
            "Epoch 80/100\n",
            "719/719 - 2s - loss: 10169253.0000 - accuracy: 0.6810\n",
            "Epoch 81/100\n",
            "719/719 - 2s - loss: 10685827.0000 - accuracy: 0.6850\n",
            "Epoch 82/100\n",
            "719/719 - 2s - loss: 10436226.0000 - accuracy: 0.6801\n",
            "Epoch 83/100\n",
            "719/719 - 2s - loss: 10106291.0000 - accuracy: 0.6829\n",
            "Epoch 84/100\n",
            "719/719 - 2s - loss: 10306836.0000 - accuracy: 0.6886\n",
            "Epoch 85/100\n",
            "719/719 - 2s - loss: 12727861.0000 - accuracy: 0.6772\n",
            "Epoch 86/100\n",
            "719/719 - 2s - loss: 10529101.0000 - accuracy: 0.6875\n",
            "Epoch 87/100\n",
            "719/719 - 2s - loss: 8810375.0000 - accuracy: 0.6874\n",
            "Epoch 88/100\n",
            "719/719 - 2s - loss: 11564117.0000 - accuracy: 0.6849\n",
            "Epoch 89/100\n",
            "719/719 - 2s - loss: 13497426.0000 - accuracy: 0.6866\n",
            "Epoch 90/100\n",
            "719/719 - 2s - loss: 9859834.0000 - accuracy: 0.6804\n",
            "Epoch 91/100\n",
            "719/719 - 2s - loss: 9242613.0000 - accuracy: 0.6943\n",
            "Epoch 92/100\n",
            "719/719 - 2s - loss: 9703430.0000 - accuracy: 0.6911\n",
            "Epoch 93/100\n",
            "719/719 - 2s - loss: 10001247.0000 - accuracy: 0.6881\n",
            "Epoch 94/100\n",
            "719/719 - 2s - loss: 9612800.0000 - accuracy: 0.6917\n",
            "Epoch 95/100\n",
            "719/719 - 2s - loss: 9019221.0000 - accuracy: 0.6855\n",
            "Epoch 96/100\n",
            "719/719 - 2s - loss: 10427440.0000 - accuracy: 0.6973\n",
            "Epoch 97/100\n",
            "719/719 - 2s - loss: 9824470.0000 - accuracy: 0.6891\n",
            "Epoch 98/100\n",
            "719/719 - 2s - loss: 8331796.0000 - accuracy: 0.6903\n",
            "Epoch 99/100\n",
            "719/719 - 2s - loss: 6541370.5000 - accuracy: 0.6923\n",
            "Epoch 100/100\n",
            "719/719 - 2s - loss: 10637283.0000 - accuracy: 0.6847\n"
          ]
        },
        {
          "output_type": "display_data",
          "data": {
            "image/png": "[encoded data removed]",
            "text/plain": [
              "<Figure size 432x288 with 1 Axes>"
            ]
          },
          "metadata": {
            "needs_background": "light"
          }
        }
      ]
    },
    {
      "cell_type": "code",
      "metadata": {
        "colab": {
          "base_uri": "https://localhost:8080/",
          "height": 1000
        },
        "id": "YcDQ8sbGXFa7",
        "outputId": "9891fb8a-450a-42f3-89ce-49e981c79105"
      },
      "source": [
        "# fit model\n",
        "history = base_model.fit(train_new_X, encoded_train_new_Y, validation_data=(val_new_X, encoded_val_new_Y), epochs=100, verbose=2)\n",
        "\n",
        "# evaluate the model\n",
        "_, train_acc = base_model.evaluate(train_new_X, encoded_train_new_Y, verbose=0)\n",
        "_, test_acc = base_model.evaluate(val_new_X, encoded_val_new_Y, verbose=0)\n",
        "print('Train: %.3f, Test: %.3f' % (train_acc, test_acc))\n",
        "\n",
        "# plot loss during training\n",
        "plt.subplot(211)\n",
        "plt.title('Loss')\n",
        "plt.plot(history.history['loss'], label='train')\n",
        "plt.plot(history.history['val_loss'], label='validation')\n",
        "plt.legend()\n",
        "# plot accuracy during training\n",
        "plt.subplot(212)\n",
        "plt.title('Accuracy')\n",
        "plt.plot(history.history['accuracy'], label='train')\n",
        "plt.plot(history.history['val_accuracy'], label='validation')\n",
        "plt.legend()\n",
        "plt.show()"
      ],
      "execution_count": 200,
      "outputs": [
        {
          "output_type": "stream",
          "name": "stdout",
          "text": [
            "Epoch 1/100\n",
            "449/449 - 2s - loss: 5959500.5000 - accuracy: 0.6849 - val_loss: 20444680.0000 - val_accuracy: 0.7616\n",
            "Epoch 2/100\n",
            "449/449 - 2s - loss: 8445264.0000 - accuracy: 0.6907 - val_loss: 17630208.0000 - val_accuracy: 0.7476\n",
            "Epoch 3/100\n",
            "449/449 - 2s - loss: 6050497.0000 - accuracy: 0.7053 - val_loss: 1969769.3750 - val_accuracy: 0.7293\n",
            "Epoch 4/100\n",
            "449/449 - 2s - loss: 5441246.5000 - accuracy: 0.6959 - val_loss: 4675329.0000 - val_accuracy: 0.4426\n",
            "Epoch 5/100\n",
            "449/449 - 2s - loss: 7052047.0000 - accuracy: 0.6914 - val_loss: 2592911.7500 - val_accuracy: 0.3963\n",
            "Epoch 6/100\n",
            "449/449 - 2s - loss: 8260319.5000 - accuracy: 0.6914 - val_loss: 17413440.0000 - val_accuracy: 0.6951\n",
            "Epoch 7/100\n",
            "449/449 - 2s - loss: 5890868.5000 - accuracy: 0.6934 - val_loss: 6169932.5000 - val_accuracy: 0.7700\n",
            "Epoch 8/100\n",
            "449/449 - 1s - loss: 7486308.0000 - accuracy: 0.6928 - val_loss: 1846855.1250 - val_accuracy: 0.7798\n",
            "Epoch 9/100\n",
            "449/449 - 1s - loss: 7083940.5000 - accuracy: 0.6948 - val_loss: 542578.8125 - val_accuracy: 0.5472\n",
            "Epoch 10/100\n",
            "449/449 - 2s - loss: 7910743.5000 - accuracy: 0.6892 - val_loss: 12309928.0000 - val_accuracy: 0.7634\n",
            "Epoch 11/100\n",
            "449/449 - 2s - loss: 7155172.5000 - accuracy: 0.6996 - val_loss: 639395.7500 - val_accuracy: 0.7458\n",
            "Epoch 12/100\n",
            "449/449 - 1s - loss: 7167255.5000 - accuracy: 0.6944 - val_loss: 21836984.0000 - val_accuracy: 0.4842\n",
            "Epoch 13/100\n",
            "449/449 - 2s - loss: 8099219.5000 - accuracy: 0.6941 - val_loss: 1136537.0000 - val_accuracy: 0.7828\n",
            "Epoch 14/100\n",
            "449/449 - 2s - loss: 10758831.0000 - accuracy: 0.6994 - val_loss: 6182085.0000 - val_accuracy: 0.4481\n",
            "Epoch 15/100\n",
            "449/449 - 2s - loss: 8025143.0000 - accuracy: 0.6954 - val_loss: 2873825.0000 - val_accuracy: 0.7107\n",
            "Epoch 16/100\n",
            "449/449 - 2s - loss: 4787149.0000 - accuracy: 0.6923 - val_loss: 5985898.5000 - val_accuracy: 0.7293\n",
            "Epoch 17/100\n",
            "449/449 - 2s - loss: 8352323.0000 - accuracy: 0.6958 - val_loss: 1572000.3750 - val_accuracy: 0.7689\n",
            "Epoch 18/100\n",
            "449/449 - 2s - loss: 5898571.5000 - accuracy: 0.7069 - val_loss: 4968586.5000 - val_accuracy: 0.7064\n",
            "Epoch 19/100\n",
            "449/449 - 2s - loss: 6876357.5000 - accuracy: 0.6914 - val_loss: 7418689.0000 - val_accuracy: 0.3544\n",
            "Epoch 20/100\n",
            "449/449 - 2s - loss: 6162717.0000 - accuracy: 0.6994 - val_loss: 4550641.5000 - val_accuracy: 0.7517\n",
            "Epoch 21/100\n",
            "449/449 - 1s - loss: 9649249.0000 - accuracy: 0.6905 - val_loss: 1918909.7500 - val_accuracy: 0.7884\n",
            "Epoch 22/100\n",
            "449/449 - 2s - loss: 7559947.0000 - accuracy: 0.7069 - val_loss: 17124972.0000 - val_accuracy: 0.7180\n",
            "Epoch 23/100\n",
            "449/449 - 1s - loss: 6037110.5000 - accuracy: 0.7090 - val_loss: 16883876.0000 - val_accuracy: 0.7728\n",
            "Epoch 24/100\n",
            "449/449 - 2s - loss: 7774253.5000 - accuracy: 0.7003 - val_loss: 10656666.0000 - val_accuracy: 0.4845\n",
            "Epoch 25/100\n",
            "449/449 - 1s - loss: 6385946.5000 - accuracy: 0.7058 - val_loss: 10774583.0000 - val_accuracy: 0.7416\n",
            "Epoch 26/100\n",
            "449/449 - 2s - loss: 5872211.5000 - accuracy: 0.7106 - val_loss: 1871217.7500 - val_accuracy: 0.7846\n",
            "Epoch 27/100\n",
            "449/449 - 2s - loss: 5727869.5000 - accuracy: 0.7033 - val_loss: 10386155.0000 - val_accuracy: 0.7804\n",
            "Epoch 28/100\n",
            "449/449 - 2s - loss: 6423560.0000 - accuracy: 0.7015 - val_loss: 7235455.5000 - val_accuracy: 0.7851\n",
            "Epoch 29/100\n",
            "449/449 - 1s - loss: 5639665.5000 - accuracy: 0.7074 - val_loss: 1496281.5000 - val_accuracy: 0.7827\n",
            "Epoch 30/100\n",
            "449/449 - 2s - loss: 5480625.0000 - accuracy: 0.7035 - val_loss: 6396986.0000 - val_accuracy: 0.7496\n",
            "Epoch 31/100\n",
            "449/449 - 2s - loss: 7831927.0000 - accuracy: 0.6905 - val_loss: 5557276.0000 - val_accuracy: 0.7120\n",
            "Epoch 32/100\n",
            "449/449 - 2s - loss: 7122100.5000 - accuracy: 0.7036 - val_loss: 5939168.0000 - val_accuracy: 0.3580\n",
            "Epoch 33/100\n",
            "449/449 - 1s - loss: 7040511.0000 - accuracy: 0.7024 - val_loss: 2390396.0000 - val_accuracy: 0.7617\n",
            "Epoch 34/100\n",
            "449/449 - 2s - loss: 7708193.0000 - accuracy: 0.7049 - val_loss: 14289034.0000 - val_accuracy: 0.7801\n",
            "Epoch 35/100\n",
            "449/449 - 2s - loss: 6334272.0000 - accuracy: 0.7166 - val_loss: 8469977.0000 - val_accuracy: 0.5558\n",
            "Epoch 36/100\n",
            "449/449 - 1s - loss: 8973803.0000 - accuracy: 0.6962 - val_loss: 14323632.0000 - val_accuracy: 0.6976\n",
            "Epoch 37/100\n",
            "449/449 - 2s - loss: 6295630.5000 - accuracy: 0.7130 - val_loss: 13169760.0000 - val_accuracy: 0.7893\n",
            "Epoch 38/100\n",
            "449/449 - 2s - loss: 6656699.0000 - accuracy: 0.7124 - val_loss: 2055555.5000 - val_accuracy: 0.7306\n",
            "Epoch 39/100\n",
            "449/449 - 1s - loss: 7114101.5000 - accuracy: 0.7040 - val_loss: 10589633.0000 - val_accuracy: 0.7716\n",
            "Epoch 40/100\n",
            "449/449 - 2s - loss: 6489165.5000 - accuracy: 0.7037 - val_loss: 6505007.5000 - val_accuracy: 0.7005\n",
            "Epoch 41/100\n",
            "449/449 - 2s - loss: 6053632.5000 - accuracy: 0.7102 - val_loss: 7260678.0000 - val_accuracy: 0.3818\n",
            "Epoch 42/100\n",
            "449/449 - 2s - loss: 6419234.5000 - accuracy: 0.7001 - val_loss: 1301959.5000 - val_accuracy: 0.7426\n",
            "Epoch 43/100\n",
            "449/449 - 1s - loss: 7490046.0000 - accuracy: 0.7067 - val_loss: 6178003.5000 - val_accuracy: 0.6409\n",
            "Epoch 44/100\n",
            "449/449 - 2s - loss: 5488089.5000 - accuracy: 0.7143 - val_loss: 1288128.8750 - val_accuracy: 0.7663\n",
            "Epoch 45/100\n",
            "449/449 - 2s - loss: 5682620.5000 - accuracy: 0.7177 - val_loss: 2567185.5000 - val_accuracy: 0.7603\n",
            "Epoch 46/100\n",
            "449/449 - 2s - loss: 8651647.0000 - accuracy: 0.6976 - val_loss: 1047508.0000 - val_accuracy: 0.7911\n",
            "Epoch 47/100\n",
            "449/449 - 2s - loss: 5349735.0000 - accuracy: 0.7144 - val_loss: 4727437.5000 - val_accuracy: 0.7276\n",
            "Epoch 48/100\n",
            "449/449 - 2s - loss: 5883751.5000 - accuracy: 0.7086 - val_loss: 8315257.0000 - val_accuracy: 0.6932\n",
            "Epoch 49/100\n",
            "449/449 - 1s - loss: 4795730.0000 - accuracy: 0.7129 - val_loss: 5661157.0000 - val_accuracy: 0.7450\n",
            "Epoch 50/100\n",
            "449/449 - 1s - loss: 7566420.0000 - accuracy: 0.6989 - val_loss: 10510224.0000 - val_accuracy: 0.7692\n",
            "Epoch 51/100\n",
            "449/449 - 2s - loss: 5509078.5000 - accuracy: 0.7138 - val_loss: 475749.8750 - val_accuracy: 0.8001\n",
            "Epoch 52/100\n",
            "449/449 - 1s - loss: 7536040.5000 - accuracy: 0.7060 - val_loss: 121880.4141 - val_accuracy: 0.8030\n",
            "Epoch 53/100\n",
            "449/449 - 2s - loss: 4751482.5000 - accuracy: 0.7264 - val_loss: 4139487.2500 - val_accuracy: 0.7729\n",
            "Epoch 54/100\n",
            "449/449 - 2s - loss: 7213863.5000 - accuracy: 0.6932 - val_loss: 4640587.5000 - val_accuracy: 0.3716\n",
            "Epoch 55/100\n",
            "449/449 - 2s - loss: 6126005.5000 - accuracy: 0.6986 - val_loss: 11897321.0000 - val_accuracy: 0.7551\n",
            "Epoch 56/100\n",
            "449/449 - 2s - loss: 8500681.0000 - accuracy: 0.6959 - val_loss: 8253792.0000 - val_accuracy: 0.7612\n",
            "Epoch 57/100\n",
            "449/449 - 1s - loss: 6261856.0000 - accuracy: 0.7099 - val_loss: 3542320.2500 - val_accuracy: 0.5168\n",
            "Epoch 58/100\n",
            "449/449 - 1s - loss: 5773402.5000 - accuracy: 0.7158 - val_loss: 10449951.0000 - val_accuracy: 0.7190\n",
            "Epoch 59/100\n",
            "449/449 - 2s - loss: 4521006.0000 - accuracy: 0.7135 - val_loss: 1881802.5000 - val_accuracy: 0.7728\n",
            "Epoch 60/100\n",
            "449/449 - 2s - loss: 7351837.0000 - accuracy: 0.7179 - val_loss: 13345702.0000 - val_accuracy: 0.7919\n",
            "Epoch 61/100\n",
            "449/449 - 2s - loss: 7177556.0000 - accuracy: 0.7017 - val_loss: 5614052.5000 - val_accuracy: 0.7323\n",
            "Epoch 62/100\n",
            "449/449 - 2s - loss: 5641880.5000 - accuracy: 0.7150 - val_loss: 14217927.0000 - val_accuracy: 0.7375\n",
            "Epoch 63/100\n",
            "449/449 - 2s - loss: 6560675.0000 - accuracy: 0.7060 - val_loss: 2911601.7500 - val_accuracy: 0.7902\n",
            "Epoch 64/100\n",
            "449/449 - 2s - loss: 7619703.5000 - accuracy: 0.7087 - val_loss: 991950.3750 - val_accuracy: 0.7609\n",
            "Epoch 65/100\n",
            "449/449 - 2s - loss: 6421505.0000 - accuracy: 0.7119 - val_loss: 4615951.5000 - val_accuracy: 0.7336\n",
            "Epoch 66/100\n",
            "449/449 - 1s - loss: 6392002.0000 - accuracy: 0.7224 - val_loss: 7018491.5000 - val_accuracy: 0.3546\n",
            "Epoch 67/100\n",
            "449/449 - 2s - loss: 7337865.5000 - accuracy: 0.6991 - val_loss: 598951.2500 - val_accuracy: 0.7033\n",
            "Epoch 68/100\n",
            "449/449 - 2s - loss: 5187314.0000 - accuracy: 0.7072 - val_loss: 827961.1250 - val_accuracy: 0.6683\n",
            "Epoch 69/100\n",
            "449/449 - 1s - loss: 6193158.5000 - accuracy: 0.7042 - val_loss: 1316089.5000 - val_accuracy: 0.7820\n",
            "Epoch 70/100\n",
            "449/449 - 2s - loss: 5410534.5000 - accuracy: 0.7168 - val_loss: 4390373.0000 - val_accuracy: 0.7744\n",
            "Epoch 71/100\n",
            "449/449 - 2s - loss: 6153515.5000 - accuracy: 0.7001 - val_loss: 6330312.5000 - val_accuracy: 0.5782\n",
            "Epoch 72/100\n",
            "449/449 - 2s - loss: 6743172.0000 - accuracy: 0.7086 - val_loss: 6087878.0000 - val_accuracy: 0.7489\n",
            "Epoch 73/100\n",
            "449/449 - 2s - loss: 6571998.5000 - accuracy: 0.7062 - val_loss: 6828680.5000 - val_accuracy: 0.7416\n",
            "Epoch 74/100\n",
            "449/449 - 2s - loss: 6262798.5000 - accuracy: 0.7118 - val_loss: 7716320.5000 - val_accuracy: 0.4580\n",
            "Epoch 75/100\n",
            "449/449 - 2s - loss: 5666961.5000 - accuracy: 0.7001 - val_loss: 14535272.0000 - val_accuracy: 0.7197\n",
            "Epoch 76/100\n",
            "449/449 - 1s - loss: 7832655.5000 - accuracy: 0.7055 - val_loss: 8557479.0000 - val_accuracy: 0.7470\n",
            "Epoch 77/100\n",
            "449/449 - 2s - loss: 5803633.5000 - accuracy: 0.7106 - val_loss: 1999717.6250 - val_accuracy: 0.7879\n",
            "Epoch 78/100\n",
            "449/449 - 2s - loss: 6834125.5000 - accuracy: 0.7026 - val_loss: 772033.8750 - val_accuracy: 0.7690\n",
            "Epoch 79/100\n",
            "449/449 - 2s - loss: 5678126.5000 - accuracy: 0.7124 - val_loss: 2928944.0000 - val_accuracy: 0.5355\n",
            "Epoch 80/100\n",
            "449/449 - 2s - loss: 4210847.0000 - accuracy: 0.7214 - val_loss: 3142863.0000 - val_accuracy: 0.8040\n",
            "Epoch 81/100\n",
            "449/449 - 2s - loss: 5892817.0000 - accuracy: 0.7147 - val_loss: 19921112.0000 - val_accuracy: 0.7543\n",
            "Epoch 82/100\n",
            "449/449 - 1s - loss: 7115857.5000 - accuracy: 0.7040 - val_loss: 5347186.0000 - val_accuracy: 0.7833\n",
            "Epoch 83/100\n",
            "449/449 - 2s - loss: 8437005.0000 - accuracy: 0.6975 - val_loss: 17584208.0000 - val_accuracy: 0.7788\n",
            "Epoch 84/100\n",
            "449/449 - 2s - loss: 5602217.0000 - accuracy: 0.7038 - val_loss: 663596.3750 - val_accuracy: 0.7973\n",
            "Epoch 85/100\n",
            "449/449 - 2s - loss: 4702484.5000 - accuracy: 0.7167 - val_loss: 997394.9375 - val_accuracy: 0.7994\n",
            "Epoch 86/100\n",
            "449/449 - 2s - loss: 6504327.5000 - accuracy: 0.6988 - val_loss: 13084875.0000 - val_accuracy: 0.7377\n",
            "Epoch 87/100\n",
            "449/449 - 1s - loss: 5912305.0000 - accuracy: 0.6957 - val_loss: 6164123.0000 - val_accuracy: 0.7635\n",
            "Epoch 88/100\n",
            "449/449 - 2s - loss: 5238179.0000 - accuracy: 0.7053 - val_loss: 1831492.1250 - val_accuracy: 0.7154\n",
            "Epoch 89/100\n",
            "449/449 - 2s - loss: 6172673.0000 - accuracy: 0.7105 - val_loss: 14177389.0000 - val_accuracy: 0.7616\n",
            "Epoch 90/100\n",
            "449/449 - 2s - loss: 5882754.0000 - accuracy: 0.7106 - val_loss: 759591.8750 - val_accuracy: 0.7937\n",
            "Epoch 91/100\n",
            "449/449 - 2s - loss: 5218536.0000 - accuracy: 0.7040 - val_loss: 27483390.0000 - val_accuracy: 0.7413\n",
            "Epoch 92/100\n",
            "449/449 - 1s - loss: 6049291.5000 - accuracy: 0.6989 - val_loss: 1246796.0000 - val_accuracy: 0.7658\n",
            "Epoch 93/100\n",
            "449/449 - 1s - loss: 4823319.0000 - accuracy: 0.7161 - val_loss: 7874208.5000 - val_accuracy: 0.7791\n",
            "Epoch 94/100\n",
            "449/449 - 1s - loss: 6401849.0000 - accuracy: 0.6964 - val_loss: 2719704.0000 - val_accuracy: 0.7837\n",
            "Epoch 95/100\n",
            "449/449 - 2s - loss: 7520374.0000 - accuracy: 0.7007 - val_loss: 748711.6250 - val_accuracy: 0.8002\n",
            "Epoch 96/100\n",
            "449/449 - 2s - loss: 4820355.5000 - accuracy: 0.7117 - val_loss: 2785237.7500 - val_accuracy: 0.6830\n",
            "Epoch 97/100\n",
            "449/449 - 2s - loss: 5714818.0000 - accuracy: 0.7036 - val_loss: 29845008.0000 - val_accuracy: 0.7055\n",
            "Epoch 98/100\n",
            "449/449 - 2s - loss: 6562705.0000 - accuracy: 0.7100 - val_loss: 29553814.0000 - val_accuracy: 0.6073\n",
            "Epoch 99/100\n",
            "449/449 - 2s - loss: 5296549.0000 - accuracy: 0.7021 - val_loss: 3448969.7500 - val_accuracy: 0.7720\n",
            "Epoch 100/100\n",
            "449/449 - 1s - loss: 4864611.0000 - accuracy: 0.7119 - val_loss: 4190945.0000 - val_accuracy: 0.3507\n",
            "Train: 0.350, Test: 0.351\n"
          ]
        },
        {
          "output_type": "display_data",
          "data": {
            "image/png": "[encoded data removed]",
            "text/plain": [
              "<Figure size 432x288 with 2 Axes>"
            ]
          },
          "metadata": {
            "needs_background": "light"
          }
        }
      ]
    },
    {
      "cell_type": "markdown",
      "metadata": {
        "id": "OOCRvOi8Y1v5"
      },
      "source": [
        "##### Other model metrics for binary classification\n",
        "\n",
        "\n",
        "> Precision\n",
        "    \n",
        ">  Recall\n",
        "\n",
        "> F1 Score\n",
        "\n",
        "\n"
      ]
    },
    {
      "cell_type": "code",
      "metadata": {
        "colab": {
          "base_uri": "https://localhost:8080/"
        },
        "id": "UnKuLNISZLgH",
        "outputId": "aad8c173-0504-482c-e82f-edf5d1b9b666"
      },
      "source": [
        "# Calculating metrics for a neural network model using sklearn\n",
        "from sklearn.metrics import accuracy_score\n",
        "from sklearn.metrics import precision_score\n",
        "from sklearn.metrics import recall_score\n",
        "from sklearn.metrics import f1_score\n",
        "from sklearn.metrics import cohen_kappa_score\n",
        "from sklearn.metrics import roc_auc_score\n",
        "from sklearn.metrics import confusion_matrix\n",
        "\n",
        " \n",
        "# define and fit the model\n",
        "# create model(same as \"base_model\")\n",
        "model = Sequential()\n",
        "model.add(Dense(26, input_dim=26, activation='relu'))\n",
        "model.add(Dense(1, activation='sigmoid'))\n",
        "# Compile model\n",
        "model.compile(loss='binary_crossentropy', optimizer='adam', \n",
        "\t              metrics=['accuracy'])\n",
        "# fit model\n",
        "model.fit(train_new_X, encoded_train_new_Y, epochs=100, verbose=2)\n",
        "\n",
        "\n",
        "# predict probabilities for test set\n",
        "yhat_probs = model.predict(val_new_X, verbose=2)\n",
        "\n",
        "# predict crisp classes for test set\n",
        "yhat_classes= np.where(yhat_probs > 0.5, 1,0)\n",
        "#yhat_classes = model.predict_classes(val_new_X, verbose=2)\n",
        "\n",
        "\n",
        "# reduce to 1d array\n",
        "yhat_probs = yhat_probs[:, 0]\n",
        "yhat_classes = yhat_classes[:, 0]\n",
        " \n",
        "# accuracy: (tp + tn) / (p + n)\n",
        "accuracy = accuracy_score(encoded_val_new_Y, yhat_classes)\n",
        "print('Accuracy: %f' % accuracy)\n",
        "# precision tp / (tp + fp)\n",
        "precision = precision_score(encoded_val_new_Y, yhat_classes)\n",
        "print('Precision: %f' % precision)\n",
        "# recall: tp / (tp + fn)\n",
        "recall = recall_score(encoded_val_new_Y, yhat_classes)\n",
        "print('Recall: %f' % recall)\n",
        "# f1: 2 tp / (2 tp + fp + fn)\n",
        "f1 = f1_score(encoded_val_new_Y, yhat_classes)\n",
        "print('F1 score: %f' % f1)\n",
        " \n",
        "# kappa\n",
        "kappa = cohen_kappa_score(encoded_val_new_Y, yhat_classes)\n",
        "print('Cohens kappa: %f' % kappa)\n",
        "# ROC AUC\n",
        "auc = roc_auc_score(encoded_val_new_Y, yhat_probs)\n",
        "print('ROC AUC: %f' % auc)\n",
        "# confusion matrix\n",
        "matrix = confusion_matrix(encoded_val_new_Y, yhat_classes)\n",
        "print(matrix)"
      ],
      "execution_count": 202,
      "outputs": [
        {
          "output_type": "stream",
          "name": "stdout",
          "text": [
            "Epoch 1/100\n",
            "449/449 - 2s - loss: 145547104.0000 - accuracy: 0.6203\n",
            "Epoch 2/100\n",
            "449/449 - 1s - loss: 14097431.0000 - accuracy: 0.6665\n",
            "Epoch 3/100\n",
            "449/449 - 1s - loss: 9835221.0000 - accuracy: 0.6615\n",
            "Epoch 4/100\n",
            "449/449 - 1s - loss: 7221694.5000 - accuracy: 0.6562\n",
            "Epoch 5/100\n",
            "449/449 - 1s - loss: 9316782.0000 - accuracy: 0.6666\n",
            "Epoch 6/100\n",
            "449/449 - 1s - loss: 10326459.0000 - accuracy: 0.6840\n",
            "Epoch 7/100\n",
            "449/449 - 1s - loss: 8745934.0000 - accuracy: 0.6665\n",
            "Epoch 8/100\n",
            "449/449 - 1s - loss: 7615531.0000 - accuracy: 0.6938\n",
            "Epoch 9/100\n",
            "449/449 - 1s - loss: 9614409.0000 - accuracy: 0.6764\n",
            "Epoch 10/100\n",
            "449/449 - 1s - loss: 8558832.0000 - accuracy: 0.6843\n",
            "Epoch 11/100\n",
            "449/449 - 1s - loss: 8863995.0000 - accuracy: 0.6947\n",
            "Epoch 12/100\n",
            "449/449 - 1s - loss: 10281953.0000 - accuracy: 0.6891\n",
            "Epoch 13/100\n",
            "449/449 - 1s - loss: 11651978.0000 - accuracy: 0.7001\n",
            "Epoch 14/100\n",
            "449/449 - 1s - loss: 7021544.0000 - accuracy: 0.6838\n",
            "Epoch 15/100\n",
            "449/449 - 1s - loss: 8062975.0000 - accuracy: 0.7007\n",
            "Epoch 16/100\n",
            "449/449 - 1s - loss: 8837608.0000 - accuracy: 0.6904\n",
            "Epoch 17/100\n",
            "449/449 - 1s - loss: 7845663.5000 - accuracy: 0.6915\n",
            "Epoch 18/100\n",
            "449/449 - 1s - loss: 10621003.0000 - accuracy: 0.6948\n",
            "Epoch 19/100\n",
            "449/449 - 1s - loss: 11079115.0000 - accuracy: 0.6937\n",
            "Epoch 20/100\n",
            "449/449 - 1s - loss: 7394282.0000 - accuracy: 0.7006\n",
            "Epoch 21/100\n",
            "449/449 - 1s - loss: 9541797.0000 - accuracy: 0.6993\n",
            "Epoch 22/100\n",
            "449/449 - 1s - loss: 10038727.0000 - accuracy: 0.7061\n",
            "Epoch 23/100\n",
            "449/449 - 1s - loss: 8171203.5000 - accuracy: 0.7110\n",
            "Epoch 24/100\n",
            "449/449 - 1s - loss: 8328501.0000 - accuracy: 0.7072\n",
            "Epoch 25/100\n",
            "449/449 - 1s - loss: 9135397.0000 - accuracy: 0.7001\n",
            "Epoch 26/100\n",
            "449/449 - 1s - loss: 8298708.5000 - accuracy: 0.7146\n",
            "Epoch 27/100\n",
            "449/449 - 1s - loss: 11105899.0000 - accuracy: 0.7081\n",
            "Epoch 28/100\n",
            "449/449 - 1s - loss: 8633124.0000 - accuracy: 0.7252\n",
            "Epoch 29/100\n",
            "449/449 - 1s - loss: 10575528.0000 - accuracy: 0.7134\n",
            "Epoch 30/100\n",
            "449/449 - 1s - loss: 8683530.0000 - accuracy: 0.7182\n",
            "Epoch 31/100\n",
            "449/449 - 1s - loss: 7986092.0000 - accuracy: 0.7266\n",
            "Epoch 32/100\n",
            "449/449 - 1s - loss: 7288259.0000 - accuracy: 0.7019\n",
            "Epoch 33/100\n",
            "449/449 - 1s - loss: 10733030.0000 - accuracy: 0.7220\n",
            "Epoch 34/100\n",
            "449/449 - 1s - loss: 7581531.0000 - accuracy: 0.7262\n",
            "Epoch 35/100\n",
            "449/449 - 1s - loss: 7583654.0000 - accuracy: 0.7205\n",
            "Epoch 36/100\n",
            "449/449 - 1s - loss: 7982967.0000 - accuracy: 0.7191\n",
            "Epoch 37/100\n",
            "449/449 - 1s - loss: 6722437.5000 - accuracy: 0.7317\n",
            "Epoch 38/100\n",
            "449/449 - 1s - loss: 7827436.5000 - accuracy: 0.7218\n",
            "Epoch 39/100\n",
            "449/449 - 1s - loss: 7827520.0000 - accuracy: 0.7215\n",
            "Epoch 40/100\n",
            "449/449 - 1s - loss: 7461315.5000 - accuracy: 0.7250\n",
            "Epoch 41/100\n",
            "449/449 - 1s - loss: 9323939.0000 - accuracy: 0.7137\n",
            "Epoch 42/100\n",
            "449/449 - 1s - loss: 7779367.5000 - accuracy: 0.7338\n",
            "Epoch 43/100\n",
            "449/449 - 1s - loss: 9587018.0000 - accuracy: 0.7018\n",
            "Epoch 44/100\n",
            "449/449 - 1s - loss: 8436032.0000 - accuracy: 0.7294\n",
            "Epoch 45/100\n",
            "449/449 - 1s - loss: 7470686.0000 - accuracy: 0.7293\n",
            "Epoch 46/100\n",
            "449/449 - 1s - loss: 6794953.0000 - accuracy: 0.7225\n",
            "Epoch 47/100\n",
            "449/449 - 1s - loss: 8678801.0000 - accuracy: 0.7251\n",
            "Epoch 48/100\n",
            "449/449 - 1s - loss: 8113528.0000 - accuracy: 0.7180\n",
            "Epoch 49/100\n",
            "449/449 - 1s - loss: 8992894.0000 - accuracy: 0.7238\n",
            "Epoch 50/100\n",
            "449/449 - 1s - loss: 11475212.0000 - accuracy: 0.7174\n",
            "Epoch 51/100\n",
            "449/449 - 1s - loss: 8039468.0000 - accuracy: 0.7314\n",
            "Epoch 52/100\n",
            "449/449 - 1s - loss: 6382425.5000 - accuracy: 0.7179\n",
            "Epoch 53/100\n",
            "449/449 - 1s - loss: 8524611.0000 - accuracy: 0.7260\n",
            "Epoch 54/100\n",
            "449/449 - 1s - loss: 10084866.0000 - accuracy: 0.7156\n",
            "Epoch 55/100\n",
            "449/449 - 1s - loss: 7670291.5000 - accuracy: 0.7271\n",
            "Epoch 56/100\n",
            "449/449 - 1s - loss: 7542213.0000 - accuracy: 0.7345\n",
            "Epoch 57/100\n",
            "449/449 - 1s - loss: 6547140.5000 - accuracy: 0.7310\n",
            "Epoch 58/100\n",
            "449/449 - 1s - loss: 6891691.5000 - accuracy: 0.7276\n",
            "Epoch 59/100\n",
            "449/449 - 1s - loss: 10664627.0000 - accuracy: 0.7195\n",
            "Epoch 60/100\n",
            "449/449 - 1s - loss: 6929077.5000 - accuracy: 0.7270\n",
            "Epoch 61/100\n",
            "449/449 - 1s - loss: 8718436.0000 - accuracy: 0.7264\n",
            "Epoch 62/100\n",
            "449/449 - 1s - loss: 8607873.0000 - accuracy: 0.7326\n",
            "Epoch 63/100\n",
            "449/449 - 1s - loss: 7221158.0000 - accuracy: 0.7372\n",
            "Epoch 64/100\n",
            "449/449 - 1s - loss: 7743010.0000 - accuracy: 0.7276\n",
            "Epoch 65/100\n",
            "449/449 - 1s - loss: 7140294.5000 - accuracy: 0.7225\n",
            "Epoch 66/100\n",
            "449/449 - 1s - loss: 6283068.0000 - accuracy: 0.7346\n",
            "Epoch 67/100\n",
            "449/449 - 1s - loss: 6128789.0000 - accuracy: 0.7255\n",
            "Epoch 68/100\n",
            "449/449 - 1s - loss: 10133734.0000 - accuracy: 0.7211\n",
            "Epoch 69/100\n",
            "449/449 - 1s - loss: 8041119.5000 - accuracy: 0.7161\n",
            "Epoch 70/100\n",
            "449/449 - 1s - loss: 9216380.0000 - accuracy: 0.7174\n",
            "Epoch 71/100\n",
            "449/449 - 1s - loss: 6798919.0000 - accuracy: 0.7323\n",
            "Epoch 72/100\n",
            "449/449 - 1s - loss: 5317942.5000 - accuracy: 0.7333\n",
            "Epoch 73/100\n",
            "449/449 - 1s - loss: 7834916.0000 - accuracy: 0.7241\n",
            "Epoch 74/100\n",
            "449/449 - 1s - loss: 5458034.0000 - accuracy: 0.7334\n",
            "Epoch 75/100\n",
            "449/449 - 1s - loss: 5803611.0000 - accuracy: 0.7328\n",
            "Epoch 76/100\n",
            "449/449 - 1s - loss: 6453426.0000 - accuracy: 0.7364\n",
            "Epoch 77/100\n",
            "449/449 - 1s - loss: 7065773.0000 - accuracy: 0.7222\n",
            "Epoch 78/100\n",
            "449/449 - 1s - loss: 8670415.0000 - accuracy: 0.7259\n",
            "Epoch 79/100\n",
            "449/449 - 1s - loss: 9968167.0000 - accuracy: 0.7154\n",
            "Epoch 80/100\n",
            "449/449 - 1s - loss: 7660724.0000 - accuracy: 0.7246\n",
            "Epoch 81/100\n",
            "449/449 - 1s - loss: 8414843.0000 - accuracy: 0.7316\n",
            "Epoch 82/100\n",
            "449/449 - 1s - loss: 9376237.0000 - accuracy: 0.7221\n",
            "Epoch 83/100\n",
            "449/449 - 1s - loss: 7853037.5000 - accuracy: 0.7306\n",
            "Epoch 84/100\n",
            "449/449 - 1s - loss: 7502980.5000 - accuracy: 0.7280\n",
            "Epoch 85/100\n",
            "449/449 - 1s - loss: 10162680.0000 - accuracy: 0.7333\n",
            "Epoch 86/100\n",
            "449/449 - 1s - loss: 7986562.5000 - accuracy: 0.7274\n",
            "Epoch 87/100\n",
            "449/449 - 1s - loss: 5153495.5000 - accuracy: 0.7376\n",
            "Epoch 88/100\n",
            "449/449 - 1s - loss: 5674624.5000 - accuracy: 0.7255\n",
            "Epoch 89/100\n",
            "449/449 - 1s - loss: 6350821.0000 - accuracy: 0.7207\n",
            "Epoch 90/100\n",
            "449/449 - 1s - loss: 10759983.0000 - accuracy: 0.7184\n",
            "Epoch 91/100\n",
            "449/449 - 1s - loss: 6617008.0000 - accuracy: 0.7298\n",
            "Epoch 92/100\n",
            "449/449 - 1s - loss: 6081677.5000 - accuracy: 0.7258\n",
            "Epoch 93/100\n",
            "449/449 - 1s - loss: 7665707.0000 - accuracy: 0.7274\n",
            "Epoch 94/100\n",
            "449/449 - 1s - loss: 7649028.0000 - accuracy: 0.7268\n",
            "Epoch 95/100\n",
            "449/449 - 1s - loss: 6409595.0000 - accuracy: 0.7278\n",
            "Epoch 96/100\n",
            "449/449 - 1s - loss: 6974999.5000 - accuracy: 0.7234\n",
            "Epoch 97/100\n",
            "449/449 - 1s - loss: 7063233.5000 - accuracy: 0.7264\n",
            "Epoch 98/100\n",
            "449/449 - 1s - loss: 7365709.0000 - accuracy: 0.7263\n",
            "Epoch 99/100\n",
            "449/449 - 1s - loss: 6210367.0000 - accuracy: 0.7241\n",
            "Epoch 100/100\n",
            "449/449 - 1s - loss: 7120852.5000 - accuracy: 0.7280\n",
            "193/193 - 0s\n",
            "Accuracy: 0.763521\n",
            "Precision: 0.744378\n",
            "Recall: 0.977362\n",
            "F1 score: 0.845106\n",
            "Cohens kappa: 0.381957\n",
            "ROC AUC: 0.670231\n",
            "[[ 729 1364]\n",
            " [  92 3972]]\n"
          ]
        }
      ]
    },
    {
      "cell_type": "markdown",
      "metadata": {
        "id": "tHdd6OF5LGGB"
      },
      "source": [
        "### Keras Classification Metrics for \"smaller model\""
      ]
    },
    {
      "cell_type": "code",
      "metadata": {
        "colab": {
          "base_uri": "https://localhost:8080/",
          "height": 1000
        },
        "id": "9n1WGlLqLSkH",
        "outputId": "453e2881-c570-469d-d5c5-aad90406f0f1"
      },
      "source": [
        "# train model\n",
        "history = smaller_model.fit(train_new_X, encoded_train_new_Y, epochs=100, batch_size=20, verbose=2)\n",
        "\n",
        "# plot metrics\n",
        "plt.plot(history.history['accuracy'])\n",
        "plt.show()"
      ],
      "execution_count": 205,
      "outputs": [
        {
          "output_type": "stream",
          "name": "stdout",
          "text": [
            "Epoch 1/100\n",
            "719/719 - 2s - loss: 51974704.0000 - accuracy: 0.6203\n",
            "Epoch 2/100\n",
            "719/719 - 2s - loss: 6623778.5000 - accuracy: 0.6299\n",
            "Epoch 3/100\n",
            "719/719 - 2s - loss: 6220869.0000 - accuracy: 0.6327\n",
            "Epoch 4/100\n",
            "719/719 - 2s - loss: 7450174.5000 - accuracy: 0.6194\n",
            "Epoch 5/100\n",
            "719/719 - 2s - loss: 8721312.0000 - accuracy: 0.6197\n",
            "Epoch 6/100\n",
            "719/719 - 2s - loss: 6502764.5000 - accuracy: 0.6207\n",
            "Epoch 7/100\n",
            "719/719 - 2s - loss: 8493941.0000 - accuracy: 0.6192\n",
            "Epoch 8/100\n",
            "719/719 - 2s - loss: 9102112.0000 - accuracy: 0.6254\n",
            "Epoch 9/100\n",
            "719/719 - 2s - loss: 6954816.0000 - accuracy: 0.6261\n",
            "Epoch 10/100\n",
            "719/719 - 2s - loss: 6014583.5000 - accuracy: 0.6331\n",
            "Epoch 11/100\n",
            "719/719 - 2s - loss: 7101293.5000 - accuracy: 0.6307\n",
            "Epoch 12/100\n",
            "719/719 - 2s - loss: 5863632.0000 - accuracy: 0.6357\n",
            "Epoch 13/100\n",
            "719/719 - 2s - loss: 7201904.0000 - accuracy: 0.6278\n",
            "Epoch 14/100\n",
            "719/719 - 2s - loss: 7533817.5000 - accuracy: 0.6259\n",
            "Epoch 15/100\n",
            "719/719 - 2s - loss: 6307841.5000 - accuracy: 0.6321\n",
            "Epoch 16/100\n",
            "719/719 - 2s - loss: 4557046.5000 - accuracy: 0.6337\n",
            "Epoch 17/100\n",
            "719/719 - 2s - loss: 4900348.0000 - accuracy: 0.6352\n",
            "Epoch 18/100\n",
            "719/719 - 2s - loss: 6053676.0000 - accuracy: 0.6318\n",
            "Epoch 19/100\n",
            "719/719 - 2s - loss: 7726514.0000 - accuracy: 0.6275\n",
            "Epoch 20/100\n",
            "719/719 - 2s - loss: 5132111.0000 - accuracy: 0.6349\n",
            "Epoch 21/100\n",
            "719/719 - 2s - loss: 6361655.5000 - accuracy: 0.6304\n",
            "Epoch 22/100\n",
            "719/719 - 2s - loss: 8471619.0000 - accuracy: 0.6210\n",
            "Epoch 23/100\n",
            "719/719 - 2s - loss: 6095533.5000 - accuracy: 0.6261\n",
            "Epoch 24/100\n",
            "719/719 - 2s - loss: 5630331.0000 - accuracy: 0.6318\n",
            "Epoch 25/100\n",
            "719/719 - 2s - loss: 6410703.5000 - accuracy: 0.6284\n",
            "Epoch 26/100\n",
            "719/719 - 2s - loss: 7007114.0000 - accuracy: 0.6247\n",
            "Epoch 27/100\n",
            "719/719 - 2s - loss: 5598770.0000 - accuracy: 0.6294\n",
            "Epoch 28/100\n",
            "719/719 - 2s - loss: 6076828.5000 - accuracy: 0.6300\n",
            "Epoch 29/100\n",
            "719/719 - 2s - loss: 5049892.0000 - accuracy: 0.6339\n",
            "Epoch 30/100\n",
            "719/719 - 2s - loss: 4161687.5000 - accuracy: 0.6391\n",
            "Epoch 31/100\n",
            "719/719 - 2s - loss: 5845205.5000 - accuracy: 0.6322\n",
            "Epoch 32/100\n",
            "719/719 - 2s - loss: 4591365.0000 - accuracy: 0.6417\n",
            "Epoch 33/100\n",
            "719/719 - 2s - loss: 5428146.5000 - accuracy: 0.6371\n",
            "Epoch 34/100\n",
            "719/719 - 2s - loss: 4521993.5000 - accuracy: 0.6391\n",
            "Epoch 35/100\n",
            "719/719 - 2s - loss: 4616659.5000 - accuracy: 0.6402\n",
            "Epoch 36/100\n",
            "719/719 - 2s - loss: 5362892.5000 - accuracy: 0.6282\n",
            "Epoch 37/100\n",
            "719/719 - 2s - loss: 5654055.0000 - accuracy: 0.6318\n",
            "Epoch 38/100\n",
            "719/719 - 2s - loss: 6076134.5000 - accuracy: 0.6322\n",
            "Epoch 39/100\n",
            "719/719 - 2s - loss: 5122878.5000 - accuracy: 0.6273\n",
            "Epoch 40/100\n",
            "719/719 - 2s - loss: 5925506.0000 - accuracy: 0.6356\n",
            "Epoch 41/100\n",
            "719/719 - 2s - loss: 5450455.5000 - accuracy: 0.6384\n",
            "Epoch 42/100\n",
            "719/719 - 2s - loss: 4377519.0000 - accuracy: 0.6403\n",
            "Epoch 43/100\n",
            "719/719 - 2s - loss: 4333297.0000 - accuracy: 0.6373\n",
            "Epoch 44/100\n",
            "719/719 - 2s - loss: 4262922.0000 - accuracy: 0.6323\n",
            "Epoch 45/100\n",
            "719/719 - 2s - loss: 3517606.0000 - accuracy: 0.6374\n",
            "Epoch 46/100\n",
            "719/719 - 2s - loss: 3849497.5000 - accuracy: 0.6307\n",
            "Epoch 47/100\n",
            "719/719 - 2s - loss: 4752280.5000 - accuracy: 0.6277\n",
            "Epoch 48/100\n",
            "719/719 - 2s - loss: 4266330.5000 - accuracy: 0.6273\n",
            "Epoch 49/100\n",
            "719/719 - 2s - loss: 3696221.7500 - accuracy: 0.6346\n",
            "Epoch 50/100\n",
            "719/719 - 2s - loss: 3784059.0000 - accuracy: 0.6288\n",
            "Epoch 51/100\n",
            "719/719 - 2s - loss: 3719358.0000 - accuracy: 0.6275\n",
            "Epoch 52/100\n",
            "719/719 - 2s - loss: 4033299.7500 - accuracy: 0.6286\n",
            "Epoch 53/100\n",
            "719/719 - 2s - loss: 3395824.7500 - accuracy: 0.6263\n",
            "Epoch 54/100\n",
            "719/719 - 2s - loss: 3715629.0000 - accuracy: 0.6299\n",
            "Epoch 55/100\n",
            "719/719 - 2s - loss: 3537079.5000 - accuracy: 0.6317\n",
            "Epoch 56/100\n",
            "719/719 - 2s - loss: 4109294.7500 - accuracy: 0.6256\n",
            "Epoch 57/100\n",
            "719/719 - 2s - loss: 3592753.7500 - accuracy: 0.6272\n",
            "Epoch 58/100\n",
            "719/719 - 2s - loss: 3058467.2500 - accuracy: 0.6369\n",
            "Epoch 59/100\n",
            "719/719 - 2s - loss: 3297717.7500 - accuracy: 0.6302\n",
            "Epoch 60/100\n",
            "719/719 - 2s - loss: 3450589.2500 - accuracy: 0.6346\n",
            "Epoch 61/100\n",
            "719/719 - 2s - loss: 3544339.5000 - accuracy: 0.6323\n",
            "Epoch 62/100\n",
            "719/719 - 2s - loss: 3316348.7500 - accuracy: 0.6373\n",
            "Epoch 63/100\n",
            "719/719 - 2s - loss: 2604485.2500 - accuracy: 0.6385\n",
            "Epoch 64/100\n",
            "719/719 - 2s - loss: 4021455.2500 - accuracy: 0.6433\n",
            "Epoch 65/100\n",
            "719/719 - 2s - loss: 3394670.7500 - accuracy: 0.6528\n",
            "Epoch 66/100\n",
            "719/719 - 2s - loss: 2672193.5000 - accuracy: 0.6659\n",
            "Epoch 67/100\n",
            "719/719 - 2s - loss: 2761728.5000 - accuracy: 0.6672\n",
            "Epoch 68/100\n",
            "719/719 - 2s - loss: 2624071.0000 - accuracy: 0.6687\n",
            "Epoch 69/100\n",
            "719/719 - 2s - loss: 2933242.7500 - accuracy: 0.6657\n",
            "Epoch 70/100\n",
            "719/719 - 2s - loss: 2768881.5000 - accuracy: 0.6667\n",
            "Epoch 71/100\n",
            "719/719 - 2s - loss: 3104320.7500 - accuracy: 0.6653\n",
            "Epoch 72/100\n",
            "719/719 - 2s - loss: 2771457.2500 - accuracy: 0.6671\n",
            "Epoch 73/100\n",
            "719/719 - 2s - loss: 2317666.2500 - accuracy: 0.6728\n",
            "Epoch 74/100\n",
            "719/719 - 2s - loss: 3134788.5000 - accuracy: 0.6606\n",
            "Epoch 75/100\n",
            "719/719 - 2s - loss: 2375676.2500 - accuracy: 0.6756\n",
            "Epoch 76/100\n",
            "719/719 - 2s - loss: 2260180.2500 - accuracy: 0.6690\n",
            "Epoch 77/100\n",
            "719/719 - 2s - loss: 2867387.2500 - accuracy: 0.6712\n",
            "Epoch 78/100\n",
            "719/719 - 2s - loss: 2421395.7500 - accuracy: 0.6799\n",
            "Epoch 79/100\n",
            "719/719 - 2s - loss: 2407136.2500 - accuracy: 0.6863\n",
            "Epoch 80/100\n",
            "719/719 - 2s - loss: 3518968.0000 - accuracy: 0.6747\n",
            "Epoch 81/100\n",
            "719/719 - 2s - loss: 2253412.7500 - accuracy: 0.6859\n",
            "Epoch 82/100\n",
            "719/719 - 2s - loss: 2498694.5000 - accuracy: 0.6772\n",
            "Epoch 83/100\n",
            "719/719 - 2s - loss: 2034361.1250 - accuracy: 0.6921\n",
            "Epoch 84/100\n",
            "719/719 - 2s - loss: 2313191.7500 - accuracy: 0.6817\n",
            "Epoch 85/100\n",
            "719/719 - 2s - loss: 2028360.1250 - accuracy: 0.6941\n",
            "Epoch 86/100\n",
            "719/719 - 2s - loss: 2289175.2500 - accuracy: 0.7078\n",
            "Epoch 87/100\n",
            "719/719 - 2s - loss: 2237603.5000 - accuracy: 0.7024\n",
            "Epoch 88/100\n",
            "719/719 - 2s - loss: 2530430.7500 - accuracy: 0.7105\n",
            "Epoch 89/100\n",
            "719/719 - 2s - loss: 2563006.5000 - accuracy: 0.7069\n",
            "Epoch 90/100\n",
            "719/719 - 2s - loss: 1810555.3750 - accuracy: 0.7106\n",
            "Epoch 91/100\n",
            "719/719 - 2s - loss: 1536253.7500 - accuracy: 0.7093\n",
            "Epoch 92/100\n",
            "719/719 - 2s - loss: 2488093.5000 - accuracy: 0.6991\n",
            "Epoch 93/100\n",
            "719/719 - 2s - loss: 1499009.1250 - accuracy: 0.7202\n",
            "Epoch 94/100\n",
            "719/719 - 2s - loss: 3051953.5000 - accuracy: 0.7058\n",
            "Epoch 95/100\n",
            "719/719 - 2s - loss: 2306858.2500 - accuracy: 0.7046\n",
            "Epoch 96/100\n",
            "719/719 - 2s - loss: 2134396.7500 - accuracy: 0.7060\n",
            "Epoch 97/100\n",
            "719/719 - 2s - loss: 1890574.0000 - accuracy: 0.7173\n",
            "Epoch 98/100\n",
            "719/719 - 2s - loss: 1648777.2500 - accuracy: 0.7246\n",
            "Epoch 99/100\n",
            "719/719 - 2s - loss: 1817447.3750 - accuracy: 0.7134\n",
            "Epoch 100/100\n",
            "719/719 - 2s - loss: 1965948.1250 - accuracy: 0.7215\n"
          ]
        },
        {
          "output_type": "display_data",
          "data": {
            "image/png": "[encoded data removed]",
            "text/plain": [
              "<Figure size 432x288 with 1 Axes>"
            ]
          },
          "metadata": {
            "needs_background": "light"
          }
        }
      ]
    },
    {
      "cell_type": "code",
      "metadata": {
        "colab": {
          "base_uri": "https://localhost:8080/",
          "height": 1000
        },
        "id": "rr_dPtHiLSkL",
        "outputId": "778396e6-b58c-44f3-d5a9-0cb541d3608e"
      },
      "source": [
        "# fit model\n",
        "history = smaller_model.fit(train_new_X, encoded_train_new_Y, validation_data=(val_new_X, encoded_val_new_Y), epochs=100, verbose=2)\n",
        "\n",
        "# evaluate the model\n",
        "_, train_acc = smaller_model.evaluate(train_new_X, encoded_train_new_Y, verbose=0)\n",
        "_, test_acc = smaller_model.evaluate(val_new_X, encoded_val_new_Y, verbose=0)\n",
        "print('Train: %.3f, Test: %.3f' % (train_acc, test_acc))\n",
        "\n",
        "# plot loss during training\n",
        "plt.subplot(211)\n",
        "plt.title('Loss')\n",
        "plt.plot(history.history['loss'], label='train')\n",
        "plt.plot(history.history['val_loss'], label='validation')\n",
        "plt.legend()\n",
        "# plot accuracy during training\n",
        "plt.subplot(212)\n",
        "plt.title('Accuracy')\n",
        "plt.plot(history.history['accuracy'], label='train')\n",
        "plt.plot(history.history['val_accuracy'], label='validation')\n",
        "plt.legend()\n",
        "plt.show()"
      ],
      "execution_count": 206,
      "outputs": [
        {
          "output_type": "stream",
          "name": "stdout",
          "text": [
            "Epoch 1/100\n",
            "449/449 - 2s - loss: 1577204.7500 - accuracy: 0.7273 - val_loss: 9102.5684 - val_accuracy: 0.7582\n",
            "Epoch 2/100\n",
            "449/449 - 2s - loss: 1303348.6250 - accuracy: 0.7283 - val_loss: 2014047.6250 - val_accuracy: 0.7479\n",
            "Epoch 3/100\n",
            "449/449 - 2s - loss: 1532724.6250 - accuracy: 0.7285 - val_loss: 1956875.7500 - val_accuracy: 0.7799\n",
            "Epoch 4/100\n",
            "449/449 - 1s - loss: 1463853.8750 - accuracy: 0.7405 - val_loss: 324313.9062 - val_accuracy: 0.7738\n",
            "Epoch 5/100\n",
            "449/449 - 1s - loss: 1360431.0000 - accuracy: 0.7256 - val_loss: 1051204.1250 - val_accuracy: 0.6290\n",
            "Epoch 6/100\n",
            "449/449 - 2s - loss: 2077847.8750 - accuracy: 0.7193 - val_loss: 1343819.0000 - val_accuracy: 0.7494\n",
            "Epoch 7/100\n",
            "449/449 - 2s - loss: 1248202.1250 - accuracy: 0.7268 - val_loss: 467846.5938 - val_accuracy: 0.6750\n",
            "Epoch 8/100\n",
            "449/449 - 2s - loss: 1128975.3750 - accuracy: 0.7148 - val_loss: 172993.3125 - val_accuracy: 0.7731\n",
            "Epoch 9/100\n",
            "449/449 - 1s - loss: 942175.5625 - accuracy: 0.7231 - val_loss: 653917.6875 - val_accuracy: 0.7690\n",
            "Epoch 10/100\n",
            "449/449 - 2s - loss: 1296553.7500 - accuracy: 0.7146 - val_loss: 806500.3125 - val_accuracy: 0.7403\n",
            "Epoch 11/100\n",
            "449/449 - 2s - loss: 1222465.0000 - accuracy: 0.7047 - val_loss: 469773.0938 - val_accuracy: 0.7595\n",
            "Epoch 12/100\n",
            "449/449 - 2s - loss: 1203614.2500 - accuracy: 0.7071 - val_loss: 602652.2500 - val_accuracy: 0.7528\n",
            "Epoch 13/100\n",
            "449/449 - 1s - loss: 1700745.0000 - accuracy: 0.6962 - val_loss: 970187.9375 - val_accuracy: 0.6562\n",
            "Epoch 14/100\n",
            "449/449 - 2s - loss: 1254387.5000 - accuracy: 0.6863 - val_loss: 2054972.3750 - val_accuracy: 0.6966\n",
            "Epoch 15/100\n",
            "449/449 - 2s - loss: 1436576.7500 - accuracy: 0.6914 - val_loss: 3828063.0000 - val_accuracy: 0.7224\n",
            "Epoch 16/100\n",
            "449/449 - 2s - loss: 1356972.6250 - accuracy: 0.6789 - val_loss: 1166385.7500 - val_accuracy: 0.7299\n",
            "Epoch 17/100\n",
            "449/449 - 2s - loss: 1100730.1250 - accuracy: 0.6753 - val_loss: 270664.2188 - val_accuracy: 0.6705\n",
            "Epoch 18/100\n",
            "449/449 - 2s - loss: 1297130.8750 - accuracy: 0.6804 - val_loss: 301086.5312 - val_accuracy: 0.7312\n",
            "Epoch 19/100\n",
            "449/449 - 2s - loss: 1424500.8750 - accuracy: 0.6953 - val_loss: 3597173.7500 - val_accuracy: 0.7474\n",
            "Epoch 20/100\n",
            "449/449 - 1s - loss: 1176148.1250 - accuracy: 0.6987 - val_loss: 1841151.8750 - val_accuracy: 0.7184\n",
            "Epoch 21/100\n",
            "449/449 - 2s - loss: 1037843.0625 - accuracy: 0.7001 - val_loss: 1722889.7500 - val_accuracy: 0.7518\n",
            "Epoch 22/100\n",
            "449/449 - 2s - loss: 879159.0000 - accuracy: 0.7065 - val_loss: 2140050.2500 - val_accuracy: 0.7533\n",
            "Epoch 23/100\n",
            "449/449 - 2s - loss: 1102094.6250 - accuracy: 0.7001 - val_loss: 576163.7500 - val_accuracy: 0.6118\n",
            "Epoch 24/100\n",
            "449/449 - 2s - loss: 1362334.1250 - accuracy: 0.7021 - val_loss: 960162.7500 - val_accuracy: 0.7055\n",
            "Epoch 25/100\n",
            "449/449 - 1s - loss: 1410371.7500 - accuracy: 0.7030 - val_loss: 1244310.1250 - val_accuracy: 0.7411\n",
            "Epoch 26/100\n",
            "449/449 - 2s - loss: 1323196.6250 - accuracy: 0.7043 - val_loss: 2202391.2500 - val_accuracy: 0.7112\n",
            "Epoch 27/100\n",
            "449/449 - 1s - loss: 1427781.5000 - accuracy: 0.7051 - val_loss: 642862.0000 - val_accuracy: 0.6498\n",
            "Epoch 28/100\n",
            "449/449 - 2s - loss: 1578911.2500 - accuracy: 0.6952 - val_loss: 1288298.2500 - val_accuracy: 0.4911\n",
            "Epoch 29/100\n",
            "449/449 - 2s - loss: 1156950.7500 - accuracy: 0.7083 - val_loss: 279395.5312 - val_accuracy: 0.7483\n",
            "Epoch 30/100\n",
            "449/449 - 2s - loss: 1100585.6250 - accuracy: 0.7047 - val_loss: 257575.2969 - val_accuracy: 0.7184\n",
            "Epoch 31/100\n",
            "449/449 - 1s - loss: 940407.0000 - accuracy: 0.7075 - val_loss: 488382.9688 - val_accuracy: 0.6768\n",
            "Epoch 32/100\n",
            "449/449 - 2s - loss: 1033729.8750 - accuracy: 0.7139 - val_loss: 1910947.5000 - val_accuracy: 0.7578\n",
            "Epoch 33/100\n",
            "449/449 - 2s - loss: 1181610.0000 - accuracy: 0.7081 - val_loss: 370800.9375 - val_accuracy: 0.7114\n",
            "Epoch 34/100\n",
            "449/449 - 1s - loss: 974265.3750 - accuracy: 0.7106 - val_loss: 690527.9375 - val_accuracy: 0.7075\n",
            "Epoch 35/100\n",
            "449/449 - 2s - loss: 1082366.2500 - accuracy: 0.7031 - val_loss: 131954.9531 - val_accuracy: 0.7231\n",
            "Epoch 36/100\n",
            "449/449 - 2s - loss: 952998.1250 - accuracy: 0.7062 - val_loss: 11247.3086 - val_accuracy: 0.7344\n",
            "Epoch 37/100\n",
            "449/449 - 1s - loss: 1043351.1250 - accuracy: 0.7097 - val_loss: 673097.5625 - val_accuracy: 0.7356\n",
            "Epoch 38/100\n",
            "449/449 - 1s - loss: 962591.0625 - accuracy: 0.7111 - val_loss: 51254.3750 - val_accuracy: 0.5485\n",
            "Epoch 39/100\n",
            "449/449 - 2s - loss: 935161.5000 - accuracy: 0.7081 - val_loss: 430605.5000 - val_accuracy: 0.7567\n",
            "Epoch 40/100\n",
            "449/449 - 2s - loss: 1140181.0000 - accuracy: 0.7062 - val_loss: 1083033.8750 - val_accuracy: 0.7143\n",
            "Epoch 41/100\n",
            "449/449 - 1s - loss: 975302.3750 - accuracy: 0.7081 - val_loss: 1672983.6250 - val_accuracy: 0.7078\n",
            "Epoch 42/100\n",
            "449/449 - 1s - loss: 845836.1250 - accuracy: 0.7064 - val_loss: 739829.3750 - val_accuracy: 0.7513\n",
            "Epoch 43/100\n",
            "449/449 - 1s - loss: 731232.7500 - accuracy: 0.7143 - val_loss: 51729.6953 - val_accuracy: 0.7431\n",
            "Epoch 44/100\n",
            "449/449 - 2s - loss: 741001.3750 - accuracy: 0.7081 - val_loss: 891774.6875 - val_accuracy: 0.6354\n",
            "Epoch 45/100\n",
            "449/449 - 1s - loss: 869784.1250 - accuracy: 0.7044 - val_loss: 1812516.1250 - val_accuracy: 0.7400\n",
            "Epoch 46/100\n",
            "449/449 - 1s - loss: 952612.2500 - accuracy: 0.7117 - val_loss: 746150.6250 - val_accuracy: 0.7663\n",
            "Epoch 47/100\n",
            "449/449 - 1s - loss: 771096.4375 - accuracy: 0.7027 - val_loss: 179330.9375 - val_accuracy: 0.7648\n",
            "Epoch 48/100\n",
            "449/449 - 1s - loss: 653586.5625 - accuracy: 0.7064 - val_loss: 736861.3750 - val_accuracy: 0.7385\n",
            "Epoch 49/100\n",
            "449/449 - 2s - loss: 848154.6250 - accuracy: 0.7122 - val_loss: 1978125.3750 - val_accuracy: 0.5168\n",
            "Epoch 50/100\n",
            "449/449 - 2s - loss: 712778.8125 - accuracy: 0.7141 - val_loss: 612297.4375 - val_accuracy: 0.7634\n",
            "Epoch 51/100\n",
            "449/449 - 2s - loss: 831699.9375 - accuracy: 0.7137 - val_loss: 1464126.2500 - val_accuracy: 0.7606\n",
            "Epoch 52/100\n",
            "449/449 - 2s - loss: 1029500.0000 - accuracy: 0.7069 - val_loss: 1738040.8750 - val_accuracy: 0.7059\n",
            "Epoch 53/100\n",
            "449/449 - 2s - loss: 832383.8125 - accuracy: 0.7042 - val_loss: 1289891.3750 - val_accuracy: 0.7731\n",
            "Epoch 54/100\n",
            "449/449 - 2s - loss: 703814.1250 - accuracy: 0.7080 - val_loss: 86315.3750 - val_accuracy: 0.7307\n",
            "Epoch 55/100\n",
            "449/449 - 1s - loss: 873346.5625 - accuracy: 0.7093 - val_loss: 175656.2344 - val_accuracy: 0.7466\n",
            "Epoch 56/100\n",
            "449/449 - 1s - loss: 967550.7500 - accuracy: 0.6953 - val_loss: 932311.4375 - val_accuracy: 0.5782\n",
            "Epoch 57/100\n",
            "449/449 - 2s - loss: 937147.8750 - accuracy: 0.6539 - val_loss: 418868.5000 - val_accuracy: 0.6862\n",
            "Epoch 58/100\n",
            "449/449 - 2s - loss: 828525.7500 - accuracy: 0.6508 - val_loss: 80417.6094 - val_accuracy: 0.6515\n",
            "Epoch 59/100\n",
            "449/449 - 1s - loss: 955763.3125 - accuracy: 0.6508 - val_loss: 1281749.0000 - val_accuracy: 0.7184\n",
            "Epoch 60/100\n",
            "449/449 - 1s - loss: 541379.1875 - accuracy: 0.6566 - val_loss: 1404042.7500 - val_accuracy: 0.6495\n",
            "Epoch 61/100\n",
            "449/449 - 2s - loss: 689341.1875 - accuracy: 0.6497 - val_loss: 1389780.7500 - val_accuracy: 0.6601\n",
            "Epoch 62/100\n",
            "449/449 - 2s - loss: 599828.8750 - accuracy: 0.6520 - val_loss: 87307.0078 - val_accuracy: 0.3945\n",
            "Epoch 63/100\n",
            "449/449 - 2s - loss: 832228.5625 - accuracy: 0.6488 - val_loss: 855557.1250 - val_accuracy: 0.7042\n",
            "Epoch 64/100\n",
            "449/449 - 1s - loss: 532157.8125 - accuracy: 0.6533 - val_loss: 508290.8750 - val_accuracy: 0.6737\n",
            "Epoch 65/100\n",
            "449/449 - 1s - loss: 668574.5625 - accuracy: 0.6473 - val_loss: 680310.3125 - val_accuracy: 0.7023\n",
            "Epoch 66/100\n",
            "449/449 - 1s - loss: 720885.9375 - accuracy: 0.6511 - val_loss: 449723.9062 - val_accuracy: 0.5027\n",
            "Epoch 67/100\n",
            "449/449 - 1s - loss: 554742.3125 - accuracy: 0.6569 - val_loss: 394060.3125 - val_accuracy: 0.6076\n",
            "Epoch 68/100\n",
            "449/449 - 2s - loss: 466760.1562 - accuracy: 0.6543 - val_loss: 282251.6250 - val_accuracy: 0.6618\n",
            "Epoch 69/100\n",
            "449/449 - 2s - loss: 411488.2500 - accuracy: 0.6518 - val_loss: 156951.0625 - val_accuracy: 0.7015\n",
            "Epoch 70/100\n",
            "449/449 - 2s - loss: 574623.5000 - accuracy: 0.6478 - val_loss: 267169.1250 - val_accuracy: 0.6800\n",
            "Epoch 71/100\n",
            "449/449 - 2s - loss: 627889.2500 - accuracy: 0.6452 - val_loss: 1297710.0000 - val_accuracy: 0.6982\n",
            "Epoch 72/100\n",
            "449/449 - 2s - loss: 461877.0312 - accuracy: 0.6584 - val_loss: 205513.7188 - val_accuracy: 0.6588\n",
            "Epoch 73/100\n",
            "449/449 - 2s - loss: 540655.8750 - accuracy: 0.6483 - val_loss: 1426845.1250 - val_accuracy: 0.6601\n",
            "Epoch 74/100\n",
            "449/449 - 2s - loss: 448338.7500 - accuracy: 0.6536 - val_loss: 970576.6875 - val_accuracy: 0.7044\n",
            "Epoch 75/100\n",
            "449/449 - 2s - loss: 493664.0000 - accuracy: 0.6535 - val_loss: 1369374.3750 - val_accuracy: 0.7089\n",
            "Epoch 76/100\n",
            "449/449 - 1s - loss: 625126.1250 - accuracy: 0.6483 - val_loss: 53495.5234 - val_accuracy: 0.6786\n",
            "Epoch 77/100\n",
            "449/449 - 2s - loss: 444527.1250 - accuracy: 0.6537 - val_loss: 158685.0312 - val_accuracy: 0.6731\n",
            "Epoch 78/100\n",
            "449/449 - 2s - loss: 500571.2500 - accuracy: 0.6477 - val_loss: 701465.3750 - val_accuracy: 0.4968\n",
            "Epoch 79/100\n",
            "449/449 - 2s - loss: 370895.6250 - accuracy: 0.6597 - val_loss: 534706.3125 - val_accuracy: 0.6648\n",
            "Epoch 80/100\n",
            "449/449 - 2s - loss: 445066.0938 - accuracy: 0.6472 - val_loss: 621628.7500 - val_accuracy: 0.6235\n",
            "Epoch 81/100\n",
            "449/449 - 1s - loss: 321493.8750 - accuracy: 0.6603 - val_loss: 11977.3516 - val_accuracy: 0.6880\n",
            "Epoch 82/100\n",
            "449/449 - 1s - loss: 441850.2188 - accuracy: 0.6463 - val_loss: 1041596.5000 - val_accuracy: 0.5597\n",
            "Epoch 83/100\n",
            "449/449 - 1s - loss: 472491.6875 - accuracy: 0.6528 - val_loss: 311410.6875 - val_accuracy: 0.5170\n",
            "Epoch 84/100\n",
            "449/449 - 1s - loss: 354598.5938 - accuracy: 0.6520 - val_loss: 141235.3438 - val_accuracy: 0.6649\n",
            "Epoch 85/100\n",
            "449/449 - 1s - loss: 325846.3750 - accuracy: 0.6566 - val_loss: 45418.8203 - val_accuracy: 0.5628\n",
            "Epoch 86/100\n",
            "449/449 - 1s - loss: 333430.9375 - accuracy: 0.6580 - val_loss: 461621.5625 - val_accuracy: 0.6599\n",
            "Epoch 87/100\n",
            "449/449 - 1s - loss: 286506.4062 - accuracy: 0.6554 - val_loss: 187177.0938 - val_accuracy: 0.6771\n",
            "Epoch 88/100\n",
            "449/449 - 2s - loss: 362638.3750 - accuracy: 0.6541 - val_loss: 651325.5625 - val_accuracy: 0.6601\n",
            "Epoch 89/100\n",
            "449/449 - 1s - loss: 370681.1875 - accuracy: 0.6467 - val_loss: 337516.7188 - val_accuracy: 0.6601\n",
            "Epoch 90/100\n",
            "449/449 - 1s - loss: 232284.2031 - accuracy: 0.6554 - val_loss: 15984.4648 - val_accuracy: 0.7046\n",
            "Epoch 91/100\n",
            "449/449 - 1s - loss: 295923.5625 - accuracy: 0.6561 - val_loss: 152796.4844 - val_accuracy: 0.6653\n",
            "Epoch 92/100\n",
            "449/449 - 1s - loss: 245883.5625 - accuracy: 0.6539 - val_loss: 911704.4375 - val_accuracy: 0.6752\n",
            "Epoch 93/100\n",
            "449/449 - 2s - loss: 333093.0625 - accuracy: 0.6499 - val_loss: 26756.0352 - val_accuracy: 0.6557\n",
            "Epoch 94/100\n",
            "449/449 - 1s - loss: 247423.7031 - accuracy: 0.6526 - val_loss: 173462.0000 - val_accuracy: 0.6601\n",
            "Epoch 95/100\n",
            "449/449 - 2s - loss: 237986.0312 - accuracy: 0.6574 - val_loss: 289658.6250 - val_accuracy: 0.7156\n",
            "Epoch 96/100\n",
            "449/449 - 2s - loss: 178855.7812 - accuracy: 0.6603 - val_loss: 20494.9570 - val_accuracy: 0.6045\n",
            "Epoch 97/100\n",
            "449/449 - 1s - loss: 171564.8750 - accuracy: 0.6570 - val_loss: 37707.8047 - val_accuracy: 0.6605\n",
            "Epoch 98/100\n",
            "449/449 - 2s - loss: 167173.3750 - accuracy: 0.6543 - val_loss: 110912.1172 - val_accuracy: 0.7124\n",
            "Epoch 99/100\n",
            "449/449 - 1s - loss: 127378.7109 - accuracy: 0.6593 - val_loss: 32772.7422 - val_accuracy: 0.4185\n",
            "Epoch 100/100\n",
            "449/449 - 2s - loss: 120364.3828 - accuracy: 0.6505 - val_loss: 108297.6250 - val_accuracy: 0.7041\n",
            "Train: 0.709, Test: 0.704\n"
          ]
        },
        {
          "output_type": "display_data",
          "data": {
            "image/png": "[encoded data removed]",
            "text/plain": [
              "<Figure size 432x288 with 2 Axes>"
            ]
          },
          "metadata": {
            "needs_background": "light"
          }
        }
      ]
    },
    {
      "cell_type": "markdown",
      "metadata": {
        "id": "092lDzTwLSkN"
      },
      "source": [
        "##### Other model metrics for binary classification\n",
        "\n",
        "\n",
        "> Precision\n",
        "    \n",
        ">  Recall\n",
        "\n",
        "> F1 Score\n",
        "\n",
        "\n"
      ]
    },
    {
      "cell_type": "code",
      "metadata": {
        "colab": {
          "base_uri": "https://localhost:8080/"
        },
        "id": "TyPGL3RGLSkO",
        "outputId": "54b23fd6-35e7-4d73-a5e3-cbb4d44ee7a1"
      },
      "source": [
        "# Calculating metrics for a neural network model using sklearn\n",
        "from sklearn.metrics import accuracy_score\n",
        "from sklearn.metrics import precision_score\n",
        "from sklearn.metrics import recall_score\n",
        "from sklearn.metrics import f1_score\n",
        "from sklearn.metrics import cohen_kappa_score\n",
        "from sklearn.metrics import roc_auc_score\n",
        "from sklearn.metrics import confusion_matrix\n",
        "\n",
        " \n",
        "# define and fit the model\n",
        "# create model(same as \"smaller_model\")\n",
        "model = Sequential()\n",
        "model.add(Dense(13, input_dim=26, activation='relu'))\n",
        "model.add(Dense(1, activation='sigmoid'))\n",
        "# Compile model\n",
        "model.compile(loss='binary_crossentropy', optimizer='adam', metrics=['accuracy'])\n",
        "\n",
        "# fit model\n",
        "model.fit(train_new_X, encoded_train_new_Y, epochs=100, verbose=2)\n",
        "\n",
        "\n",
        "# predict probabilities for test set\n",
        "yhat_probs = model.predict(val_new_X, verbose=2)\n",
        "\n",
        "# predict crisp classes for test set\n",
        "yhat_classes= np.where(yhat_probs > 0.5, 1,0)\n",
        "#yhat_classes = model.predict_classes(val_new_X, verbose=2)\n",
        "\n",
        "\n",
        "# reduce to 1d array\n",
        "yhat_probs = yhat_probs[:, 0]\n",
        "yhat_classes = yhat_classes[:, 0]\n",
        " \n",
        "# accuracy: (tp + tn) / (p + n)\n",
        "accuracy = accuracy_score(encoded_val_new_Y, yhat_classes)\n",
        "print('Accuracy: %f' % accuracy)\n",
        "# precision tp / (tp + fp)\n",
        "precision = precision_score(encoded_val_new_Y, yhat_classes)\n",
        "print('Precision: %f' % precision)\n",
        "# recall: tp / (tp + fn)\n",
        "recall = recall_score(encoded_val_new_Y, yhat_classes)\n",
        "print('Recall: %f' % recall)\n",
        "# f1: 2 tp / (2 tp + fp + fn)\n",
        "f1 = f1_score(encoded_val_new_Y, yhat_classes)\n",
        "print('F1 score: %f' % f1)\n",
        " \n",
        "# kappa\n",
        "kappa = cohen_kappa_score(encoded_val_new_Y, yhat_classes)\n",
        "print('Cohens kappa: %f' % kappa)\n",
        "# ROC AUC\n",
        "auc = roc_auc_score(encoded_val_new_Y, yhat_probs)\n",
        "print('ROC AUC: %f' % auc)\n",
        "# confusion matrix\n",
        "matrix = confusion_matrix(encoded_val_new_Y, yhat_classes)\n",
        "print(matrix)"
      ],
      "execution_count": 96,
      "outputs": [
        {
          "output_type": "stream",
          "name": "stdout",
          "text": [
            "Epoch 1/100\n",
            "449/449 - 1s - loss: 64999060.0000 - accuracy: 0.5808\n",
            "Epoch 2/100\n",
            "449/449 - 0s - loss: 6324917.0000 - accuracy: 0.6357\n",
            "Epoch 3/100\n",
            "449/449 - 0s - loss: 7353407.0000 - accuracy: 0.6458\n",
            "Epoch 4/100\n",
            "449/449 - 0s - loss: 7270602.5000 - accuracy: 0.6556\n",
            "Epoch 5/100\n",
            "449/449 - 0s - loss: 9928806.0000 - accuracy: 0.6543\n",
            "Epoch 6/100\n",
            "449/449 - 0s - loss: 8067624.5000 - accuracy: 0.6650\n",
            "Epoch 7/100\n",
            "449/449 - 0s - loss: 8550967.0000 - accuracy: 0.6718\n",
            "Epoch 8/100\n",
            "449/449 - 0s - loss: 5769288.5000 - accuracy: 0.6781\n",
            "Epoch 9/100\n",
            "449/449 - 0s - loss: 6157513.5000 - accuracy: 0.6833\n",
            "Epoch 10/100\n",
            "449/449 - 0s - loss: 7841641.5000 - accuracy: 0.6829\n",
            "Epoch 11/100\n",
            "449/449 - 0s - loss: 8240761.5000 - accuracy: 0.6719\n",
            "Epoch 12/100\n",
            "449/449 - 0s - loss: 7060189.5000 - accuracy: 0.6913\n",
            "Epoch 13/100\n",
            "449/449 - 0s - loss: 6659981.5000 - accuracy: 0.6913\n",
            "Epoch 14/100\n",
            "449/449 - 0s - loss: 6294085.5000 - accuracy: 0.6827\n",
            "Epoch 15/100\n",
            "449/449 - 0s - loss: 5681717.0000 - accuracy: 0.6965\n",
            "Epoch 16/100\n",
            "449/449 - 0s - loss: 9053395.0000 - accuracy: 0.6787\n",
            "Epoch 17/100\n",
            "449/449 - 0s - loss: 7048693.5000 - accuracy: 0.6946\n",
            "Epoch 18/100\n",
            "449/449 - 0s - loss: 6400601.5000 - accuracy: 0.6609\n",
            "Epoch 19/100\n",
            "449/449 - 0s - loss: 6385368.5000 - accuracy: 0.6500\n",
            "Epoch 20/100\n",
            "449/449 - 0s - loss: 5694947.5000 - accuracy: 0.6547\n",
            "Epoch 21/100\n",
            "449/449 - 0s - loss: 5835268.5000 - accuracy: 0.6414\n",
            "Epoch 22/100\n",
            "449/449 - 0s - loss: 7554432.0000 - accuracy: 0.6332\n",
            "Epoch 23/100\n",
            "449/449 - 0s - loss: 5274345.0000 - accuracy: 0.6495\n",
            "Epoch 24/100\n",
            "449/449 - 0s - loss: 7865080.5000 - accuracy: 0.6447\n",
            "Epoch 25/100\n",
            "449/449 - 0s - loss: 5545250.5000 - accuracy: 0.6457\n",
            "Epoch 26/100\n",
            "449/449 - 0s - loss: 4446055.0000 - accuracy: 0.6553\n",
            "Epoch 27/100\n",
            "449/449 - 0s - loss: 7760844.5000 - accuracy: 0.6362\n",
            "Epoch 28/100\n",
            "449/449 - 0s - loss: 5677958.5000 - accuracy: 0.6373\n",
            "Epoch 29/100\n",
            "449/449 - 0s - loss: 6594807.0000 - accuracy: 0.6365\n",
            "Epoch 30/100\n",
            "449/449 - 0s - loss: 6871756.0000 - accuracy: 0.6364\n",
            "Epoch 31/100\n",
            "449/449 - 0s - loss: 7145503.0000 - accuracy: 0.6353\n",
            "Epoch 32/100\n",
            "449/449 - 0s - loss: 6754653.0000 - accuracy: 0.6381\n",
            "Epoch 33/100\n",
            "449/449 - 0s - loss: 6371623.0000 - accuracy: 0.6407\n",
            "Epoch 34/100\n",
            "449/449 - 0s - loss: 5961941.0000 - accuracy: 0.6407\n",
            "Epoch 35/100\n",
            "449/449 - 0s - loss: 5275766.0000 - accuracy: 0.6284\n",
            "Epoch 36/100\n",
            "449/449 - 0s - loss: 6461672.5000 - accuracy: 0.6369\n",
            "Epoch 37/100\n",
            "449/449 - 0s - loss: 6257185.5000 - accuracy: 0.6300\n",
            "Epoch 38/100\n",
            "449/449 - 0s - loss: 6085358.0000 - accuracy: 0.6331\n",
            "Epoch 39/100\n",
            "449/449 - 0s - loss: 6177159.0000 - accuracy: 0.6362\n",
            "Epoch 40/100\n",
            "449/449 - 0s - loss: 7337168.5000 - accuracy: 0.6295\n",
            "Epoch 41/100\n",
            "449/449 - 0s - loss: 5735785.5000 - accuracy: 0.6349\n",
            "Epoch 42/100\n",
            "449/449 - 0s - loss: 5092098.5000 - accuracy: 0.6406\n",
            "Epoch 43/100\n",
            "449/449 - 0s - loss: 4868250.0000 - accuracy: 0.6351\n",
            "Epoch 44/100\n",
            "449/449 - 0s - loss: 7006103.5000 - accuracy: 0.6227\n",
            "Epoch 45/100\n",
            "449/449 - 0s - loss: 6913873.5000 - accuracy: 0.6277\n",
            "Epoch 46/100\n",
            "449/449 - 0s - loss: 5938628.5000 - accuracy: 0.6360\n",
            "Epoch 47/100\n",
            "449/449 - 0s - loss: 6436757.5000 - accuracy: 0.6334\n",
            "Epoch 48/100\n",
            "449/449 - 0s - loss: 6511876.0000 - accuracy: 0.6302\n",
            "Epoch 49/100\n",
            "449/449 - 0s - loss: 6281083.5000 - accuracy: 0.6273\n",
            "Epoch 50/100\n",
            "449/449 - 0s - loss: 6827903.0000 - accuracy: 0.6251\n",
            "Epoch 51/100\n",
            "449/449 - 0s - loss: 7464652.0000 - accuracy: 0.6261\n",
            "Epoch 52/100\n",
            "449/449 - 0s - loss: 5491436.5000 - accuracy: 0.6358\n",
            "Epoch 53/100\n",
            "449/449 - 0s - loss: 5775325.0000 - accuracy: 0.6252\n",
            "Epoch 54/100\n",
            "449/449 - 0s - loss: 7296774.5000 - accuracy: 0.6265\n",
            "Epoch 55/100\n",
            "449/449 - 0s - loss: 7502354.5000 - accuracy: 0.6281\n",
            "Epoch 56/100\n",
            "449/449 - 0s - loss: 7947583.5000 - accuracy: 0.6275\n",
            "Epoch 57/100\n",
            "449/449 - 0s - loss: 8246080.0000 - accuracy: 0.6267\n",
            "Epoch 58/100\n",
            "449/449 - 0s - loss: 6521955.0000 - accuracy: 0.6403\n",
            "Epoch 59/100\n",
            "449/449 - 0s - loss: 5421142.5000 - accuracy: 0.6338\n",
            "Epoch 60/100\n",
            "449/449 - 0s - loss: 7756707.0000 - accuracy: 0.6237\n",
            "Epoch 61/100\n",
            "449/449 - 0s - loss: 6124803.5000 - accuracy: 0.6414\n",
            "Epoch 62/100\n",
            "449/449 - 0s - loss: 6262166.5000 - accuracy: 0.6286\n",
            "Epoch 63/100\n",
            "449/449 - 0s - loss: 5091821.5000 - accuracy: 0.6382\n",
            "Epoch 64/100\n",
            "449/449 - 0s - loss: 5507880.5000 - accuracy: 0.6328\n",
            "Epoch 65/100\n",
            "449/449 - 0s - loss: 5678813.5000 - accuracy: 0.6346\n",
            "Epoch 66/100\n",
            "449/449 - 0s - loss: 7110058.0000 - accuracy: 0.6288\n",
            "Epoch 67/100\n",
            "449/449 - 0s - loss: 5044925.0000 - accuracy: 0.6430\n",
            "Epoch 68/100\n",
            "449/449 - 0s - loss: 5681711.5000 - accuracy: 0.6246\n",
            "Epoch 69/100\n",
            "449/449 - 0s - loss: 5114624.5000 - accuracy: 0.6272\n",
            "Epoch 70/100\n",
            "449/449 - 0s - loss: 5521927.0000 - accuracy: 0.6312\n",
            "Epoch 71/100\n",
            "449/449 - 0s - loss: 8223932.0000 - accuracy: 0.6286\n",
            "Epoch 72/100\n",
            "449/449 - 0s - loss: 6488181.5000 - accuracy: 0.6251\n",
            "Epoch 73/100\n",
            "449/449 - 0s - loss: 6383131.5000 - accuracy: 0.6345\n",
            "Epoch 74/100\n",
            "449/449 - 0s - loss: 5631622.0000 - accuracy: 0.6249\n",
            "Epoch 75/100\n",
            "449/449 - 0s - loss: 5620483.5000 - accuracy: 0.6252\n",
            "Epoch 76/100\n",
            "449/449 - 0s - loss: 5806264.0000 - accuracy: 0.6287\n",
            "Epoch 77/100\n",
            "449/449 - 0s - loss: 7019786.0000 - accuracy: 0.6305\n",
            "Epoch 78/100\n",
            "449/449 - 0s - loss: 6270108.5000 - accuracy: 0.6256\n",
            "Epoch 79/100\n",
            "449/449 - 0s - loss: 7292250.5000 - accuracy: 0.6242\n",
            "Epoch 80/100\n",
            "449/449 - 0s - loss: 6162318.0000 - accuracy: 0.6419\n",
            "Epoch 81/100\n",
            "449/449 - 0s - loss: 5655094.0000 - accuracy: 0.6348\n",
            "Epoch 82/100\n",
            "449/449 - 0s - loss: 5217223.5000 - accuracy: 0.6382\n",
            "Epoch 83/100\n",
            "449/449 - 0s - loss: 7371029.5000 - accuracy: 0.6220\n",
            "Epoch 84/100\n",
            "449/449 - 0s - loss: 5835230.5000 - accuracy: 0.6325\n",
            "Epoch 85/100\n",
            "449/449 - 0s - loss: 4537871.5000 - accuracy: 0.6429\n",
            "Epoch 86/100\n",
            "449/449 - 0s - loss: 4638963.0000 - accuracy: 0.6325\n",
            "Epoch 87/100\n",
            "449/449 - 0s - loss: 5269185.5000 - accuracy: 0.6385\n",
            "Epoch 88/100\n",
            "449/449 - 0s - loss: 6317742.0000 - accuracy: 0.6277\n",
            "Epoch 89/100\n",
            "449/449 - 0s - loss: 4890021.5000 - accuracy: 0.6348\n",
            "Epoch 90/100\n",
            "449/449 - 0s - loss: 5482813.0000 - accuracy: 0.6362\n",
            "Epoch 91/100\n",
            "449/449 - 0s - loss: 5690574.0000 - accuracy: 0.6289\n",
            "Epoch 92/100\n",
            "449/449 - 0s - loss: 5204450.5000 - accuracy: 0.6412\n",
            "Epoch 93/100\n",
            "449/449 - 0s - loss: 6143418.0000 - accuracy: 0.6417\n",
            "Epoch 94/100\n",
            "449/449 - 0s - loss: 5185157.5000 - accuracy: 0.6345\n",
            "Epoch 95/100\n",
            "449/449 - 0s - loss: 5300249.0000 - accuracy: 0.6314\n",
            "Epoch 96/100\n",
            "449/449 - 0s - loss: 5044131.5000 - accuracy: 0.6375\n",
            "Epoch 97/100\n",
            "449/449 - 0s - loss: 5512838.5000 - accuracy: 0.6425\n",
            "Epoch 98/100\n",
            "449/449 - 0s - loss: 5491214.5000 - accuracy: 0.6455\n",
            "Epoch 99/100\n",
            "449/449 - 0s - loss: 6908486.0000 - accuracy: 0.6606\n",
            "Epoch 100/100\n",
            "449/449 - 0s - loss: 5840150.5000 - accuracy: 0.6831\n",
            "193/193 - 0s\n",
            "Accuracy: 0.701478\n",
            "Precision: 0.719008\n",
            "Recall: 0.899114\n",
            "F1 score: 0.799038\n",
            "Cohens kappa: 0.245835\n",
            "ROC AUC: 0.616383\n",
            "[[ 665 1428]\n",
            " [ 410 3654]]\n"
          ]
        }
      ]
    },
    {
      "cell_type": "markdown",
      "metadata": {
        "id": "Txx5t0tIwKlJ"
      },
      "source": [
        "### Keras Classification Metrics for \"larger_model\"\n",
        "\n",
        "\n",
        "> Binary Accuracy: \"binary_accuracy\", \"acc\"\n",
        "\n"
      ]
    },
    {
      "cell_type": "code",
      "metadata": {
        "colab": {
          "base_uri": "https://localhost:8080/",
          "height": 1000
        },
        "id": "C_sSpDPZUt1O",
        "outputId": "0573ff2c-cc23-41c3-d9a6-202bbb27c501"
      },
      "source": [
        "# train model\n",
        "history = larger_model.fit(train_new_X, encoded_train_new_Y, epochs=100, batch_size=20, verbose=2)\n",
        "\n",
        "# plot metrics\n",
        "plt.plot(history.history['accuracy'])\n",
        "plt.show()"
      ],
      "execution_count": 104,
      "outputs": [
        {
          "output_type": "stream",
          "name": "stdout",
          "text": [
            "Epoch 1/100\n",
            "719/719 - 1s - loss: 16460446.0000 - accuracy: 0.6076\n",
            "Epoch 2/100\n",
            "719/719 - 1s - loss: 12199262.0000 - accuracy: 0.6082\n",
            "Epoch 3/100\n",
            "719/719 - 1s - loss: 13493353.0000 - accuracy: 0.6132\n",
            "Epoch 4/100\n",
            "719/719 - 1s - loss: 9278641.0000 - accuracy: 0.6241\n",
            "Epoch 5/100\n",
            "719/719 - 1s - loss: 9241537.0000 - accuracy: 0.6385\n",
            "Epoch 6/100\n",
            "719/719 - 1s - loss: 9094384.0000 - accuracy: 0.6542\n",
            "Epoch 7/100\n",
            "719/719 - 1s - loss: 8486858.0000 - accuracy: 0.6606\n",
            "Epoch 8/100\n",
            "719/719 - 1s - loss: 8854817.0000 - accuracy: 0.6774\n",
            "Epoch 9/100\n",
            "719/719 - 1s - loss: 7396016.0000 - accuracy: 0.6792\n",
            "Epoch 10/100\n",
            "719/719 - 1s - loss: 6450915.0000 - accuracy: 0.6878\n",
            "Epoch 11/100\n",
            "719/719 - 1s - loss: 7049186.5000 - accuracy: 0.6712\n",
            "Epoch 12/100\n",
            "719/719 - 1s - loss: 5990588.0000 - accuracy: 0.6817\n",
            "Epoch 13/100\n",
            "719/719 - 1s - loss: 4501119.0000 - accuracy: 0.6895\n",
            "Epoch 14/100\n",
            "719/719 - 1s - loss: 4267641.5000 - accuracy: 0.6932\n",
            "Epoch 15/100\n",
            "719/719 - 1s - loss: 4638203.0000 - accuracy: 0.7060\n",
            "Epoch 16/100\n",
            "719/719 - 1s - loss: 4183880.7500 - accuracy: 0.7040\n",
            "Epoch 17/100\n",
            "719/719 - 1s - loss: 3389314.7500 - accuracy: 0.6982\n",
            "Epoch 18/100\n",
            "719/719 - 1s - loss: 2780222.5000 - accuracy: 0.7037\n",
            "Epoch 19/100\n",
            "719/719 - 1s - loss: 2367165.2500 - accuracy: 0.7019\n",
            "Epoch 20/100\n",
            "719/719 - 1s - loss: 2223593.5000 - accuracy: 0.7012\n",
            "Epoch 21/100\n",
            "719/719 - 1s - loss: 2147233.7500 - accuracy: 0.6962\n",
            "Epoch 22/100\n",
            "719/719 - 1s - loss: 1516321.8750 - accuracy: 0.7102\n",
            "Epoch 23/100\n",
            "719/719 - 1s - loss: 974309.6875 - accuracy: 0.7151\n",
            "Epoch 24/100\n",
            "719/719 - 1s - loss: 3.7351 - accuracy: 0.7343\n",
            "Epoch 25/100\n",
            "719/719 - 1s - loss: 3.2804 - accuracy: 0.7343\n",
            "Epoch 26/100\n",
            "719/719 - 1s - loss: 3.9083 - accuracy: 0.7282\n",
            "Epoch 27/100\n",
            "719/719 - 1s - loss: 3.5074 - accuracy: 0.7275\n",
            "Epoch 28/100\n",
            "719/719 - 1s - loss: 3.4426 - accuracy: 0.7229\n",
            "Epoch 29/100\n",
            "719/719 - 1s - loss: 3.6520 - accuracy: 0.7239\n",
            "Epoch 30/100\n",
            "719/719 - 1s - loss: 4.0987 - accuracy: 0.7150\n",
            "Epoch 31/100\n",
            "719/719 - 1s - loss: 3.4800 - accuracy: 0.7276\n",
            "Epoch 32/100\n",
            "719/719 - 1s - loss: 3.4001 - accuracy: 0.7290\n",
            "Epoch 33/100\n",
            "719/719 - 1s - loss: 3.6960 - accuracy: 0.7199\n",
            "Epoch 34/100\n",
            "719/719 - 1s - loss: 3.4470 - accuracy: 0.7302\n",
            "Epoch 35/100\n",
            "719/719 - 1s - loss: 3.2802 - accuracy: 0.7301\n",
            "Epoch 36/100\n",
            "719/719 - 1s - loss: 3.9287 - accuracy: 0.7215\n",
            "Epoch 37/100\n",
            "719/719 - 1s - loss: 3.0770 - accuracy: 0.7344\n",
            "Epoch 38/100\n",
            "719/719 - 1s - loss: 3.6526 - accuracy: 0.7271\n",
            "Epoch 39/100\n",
            "719/719 - 1s - loss: 3.4921 - accuracy: 0.7301\n",
            "Epoch 40/100\n",
            "719/719 - 1s - loss: 3.7671 - accuracy: 0.7239\n",
            "Epoch 41/100\n",
            "719/719 - 1s - loss: 520.2483 - accuracy: 0.7231\n",
            "Epoch 42/100\n",
            "719/719 - 1s - loss: 3.6976 - accuracy: 0.7276\n",
            "Epoch 43/100\n",
            "719/719 - 1s - loss: 3.8229 - accuracy: 0.7279\n",
            "Epoch 44/100\n",
            "719/719 - 1s - loss: 3.3740 - accuracy: 0.7303\n",
            "Epoch 45/100\n",
            "719/719 - 1s - loss: 3.2252 - accuracy: 0.7394\n",
            "Epoch 46/100\n",
            "719/719 - 1s - loss: 3.7239 - accuracy: 0.7311\n",
            "Epoch 47/100\n",
            "719/719 - 1s - loss: 3.5891 - accuracy: 0.7313\n",
            "Epoch 48/100\n",
            "719/719 - 1s - loss: 2.6466 - accuracy: 0.7480\n",
            "Epoch 49/100\n",
            "719/719 - 1s - loss: 2.9241 - accuracy: 0.7404\n",
            "Epoch 50/100\n",
            "719/719 - 1s - loss: 3.0304 - accuracy: 0.7337\n",
            "Epoch 51/100\n",
            "719/719 - 1s - loss: 2.9803 - accuracy: 0.7326\n",
            "Epoch 52/100\n",
            "719/719 - 1s - loss: 2.8457 - accuracy: 0.7402\n",
            "Epoch 53/100\n",
            "719/719 - 1s - loss: 2.7520 - accuracy: 0.7388\n",
            "Epoch 54/100\n",
            "719/719 - 1s - loss: 2.4839 - accuracy: 0.7371\n",
            "Epoch 55/100\n",
            "719/719 - 1s - loss: 2.4851 - accuracy: 0.7330\n",
            "Epoch 56/100\n",
            "719/719 - 1s - loss: 2.5783 - accuracy: 0.7333\n",
            "Epoch 57/100\n",
            "719/719 - 1s - loss: 2.3336 - accuracy: 0.7313\n",
            "Epoch 58/100\n",
            "719/719 - 1s - loss: 2.0866 - accuracy: 0.7392\n",
            "Epoch 59/100\n",
            "719/719 - 1s - loss: 2.3734 - accuracy: 0.7312\n",
            "Epoch 60/100\n",
            "719/719 - 1s - loss: 1.7370 - accuracy: 0.7435\n",
            "Epoch 61/100\n",
            "719/719 - 1s - loss: 1.7857 - accuracy: 0.7422\n",
            "Epoch 62/100\n",
            "719/719 - 1s - loss: 2.1295 - accuracy: 0.7299\n",
            "Epoch 63/100\n",
            "719/719 - 1s - loss: 1.3137 - accuracy: 0.7524\n",
            "Epoch 64/100\n",
            "719/719 - 1s - loss: 1.2932 - accuracy: 0.7429\n",
            "Epoch 65/100\n",
            "719/719 - 1s - loss: 1.1421 - accuracy: 0.7505\n",
            "Epoch 66/100\n",
            "719/719 - 1s - loss: 0.9900 - accuracy: 0.7536\n",
            "Epoch 67/100\n",
            "719/719 - 1s - loss: 0.9819 - accuracy: 0.7475\n",
            "Epoch 68/100\n",
            "719/719 - 1s - loss: 1.3589 - accuracy: 0.7254\n",
            "Epoch 69/100\n",
            "719/719 - 1s - loss: 0.9689 - accuracy: 0.7402\n",
            "Epoch 70/100\n",
            "719/719 - 1s - loss: 0.9058 - accuracy: 0.7437\n",
            "Epoch 71/100\n",
            "719/719 - 1s - loss: 0.6810 - accuracy: 0.7545\n",
            "Epoch 72/100\n",
            "719/719 - 1s - loss: 0.6995 - accuracy: 0.7528\n",
            "Epoch 73/100\n",
            "719/719 - 1s - loss: 0.6432 - accuracy: 0.7550\n",
            "Epoch 74/100\n",
            "719/719 - 1s - loss: 7.9610 - accuracy: 0.7479\n",
            "Epoch 75/100\n",
            "719/719 - 1s - loss: 1.1812 - accuracy: 0.5023\n",
            "Epoch 76/100\n",
            "719/719 - 1s - loss: 0.7971 - accuracy: 0.6738\n",
            "Epoch 77/100\n",
            "719/719 - 1s - loss: 0.7291 - accuracy: 0.6710\n",
            "Epoch 78/100\n",
            "719/719 - 1s - loss: 0.7035 - accuracy: 0.6687\n",
            "Epoch 79/100\n",
            "719/719 - 1s - loss: 0.7068 - accuracy: 0.6689\n",
            "Epoch 80/100\n",
            "719/719 - 1s - loss: 0.6841 - accuracy: 0.6691\n",
            "Epoch 81/100\n",
            "719/719 - 1s - loss: 0.6541 - accuracy: 0.6696\n",
            "Epoch 82/100\n",
            "719/719 - 1s - loss: 0.6404 - accuracy: 0.6683\n",
            "Epoch 83/100\n",
            "719/719 - 1s - loss: 0.6359 - accuracy: 0.6691\n",
            "Epoch 84/100\n",
            "719/719 - 1s - loss: 0.6351 - accuracy: 0.6691\n",
            "Epoch 85/100\n",
            "719/719 - 1s - loss: 0.6392 - accuracy: 0.6671\n",
            "Epoch 86/100\n",
            "719/719 - 1s - loss: 0.6377 - accuracy: 0.6682\n",
            "Epoch 87/100\n",
            "719/719 - 1s - loss: 0.6372 - accuracy: 0.6657\n",
            "Epoch 88/100\n",
            "719/719 - 1s - loss: 0.6389 - accuracy: 0.6628\n",
            "Epoch 89/100\n",
            "719/719 - 1s - loss: 0.6396 - accuracy: 0.6638\n",
            "Epoch 90/100\n",
            "719/719 - 1s - loss: 0.6395 - accuracy: 0.6620\n",
            "Epoch 91/100\n",
            "719/719 - 1s - loss: 0.6395 - accuracy: 0.6620\n",
            "Epoch 92/100\n",
            "719/719 - 1s - loss: 0.6395 - accuracy: 0.6620\n",
            "Epoch 93/100\n",
            "719/719 - 1s - loss: 0.6395 - accuracy: 0.6620\n",
            "Epoch 94/100\n",
            "719/719 - 1s - loss: 0.6395 - accuracy: 0.6620\n",
            "Epoch 95/100\n",
            "719/719 - 1s - loss: 0.6395 - accuracy: 0.6620\n",
            "Epoch 96/100\n",
            "719/719 - 1s - loss: 0.6395 - accuracy: 0.6620\n",
            "Epoch 97/100\n",
            "719/719 - 1s - loss: 0.6395 - accuracy: 0.6620\n",
            "Epoch 98/100\n",
            "719/719 - 1s - loss: 0.6395 - accuracy: 0.6620\n",
            "Epoch 99/100\n",
            "719/719 - 1s - loss: 0.6395 - accuracy: 0.6620\n",
            "Epoch 100/100\n",
            "719/719 - 1s - loss: 0.6395 - accuracy: 0.6620\n"
          ]
        },
        {
          "output_type": "display_data",
          "data": {
            "image/png": "[encoded data removed]",
            "text/plain": [
              "<Figure size 432x288 with 1 Axes>"
            ]
          },
          "metadata": {
            "needs_background": "light"
          }
        }
      ]
    },
    {
      "cell_type": "code",
      "metadata": {
        "colab": {
          "base_uri": "https://localhost:8080/",
          "height": 1000
        },
        "id": "vvX9D7kpUt1T",
        "outputId": "d95ced7c-04e1-4846-8607-2a153aadc7dd"
      },
      "source": [
        "# fit model\n",
        "history = larger_model.fit(train_new_X, encoded_train_new_Y, validation_data=(val_new_X, encoded_val_new_Y), epochs=100, verbose=2)\n",
        "\n",
        "# evaluate the model\n",
        "_, train_acc = larger_model.evaluate(train_new_X, encoded_train_new_Y, verbose=0)\n",
        "_, test_acc = larger_model.evaluate(val_new_X, encoded_val_new_Y, verbose=0)\n",
        "print('Train: %.3f, Test: %.3f' % (train_acc, test_acc))\n",
        "\n",
        "# plot loss during training\n",
        "plt.subplot(211)\n",
        "plt.title('Loss')\n",
        "plt.plot(history.history['loss'], label='train')\n",
        "plt.plot(history.history['val_loss'], label='validation')\n",
        "plt.legend()\n",
        "# plot accuracy during training\n",
        "plt.subplot(212)\n",
        "plt.title('Accuracy')\n",
        "plt.plot(history.history['accuracy'], label='train')\n",
        "plt.plot(history.history['val_accuracy'], label='validation')\n",
        "plt.legend()\n",
        "plt.show()"
      ],
      "execution_count": 105,
      "outputs": [
        {
          "output_type": "stream",
          "name": "stdout",
          "text": [
            "Epoch 1/100\n",
            "449/449 - 1s - loss: 0.6395 - accuracy: 0.6620 - val_loss: 0.6408 - val_accuracy: 0.6602\n",
            "Epoch 2/100\n",
            "449/449 - 1s - loss: 0.6395 - accuracy: 0.6620 - val_loss: 0.6408 - val_accuracy: 0.6602\n",
            "Epoch 3/100\n",
            "449/449 - 1s - loss: 0.6395 - accuracy: 0.6620 - val_loss: 0.6408 - val_accuracy: 0.6602\n",
            "Epoch 4/100\n",
            "449/449 - 1s - loss: 0.6395 - accuracy: 0.6620 - val_loss: 0.6408 - val_accuracy: 0.6602\n",
            "Epoch 5/100\n",
            "449/449 - 1s - loss: 0.6395 - accuracy: 0.6620 - val_loss: 0.6408 - val_accuracy: 0.6602\n",
            "Epoch 6/100\n",
            "449/449 - 1s - loss: 0.6395 - accuracy: 0.6620 - val_loss: 0.6408 - val_accuracy: 0.6602\n",
            "Epoch 7/100\n",
            "449/449 - 1s - loss: 0.6395 - accuracy: 0.6620 - val_loss: 0.6408 - val_accuracy: 0.6602\n",
            "Epoch 8/100\n",
            "449/449 - 1s - loss: 0.6395 - accuracy: 0.6620 - val_loss: 0.6408 - val_accuracy: 0.6602\n",
            "Epoch 9/100\n",
            "449/449 - 1s - loss: 0.6395 - accuracy: 0.6620 - val_loss: 0.6408 - val_accuracy: 0.6602\n",
            "Epoch 10/100\n",
            "449/449 - 1s - loss: 0.6395 - accuracy: 0.6620 - val_loss: 0.6408 - val_accuracy: 0.6602\n",
            "Epoch 11/100\n",
            "449/449 - 1s - loss: 0.6395 - accuracy: 0.6620 - val_loss: 0.6408 - val_accuracy: 0.6602\n",
            "Epoch 12/100\n",
            "449/449 - 1s - loss: 0.6395 - accuracy: 0.6620 - val_loss: 0.6408 - val_accuracy: 0.6602\n",
            "Epoch 13/100\n",
            "449/449 - 1s - loss: 0.6395 - accuracy: 0.6620 - val_loss: 0.6408 - val_accuracy: 0.6602\n",
            "Epoch 14/100\n",
            "449/449 - 1s - loss: 0.6395 - accuracy: 0.6620 - val_loss: 0.6408 - val_accuracy: 0.6602\n",
            "Epoch 15/100\n",
            "449/449 - 1s - loss: 0.6395 - accuracy: 0.6620 - val_loss: 0.6408 - val_accuracy: 0.6602\n",
            "Epoch 16/100\n",
            "449/449 - 1s - loss: 0.6395 - accuracy: 0.6620 - val_loss: 0.6408 - val_accuracy: 0.6602\n",
            "Epoch 17/100\n",
            "449/449 - 1s - loss: 0.6395 - accuracy: 0.6620 - val_loss: 0.6408 - val_accuracy: 0.6602\n",
            "Epoch 18/100\n",
            "449/449 - 1s - loss: 0.6395 - accuracy: 0.6620 - val_loss: 0.6408 - val_accuracy: 0.6602\n",
            "Epoch 19/100\n",
            "449/449 - 1s - loss: 0.6395 - accuracy: 0.6620 - val_loss: 0.6408 - val_accuracy: 0.6602\n",
            "Epoch 20/100\n",
            "449/449 - 1s - loss: 0.6395 - accuracy: 0.6620 - val_loss: 0.6408 - val_accuracy: 0.6602\n",
            "Epoch 21/100\n",
            "449/449 - 1s - loss: 0.6395 - accuracy: 0.6620 - val_loss: 0.6408 - val_accuracy: 0.6602\n",
            "Epoch 22/100\n",
            "449/449 - 1s - loss: 0.6395 - accuracy: 0.6620 - val_loss: 0.6408 - val_accuracy: 0.6602\n",
            "Epoch 23/100\n",
            "449/449 - 1s - loss: 0.6395 - accuracy: 0.6620 - val_loss: 0.6408 - val_accuracy: 0.6602\n",
            "Epoch 24/100\n",
            "449/449 - 1s - loss: 0.6395 - accuracy: 0.6620 - val_loss: 0.6408 - val_accuracy: 0.6602\n",
            "Epoch 25/100\n",
            "449/449 - 1s - loss: 0.6395 - accuracy: 0.6620 - val_loss: 0.6408 - val_accuracy: 0.6602\n",
            "Epoch 26/100\n",
            "449/449 - 1s - loss: 0.6395 - accuracy: 0.6620 - val_loss: 0.6408 - val_accuracy: 0.6602\n",
            "Epoch 27/100\n",
            "449/449 - 1s - loss: 0.6395 - accuracy: 0.6620 - val_loss: 0.6408 - val_accuracy: 0.6602\n",
            "Epoch 28/100\n",
            "449/449 - 1s - loss: 0.6395 - accuracy: 0.6620 - val_loss: 0.6408 - val_accuracy: 0.6602\n",
            "Epoch 29/100\n",
            "449/449 - 1s - loss: 0.6395 - accuracy: 0.6620 - val_loss: 0.6408 - val_accuracy: 0.6602\n",
            "Epoch 30/100\n",
            "449/449 - 1s - loss: 0.6395 - accuracy: 0.6620 - val_loss: 0.6408 - val_accuracy: 0.6602\n",
            "Epoch 31/100\n",
            "449/449 - 1s - loss: 0.6395 - accuracy: 0.6620 - val_loss: 0.6408 - val_accuracy: 0.6602\n",
            "Epoch 32/100\n",
            "449/449 - 1s - loss: 0.6395 - accuracy: 0.6620 - val_loss: 0.6408 - val_accuracy: 0.6602\n",
            "Epoch 33/100\n",
            "449/449 - 1s - loss: 0.6395 - accuracy: 0.6620 - val_loss: 0.6408 - val_accuracy: 0.6602\n",
            "Epoch 34/100\n",
            "449/449 - 1s - loss: 0.6395 - accuracy: 0.6620 - val_loss: 0.6408 - val_accuracy: 0.6602\n",
            "Epoch 35/100\n",
            "449/449 - 1s - loss: 0.6395 - accuracy: 0.6620 - val_loss: 0.6408 - val_accuracy: 0.6602\n",
            "Epoch 36/100\n",
            "449/449 - 1s - loss: 0.6395 - accuracy: 0.6620 - val_loss: 0.6408 - val_accuracy: 0.6602\n",
            "Epoch 37/100\n",
            "449/449 - 1s - loss: 0.6395 - accuracy: 0.6620 - val_loss: 0.6408 - val_accuracy: 0.6602\n",
            "Epoch 38/100\n",
            "449/449 - 1s - loss: 0.6395 - accuracy: 0.6620 - val_loss: 0.6408 - val_accuracy: 0.6602\n",
            "Epoch 39/100\n",
            "449/449 - 1s - loss: 0.6395 - accuracy: 0.6620 - val_loss: 0.6408 - val_accuracy: 0.6602\n",
            "Epoch 40/100\n",
            "449/449 - 1s - loss: 0.6395 - accuracy: 0.6620 - val_loss: 0.6408 - val_accuracy: 0.6602\n",
            "Epoch 41/100\n",
            "449/449 - 1s - loss: 0.6395 - accuracy: 0.6620 - val_loss: 0.6408 - val_accuracy: 0.6602\n",
            "Epoch 42/100\n",
            "449/449 - 1s - loss: 0.6395 - accuracy: 0.6620 - val_loss: 0.6408 - val_accuracy: 0.6602\n",
            "Epoch 43/100\n",
            "449/449 - 1s - loss: 0.6395 - accuracy: 0.6620 - val_loss: 0.6408 - val_accuracy: 0.6602\n",
            "Epoch 44/100\n",
            "449/449 - 1s - loss: 0.6395 - accuracy: 0.6620 - val_loss: 0.6409 - val_accuracy: 0.6602\n",
            "Epoch 45/100\n",
            "449/449 - 1s - loss: 0.6395 - accuracy: 0.6620 - val_loss: 0.6408 - val_accuracy: 0.6602\n",
            "Epoch 46/100\n",
            "449/449 - 1s - loss: 0.6395 - accuracy: 0.6620 - val_loss: 0.6408 - val_accuracy: 0.6602\n",
            "Epoch 47/100\n",
            "449/449 - 1s - loss: 0.6395 - accuracy: 0.6620 - val_loss: 0.6408 - val_accuracy: 0.6602\n",
            "Epoch 48/100\n",
            "449/449 - 1s - loss: 0.6395 - accuracy: 0.6620 - val_loss: 0.6408 - val_accuracy: 0.6602\n",
            "Epoch 49/100\n",
            "449/449 - 1s - loss: 0.6395 - accuracy: 0.6620 - val_loss: 0.6408 - val_accuracy: 0.6602\n",
            "Epoch 50/100\n",
            "449/449 - 1s - loss: 0.6395 - accuracy: 0.6620 - val_loss: 0.6408 - val_accuracy: 0.6602\n",
            "Epoch 51/100\n",
            "449/449 - 1s - loss: 0.6395 - accuracy: 0.6620 - val_loss: 0.6408 - val_accuracy: 0.6602\n",
            "Epoch 52/100\n",
            "449/449 - 1s - loss: 0.6395 - accuracy: 0.6620 - val_loss: 0.6408 - val_accuracy: 0.6602\n",
            "Epoch 53/100\n",
            "449/449 - 1s - loss: 0.6395 - accuracy: 0.6620 - val_loss: 0.6408 - val_accuracy: 0.6602\n",
            "Epoch 54/100\n",
            "449/449 - 1s - loss: 0.6395 - accuracy: 0.6620 - val_loss: 0.6408 - val_accuracy: 0.6602\n",
            "Epoch 55/100\n",
            "449/449 - 1s - loss: 0.6395 - accuracy: 0.6620 - val_loss: 0.6408 - val_accuracy: 0.6602\n",
            "Epoch 56/100\n",
            "449/449 - 1s - loss: 0.6395 - accuracy: 0.6620 - val_loss: 0.6408 - val_accuracy: 0.6602\n",
            "Epoch 57/100\n",
            "449/449 - 1s - loss: 0.6395 - accuracy: 0.6620 - val_loss: 0.6408 - val_accuracy: 0.6602\n",
            "Epoch 58/100\n",
            "449/449 - 1s - loss: 0.6395 - accuracy: 0.6620 - val_loss: 0.6409 - val_accuracy: 0.6602\n",
            "Epoch 59/100\n",
            "449/449 - 1s - loss: 0.6395 - accuracy: 0.6620 - val_loss: 0.6408 - val_accuracy: 0.6602\n",
            "Epoch 60/100\n",
            "449/449 - 1s - loss: 0.6395 - accuracy: 0.6620 - val_loss: 0.6408 - val_accuracy: 0.6602\n",
            "Epoch 61/100\n",
            "449/449 - 1s - loss: 0.6395 - accuracy: 0.6620 - val_loss: 0.6408 - val_accuracy: 0.6602\n",
            "Epoch 62/100\n",
            "449/449 - 1s - loss: 0.6395 - accuracy: 0.6620 - val_loss: 0.6408 - val_accuracy: 0.6602\n",
            "Epoch 63/100\n",
            "449/449 - 1s - loss: 0.6395 - accuracy: 0.6620 - val_loss: 0.6408 - val_accuracy: 0.6602\n",
            "Epoch 64/100\n",
            "449/449 - 1s - loss: 0.6395 - accuracy: 0.6620 - val_loss: 0.6408 - val_accuracy: 0.6602\n",
            "Epoch 65/100\n",
            "449/449 - 1s - loss: 0.6395 - accuracy: 0.6620 - val_loss: 0.6408 - val_accuracy: 0.6602\n",
            "Epoch 66/100\n",
            "449/449 - 1s - loss: 0.6395 - accuracy: 0.6620 - val_loss: 0.6408 - val_accuracy: 0.6602\n",
            "Epoch 67/100\n",
            "449/449 - 1s - loss: 0.6395 - accuracy: 0.6620 - val_loss: 0.6408 - val_accuracy: 0.6602\n",
            "Epoch 68/100\n",
            "449/449 - 1s - loss: 0.6395 - accuracy: 0.6620 - val_loss: 0.6408 - val_accuracy: 0.6602\n",
            "Epoch 69/100\n",
            "449/449 - 1s - loss: 0.6395 - accuracy: 0.6620 - val_loss: 0.6408 - val_accuracy: 0.6602\n",
            "Epoch 70/100\n",
            "449/449 - 1s - loss: 0.6395 - accuracy: 0.6620 - val_loss: 0.6408 - val_accuracy: 0.6602\n",
            "Epoch 71/100\n",
            "449/449 - 1s - loss: 0.6395 - accuracy: 0.6620 - val_loss: 0.6408 - val_accuracy: 0.6602\n",
            "Epoch 72/100\n",
            "449/449 - 1s - loss: 0.6395 - accuracy: 0.6620 - val_loss: 0.6408 - val_accuracy: 0.6602\n",
            "Epoch 73/100\n",
            "449/449 - 1s - loss: 0.6395 - accuracy: 0.6620 - val_loss: 0.6408 - val_accuracy: 0.6602\n",
            "Epoch 74/100\n",
            "449/449 - 1s - loss: 0.6395 - accuracy: 0.6620 - val_loss: 0.6408 - val_accuracy: 0.6602\n",
            "Epoch 75/100\n",
            "449/449 - 1s - loss: 0.6395 - accuracy: 0.6620 - val_loss: 0.6408 - val_accuracy: 0.6602\n",
            "Epoch 76/100\n",
            "449/449 - 1s - loss: 0.6395 - accuracy: 0.6620 - val_loss: 0.6408 - val_accuracy: 0.6602\n",
            "Epoch 77/100\n",
            "449/449 - 1s - loss: 0.6395 - accuracy: 0.6620 - val_loss: 0.6408 - val_accuracy: 0.6602\n",
            "Epoch 78/100\n",
            "449/449 - 1s - loss: 0.6395 - accuracy: 0.6620 - val_loss: 0.6408 - val_accuracy: 0.6602\n",
            "Epoch 79/100\n",
            "449/449 - 1s - loss: 0.6395 - accuracy: 0.6620 - val_loss: 0.6408 - val_accuracy: 0.6602\n",
            "Epoch 80/100\n",
            "449/449 - 1s - loss: 0.6395 - accuracy: 0.6620 - val_loss: 0.6408 - val_accuracy: 0.6602\n",
            "Epoch 81/100\n",
            "449/449 - 1s - loss: 0.6395 - accuracy: 0.6620 - val_loss: 0.6408 - val_accuracy: 0.6602\n",
            "Epoch 82/100\n",
            "449/449 - 1s - loss: 0.6395 - accuracy: 0.6620 - val_loss: 0.6408 - val_accuracy: 0.6602\n",
            "Epoch 83/100\n",
            "449/449 - 1s - loss: 0.6395 - accuracy: 0.6620 - val_loss: 0.6408 - val_accuracy: 0.6602\n",
            "Epoch 84/100\n",
            "449/449 - 1s - loss: 0.6395 - accuracy: 0.6620 - val_loss: 0.6408 - val_accuracy: 0.6602\n",
            "Epoch 85/100\n",
            "449/449 - 1s - loss: 0.6395 - accuracy: 0.6620 - val_loss: 0.6408 - val_accuracy: 0.6602\n",
            "Epoch 86/100\n",
            "449/449 - 1s - loss: 0.6395 - accuracy: 0.6620 - val_loss: 0.6408 - val_accuracy: 0.6602\n",
            "Epoch 87/100\n",
            "449/449 - 1s - loss: 0.6395 - accuracy: 0.6620 - val_loss: 0.6408 - val_accuracy: 0.6602\n",
            "Epoch 88/100\n",
            "449/449 - 1s - loss: 0.6395 - accuracy: 0.6620 - val_loss: 0.6408 - val_accuracy: 0.6602\n",
            "Epoch 89/100\n",
            "449/449 - 1s - loss: 0.6395 - accuracy: 0.6620 - val_loss: 0.6408 - val_accuracy: 0.6602\n",
            "Epoch 90/100\n",
            "449/449 - 1s - loss: 0.6395 - accuracy: 0.6620 - val_loss: 0.6408 - val_accuracy: 0.6602\n",
            "Epoch 91/100\n",
            "449/449 - 1s - loss: 0.6395 - accuracy: 0.6620 - val_loss: 0.6408 - val_accuracy: 0.6602\n",
            "Epoch 92/100\n",
            "449/449 - 1s - loss: 0.6395 - accuracy: 0.6620 - val_loss: 0.6408 - val_accuracy: 0.6602\n",
            "Epoch 93/100\n",
            "449/449 - 1s - loss: 0.6395 - accuracy: 0.6620 - val_loss: 0.6408 - val_accuracy: 0.6602\n",
            "Epoch 94/100\n",
            "449/449 - 1s - loss: 0.6395 - accuracy: 0.6620 - val_loss: 0.6408 - val_accuracy: 0.6602\n",
            "Epoch 95/100\n",
            "449/449 - 1s - loss: 0.6395 - accuracy: 0.6620 - val_loss: 0.6408 - val_accuracy: 0.6602\n",
            "Epoch 96/100\n",
            "449/449 - 1s - loss: 0.6395 - accuracy: 0.6620 - val_loss: 0.6408 - val_accuracy: 0.6602\n",
            "Epoch 97/100\n",
            "449/449 - 1s - loss: 0.6395 - accuracy: 0.6620 - val_loss: 0.6408 - val_accuracy: 0.6602\n",
            "Epoch 98/100\n",
            "449/449 - 1s - loss: 0.6395 - accuracy: 0.6620 - val_loss: 0.6408 - val_accuracy: 0.6602\n",
            "Epoch 99/100\n",
            "449/449 - 1s - loss: 0.6395 - accuracy: 0.6620 - val_loss: 0.6408 - val_accuracy: 0.6602\n",
            "Epoch 100/100\n",
            "449/449 - 1s - loss: 0.6395 - accuracy: 0.6620 - val_loss: 0.6408 - val_accuracy: 0.6602\n",
            "Train: 0.662, Test: 0.660\n"
          ]
        },
        {
          "output_type": "display_data",
          "data": {
            "image/png": "[encoded data removed]",
            "text/plain": [
              "<Figure size 432x288 with 2 Axes>"
            ]
          },
          "metadata": {
            "needs_background": "light"
          }
        }
      ]
    },
    {
      "cell_type": "markdown",
      "metadata": {
        "id": "48NCCUDjUt1V"
      },
      "source": [
        "##### Other model metrics for binary classification\n",
        "\n",
        "\n",
        "> Precision\n",
        "    \n",
        ">  Recall\n",
        "\n",
        "> F1 Score\n",
        "\n",
        "\n"
      ]
    },
    {
      "cell_type": "code",
      "metadata": {
        "colab": {
          "base_uri": "https://localhost:8080/"
        },
        "id": "sklxjPKaUt1X",
        "outputId": "62e3fcb4-51e9-464c-97ee-04a2b2bd835e"
      },
      "source": [
        "# Calculating metrics for a neural network model using sklearn\n",
        "from sklearn.metrics import accuracy_score\n",
        "from sklearn.metrics import precision_score\n",
        "from sklearn.metrics import recall_score\n",
        "from sklearn.metrics import f1_score\n",
        "from sklearn.metrics import cohen_kappa_score\n",
        "from sklearn.metrics import roc_auc_score\n",
        "from sklearn.metrics import confusion_matrix\n",
        "\n",
        " \n",
        "# define and fit the model\n",
        "# create model(same as \"larger_model\")\n",
        "model = Sequential()\n",
        "model.add(Dense(26, input_dim=26, activation='relu'))\n",
        "model.add(Dense(13, input_dim=26, activation='relu'))\n",
        "model.add(Dense(1, activation='sigmoid'))\n",
        "# Compile model\n",
        "model.compile(loss='binary_crossentropy', optimizer='adam', metrics=['accuracy'])\n",
        "\n",
        "# fit model\n",
        "model.fit(train_new_X, encoded_train_new_Y, epochs=100, verbose=2)\n",
        "\n",
        "\n",
        "# predict probabilities for test set\n",
        "yhat_probs = model.predict(val_new_X, verbose=2)\n",
        "\n",
        "# predict crisp classes for test set\n",
        "yhat_classes= np.where(yhat_probs > 0.5, 1,0)\n",
        "#yhat_classes = model.predict_classes(val_new_X, verbose=2)\n",
        "\n",
        "\n",
        "# reduce to 1d array\n",
        "yhat_probs = yhat_probs[:, 0]\n",
        "yhat_classes = yhat_classes[:, 0]\n",
        " \n",
        "# accuracy: (tp + tn) / (p + n)\n",
        "accuracy = accuracy_score(encoded_val_new_Y, yhat_classes)\n",
        "print('Accuracy: %f' % accuracy)\n",
        "# precision tp / (tp + fp)\n",
        "precision = precision_score(encoded_val_new_Y, yhat_classes)\n",
        "print('Precision: %f' % precision)\n",
        "# recall: tp / (tp + fn)\n",
        "recall = recall_score(encoded_val_new_Y, yhat_classes)\n",
        "print('Recall: %f' % recall)\n",
        "# f1: 2 tp / (2 tp + fp + fn)\n",
        "f1 = f1_score(encoded_val_new_Y, yhat_classes)\n",
        "print('F1 score: %f' % f1)\n",
        " \n",
        "# kappa\n",
        "kappa = cohen_kappa_score(encoded_val_new_Y, yhat_classes)\n",
        "print('Cohens kappa: %f' % kappa)\n",
        "# ROC AUC\n",
        "auc = roc_auc_score(encoded_val_new_Y, yhat_probs)\n",
        "print('ROC AUC: %f' % auc)\n",
        "# confusion matrix\n",
        "matrix = confusion_matrix(encoded_val_new_Y, yhat_classes)\n",
        "print(matrix)"
      ],
      "execution_count": 106,
      "outputs": [
        {
          "output_type": "stream",
          "name": "stdout",
          "text": [
            "Epoch 1/100\n",
            "449/449 - 1s - loss: 12519673.0000 - accuracy: 0.5957\n",
            "Epoch 2/100\n",
            "449/449 - 1s - loss: 11028881.0000 - accuracy: 0.6318\n",
            "Epoch 3/100\n",
            "449/449 - 1s - loss: 9616370.0000 - accuracy: 0.6517\n",
            "Epoch 4/100\n",
            "449/449 - 1s - loss: 11117170.0000 - accuracy: 0.6633\n",
            "Epoch 5/100\n",
            "449/449 - 1s - loss: 11521835.0000 - accuracy: 0.6773\n",
            "Epoch 6/100\n",
            "449/449 - 1s - loss: 12048169.0000 - accuracy: 0.6765\n",
            "Epoch 7/100\n",
            "449/449 - 1s - loss: 11861035.0000 - accuracy: 0.6762\n",
            "Epoch 8/100\n",
            "449/449 - 1s - loss: 15305853.0000 - accuracy: 0.6540\n",
            "Epoch 9/100\n",
            "449/449 - 1s - loss: 14306691.0000 - accuracy: 0.6616\n",
            "Epoch 10/100\n",
            "449/449 - 1s - loss: 9958095.0000 - accuracy: 0.6699\n",
            "Epoch 11/100\n",
            "449/449 - 1s - loss: 9380273.0000 - accuracy: 0.6776\n",
            "Epoch 12/100\n",
            "449/449 - 1s - loss: 9392195.0000 - accuracy: 0.6662\n",
            "Epoch 13/100\n",
            "449/449 - 1s - loss: 9040830.0000 - accuracy: 0.6852\n",
            "Epoch 14/100\n",
            "449/449 - 1s - loss: 9192370.0000 - accuracy: 0.6721\n",
            "Epoch 15/100\n",
            "449/449 - 1s - loss: 8417121.0000 - accuracy: 0.6777\n",
            "Epoch 16/100\n",
            "449/449 - 1s - loss: 9417912.0000 - accuracy: 0.6624\n",
            "Epoch 17/100\n",
            "449/449 - 1s - loss: 9018499.0000 - accuracy: 0.6790\n",
            "Epoch 18/100\n",
            "449/449 - 1s - loss: 8315030.0000 - accuracy: 0.6829\n",
            "Epoch 19/100\n",
            "449/449 - 1s - loss: 7770518.0000 - accuracy: 0.6835\n",
            "Epoch 20/100\n",
            "449/449 - 1s - loss: 8190549.0000 - accuracy: 0.6657\n",
            "Epoch 21/100\n",
            "449/449 - 1s - loss: 7471970.0000 - accuracy: 0.6821\n",
            "Epoch 22/100\n",
            "449/449 - 1s - loss: 9383397.0000 - accuracy: 0.6742\n",
            "Epoch 23/100\n",
            "449/449 - 1s - loss: 10189000.0000 - accuracy: 0.6719\n",
            "Epoch 24/100\n",
            "449/449 - 1s - loss: 7842917.0000 - accuracy: 0.6638\n",
            "Epoch 25/100\n",
            "449/449 - 1s - loss: 8003755.5000 - accuracy: 0.6624\n",
            "Epoch 26/100\n",
            "449/449 - 0s - loss: 8129539.5000 - accuracy: 0.6687\n",
            "Epoch 27/100\n",
            "449/449 - 0s - loss: 5253961.5000 - accuracy: 0.6708\n",
            "Epoch 28/100\n",
            "449/449 - 1s - loss: 5265757.5000 - accuracy: 0.6632\n",
            "Epoch 29/100\n",
            "449/449 - 1s - loss: 6558056.0000 - accuracy: 0.6745\n",
            "Epoch 30/100\n",
            "449/449 - 1s - loss: 6119562.0000 - accuracy: 0.6731\n",
            "Epoch 31/100\n",
            "449/449 - 1s - loss: 7630561.5000 - accuracy: 0.6706\n",
            "Epoch 32/100\n",
            "449/449 - 1s - loss: 4872523.5000 - accuracy: 0.6867\n",
            "Epoch 33/100\n",
            "449/449 - 1s - loss: 4954772.0000 - accuracy: 0.6870\n",
            "Epoch 34/100\n",
            "449/449 - 1s - loss: 4199958.0000 - accuracy: 0.6891\n",
            "Epoch 35/100\n",
            "449/449 - 1s - loss: 3531863.7500 - accuracy: 0.6855\n",
            "Epoch 36/100\n",
            "449/449 - 1s - loss: 4503085.5000 - accuracy: 0.6883\n",
            "Epoch 37/100\n",
            "449/449 - 1s - loss: 2948270.2500 - accuracy: 0.6962\n",
            "Epoch 38/100\n",
            "449/449 - 1s - loss: 3471472.5000 - accuracy: 0.6850\n",
            "Epoch 39/100\n",
            "449/449 - 1s - loss: 3610188.0000 - accuracy: 0.6907\n",
            "Epoch 40/100\n",
            "449/449 - 1s - loss: 3800483.0000 - accuracy: 0.6924\n",
            "Epoch 41/100\n",
            "449/449 - 1s - loss: 3757081.7500 - accuracy: 0.6980\n",
            "Epoch 42/100\n",
            "449/449 - 0s - loss: 2065749.7500 - accuracy: 0.7147\n",
            "Epoch 43/100\n",
            "449/449 - 1s - loss: 1544842.8750 - accuracy: 0.7045\n",
            "Epoch 44/100\n",
            "449/449 - 1s - loss: 578997.0625 - accuracy: 0.7218\n",
            "Epoch 45/100\n",
            "449/449 - 1s - loss: 21364.8750 - accuracy: 0.7209\n",
            "Epoch 46/100\n",
            "449/449 - 1s - loss: 10470.7812 - accuracy: 0.7111\n",
            "Epoch 47/100\n",
            "449/449 - 1s - loss: 3694.8184 - accuracy: 0.7106\n",
            "Epoch 48/100\n",
            "449/449 - 1s - loss: 3.2741 - accuracy: 0.7182\n",
            "Epoch 49/100\n",
            "449/449 - 1s - loss: 3.2510 - accuracy: 0.7423\n",
            "Epoch 50/100\n",
            "449/449 - 1s - loss: 4.0137 - accuracy: 0.7222\n",
            "Epoch 51/100\n",
            "449/449 - 1s - loss: 3.1006 - accuracy: 0.7385\n",
            "Epoch 52/100\n",
            "449/449 - 1s - loss: 3.5683 - accuracy: 0.7247\n",
            "Epoch 53/100\n",
            "449/449 - 1s - loss: 3.8589 - accuracy: 0.7295\n",
            "Epoch 54/100\n",
            "449/449 - 1s - loss: 3.3773 - accuracy: 0.7266\n",
            "Epoch 55/100\n",
            "449/449 - 1s - loss: 3.2668 - accuracy: 0.7287\n",
            "Epoch 56/100\n",
            "449/449 - 1s - loss: 3.2487 - accuracy: 0.7269\n",
            "Epoch 57/100\n",
            "449/449 - 1s - loss: 3.1068 - accuracy: 0.7289\n",
            "Epoch 58/100\n",
            "449/449 - 1s - loss: 3.6426 - accuracy: 0.7280\n",
            "Epoch 59/100\n",
            "449/449 - 1s - loss: 3.3551 - accuracy: 0.7260\n",
            "Epoch 60/100\n",
            "449/449 - 1s - loss: 4.3336 - accuracy: 0.7222\n",
            "Epoch 61/100\n",
            "449/449 - 1s - loss: 2.9407 - accuracy: 0.7308\n",
            "Epoch 62/100\n",
            "449/449 - 1s - loss: 2.7979 - accuracy: 0.7323\n",
            "Epoch 63/100\n",
            "449/449 - 0s - loss: 3.3866 - accuracy: 0.7263\n",
            "Epoch 64/100\n",
            "449/449 - 1s - loss: 2.9394 - accuracy: 0.7374\n",
            "Epoch 65/100\n",
            "449/449 - 1s - loss: 3.2203 - accuracy: 0.7281\n",
            "Epoch 66/100\n",
            "449/449 - 1s - loss: 2.7726 - accuracy: 0.7282\n",
            "Epoch 67/100\n",
            "449/449 - 1s - loss: 3.1168 - accuracy: 0.7259\n",
            "Epoch 68/100\n",
            "449/449 - 1s - loss: 3.2333 - accuracy: 0.7202\n",
            "Epoch 69/100\n",
            "449/449 - 1s - loss: 2.9264 - accuracy: 0.7285\n",
            "Epoch 70/100\n",
            "449/449 - 1s - loss: 2.9757 - accuracy: 0.7284\n",
            "Epoch 71/100\n",
            "449/449 - 1s - loss: 2.4796 - accuracy: 0.7322\n",
            "Epoch 72/100\n",
            "449/449 - 1s - loss: 3.0123 - accuracy: 0.7332\n",
            "Epoch 73/100\n",
            "449/449 - 1s - loss: 2.3390 - accuracy: 0.7358\n",
            "Epoch 74/100\n",
            "449/449 - 1s - loss: 2.3479 - accuracy: 0.7327\n",
            "Epoch 75/100\n",
            "449/449 - 0s - loss: 2.4380 - accuracy: 0.7351\n",
            "Epoch 76/100\n",
            "449/449 - 1s - loss: 2.1935 - accuracy: 0.7257\n",
            "Epoch 77/100\n",
            "449/449 - 1s - loss: 2.4224 - accuracy: 0.7216\n",
            "Epoch 78/100\n",
            "449/449 - 1s - loss: 2.7296 - accuracy: 0.7216\n",
            "Epoch 79/100\n",
            "449/449 - 1s - loss: 45568.0938 - accuracy: 0.7157\n",
            "Epoch 80/100\n",
            "449/449 - 1s - loss: 2.0245 - accuracy: 0.7266\n",
            "Epoch 81/100\n",
            "449/449 - 0s - loss: 2.0698 - accuracy: 0.7234\n",
            "Epoch 82/100\n",
            "449/449 - 1s - loss: 1.9083 - accuracy: 0.7187\n",
            "Epoch 83/100\n",
            "449/449 - 0s - loss: 1.1426 - accuracy: 0.5323\n",
            "Epoch 84/100\n",
            "449/449 - 1s - loss: 0.8755 - accuracy: 0.6160\n",
            "Epoch 85/100\n",
            "449/449 - 1s - loss: 0.7096 - accuracy: 0.6711\n",
            "Epoch 86/100\n",
            "449/449 - 1s - loss: 0.6782 - accuracy: 0.6728\n",
            "Epoch 87/100\n",
            "449/449 - 1s - loss: 0.6601 - accuracy: 0.6717\n",
            "Epoch 88/100\n",
            "449/449 - 1s - loss: 0.6482 - accuracy: 0.6735\n",
            "Epoch 89/100\n",
            "449/449 - 1s - loss: 0.6390 - accuracy: 0.6718\n",
            "Epoch 90/100\n",
            "449/449 - 1s - loss: 0.6345 - accuracy: 0.6737\n",
            "Epoch 91/100\n",
            "449/449 - 1s - loss: 0.6396 - accuracy: 0.6720\n",
            "Epoch 92/100\n",
            "449/449 - 1s - loss: 0.6399 - accuracy: 0.6717\n",
            "Epoch 93/100\n",
            "449/449 - 1s - loss: 0.6452 - accuracy: 0.6705\n",
            "Epoch 94/100\n",
            "449/449 - 1s - loss: 0.6370 - accuracy: 0.6721\n",
            "Epoch 95/100\n",
            "449/449 - 1s - loss: 0.6343 - accuracy: 0.6719\n",
            "Epoch 96/100\n",
            "449/449 - 1s - loss: 0.6333 - accuracy: 0.6724\n",
            "Epoch 97/100\n",
            "449/449 - 0s - loss: 0.6347 - accuracy: 0.6719\n",
            "Epoch 98/100\n",
            "449/449 - 1s - loss: 0.6332 - accuracy: 0.6717\n",
            "Epoch 99/100\n",
            "449/449 - 0s - loss: 0.6324 - accuracy: 0.6718\n",
            "Epoch 100/100\n",
            "449/449 - 1s - loss: 0.6313 - accuracy: 0.6735\n",
            "193/193 - 0s\n",
            "Accuracy: 0.674354\n",
            "Precision: 0.670193\n",
            "Recall: 0.997539\n",
            "F1 score: 0.801740\n",
            "Cohens kappa: 0.057612\n",
            "ROC AUC: 0.525407\n",
            "[[  98 1995]\n",
            " [  10 4054]]\n"
          ]
        }
      ]
    },
    {
      "cell_type": "markdown",
      "metadata": {
        "id": "2Itr-PodwKBz"
      },
      "source": [
        "### Save the base_model"
      ]
    },
    {
      "cell_type": "code",
      "metadata": {
        "id": "nNKPfzVCbFgW"
      },
      "source": [
        "#from google.colab import drive\n",
        "#drive.mount('/content/gdrive')"
      ],
      "execution_count": 107,
      "outputs": []
    },
    {
      "cell_type": "code",
      "metadata": {
        "id": "P1Sz8-l3lcuG"
      },
      "source": [
        "#! pip install torchvision "
      ],
      "execution_count": 108,
      "outputs": []
    },
    {
      "cell_type": "code",
      "metadata": {
        "id": "abA5QmaacgHj"
      },
      "source": [
        "#import torch\n",
        "#import torchvision\n",
        "\n",
        "#model_save_name = 'base_model_binary_clf.pt'\n",
        "#path = F\"/content/gdrive/My Drive/{model_save_name}\" \n",
        "#torch.save(base_model, path)\n",
        "#torch.save(base_model.state_dict(), path)"
      ],
      "execution_count": 109,
      "outputs": []
    },
    {
      "cell_type": "code",
      "metadata": {
        "id": "uPoZopHqcpm6"
      },
      "source": [
        "\n",
        "#model_save_name = 'base_model_binary_clf.pt'\n",
        "#path = F\"/content/gdrive/My Drive/{model_save_name}\"\n",
        "#the_model = torch.load(PATH)\n",
        "#model.load_state_dict(torch.load(path))"
      ],
      "execution_count": 110,
      "outputs": []
    },
    {
      "cell_type": "markdown",
      "metadata": {
        "id": "awjmGEHw0_2b"
      },
      "source": [
        "## Section 4 \n",
        "\n",
        "\n",
        "> Unnecessary analysis\n",
        "\n"
      ]
    },
    {
      "cell_type": "markdown",
      "metadata": {
        "id": "n6chroBJ2lYs"
      },
      "source": [
        "### Grid Search Hyperparameters"
      ]
    },
    {
      "cell_type": "markdown",
      "metadata": {
        "id": "c_QCK7lx-NZy"
      },
      "source": [
        "####  Tune Batch Size and Number of Epochs\n",
        "###### {'batch_size': 20, 'epochs': 10} & {'batch_size': 40, 'epochs': 100} had the best accurac"
      ]
    },
    {
      "cell_type": "code",
      "metadata": {
        "colab": {
          "base_uri": "https://localhost:8080/",
          "height": 398
        },
        "id": "qM6wN6Nd-MPa",
        "outputId": "70e3ba0a-eb45-43cc-b940-208e93eb7e5f"
      },
      "source": [
        "# Use scikit-learn to grid search the batch size and epochs\n",
        "from keras.wrappers.scikit_learn import KerasClassifier\n",
        "\n",
        "# Function to create model, required for KerasClassifier\n",
        "def create_model():\n",
        "\t# create model\n",
        "\tmodel = Sequential()\n",
        "\tmodel.add(Dense(30, input_dim=30, activation='relu'))\n",
        "\tmodel.add(Dense(1, activation='sigmoid'))\n",
        "\t# Compile model\n",
        "\tmodel.compile(loss='binary_crossentropy', optimizer='Nadam', metrics=['accuracy'])\n",
        "\treturn model\n",
        "\n",
        "# fix random seed for reproducibility\n",
        "seed = 7\n",
        "np.random.seed(seed)\n",
        "\n",
        "# create model\n",
        "model = KerasClassifier(build_fn=create_model, verbose=0)\n",
        "\n",
        "# define the grid search parameters\n",
        "batch_size = [10, 20, 40, 60, 80, 100]\n",
        "epochs = [10, 50, 100]\n",
        "param_grid = dict(batch_size=batch_size, epochs=epochs)\n",
        "grid = GridSearchCV(estimator=model, param_grid=param_grid, n_jobs=-1, cv=3)\n",
        "grid_result = grid.fit(X, Y)\n",
        "\n",
        "# summarize results\n",
        "print(\"Best: %f using %s\" % (grid_result.best_score_, grid_result.best_params_))\n",
        "means = grid_result.cv_results_['mean_test_score']\n",
        "stds = grid_result.cv_results_['std_test_score']\n",
        "params = grid_result.cv_results_['params']\n",
        "for mean, stdev, param in zip(means, stds, params):\n",
        "    print(\"%f (%f) with: %r\" % (mean, stdev, param))\n",
        "\n",
        "# Based on results of this cell: 0.942470 (0.058475) with: {'batch_size': 20, 'epochs': 10} had the best accuracy, {'batch_size': 40, 'epochs': 100} had the same acc:0.942939%"
      ],
      "execution_count": null,
      "outputs": [
        {
          "output_type": "error",
          "ename": "KeyboardInterrupt",
          "evalue": "ignored",
          "traceback": [
            "\u001b[0;31m---------------------------------------------------------------------------\u001b[0m",
            "\u001b[0;31mKeyboardInterrupt\u001b[0m                         Traceback (most recent call last)",
            "\u001b[0;32m<ipython-input-159-a528d8833f29>\u001b[0m in \u001b[0;36m<module>\u001b[0;34m()\u001b[0m\n\u001b[1;32m     24\u001b[0m \u001b[0mparam_grid\u001b[0m \u001b[0;34m=\u001b[0m \u001b[0mdict\u001b[0m\u001b[0;34m(\u001b[0m\u001b[0mbatch_size\u001b[0m\u001b[0;34m=\u001b[0m\u001b[0mbatch_size\u001b[0m\u001b[0;34m,\u001b[0m \u001b[0mepochs\u001b[0m\u001b[0;34m=\u001b[0m\u001b[0mepochs\u001b[0m\u001b[0;34m)\u001b[0m\u001b[0;34m\u001b[0m\u001b[0;34m\u001b[0m\u001b[0m\n\u001b[1;32m     25\u001b[0m \u001b[0mgrid\u001b[0m \u001b[0;34m=\u001b[0m \u001b[0mGridSearchCV\u001b[0m\u001b[0;34m(\u001b[0m\u001b[0mestimator\u001b[0m\u001b[0;34m=\u001b[0m\u001b[0mmodel\u001b[0m\u001b[0;34m,\u001b[0m \u001b[0mparam_grid\u001b[0m\u001b[0;34m=\u001b[0m\u001b[0mparam_grid\u001b[0m\u001b[0;34m,\u001b[0m \u001b[0mn_jobs\u001b[0m\u001b[0;34m=\u001b[0m\u001b[0;34m-\u001b[0m\u001b[0;36m1\u001b[0m\u001b[0;34m,\u001b[0m \u001b[0mcv\u001b[0m\u001b[0;34m=\u001b[0m\u001b[0;36m3\u001b[0m\u001b[0;34m)\u001b[0m\u001b[0;34m\u001b[0m\u001b[0;34m\u001b[0m\u001b[0m\n\u001b[0;32m---> 26\u001b[0;31m \u001b[0mgrid_result\u001b[0m \u001b[0;34m=\u001b[0m \u001b[0mgrid\u001b[0m\u001b[0;34m.\u001b[0m\u001b[0mfit\u001b[0m\u001b[0;34m(\u001b[0m\u001b[0mX\u001b[0m\u001b[0;34m,\u001b[0m \u001b[0mY\u001b[0m\u001b[0;34m)\u001b[0m\u001b[0;34m\u001b[0m\u001b[0;34m\u001b[0m\u001b[0m\n\u001b[0m\u001b[1;32m     27\u001b[0m \u001b[0;34m\u001b[0m\u001b[0m\n\u001b[1;32m     28\u001b[0m \u001b[0;31m# summarize results\u001b[0m\u001b[0;34m\u001b[0m\u001b[0;34m\u001b[0m\u001b[0;34m\u001b[0m\u001b[0m\n",
            "\u001b[0;32m/usr/local/lib/python3.7/dist-packages/sklearn/model_selection/_search.py\u001b[0m in \u001b[0;36mfit\u001b[0;34m(self, X, y, groups, **fit_params)\u001b[0m\n\u001b[1;32m    708\u001b[0m                 \u001b[0;32mreturn\u001b[0m \u001b[0mresults\u001b[0m\u001b[0;34m\u001b[0m\u001b[0;34m\u001b[0m\u001b[0m\n\u001b[1;32m    709\u001b[0m \u001b[0;34m\u001b[0m\u001b[0m\n\u001b[0;32m--> 710\u001b[0;31m             \u001b[0mself\u001b[0m\u001b[0;34m.\u001b[0m\u001b[0m_run_search\u001b[0m\u001b[0;34m(\u001b[0m\u001b[0mevaluate_candidates\u001b[0m\u001b[0;34m)\u001b[0m\u001b[0;34m\u001b[0m\u001b[0;34m\u001b[0m\u001b[0m\n\u001b[0m\u001b[1;32m    711\u001b[0m \u001b[0;34m\u001b[0m\u001b[0m\n\u001b[1;32m    712\u001b[0m         \u001b[0;31m# For multi-metric evaluation, store the best_index_, best_params_ and\u001b[0m\u001b[0;34m\u001b[0m\u001b[0;34m\u001b[0m\u001b[0;34m\u001b[0m\u001b[0m\n",
            "\u001b[0;32m/usr/local/lib/python3.7/dist-packages/sklearn/model_selection/_search.py\u001b[0m in \u001b[0;36m_run_search\u001b[0;34m(self, evaluate_candidates)\u001b[0m\n\u001b[1;32m   1149\u001b[0m     \u001b[0;32mdef\u001b[0m \u001b[0m_run_search\u001b[0m\u001b[0;34m(\u001b[0m\u001b[0mself\u001b[0m\u001b[0;34m,\u001b[0m \u001b[0mevaluate_candidates\u001b[0m\u001b[0;34m)\u001b[0m\u001b[0;34m:\u001b[0m\u001b[0;34m\u001b[0m\u001b[0;34m\u001b[0m\u001b[0m\n\u001b[1;32m   1150\u001b[0m         \u001b[0;34m\"\"\"Search all candidates in param_grid\"\"\"\u001b[0m\u001b[0;34m\u001b[0m\u001b[0;34m\u001b[0m\u001b[0m\n\u001b[0;32m-> 1151\u001b[0;31m         \u001b[0mevaluate_candidates\u001b[0m\u001b[0;34m(\u001b[0m\u001b[0mParameterGrid\u001b[0m\u001b[0;34m(\u001b[0m\u001b[0mself\u001b[0m\u001b[0;34m.\u001b[0m\u001b[0mparam_grid\u001b[0m\u001b[0;34m)\u001b[0m\u001b[0;34m)\u001b[0m\u001b[0;34m\u001b[0m\u001b[0;34m\u001b[0m\u001b[0m\n\u001b[0m\u001b[1;32m   1152\u001b[0m \u001b[0;34m\u001b[0m\u001b[0m\n\u001b[1;32m   1153\u001b[0m \u001b[0;34m\u001b[0m\u001b[0m\n",
            "\u001b[0;32m/usr/local/lib/python3.7/dist-packages/sklearn/model_selection/_search.py\u001b[0m in \u001b[0;36mevaluate_candidates\u001b[0;34m(candidate_params)\u001b[0m\n\u001b[1;32m    687\u001b[0m                                \u001b[0;32mfor\u001b[0m \u001b[0mparameters\u001b[0m\u001b[0;34m,\u001b[0m \u001b[0;34m(\u001b[0m\u001b[0mtrain\u001b[0m\u001b[0;34m,\u001b[0m \u001b[0mtest\u001b[0m\u001b[0;34m)\u001b[0m\u001b[0;34m\u001b[0m\u001b[0;34m\u001b[0m\u001b[0m\n\u001b[1;32m    688\u001b[0m                                in product(candidate_params,\n\u001b[0;32m--> 689\u001b[0;31m                                           cv.split(X, y, groups)))\n\u001b[0m\u001b[1;32m    690\u001b[0m \u001b[0;34m\u001b[0m\u001b[0m\n\u001b[1;32m    691\u001b[0m                 \u001b[0;32mif\u001b[0m \u001b[0mlen\u001b[0m\u001b[0;34m(\u001b[0m\u001b[0mout\u001b[0m\u001b[0;34m)\u001b[0m \u001b[0;34m<\u001b[0m \u001b[0;36m1\u001b[0m\u001b[0;34m:\u001b[0m\u001b[0;34m\u001b[0m\u001b[0;34m\u001b[0m\u001b[0m\n",
            "\u001b[0;32m/usr/local/lib/python3.7/dist-packages/joblib/parallel.py\u001b[0m in \u001b[0;36m__call__\u001b[0;34m(self, iterable)\u001b[0m\n\u001b[1;32m   1052\u001b[0m \u001b[0;34m\u001b[0m\u001b[0m\n\u001b[1;32m   1053\u001b[0m             \u001b[0;32mwith\u001b[0m \u001b[0mself\u001b[0m\u001b[0;34m.\u001b[0m\u001b[0m_backend\u001b[0m\u001b[0;34m.\u001b[0m\u001b[0mretrieval_context\u001b[0m\u001b[0;34m(\u001b[0m\u001b[0;34m)\u001b[0m\u001b[0;34m:\u001b[0m\u001b[0;34m\u001b[0m\u001b[0;34m\u001b[0m\u001b[0m\n\u001b[0;32m-> 1054\u001b[0;31m                 \u001b[0mself\u001b[0m\u001b[0;34m.\u001b[0m\u001b[0mretrieve\u001b[0m\u001b[0;34m(\u001b[0m\u001b[0;34m)\u001b[0m\u001b[0;34m\u001b[0m\u001b[0;34m\u001b[0m\u001b[0m\n\u001b[0m\u001b[1;32m   1055\u001b[0m             \u001b[0;31m# Make sure that we get a last message telling us we are done\u001b[0m\u001b[0;34m\u001b[0m\u001b[0;34m\u001b[0m\u001b[0;34m\u001b[0m\u001b[0m\n\u001b[1;32m   1056\u001b[0m             \u001b[0melapsed_time\u001b[0m \u001b[0;34m=\u001b[0m \u001b[0mtime\u001b[0m\u001b[0;34m.\u001b[0m\u001b[0mtime\u001b[0m\u001b[0;34m(\u001b[0m\u001b[0;34m)\u001b[0m \u001b[0;34m-\u001b[0m \u001b[0mself\u001b[0m\u001b[0;34m.\u001b[0m\u001b[0m_start_time\u001b[0m\u001b[0;34m\u001b[0m\u001b[0;34m\u001b[0m\u001b[0m\n",
            "\u001b[0;32m/usr/local/lib/python3.7/dist-packages/joblib/parallel.py\u001b[0m in \u001b[0;36mretrieve\u001b[0;34m(self)\u001b[0m\n\u001b[1;32m    931\u001b[0m             \u001b[0;32mtry\u001b[0m\u001b[0;34m:\u001b[0m\u001b[0;34m\u001b[0m\u001b[0;34m\u001b[0m\u001b[0m\n\u001b[1;32m    932\u001b[0m                 \u001b[0;32mif\u001b[0m \u001b[0mgetattr\u001b[0m\u001b[0;34m(\u001b[0m\u001b[0mself\u001b[0m\u001b[0;34m.\u001b[0m\u001b[0m_backend\u001b[0m\u001b[0;34m,\u001b[0m \u001b[0;34m'supports_timeout'\u001b[0m\u001b[0;34m,\u001b[0m \u001b[0;32mFalse\u001b[0m\u001b[0;34m)\u001b[0m\u001b[0;34m:\u001b[0m\u001b[0;34m\u001b[0m\u001b[0;34m\u001b[0m\u001b[0m\n\u001b[0;32m--> 933\u001b[0;31m                     \u001b[0mself\u001b[0m\u001b[0;34m.\u001b[0m\u001b[0m_output\u001b[0m\u001b[0;34m.\u001b[0m\u001b[0mextend\u001b[0m\u001b[0;34m(\u001b[0m\u001b[0mjob\u001b[0m\u001b[0;34m.\u001b[0m\u001b[0mget\u001b[0m\u001b[0;34m(\u001b[0m\u001b[0mtimeout\u001b[0m\u001b[0;34m=\u001b[0m\u001b[0mself\u001b[0m\u001b[0;34m.\u001b[0m\u001b[0mtimeout\u001b[0m\u001b[0;34m)\u001b[0m\u001b[0;34m)\u001b[0m\u001b[0;34m\u001b[0m\u001b[0;34m\u001b[0m\u001b[0m\n\u001b[0m\u001b[1;32m    934\u001b[0m                 \u001b[0;32melse\u001b[0m\u001b[0;34m:\u001b[0m\u001b[0;34m\u001b[0m\u001b[0;34m\u001b[0m\u001b[0m\n\u001b[1;32m    935\u001b[0m                     \u001b[0mself\u001b[0m\u001b[0;34m.\u001b[0m\u001b[0m_output\u001b[0m\u001b[0;34m.\u001b[0m\u001b[0mextend\u001b[0m\u001b[0;34m(\u001b[0m\u001b[0mjob\u001b[0m\u001b[0;34m.\u001b[0m\u001b[0mget\u001b[0m\u001b[0;34m(\u001b[0m\u001b[0;34m)\u001b[0m\u001b[0;34m)\u001b[0m\u001b[0;34m\u001b[0m\u001b[0;34m\u001b[0m\u001b[0m\n",
            "\u001b[0;32m/usr/local/lib/python3.7/dist-packages/joblib/_parallel_backends.py\u001b[0m in \u001b[0;36mwrap_future_result\u001b[0;34m(future, timeout)\u001b[0m\n\u001b[1;32m    540\u001b[0m         AsyncResults.get from multiprocessing.\"\"\"\n\u001b[1;32m    541\u001b[0m         \u001b[0;32mtry\u001b[0m\u001b[0;34m:\u001b[0m\u001b[0;34m\u001b[0m\u001b[0;34m\u001b[0m\u001b[0m\n\u001b[0;32m--> 542\u001b[0;31m             \u001b[0;32mreturn\u001b[0m \u001b[0mfuture\u001b[0m\u001b[0;34m.\u001b[0m\u001b[0mresult\u001b[0m\u001b[0;34m(\u001b[0m\u001b[0mtimeout\u001b[0m\u001b[0;34m=\u001b[0m\u001b[0mtimeout\u001b[0m\u001b[0;34m)\u001b[0m\u001b[0;34m\u001b[0m\u001b[0;34m\u001b[0m\u001b[0m\n\u001b[0m\u001b[1;32m    543\u001b[0m         \u001b[0;32mexcept\u001b[0m \u001b[0mCfTimeoutError\u001b[0m \u001b[0;32mas\u001b[0m \u001b[0me\u001b[0m\u001b[0;34m:\u001b[0m\u001b[0;34m\u001b[0m\u001b[0;34m\u001b[0m\u001b[0m\n\u001b[1;32m    544\u001b[0m             \u001b[0;32mraise\u001b[0m \u001b[0mTimeoutError\u001b[0m \u001b[0;32mfrom\u001b[0m \u001b[0me\u001b[0m\u001b[0;34m\u001b[0m\u001b[0;34m\u001b[0m\u001b[0m\n",
            "\u001b[0;32m/usr/lib/python3.7/concurrent/futures/_base.py\u001b[0m in \u001b[0;36mresult\u001b[0;34m(self, timeout)\u001b[0m\n\u001b[1;32m    428\u001b[0m                 \u001b[0;32mreturn\u001b[0m \u001b[0mself\u001b[0m\u001b[0;34m.\u001b[0m\u001b[0m__get_result\u001b[0m\u001b[0;34m(\u001b[0m\u001b[0;34m)\u001b[0m\u001b[0;34m\u001b[0m\u001b[0;34m\u001b[0m\u001b[0m\n\u001b[1;32m    429\u001b[0m \u001b[0;34m\u001b[0m\u001b[0m\n\u001b[0;32m--> 430\u001b[0;31m             \u001b[0mself\u001b[0m\u001b[0;34m.\u001b[0m\u001b[0m_condition\u001b[0m\u001b[0;34m.\u001b[0m\u001b[0mwait\u001b[0m\u001b[0;34m(\u001b[0m\u001b[0mtimeout\u001b[0m\u001b[0;34m)\u001b[0m\u001b[0;34m\u001b[0m\u001b[0;34m\u001b[0m\u001b[0m\n\u001b[0m\u001b[1;32m    431\u001b[0m \u001b[0;34m\u001b[0m\u001b[0m\n\u001b[1;32m    432\u001b[0m             \u001b[0;32mif\u001b[0m \u001b[0mself\u001b[0m\u001b[0;34m.\u001b[0m\u001b[0m_state\u001b[0m \u001b[0;32min\u001b[0m \u001b[0;34m[\u001b[0m\u001b[0mCANCELLED\u001b[0m\u001b[0;34m,\u001b[0m \u001b[0mCANCELLED_AND_NOTIFIED\u001b[0m\u001b[0;34m]\u001b[0m\u001b[0;34m:\u001b[0m\u001b[0;34m\u001b[0m\u001b[0;34m\u001b[0m\u001b[0m\n",
            "\u001b[0;32m/usr/lib/python3.7/threading.py\u001b[0m in \u001b[0;36mwait\u001b[0;34m(self, timeout)\u001b[0m\n\u001b[1;32m    294\u001b[0m         \u001b[0;32mtry\u001b[0m\u001b[0;34m:\u001b[0m    \u001b[0;31m# restore state no matter what (e.g., KeyboardInterrupt)\u001b[0m\u001b[0;34m\u001b[0m\u001b[0;34m\u001b[0m\u001b[0m\n\u001b[1;32m    295\u001b[0m             \u001b[0;32mif\u001b[0m \u001b[0mtimeout\u001b[0m \u001b[0;32mis\u001b[0m \u001b[0;32mNone\u001b[0m\u001b[0;34m:\u001b[0m\u001b[0;34m\u001b[0m\u001b[0;34m\u001b[0m\u001b[0m\n\u001b[0;32m--> 296\u001b[0;31m                 \u001b[0mwaiter\u001b[0m\u001b[0;34m.\u001b[0m\u001b[0macquire\u001b[0m\u001b[0;34m(\u001b[0m\u001b[0;34m)\u001b[0m\u001b[0;34m\u001b[0m\u001b[0;34m\u001b[0m\u001b[0m\n\u001b[0m\u001b[1;32m    297\u001b[0m                 \u001b[0mgotit\u001b[0m \u001b[0;34m=\u001b[0m \u001b[0;32mTrue\u001b[0m\u001b[0;34m\u001b[0m\u001b[0;34m\u001b[0m\u001b[0m\n\u001b[1;32m    298\u001b[0m             \u001b[0;32melse\u001b[0m\u001b[0;34m:\u001b[0m\u001b[0;34m\u001b[0m\u001b[0;34m\u001b[0m\u001b[0m\n",
            "\u001b[0;31mKeyboardInterrupt\u001b[0m: "
          ]
        }
      ]
    },
    {
      "cell_type": "markdown",
      "metadata": {
        "id": "yZnBnyA0-9i9"
      },
      "source": [
        "#### Tune the Training Optimization Algorithm\n",
        "##### result of the following cell: Only optimizers with more than 80% accuracy will be mentioned in this cell:\n",
        "\n",
        "> 0.880131 (0.086107) with: {'optimizer': 'Adam'}\n",
        "\n",
        "> 0.879369 (0.085561) with: {'optimizer': 'RMSprop'}\n",
        "\n",
        "> 0.878665 (0.087346) with: {'optimizer': 'Adamax'}\n",
        "\n",
        "\n",
        "> 0.868987 (0.071495) with: {'optimizer': 'Nadam'}\n",
        "\n",
        "\n",
        "> 0.781666 (0.187239) with: {'optimizer': 'Adagrad'}\n"
      ]
    },
    {
      "cell_type": "code",
      "metadata": {
        "colab": {
          "base_uri": "https://localhost:8080/"
        },
        "id": "H3ZkTH9N--hy",
        "outputId": "4dfe9d0e-0190-43bf-98d8-6a0a069ca2ba"
      },
      "source": [
        "# Function to create model, required for KerasClassifier\n",
        "def create_model(optimizer='adam'):\n",
        "\t# create model\n",
        "\tmodel = Sequential()\n",
        "\tmodel.add(Dense(30, input_dim=30, activation='relu'))\n",
        "\tmodel.add(Dense(1, activation='sigmoid'))\n",
        "\t# Compile model\n",
        "\tmodel.compile(loss='binary_crossentropy', optimizer=optimizer, metrics=['accuracy'])\n",
        "\treturn model\n",
        "# fix random seed for reproducibility\n",
        "seed = 7\n",
        "np.random.seed(seed)\n",
        "\n",
        "# create model\n",
        "model = KerasClassifier(build_fn=create_model, epochs=10, batch_size=20, verbose=0)\n",
        "# define the grid search parameters\n",
        "optimizer = ['SGD', 'RMSprop', 'Adagrad', 'Adadelta', 'Adam', 'Adamax', 'Nadam']\n",
        "param_grid = dict(optimizer=optimizer)\n",
        "grid = GridSearchCV(estimator=model, param_grid=param_grid, n_jobs=-1, cv=3)\n",
        "grid_result = grid.fit(X, Y)\n",
        "# summarize results\n",
        "print(\"Best: %f using %s\" % (grid_result.best_score_, grid_result.best_params_))\n",
        "means = grid_result.cv_results_['mean_test_score']\n",
        "stds = grid_result.cv_results_['std_test_score']\n",
        "params = grid_result.cv_results_['params']\n",
        "for mean, stdev, param in zip(means, stds, params):\n",
        "    print(\"%f (%f) with: %r\" % (mean, stdev, param))"
      ],
      "execution_count": null,
      "outputs": [
        {
          "output_type": "stream",
          "name": "stdout",
          "text": [
            "Best: 0.880131 using {'optimizer': 'Adam'}\n",
            "0.718096 (0.347545) with: {'optimizer': 'SGD'}\n",
            "0.879369 (0.085561) with: {'optimizer': 'RMSprop'}\n",
            "0.781666 (0.187239) with: {'optimizer': 'Adagrad'}\n",
            "0.524779 (0.242486) with: {'optimizer': 'Adadelta'}\n",
            "0.880131 (0.086107) with: {'optimizer': 'Adam'}\n",
            "0.878665 (0.087346) with: {'optimizer': 'Adamax'}\n",
            "0.868987 (0.071495) with: {'optimizer': 'Nadam'}\n"
          ]
        }
      ]
    },
    {
      "cell_type": "markdown",
      "metadata": {
        "id": "paXgBKLL_Nt0"
      },
      "source": [
        "#### Tune Learning Rate and Momentum\n",
        "##### The odd part about the result of the following cell:\n",
        "###### With the introduced learning rate and momentum, the accuracy result does not change much(stays flat around 71 to 72 %)\n",
        "###### Best: 0.728125 using {'learn_rate': 0.01, 'momentum': 0.9}"
      ]
    },
    {
      "cell_type": "code",
      "metadata": {
        "colab": {
          "base_uri": "https://localhost:8080/"
        },
        "id": "P9JcpU6y_Q8u",
        "outputId": "dad445a9-cc4a-4e36-f073-e18e73dbb1d0"
      },
      "source": [
        "from keras.wrappers.scikit_learn import KerasClassifier\n",
        "from tensorflow.keras.optimizers import SGD\n",
        "#from tensorflow.keras.optimizers import RMSprop\n",
        "\n",
        "# Function to create model, required for KerasClassifier\n",
        "def create_model(learn_rate=0.01, momentum=0):\n",
        "\t# create model\n",
        "\tmodel = Sequential()\n",
        "\tmodel.add(Dense(30, input_dim=30, activation='relu'))\n",
        "\tmodel.add(Dense(1, activation='sigmoid'))\n",
        "\t# Compile model\n",
        "\toptimizer = SGD(lr=learn_rate, momentum=momentum)\n",
        "\tmodel.compile(loss='binary_crossentropy', optimizer=optimizer, metrics=['accuracy'])\n",
        "\treturn model\n",
        "\n",
        "# fix random seed for reproducibility\n",
        "seed = 7\n",
        "np.random.seed(seed)\n",
        "\n",
        "# create model\n",
        "model = KerasClassifier(build_fn=create_model, epochs=10, batch_size=20, verbose=0)\n",
        "\n",
        "# define the grid search parameters\n",
        "learn_rate = [0.001, 0.01, 0.1, 0.2, 0.3]\n",
        "momentum = [0.0, 0.2, 0.4, 0.6, 0.8, 0.9]\n",
        "param_grid = dict(learn_rate=learn_rate, momentum=momentum)\n",
        "grid = GridSearchCV(estimator=model, param_grid=param_grid, n_jobs=-1, cv=3)\n",
        "grid_result = grid.fit(X, Y)\n",
        "\n",
        "# summarize results\n",
        "print(\"Best: %f using %s\" % (grid_result.best_score_, grid_result.best_params_))\n",
        "means = grid_result.cv_results_['mean_test_score']\n",
        "stds = grid_result.cv_results_['std_test_score']\n",
        "params = grid_result.cv_results_['params']\n",
        "for mean, stdev, param in zip(means, stds, params):\n",
        "    print(\"%f (%f) with: %r\" % (mean, stdev, param))"
      ],
      "execution_count": null,
      "outputs": [
        {
          "output_type": "stream",
          "name": "stderr",
          "text": [
            "/usr/local/lib/python3.7/dist-packages/keras/optimizer_v2/optimizer_v2.py:356: UserWarning: The `lr` argument is deprecated, use `learning_rate` instead.\n",
            "  \"The `lr` argument is deprecated, use `learning_rate` instead.\")\n"
          ]
        },
        {
          "output_type": "stream",
          "name": "stdout",
          "text": [
            "Best: 0.728125 using {'learn_rate': 0.01, 'momentum': 0.9}\n",
            "0.718917 (0.346385) with: {'learn_rate': 0.001, 'momentum': 0.0}\n",
            "0.718096 (0.347545) with: {'learn_rate': 0.001, 'momentum': 0.2}\n",
            "0.718096 (0.347545) with: {'learn_rate': 0.001, 'momentum': 0.4}\n",
            "0.718096 (0.347545) with: {'learn_rate': 0.001, 'momentum': 0.6}\n",
            "0.718096 (0.347545) with: {'learn_rate': 0.001, 'momentum': 0.8}\n",
            "0.718096 (0.347545) with: {'learn_rate': 0.001, 'momentum': 0.9}\n",
            "0.718096 (0.347545) with: {'learn_rate': 0.01, 'momentum': 0.0}\n",
            "0.718096 (0.347545) with: {'learn_rate': 0.01, 'momentum': 0.2}\n",
            "0.718038 (0.347506) with: {'learn_rate': 0.01, 'momentum': 0.4}\n",
            "0.718096 (0.347545) with: {'learn_rate': 0.01, 'momentum': 0.6}\n",
            "0.718096 (0.347545) with: {'learn_rate': 0.01, 'momentum': 0.8}\n",
            "0.728125 (0.333374) with: {'learn_rate': 0.01, 'momentum': 0.9}\n",
            "0.718096 (0.347545) with: {'learn_rate': 0.1, 'momentum': 0.0}\n",
            "0.718096 (0.347545) with: {'learn_rate': 0.1, 'momentum': 0.2}\n",
            "0.718096 (0.347545) with: {'learn_rate': 0.1, 'momentum': 0.4}\n",
            "0.718096 (0.347545) with: {'learn_rate': 0.1, 'momentum': 0.6}\n",
            "0.718155 (0.347462) with: {'learn_rate': 0.1, 'momentum': 0.8}\n",
            "0.719152 (0.346053) with: {'learn_rate': 0.1, 'momentum': 0.9}\n",
            "0.718096 (0.347545) with: {'learn_rate': 0.2, 'momentum': 0.0}\n",
            "0.718096 (0.347545) with: {'learn_rate': 0.2, 'momentum': 0.2}\n",
            "0.718096 (0.347545) with: {'learn_rate': 0.2, 'momentum': 0.4}\n",
            "0.718096 (0.347545) with: {'learn_rate': 0.2, 'momentum': 0.6}\n",
            "0.718096 (0.347545) with: {'learn_rate': 0.2, 'momentum': 0.8}\n",
            "0.727186 (0.334700) with: {'learn_rate': 0.2, 'momentum': 0.9}\n",
            "0.718096 (0.347545) with: {'learn_rate': 0.3, 'momentum': 0.0}\n",
            "0.718096 (0.347545) with: {'learn_rate': 0.3, 'momentum': 0.2}\n",
            "0.718155 (0.347462) with: {'learn_rate': 0.3, 'momentum': 0.4}\n",
            "0.718096 (0.347545) with: {'learn_rate': 0.3, 'momentum': 0.6}\n",
            "0.718096 (0.347545) with: {'learn_rate': 0.3, 'momentum': 0.8}\n",
            "0.718096 (0.347545) with: {'learn_rate': 0.3, 'momentum': 0.9}\n"
          ]
        }
      ]
    },
    {
      "cell_type": "markdown",
      "metadata": {
        "id": "eZbfKgRk_eAj"
      },
      "source": [
        "#### Tune Network Weight Initialization\n",
        "##### the result of following cell; only higher than 90% is shown in this cells\n",
        "\n",
        "> Best: 0.942001 using {'init_mode': 'he_uniform'}\n",
        "\n",
        "\n",
        "> 0.913674 (0.090315) with: {'init_mode': 'normal'}\n",
        "\n",
        "\n",
        "\n",
        "\n",
        "\n",
        "\n",
        "\n"
      ]
    },
    {
      "cell_type": "code",
      "metadata": {
        "colab": {
          "base_uri": "https://localhost:8080/"
        },
        "id": "XAOuuFXe_fHs",
        "outputId": "60aede7c-283d-471d-e351-80e0e9384b87"
      },
      "source": [
        "from keras.wrappers.scikit_learn import KerasClassifier\n",
        "# Function to create model, required for KerasClassifier\n",
        "def create_model(init_mode='uniform'):\n",
        "\t# create model\n",
        "\tmodel = Sequential()\n",
        "\tmodel.add(Dense(30, input_dim=30, kernel_initializer=init_mode, activation='relu'))\n",
        "\tmodel.add(Dense(1, kernel_initializer=init_mode, activation='sigmoid'))\n",
        "\t# Compile model\n",
        "\tmodel.compile(loss='binary_crossentropy', optimizer='Adam', metrics=['accuracy']) # optimizer='adam'\n",
        "\treturn model\n",
        "# fix random seed for reproducibility\n",
        "seed = 7\n",
        "np.random.seed(seed)\n",
        "\n",
        "# create model\n",
        "model = KerasClassifier(build_fn=create_model, epochs=10, batch_size=20, verbose=0)\n",
        "# define the grid search parameters\n",
        "init_mode = ['uniform', 'lecun_uniform', 'normal', 'zero', 'glorot_normal', 'glorot_uniform', 'he_normal', 'he_uniform']\n",
        "param_grid = dict(init_mode=init_mode)\n",
        "grid = GridSearchCV(estimator=model, param_grid=param_grid, n_jobs=-1, cv=3)\n",
        "grid_result = grid.fit(X, Y)\n",
        "# summarize results\n",
        "print(\"Best: %f using %s\" % (grid_result.best_score_, grid_result.best_params_))\n",
        "means = grid_result.cv_results_['mean_test_score']\n",
        "stds = grid_result.cv_results_['std_test_score']\n",
        "params = grid_result.cv_results_['params']\n",
        "for mean, stdev, param in zip(means, stds, params):\n",
        "    print(\"%f (%f) with: %r\" % (mean, stdev, param))"
      ],
      "execution_count": null,
      "outputs": [
        {
          "output_type": "stream",
          "name": "stdout",
          "text": [
            "Best: 0.942001 using {'init_mode': 'he_uniform'}\n",
            "0.881011 (0.085286) with: {'init_mode': 'uniform'}\n",
            "0.870160 (0.071540) with: {'init_mode': 'lecun_uniform'}\n",
            "0.913674 (0.090315) with: {'init_mode': 'normal'}\n",
            "0.718096 (0.347545) with: {'init_mode': 'zero'}\n",
            "0.880600 (0.085026) with: {'init_mode': 'glorot_normal'}\n",
            "0.879193 (0.086342) with: {'init_mode': 'glorot_uniform'}\n",
            "0.869690 (0.071485) with: {'init_mode': 'he_normal'}\n",
            "0.942001 (0.058368) with: {'init_mode': 'he_uniform'}\n"
          ]
        }
      ]
    },
    {
      "cell_type": "markdown",
      "metadata": {
        "id": "nyvfBcbC_xZH"
      },
      "source": [
        "#### Tune the Neuron Activation Function for the first layer\n",
        "##### Results higher than 87% are depicted in this cell:\n",
        "\n",
        "> Best: 0.881011 using {'activation': 'relu'}\n",
        "\n",
        "> 0.880835 (0.085478) with: {'activation': 'softplus'}\n",
        "\n",
        "> 0.870218 (0.071472) with: {'activation': 'softsign'}\n",
        "\n",
        "> 0.876143 (0.085282) with: {'activation': 'linear'}\n",
        "\n",
        "\n",
        "\n",
        "\n",
        "\n",
        "\n",
        "\n",
        "\n",
        "\n",
        "\n"
      ]
    },
    {
      "cell_type": "code",
      "metadata": {
        "colab": {
          "base_uri": "https://localhost:8080/"
        },
        "id": "MwaUo12w_yjw",
        "outputId": "d6826e7f-b2c5-4c9d-e154-6f37e718056c"
      },
      "source": [
        "from keras.wrappers.scikit_learn import KerasClassifier\n",
        "# Function to create model, required for KerasClassifier\n",
        "def create_model(activation='relu'):\n",
        "\t# create model\n",
        "\tmodel = Sequential()\n",
        "\tmodel.add(Dense(30, input_dim=30, kernel_initializer='uniform', activation=activation))\n",
        "\tmodel.add(Dense(1, kernel_initializer='uniform', activation='sigmoid'))\n",
        "\t# Compile model\n",
        "\tmodel.compile(loss='binary_crossentropy', optimizer='Adam', metrics=['accuracy'])\n",
        "\treturn model\n",
        "# fix random seed for reproducibility\n",
        "seed = 7\n",
        "np.random.seed(seed)\n",
        "\n",
        "# create model\n",
        "model = KerasClassifier(build_fn=create_model, epochs=10, batch_size=20, verbose=0)\n",
        "# define the grid search parameters\n",
        "activation = ['softmax', 'softplus', 'softsign', 'relu', 'tanh', 'sigmoid', 'hard_sigmoid', 'linear']\n",
        "param_grid = dict(activation=activation)\n",
        "grid = GridSearchCV(estimator=model, param_grid=param_grid, n_jobs=-1, cv=3)\n",
        "grid_result = grid.fit(X, Y)\n",
        "# summarize results\n",
        "print(\"Best: %f using %s\" % (grid_result.best_score_, grid_result.best_params_))\n",
        "means = grid_result.cv_results_['mean_test_score']\n",
        "stds = grid_result.cv_results_['std_test_score']\n",
        "params = grid_result.cv_results_['params']\n",
        "for mean, stdev, param in zip(means, stds, params):\n",
        "    print(\"%f (%f) with: %r\" % (mean, stdev, param))"
      ],
      "execution_count": null,
      "outputs": [
        {
          "output_type": "stream",
          "name": "stdout",
          "text": [
            "Best: 0.881011 using {'activation': 'relu'}\n",
            "0.663790 (0.313515) with: {'activation': 'softmax'}\n",
            "0.880835 (0.085478) with: {'activation': 'softplus'}\n",
            "0.870218 (0.071472) with: {'activation': 'softsign'}\n",
            "0.881011 (0.085286) with: {'activation': 'relu'}\n",
            "0.683202 (0.325222) with: {'activation': 'tanh'}\n",
            "0.683319 (0.325322) with: {'activation': 'sigmoid'}\n",
            "0.668482 (0.317808) with: {'activation': 'hard_sigmoid'}\n",
            "0.876143 (0.085282) with: {'activation': 'linear'}\n"
          ]
        }
      ]
    },
    {
      "cell_type": "markdown",
      "metadata": {
        "id": "93SxYYhh_9CX"
      },
      "source": [
        "#### Number of Neurons in the Hidden Layer\n",
        "###### Best: 0.881011 using {'neurons': 25}\n",
        "\n",
        "\n",
        "> 0.881011 (0.085286) with: {'neurons': 25}\n",
        "\n",
        "> 0.880776 (0.085542) with: {'neurons': 15}\n",
        "\n",
        "> 0.880717 (0.085181) with: {'neurons': 30}\n",
        "\n",
        "> 0.873796 (0.076238) with: {'neurons': 20}\n",
        "\n",
        "\n",
        "\n",
        "\n"
      ]
    },
    {
      "cell_type": "code",
      "metadata": {
        "colab": {
          "base_uri": "https://localhost:8080/"
        },
        "id": "EX1_vmpd_9NO",
        "outputId": "00841049-3576-4986-ae82-6bf2a98d3f5f"
      },
      "source": [
        "# Use scikit-learn to grid search the number of neurons\n",
        "from keras.wrappers.scikit_learn import KerasClassifier\n",
        "from keras.constraints import maxnorm\n",
        "\n",
        "# Function to create model, required for KerasClassifier\n",
        "def create_model(neurons=1):\n",
        "\t# create model\n",
        "\tmodel = Sequential()\n",
        "\tmodel.add(Dense(neurons, input_dim=30, kernel_initializer='uniform', activation='relu', kernel_constraint=maxnorm(4)))\n",
        "\t#model.add(Dropout(0.2))\n",
        "\tmodel.add(Dense(1, kernel_initializer='uniform', activation='sigmoid'))\n",
        "\t# Compile model\n",
        "\tmodel.compile(loss='binary_crossentropy', optimizer='Adam', metrics=['accuracy'])\n",
        "\treturn model\n",
        "# fix random seed for reproducibility\n",
        "seed = 7\n",
        "np.random.seed(seed)\n",
        "\n",
        "# create model\n",
        "model = KerasClassifier(build_fn=create_model, epochs=10, batch_size=20, verbose=0)\n",
        "# define the grid search parameters\n",
        "neurons = [1, 5, 10, 15, 20, 25, 30]\n",
        "param_grid = dict(neurons=neurons)\n",
        "grid = GridSearchCV(estimator=model, param_grid=param_grid, n_jobs=-1, cv=3)\n",
        "grid_result = grid.fit(X, Y)\n",
        "# summarize results\n",
        "print(\"Best: %f using %s\" % (grid_result.best_score_, grid_result.best_params_))\n",
        "means = grid_result.cv_results_['mean_test_score']\n",
        "stds = grid_result.cv_results_['std_test_score']\n",
        "params = grid_result.cv_results_['params']\n",
        "for mean, stdev, param in zip(means, stds, params):\n",
        "    print(\"%f (%f) with: %r\" % (mean, stdev, param))"
      ],
      "execution_count": null,
      "outputs": [
        {
          "output_type": "stream",
          "name": "stdout",
          "text": [
            "Best: 0.881011 using {'neurons': 25}\n",
            "0.718096 (0.347545) with: {'neurons': 1}\n",
            "0.869515 (0.072287) with: {'neurons': 5}\n",
            "0.870336 (0.071337) with: {'neurons': 10}\n",
            "0.880776 (0.085542) with: {'neurons': 15}\n",
            "0.873796 (0.076238) with: {'neurons': 20}\n",
            "0.881011 (0.085286) with: {'neurons': 25}\n",
            "0.880717 (0.085181) with: {'neurons': 30}\n"
          ]
        }
      ]
    },
    {
      "cell_type": "markdown",
      "metadata": {
        "id": "hYIazsSTIDGx"
      },
      "source": [
        "### Modify the model based on the hyperparameter tuning results in previous cells"
      ]
    },
    {
      "cell_type": "code",
      "metadata": {
        "colab": {
          "base_uri": "https://localhost:8080/"
        },
        "id": "bSIWt1ECPsYc",
        "outputId": "6aecba22-44cf-41b0-a28c-d1594333084b"
      },
      "source": [
        "# evaluate baseline model with standardized dataset\n",
        "# 30 epochs, time: 20', acc: 100.00%. \n",
        "estimators = []\n",
        "estimators.append(('standardize', StandardScaler()))\n",
        "estimators.append(('mlp', KerasClassifier(build_fn=create_baseline, epochs=30, batch_size=5, verbose=0)))\n",
        "pipeline = Pipeline(estimators)\n",
        "kfold = StratifiedKFold(n_splits=10, shuffle=True)\n",
        "results = cross_val_score(pipeline, X, encoded_Y, cv=kfold)\n",
        "print(\"Standardized: %.2f%% (%.2f%%)\" % (results.mean()*100, results.std()*100))"
      ],
      "execution_count": null,
      "outputs": [
        {
          "output_type": "stream",
          "name": "stdout",
          "text": [
            "Standardized: 100.00% (0.00%)\n"
          ]
        }
      ]
    },
    {
      "cell_type": "code",
      "metadata": {
        "id": "b7ALge_jO_Z0"
      },
      "source": [
        ""
      ],
      "execution_count": null,
      "outputs": []
    },
    {
      "cell_type": "markdown",
      "metadata": {
        "id": "nvAnBSIUKDbD"
      },
      "source": [
        "#### Treat overfitting issue"
      ]
    },
    {
      "cell_type": "markdown",
      "metadata": {
        "id": "9WcMD-G2PUIu"
      },
      "source": [
        "##### Gradual reduction of learning rate\n"
      ]
    },
    {
      "cell_type": "code",
      "metadata": {
        "id": "HFA_zqXSPqmM"
      },
      "source": [
        "N_VALIDATION = 1808 \n",
        "N_TRAIN = 18715\n",
        "BUFFER_SIZE = int(1e4)\n",
        "BATCH_SIZE = 500\n",
        "STEPS_PER_EPOCH = N_TRAIN//BATCH_SIZE\n",
        "\n",
        "FEATURES = 30\n"
      ],
      "execution_count": null,
      "outputs": []
    },
    {
      "cell_type": "code",
      "metadata": {
        "id": "0L4mArkLKNNS"
      },
      "source": [
        "lr_schedule = tf.keras.optimizers.schedules.InverseTimeDecay(\n",
        "  0.001,\n",
        "  decay_steps=STEPS_PER_EPOCH*1000,\n",
        "  decay_rate=1,\n",
        "  staircase=False)\n",
        "\n",
        "def get_optimizer():\n",
        "  return tf.keras.optimizers.Adam(lr_schedule)"
      ],
      "execution_count": null,
      "outputs": []
    },
    {
      "cell_type": "code",
      "metadata": {
        "colab": {
          "base_uri": "https://localhost:8080/",
          "height": 388
        },
        "id": "TxsEgFskQVB2",
        "outputId": "7fd0e770-b744-4839-89ed-73e78bdb47ba"
      },
      "source": [
        "step = np.linspace(0,100000)\n",
        "lr = lr_schedule(step)\n",
        "plt.figure(figsize = (8,6))\n",
        "plt.plot(step/STEPS_PER_EPOCH, lr)\n",
        "plt.ylim([0,max(plt.ylim())])\n",
        "plt.xlabel('Epoch')\n",
        "_ = plt.ylabel('Learning Rate')\n"
      ],
      "execution_count": null,
      "outputs": [
        {
          "output_type": "display_data",
          "data": {
            "image/png": "[encoded data removed]",
            "text/plain": [
              "<Figure size 576x432 with 1 Axes>"
            ]
          },
          "metadata": {
            "needs_background": "light"
          }
        }
      ]
    },
    {
      "cell_type": "markdown",
      "metadata": {
        "id": "9dI-rnaZQkyu"
      },
      "source": [
        "###### Tensorboard "
      ]
    },
    {
      "cell_type": "code",
      "metadata": {
        "id": "6pYy6R7AQd-C"
      },
      "source": [
        "def get_callbacks(name):\n",
        "  return [\n",
        "    tfdocs.modeling.EpochDots(),\n",
        "    tf.keras.callbacks.EarlyStopping(monitor='val_binary_crossentropy', patience=200),\n",
        "    tf.keras.callbacks.TensorBoard(logdir/name),\n",
        "  ]\n"
      ],
      "execution_count": null,
      "outputs": []
    },
    {
      "cell_type": "code",
      "metadata": {
        "id": "wlTokPmUQsTL"
      },
      "source": [
        "\n",
        "def compile_and_fit(model, name, optimizer=None, max_epochs=10000):\n",
        "  if optimizer is None:\n",
        "    optimizer = get_optimizer()\n",
        "\n",
        "  # Compile model\n",
        " \n",
        "  model.compile(optimizer=optimizer,\n",
        "                loss=tf.keras.losses.BinaryCrossentropy(from_logits=True),#\n",
        "                metrics=[\n",
        "                  tf.keras.losses.BinaryCrossentropy(\n",
        "                      from_logits=True, name='binary_crossentropy'),\n",
        "                  'accuracy'\n",
        "                  ])\n",
        "\n",
        "  model.summary()\n",
        "\n",
        "  history = model.fit(\n",
        "    train_new_X,#X,\n",
        "    train_new_y,#Y,#dataset,\n",
        "    #steps_per_epoch = STEPS_PER_EPOCH,\n",
        "    epochs = max_epochs,\n",
        "    validation_data = (val_new_X, val_new_y),#dataset_val, \n",
        "    callbacks = get_callbacks(name),\n",
        "    verbose = 0)\n",
        "  return history"
      ],
      "execution_count": null,
      "outputs": []
    },
    {
      "cell_type": "markdown",
      "metadata": {
        "id": "cg4S7rJ1RYbc"
      },
      "source": [
        "##### Tiny model"
      ]
    },
    {
      "cell_type": "code",
      "metadata": {
        "colab": {
          "base_uri": "https://localhost:8080/"
        },
        "id": "njPekjDYRUfz",
        "outputId": "42acc2e7-29d2-432c-85f4-a8659e71bc6d"
      },
      "source": [
        "#!pip install git+https://github.com/tensorflow/docs\n",
        "\n",
        "from tensorflow.keras import layers\n",
        "import tensorflow_docs as tfdocs\n",
        "import tensorflow_docs.modeling\n",
        "import tensorflow_docs.plots\n",
        "\n",
        "import pathlib\n",
        "import tempfile\n",
        "import shutil"
      ],
      "execution_count": null,
      "outputs": [
        {
          "output_type": "stream",
          "name": "stdout",
          "text": [
            "Collecting git+https://github.com/tensorflow/docs\n",
            "  Cloning https://github.com/tensorflow/docs to /tmp/pip-req-build-vqxa8axf\n",
            "  Running command git clone -q https://github.com/tensorflow/docs /tmp/pip-req-build-vqxa8axf\n",
            "Requirement already satisfied: astor in /usr/local/lib/python3.7/dist-packages (from tensorflow-docs==0.0.0.dev0) (0.8.1)\n",
            "Requirement already satisfied: absl-py in /usr/local/lib/python3.7/dist-packages (from tensorflow-docs==0.0.0.dev0) (0.12.0)\n",
            "Requirement already satisfied: protobuf>=3.14 in /usr/local/lib/python3.7/dist-packages (from tensorflow-docs==0.0.0.dev0) (3.17.3)\n",
            "Requirement already satisfied: pyyaml in /usr/local/lib/python3.7/dist-packages (from tensorflow-docs==0.0.0.dev0) (3.13)\n",
            "Requirement already satisfied: six>=1.9 in /usr/local/lib/python3.7/dist-packages (from protobuf>=3.14->tensorflow-docs==0.0.0.dev0) (1.15.0)\n"
          ]
        }
      ]
    },
    {
      "cell_type": "code",
      "metadata": {
        "id": "wV7UB89Qgya-"
      },
      "source": [
        "tiny_model = tf.keras.Sequential([\n",
        "    layers.Dense(16, activation='relu', input_dim=29),#,input_shape=(FEATURES,)\n",
        "    layers.Dense(1)#, activation='sigmoid'\n",
        "])"
      ],
      "execution_count": null,
      "outputs": []
    },
    {
      "cell_type": "code",
      "metadata": {
        "id": "972te-vrTfRa"
      },
      "source": [
        "logdir = pathlib.Path(tempfile.mkdtemp())/\"tensorboard_logs\"\n",
        "shutil.rmtree(logdir, ignore_errors=True)"
      ],
      "execution_count": null,
      "outputs": []
    },
    {
      "cell_type": "code",
      "metadata": {
        "id": "KDlcIoUZSfXh"
      },
      "source": [
        "size_histories = {}"
      ],
      "execution_count": null,
      "outputs": []
    },
    {
      "cell_type": "code",
      "metadata": {
        "colab": {
          "base_uri": "https://localhost:8080/"
        },
        "id": "uKoAGkPzSiLz",
        "outputId": "a8cf4a1a-c012-454d-c3f3-1f82e3f99dbd"
      },
      "source": [
        "size_histories['Tiny'] = compile_and_fit(tiny_model, 'sizes/Tiny')"
      ],
      "execution_count": null,
      "outputs": [
        {
          "output_type": "stream",
          "name": "stdout",
          "text": [
            "Model: \"sequential_82\"\n",
            "_________________________________________________________________\n",
            "Layer (type)                 Output Shape              Param #   \n",
            "=================================================================\n",
            "dense_188 (Dense)            (None, 16)                496       \n",
            "_________________________________________________________________\n",
            "dense_189 (Dense)            (None, 1)                 17        \n",
            "=================================================================\n",
            "Total params: 513\n",
            "Trainable params: 513\n",
            "Non-trainable params: 0\n",
            "_________________________________________________________________\n",
            "WARNING:tensorflow:Callback method `on_train_batch_end` is slow compared to the batch time (batch time: 0.0024s vs `on_train_batch_end` time: 0.0804s). Check your callbacks.\n",
            "\n",
            "Epoch: 0, accuracy:0.9147,  binary_crossentropy:1017281600.0000,  loss:1017423168.0000,  val_accuracy:0.9110,  val_binary_crossentropy:825745.2500,  val_loss:821717.5000,  \n",
            "....................................................................................................\n",
            "Epoch: 100, accuracy:0.9307,  binary_crossentropy:574750.4375,  loss:574780.2500,  val_accuracy:0.9389,  val_binary_crossentropy:406264.7500,  val_loss:407518.4375,  \n",
            "....................................................................................................\n",
            "Epoch: 200, accuracy:0.9319,  binary_crossentropy:283689.3750,  loss:283658.5938,  val_accuracy:0.9110,  val_binary_crossentropy:1508011.5000,  val_loss:1500651.0000,  \n",
            "....................................................................................................\n",
            "Epoch: 300, accuracy:0.9307,  binary_crossentropy:242201.6562,  loss:242223.1094,  val_accuracy:0.9110,  val_binary_crossentropy:295421.6875,  val_loss:293972.8438,  \n",
            "....................................................................................................\n",
            "Epoch: 400, accuracy:0.9316,  binary_crossentropy:157020.3125,  loss:157009.3438,  val_accuracy:0.9389,  val_binary_crossentropy:284906.9062,  val_loss:285786.0938,  \n",
            "....................................................................................................\n",
            "Epoch: 500, accuracy:1.0000,  binary_crossentropy:0.0000,  loss:0.0000,  val_accuracy:1.0000,  val_binary_crossentropy:0.0000,  val_loss:0.0000,  \n",
            "..............................................................."
          ]
        }
      ]
    },
    {
      "cell_type": "code",
      "metadata": {
        "colab": {
          "base_uri": "https://localhost:8080/",
          "height": 624
        },
        "id": "2lxH9Pg-XB76",
        "outputId": "15a6e284-1b4e-41fc-c688-e250ff682132"
      },
      "source": [
        "plotter = tfdocs.plots.HistoryPlotter(metric = 'binary_crossentropy', smoothing_std=20)\n",
        "plotter.plot(size_histories)\n",
        "plt.ylim([0, 900000])"
      ],
      "execution_count": null,
      "outputs": [
        {
          "output_type": "execute_result",
          "data": {
            "text/plain": [
              "(0.0, 750000.0)"
            ]
          },
          "metadata": {},
          "execution_count": 275
        },
        {
          "output_type": "display_data",
          "data": {
            "image/png": "[encoded data removed]",
            "text/plain": [
              "<Figure size 864x720 with 1 Axes>"
            ]
          },
          "metadata": {
            "needs_background": "light"
          }
        }
      ]
    },
    {
      "cell_type": "markdown",
      "metadata": {
        "id": "-OIFeJOnXEpW"
      },
      "source": [
        "##### Small model"
      ]
    },
    {
      "cell_type": "code",
      "metadata": {
        "id": "RIMLnnWuXHVA"
      },
      "source": [
        "small_model = tf.keras.Sequential([\n",
        "    # `input_shape` is only required here so that `.summary` works.\n",
        "    layers.Dense(16, activation='relu', input_dim=29),\n",
        "    layers.Dense(16, activation='relu'),\n",
        "    layers.Dense(1)#, activation='sigmoid'\n",
        "])"
      ],
      "execution_count": null,
      "outputs": []
    },
    {
      "cell_type": "code",
      "metadata": {
        "colab": {
          "base_uri": "https://localhost:8080/"
        },
        "id": "lruWjrRTXSUY",
        "outputId": "e69972dc-235a-461a-d17d-d2238e751dc4"
      },
      "source": [
        "size_histories['Small'] = compile_and_fit(small_model, 'sizes/Small')"
      ],
      "execution_count": null,
      "outputs": [
        {
          "output_type": "stream",
          "name": "stdout",
          "text": [
            "Model: \"sequential_67\"\n",
            "_________________________________________________________________\n",
            "Layer (type)                 Output Shape              Param #   \n",
            "=================================================================\n",
            "dense_152 (Dense)            (None, 16)                496       \n",
            "_________________________________________________________________\n",
            "dense_153 (Dense)            (None, 16)                272       \n",
            "_________________________________________________________________\n",
            "dense_154 (Dense)            (None, 1)                 17        \n",
            "=================================================================\n",
            "Total params: 785\n",
            "Trainable params: 785\n",
            "Non-trainable params: 0\n",
            "_________________________________________________________________\n",
            "WARNING:tensorflow:Callback method `on_train_batch_end` is slow compared to the batch time (batch time: 0.0024s vs `on_train_batch_end` time: 0.0102s). Check your callbacks.\n",
            "\n",
            "Epoch: 0, accuracy:0.8955,  binary_crossentropy:166410944.0000,  loss:166454304.0000,  val_accuracy:0.7600,  val_binary_crossentropy:21400818.0000,  val_loss:21483326.0000,  \n",
            "....................................................................................................\n",
            "Epoch: 100, accuracy:0.9384,  binary_crossentropy:0.0950,  loss:0.0950,  val_accuracy:0.9652,  val_binary_crossentropy:1.8264,  val_loss:1.8419,  \n",
            "....................................................................................................\n",
            "Epoch: 200, accuracy:0.9384,  binary_crossentropy:0.0950,  loss:0.0950,  val_accuracy:0.9652,  val_binary_crossentropy:1.8242,  val_loss:1.8397,  \n",
            ".........................................................................................."
          ]
        }
      ]
    },
    {
      "cell_type": "markdown",
      "metadata": {
        "id": "WI0Uq3f6XWYV"
      },
      "source": [
        "##### Medium model"
      ]
    },
    {
      "cell_type": "code",
      "metadata": {
        "id": "hY_Lxm2qXUb9"
      },
      "source": [
        "medium_model = tf.keras.Sequential([\n",
        "    layers.Dense(30, activation='relu',  input_dim=29),\n",
        "    layers.Dense(30, activation='relu'),\n",
        "    layers.Dense(30, activation='relu'),\n",
        "    layers.Dense(1)#, activation='sigmoid'\n",
        "])\n"
      ],
      "execution_count": null,
      "outputs": []
    },
    {
      "cell_type": "code",
      "metadata": {
        "colab": {
          "base_uri": "https://localhost:8080/"
        },
        "id": "kUd9ol7-XePP",
        "outputId": "b5d914c1-9080-4d05-f00b-c6032c17e5c1"
      },
      "source": [
        "size_histories['Medium']  = compile_and_fit(medium_model, \"sizes/Medium\")"
      ],
      "execution_count": null,
      "outputs": [
        {
          "output_type": "stream",
          "name": "stdout",
          "text": [
            "Model: \"sequential_68\"\n",
            "_________________________________________________________________\n",
            "Layer (type)                 Output Shape              Param #   \n",
            "=================================================================\n",
            "dense_155 (Dense)            (None, 30)                930       \n",
            "_________________________________________________________________\n",
            "dense_156 (Dense)            (None, 30)                930       \n",
            "_________________________________________________________________\n",
            "dense_157 (Dense)            (None, 30)                930       \n",
            "_________________________________________________________________\n",
            "dense_158 (Dense)            (None, 1)                 31        \n",
            "=================================================================\n",
            "Total params: 2,821\n",
            "Trainable params: 2,821\n",
            "Non-trainable params: 0\n",
            "_________________________________________________________________\n",
            "WARNING:tensorflow:Callback method `on_train_batch_end` is slow compared to the batch time (batch time: 0.0031s vs `on_train_batch_end` time: 0.0151s). Check your callbacks.\n",
            "\n",
            "Epoch: 0, accuracy:0.8966,  binary_crossentropy:23294272.0000,  loss:23300394.0000,  val_accuracy:0.5708,  val_binary_crossentropy:28400392.0000,  val_loss:28509882.0000,  \n",
            "....................................................................................................\n",
            "Epoch: 100, accuracy:0.9384,  binary_crossentropy:0.0950,  loss:0.0950,  val_accuracy:0.9690,  val_binary_crossentropy:0.1555,  val_loss:0.1562,  \n",
            "....................................................................................................\n",
            "Epoch: 200, accuracy:0.9384,  binary_crossentropy:0.0950,  loss:0.0950,  val_accuracy:0.9679,  val_binary_crossentropy:0.1704,  val_loss:0.1713,  \n",
            "........................................................................................."
          ]
        }
      ]
    },
    {
      "cell_type": "markdown",
      "metadata": {
        "id": "yqhCfbvOXkXo"
      },
      "source": [
        "##### Large model"
      ]
    },
    {
      "cell_type": "code",
      "metadata": {
        "id": "Qo7YPnJEXgV1"
      },
      "source": [
        "large_model = tf.keras.Sequential([\n",
        "    layers.Dense(60, activation='relu',  input_dim = 29),\n",
        "    layers.Dense(60, activation='relu'),\n",
        "    layers.Dense(60, activation='relu'),\n",
        "    layers.Dense(60, activation='relu'),\n",
        "    layers.Dense(1, activation='sigmoid')\n",
        "])"
      ],
      "execution_count": null,
      "outputs": []
    },
    {
      "cell_type": "code",
      "metadata": {
        "colab": {
          "base_uri": "https://localhost:8080/"
        },
        "id": "wQBihsVmXsiz",
        "outputId": "e3c48f02-70bf-4c4c-865b-38a7e3b14022"
      },
      "source": [
        "size_histories['large'] = compile_and_fit(large_model, \"sizes/large\")"
      ],
      "execution_count": null,
      "outputs": [
        {
          "output_type": "stream",
          "name": "stdout",
          "text": [
            "Model: \"sequential_23\"\n",
            "_________________________________________________________________\n",
            "Layer (type)                 Output Shape              Param #   \n",
            "=================================================================\n",
            "dense_61 (Dense)             (None, 60)                1860      \n",
            "_________________________________________________________________\n",
            "dense_62 (Dense)             (None, 60)                3660      \n",
            "_________________________________________________________________\n",
            "dense_63 (Dense)             (None, 60)                3660      \n",
            "_________________________________________________________________\n",
            "dense_64 (Dense)             (None, 60)                3660      \n",
            "_________________________________________________________________\n",
            "dense_65 (Dense)             (None, 1)                 61        \n",
            "=================================================================\n",
            "Total params: 12,901\n",
            "Trainable params: 12,901\n",
            "Non-trainable params: 0\n",
            "_________________________________________________________________\n"
          ]
        },
        {
          "output_type": "stream",
          "name": "stderr",
          "text": [
            "/usr/local/lib/python3.7/dist-packages/keras/backend.py:4994: UserWarning: \"`binary_crossentropy` received `from_logits=True`, but the `output` argument was produced by a sigmoid or softmax activation and thus does not represent logits. Was this intended?\"\n",
            "  '\"`binary_crossentropy` received `from_logits=True`, but the `output`'\n"
          ]
        },
        {
          "output_type": "stream",
          "name": "stdout",
          "text": [
            "WARNING:tensorflow:Callback method `on_train_batch_end` is slow compared to the batch time (batch time: 0.0036s vs `on_train_batch_end` time: 0.0123s). Check your callbacks.\n",
            "\n",
            "Epoch: 0, accuracy:0.7871,  binary_crossentropy:72090512.0000,  loss:72107648.0000,  val_accuracy:0.1798,  val_binary_crossentropy:96354720.0000,  val_loss:96726192.0000,  \n",
            "....................................................................................................\n",
            "Epoch: 100, accuracy:0.9332,  binary_crossentropy:164147.1094,  loss:164143.7031,  val_accuracy:0.7777,  val_binary_crossentropy:549724.1875,  val_loss:551843.5000,  \n",
            "....................................................................................................\n",
            "Epoch: 200, accuracy:0.9384,  binary_crossentropy:0.0950,  loss:0.0950,  val_accuracy:0.9690,  val_binary_crossentropy:0.1552,  val_loss:0.1559,  \n",
            "....................................................................................................\n",
            "Epoch: 300, accuracy:0.9384,  binary_crossentropy:0.0950,  loss:0.0950,  val_accuracy:0.9690,  val_binary_crossentropy:0.1552,  val_loss:0.1560,  \n",
            "....................................................................................................\n",
            "Epoch: 400, accuracy:0.9384,  binary_crossentropy:0.0950,  loss:0.0950,  val_accuracy:0.9690,  val_binary_crossentropy:0.1550,  val_loss:0.1557,  \n",
            "....................................................................................................\n",
            "Epoch: 500, accuracy:0.9384,  binary_crossentropy:0.0950,  loss:0.0950,  val_accuracy:0.9690,  val_binary_crossentropy:0.1554,  val_loss:0.1561,  \n",
            "................................................................................."
          ]
        }
      ]
    },
    {
      "cell_type": "markdown",
      "metadata": {
        "id": "3ONeaXTQXypZ"
      },
      "source": [
        "##### Plot the training and validation losses"
      ]
    },
    {
      "cell_type": "code",
      "metadata": {
        "colab": {
          "base_uri": "https://localhost:8080/",
          "height": 638
        },
        "id": "W1XmMBgpXuoA",
        "outputId": "2da25743-adcd-4eee-b1aa-25d9a9dcb6b0"
      },
      "source": [
        "plotter.plot(size_histories)\n",
        "a = plt.xscale('log')\n",
        "plt.xlim([5, max(plt.xlim())])\n",
        "plt.ylim([0, 20000000])#[0.5, 0.7]\n",
        "plt.xlabel(\"Epochs [Log Scale]\")"
      ],
      "execution_count": null,
      "outputs": [
        {
          "output_type": "execute_result",
          "data": {
            "text/plain": [
              "Text(0.5, 0, 'Epochs [Log Scale]')"
            ]
          },
          "metadata": {},
          "execution_count": 284
        },
        {
          "output_type": "display_data",
          "data": {
            "image/png": "[encoded data removed]",
            "text/plain": [
              "<Figure size 864x720 with 1 Axes>"
            ]
          },
          "metadata": {
            "needs_background": "light"
          }
        }
      ]
    },
    {
      "cell_type": "code",
      "metadata": {
        "colab": {
          "base_uri": "https://localhost:8080/",
          "height": 172
        },
        "id": "iClkry7wbhWb",
        "outputId": "af1eb237-92ba-4e8c-9087-891a608b0ee5"
      },
      "source": [
        "while True:pass"
      ],
      "execution_count": null,
      "outputs": [
        {
          "output_type": "error",
          "ename": "KeyboardInterrupt",
          "evalue": "ignored",
          "traceback": [
            "\u001b[0;31m---------------------------------------------------------------------------\u001b[0m",
            "\u001b[0;31mKeyboardInterrupt\u001b[0m                         Traceback (most recent call last)",
            "\u001b[0;32m<ipython-input-504-534b7a74019f>\u001b[0m in \u001b[0;36m<module>\u001b[0;34m()\u001b[0m\n\u001b[0;32m----> 1\u001b[0;31m \u001b[0;32mwhile\u001b[0m \u001b[0;32mTrue\u001b[0m\u001b[0;34m:\u001b[0m\u001b[0;32mpass\u001b[0m\u001b[0;34m\u001b[0m\u001b[0;34m\u001b[0m\u001b[0m\n\u001b[0m",
            "\u001b[0;31mKeyboardInterrupt\u001b[0m: "
          ]
        }
      ]
    },
    {
      "cell_type": "markdown",
      "metadata": {
        "id": "JmGa66eqTR1A"
      },
      "source": [
        "## List of used sources :\n",
        "\n",
        "\n",
        "> [Grid_search_hyperparameters](https://machinelearningmastery.com/grid-search-hyperparameters-deep-learning-models-python-keras/)\n",
        "\n",
        "\n",
        "> [predict and test performance](https://github.com/dipanjanS/practical-machine-learning-with-python/blob/master/notebooks/Ch04_Feature_Engineering_and_Selection/Bonus%20-%20Classifying%20handwritten%20digits%20using%20Deep%20CNNs.ipynb)\n",
        "\n",
        "\n",
        "> [probability class](https://androidkt.com/get-class-labels-from-predict-method-in-keras/)\n",
        "\n",
        "\n",
        "\n",
        "> [Overfitting](https://www.tensorflow.org/tutorials/keras/overfit_and_underfit)\n",
        "\n",
        "\n",
        "\n",
        "> [Overfitting Machine Learning Models](https://machinelearningmastery.com/overfitting-machine-learning-models/)\n",
        "\n",
        "\n",
        "\n",
        "\n",
        "\n",
        "\n",
        "\n",
        "\n"
      ]
    }
  ]
}