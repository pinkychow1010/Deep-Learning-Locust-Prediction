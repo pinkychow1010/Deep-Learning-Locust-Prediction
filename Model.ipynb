{
  "nbformat": 4,
  "nbformat_minor": 0,
  "metadata": {
    "colab": {
      "name": "Model.ipynb",
      "provenance": [],
      "collapsed_sections": [],
      "toc_visible": true,
      "authorship_tag": "ABX9TyMRCBbykDkq2e2FOaj8RyQ0",
      "include_colab_link": true
    },
    "kernelspec": {
      "name": "python3",
      "display_name": "Python 3"
    },
    "language_info": {
      "name": "python"
    },
    "accelerator": "GPU"
  },
  "cells": [
    {
      "cell_type": "markdown",
      "metadata": {
        "id": "view-in-github",
        "colab_type": "text"
      },
      "source": [
        "<a href=\"https://colab.research.google.com/github/pinkychow1010/DeepLearning_LocustPrediction/blob/main/Model.ipynb\" target=\"_parent\"><img src=\"https://colab.research.google.com/assets/colab-badge.svg\" alt=\"Open In Colab\"/></a>"
      ]
    },
    {
      "cell_type": "markdown",
      "metadata": {
        "id": "PoBnWpkcxtwR"
      },
      "source": [
        "## This notebook includes 4 sections: \n",
        "\n",
        "\n",
        "1.   Train, validation & test data\n",
        "2.   Model creation and hyperparameter tuning\n",
        "3.   Model Evaluation\n",
        "4.   Unnecessary analysis\n",
        "\n",
        "\n"
      ]
    },
    {
      "cell_type": "markdown",
      "metadata": {
        "id": "s8SvZVTUyg3n"
      },
      "source": [
        "## Section 1\n",
        "### Train, validation & test data"
      ]
    },
    {
      "cell_type": "code",
      "metadata": {
        "id": "Wa0sU8WXZqUk"
      },
      "source": [
        "import pandas as pd\n",
        "import io\n",
        "import seaborn as sns\n",
        "import numpy as np\n",
        "import matplotlib as mpl\n",
        "import matplotlib.pyplot as plt\n",
        "from keras.models import Sequential\n",
        "from keras.layers import Dense\n",
        "from keras.wrappers.scikit_learn import KerasClassifier\n",
        "import tensorflow as tf\n",
        "from sklearn.model_selection import cross_val_score\n",
        "from sklearn.preprocessing import LabelEncoder\n",
        "from sklearn.model_selection import StratifiedKFold\n",
        "from sklearn.preprocessing import StandardScaler\n",
        "from sklearn.pipeline import Pipeline\n",
        "# machine learning\n",
        "from sklearn.linear_model import LogisticRegression\n",
        "from sklearn.svm import SVC, LinearSVC\n",
        "from sklearn.ensemble import RandomForestClassifier\n",
        "from sklearn.neighbors import KNeighborsClassifier\n",
        "from sklearn.naive_bayes import GaussianNB\n",
        "from sklearn.linear_model import Perceptron\n",
        "from sklearn.linear_model import SGDClassifier\n",
        "from sklearn.tree import DecisionTreeClassifier\n",
        "from sklearn.model_selection import GridSearchCV"
      ],
      "execution_count": 6,
      "outputs": []
    },
    {
      "cell_type": "markdown",
      "metadata": {
        "id": "xa6aqmiK_t1c"
      },
      "source": [
        "### Train data  \n",
        "#### FLDAS, Landsat, SRTM"
      ]
    },
    {
      "cell_type": "markdown",
      "metadata": {
        "id": "Kz9M71k1_LcT"
      },
      "source": [
        "#### FLDAS data"
      ]
    },
    {
      "cell_type": "code",
      "metadata": {
        "id": "kl_ZeyqxOtkc",
        "colab": {
          "resources": {
            "http://localhost:8080/nbextensions/google.colab/files.js": {
              "data": "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",
              "ok": true,
              "headers": [
                [
                  "content-type",
                  "application/javascript"
                ]
              ],
              "status": 200,
              "status_text": "OK"
            }
          },
          "base_uri": "https://localhost:8080/",
          "height": 93
        },
        "outputId": "5f87b06d-797b-463f-9e5d-e51eebf92e6a"
      },
      "source": [
        "# load train data\n",
        "# select the \"tmax_1980_2018.csv\" from your local project drive\n",
        "from google.colab import files\n",
        "uploaded = files.upload()\n",
        "\n",
        "df_data_train_98_99 = pd.read_csv(io.BytesIO(uploaded['FLDAS_98_99_extracted.csv']))\n",
        "\n",
        "#dataset = dataframe.values\n",
        "df_data_train_98_99.head(3)\n",
        "print(df_data_train_98_99.shape)"
      ],
      "execution_count": 7,
      "outputs": [
        {
          "output_type": "display_data",
          "data": {
            "text/html": [
              "\n",
              "     <input type=\"file\" id=\"files-1539c931-d0d6-4a28-bbe1-f18bd8615ab9\" name=\"files[]\" multiple disabled\n",
              "        style=\"border:none\" />\n",
              "     <output id=\"result-1539c931-d0d6-4a28-bbe1-f18bd8615ab9\">\n",
              "      Upload widget is only available when the cell has been executed in the\n",
              "      current browser session. Please rerun this cell to enable.\n",
              "      </output>\n",
              "      <script src=\"/nbextensions/google.colab/files.js\"></script> "
            ],
            "text/plain": [
              "<IPython.core.display.HTML object>"
            ]
          },
          "metadata": {}
        },
        {
          "output_type": "stream",
          "name": "stdout",
          "text": [
            "Saving FLDAS_98_99_extracted.csv to FLDAS_98_99_extracted.csv\n",
            "(2418, 26)\n"
          ]
        }
      ]
    },
    {
      "cell_type": "code",
      "metadata": {
        "colab": {
          "resources": {
            "http://localhost:8080/nbextensions/google.colab/files.js": {
              "data": "Ly8gQ29weXJpZ2h0IDIwMTcgR29vZ2xlIExMQwovLwovLyBMaWNlbnNlZCB1bmRlciB0aGUgQXBhY2hlIExpY2Vuc2UsIFZlcnNpb24gMi4wICh0aGUgIkxpY2Vuc2UiKTsKLy8geW91IG1heSBub3QgdXNlIHRoaXMgZmlsZSBleGNlcHQgaW4gY29tcGxpYW5jZSB3aXRoIHRoZSBMaWNlbnNlLgovLyBZb3UgbWF5IG9idGFpbiBhIGNvcHkgb2YgdGhlIExpY2Vuc2UgYXQKLy8KLy8gICAgICBodHRwOi8vd3d3LmFwYWNoZS5vcmcvbGljZW5zZXMvTElDRU5TRS0yLjAKLy8KLy8gVW5sZXNzIHJlcXVpcmVkIGJ5IGFwcGxpY2FibGUgbGF3IG9yIGFncmVlZCB0byBpbiB3cml0aW5nLCBzb2Z0d2FyZQovLyBkaXN0cmlidXRlZCB1bmRlciB0aGUgTGljZW5zZSBpcyBkaXN0cmlidXRlZCBvbiBhbiAiQVMgSVMiIEJBU0lTLAovLyBXSVRIT1VUIFdBUlJBTlRJRVMgT1IgQ09ORElUSU9OUyBPRiBBTlkgS0lORCwgZWl0aGVyIGV4cHJlc3Mgb3IgaW1wbGllZC4KLy8gU2VlIHRoZSBMaWNlbnNlIGZvciB0aGUgc3BlY2lmaWMgbGFuZ3VhZ2UgZ292ZXJuaW5nIHBlcm1pc3Npb25zIGFuZAovLyBsaW1pdGF0aW9ucyB1bmRlciB0aGUgTGljZW5zZS4KCi8qKgogKiBAZmlsZW92ZXJ2aWV3IEhlbHBlcnMgZm9yIGdvb2dsZS5jb2xhYiBQeXRob24gbW9kdWxlLgogKi8KKGZ1bmN0aW9uKHNjb3BlKSB7CmZ1bmN0aW9uIHNwYW4odGV4dCwgc3R5bGVBdHRyaWJ1dGVzID0ge30pIHsKICBjb25zdCBlbGVtZW50ID0gZG9jdW1lbnQuY3JlYXRlRWxlbWVudCgnc3BhbicpOwogIGVsZW1lbnQudGV4dENvbnRlbnQgPSB0ZXh0OwogIGZvciAoY29uc3Qga2V5IG9mIE9iamVjdC5rZXlzKHN0eWxlQXR0cmlidXRlcykpIHsKICAgIGVsZW1lbnQuc3R5bGVba2V5XSA9IHN0eWxlQXR0cmlidXRlc1trZXldOwogIH0KICByZXR1cm4gZWxlbWVudDsKfQoKLy8gTWF4IG51bWJlciBvZiBieXRlcyB3aGljaCB3aWxsIGJlIHVwbG9hZGVkIGF0IGEgdGltZS4KY29uc3QgTUFYX1BBWUxPQURfU0laRSA9IDEwMCAqIDEwMjQ7CgpmdW5jdGlvbiBfdXBsb2FkRmlsZXMoaW5wdXRJZCwgb3V0cHV0SWQpIHsKICBjb25zdCBzdGVwcyA9IHVwbG9hZEZpbGVzU3RlcChpbnB1dElkLCBvdXRwdXRJZCk7CiAgY29uc3Qgb3V0cHV0RWxlbWVudCA9IGRvY3VtZW50LmdldEVsZW1lbnRCeUlkKG91dHB1dElkKTsKICAvLyBDYWNoZSBzdGVwcyBvbiB0aGUgb3V0cHV0RWxlbWVudCB0byBtYWtlIGl0IGF2YWlsYWJsZSBmb3IgdGhlIG5leHQgY2FsbAogIC8vIHRvIHVwbG9hZEZpbGVzQ29udGludWUgZnJvbSBQeXRob24uCiAgb3V0cHV0RWxlbWVudC5zdGVwcyA9IHN0ZXBzOwoKICByZXR1cm4gX3VwbG9hZEZpbGVzQ29udGludWUob3V0cHV0SWQpOwp9CgovLyBUaGlzIGlzIHJvdWdobHkgYW4gYXN5bmMgZ2VuZXJhdG9yIChub3Qgc3VwcG9ydGVkIGluIHRoZSBicm93c2VyIHlldCksCi8vIHdoZXJlIHRoZXJlIGFyZSBtdWx0aXBsZSBhc3luY2hyb25vdXMgc3RlcHMgYW5kIHRoZSBQeXRob24gc2lkZSBpcyBnb2luZwovLyB0byBwb2xsIGZvciBjb21wbGV0aW9uIG9mIGVhY2ggc3RlcC4KLy8gVGhpcyB1c2VzIGEgUHJvbWlzZSB0byBibG9jayB0aGUgcHl0aG9uIHNpZGUgb24gY29tcGxldGlvbiBvZiBlYWNoIHN0ZXAsCi8vIHRoZW4gcGFzc2VzIHRoZSByZXN1bHQgb2YgdGhlIHByZXZpb3VzIHN0ZXAgYXMgdGhlIGlucHV0IHRvIHRoZSBuZXh0IHN0ZXAuCmZ1bmN0aW9uIF91cGxvYWRGaWxlc0NvbnRpbnVlKG91dHB1dElkKSB7CiAgY29uc3Qgb3V0cHV0RWxlbWVudCA9IGRvY3VtZW50LmdldEVsZW1lbnRCeUlkKG91dHB1dElkKTsKICBjb25zdCBzdGVwcyA9IG91dHB1dEVsZW1lbnQuc3RlcHM7CgogIGNvbnN0IG5leHQgPSBzdGVwcy5uZXh0KG91dHB1dEVsZW1lbnQubGFzdFByb21pc2VWYWx1ZSk7CiAgcmV0dXJuIFByb21pc2UucmVzb2x2ZShuZXh0LnZhbHVlLnByb21pc2UpLnRoZW4oKHZhbHVlKSA9PiB7CiAgICAvLyBDYWNoZSB0aGUgbGFzdCBwcm9taXNlIHZhbHVlIHRvIG1ha2UgaXQgYXZhaWxhYmxlIHRvIHRoZSBuZXh0CiAgICAvLyBzdGVwIG9mIHRoZSBnZW5lcmF0b3IuCiAgICBvdXRwdXRFbGVtZW50Lmxhc3RQcm9taXNlVmFsdWUgPSB2YWx1ZTsKICAgIHJldHVybiBuZXh0LnZhbHVlLnJlc3BvbnNlOwogIH0pOwp9CgovKioKICogR2VuZXJhdG9yIGZ1bmN0aW9uIHdoaWNoIGlzIGNhbGxlZCBiZXR3ZWVuIGVhY2ggYXN5bmMgc3RlcCBvZiB0aGUgdXBsb2FkCiAqIHByb2Nlc3MuCiAqIEBwYXJhbSB7c3RyaW5nfSBpbnB1dElkIEVsZW1lbnQgSUQgb2YgdGhlIGlucHV0IGZpbGUgcGlja2VyIGVsZW1lbnQuCiAqIEBwYXJhbSB7c3RyaW5nfSBvdXRwdXRJZCBFbGVtZW50IElEIG9mIHRoZSBvdXRwdXQgZGlzcGxheS4KICogQHJldHVybiB7IUl0ZXJhYmxlPCFPYmplY3Q+fSBJdGVyYWJsZSBvZiBuZXh0IHN0ZXBzLgogKi8KZnVuY3Rpb24qIHVwbG9hZEZpbGVzU3RlcChpbnB1dElkLCBvdXRwdXRJZCkgewogIGNvbnN0IGlucHV0RWxlbWVudCA9IGRvY3VtZW50LmdldEVsZW1lbnRCeUlkKGlucHV0SWQpOwogIGlucHV0RWxlbWVudC5kaXNhYmxlZCA9IGZhbHNlOwoKICBjb25zdCBvdXRwdXRFbGVtZW50ID0gZG9jdW1lbnQuZ2V0RWxlbWVudEJ5SWQob3V0cHV0SWQpOwogIG91dHB1dEVsZW1lbnQuaW5uZXJIVE1MID0gJyc7CgogIGNvbnN0IHBpY2tlZFByb21pc2UgPSBuZXcgUHJvbWlzZSgocmVzb2x2ZSkgPT4gewogICAgaW5wdXRFbGVtZW50LmFkZEV2ZW50TGlzdGVuZXIoJ2NoYW5nZScsIChlKSA9PiB7CiAgICAgIHJlc29sdmUoZS50YXJnZXQuZmlsZXMpOwogICAgfSk7CiAgfSk7CgogIGNvbnN0IGNhbmNlbCA9IGRvY3VtZW50LmNyZWF0ZUVsZW1lbnQoJ2J1dHRvbicpOwogIGlucHV0RWxlbWVudC5wYXJlbnRFbGVtZW50LmFwcGVuZENoaWxkKGNhbmNlbCk7CiAgY2FuY2VsLnRleHRDb250ZW50ID0gJ0NhbmNlbCB1cGxvYWQnOwogIGNvbnN0IGNhbmNlbFByb21pc2UgPSBuZXcgUHJvbWlzZSgocmVzb2x2ZSkgPT4gewogICAgY2FuY2VsLm9uY2xpY2sgPSAoKSA9PiB7CiAgICAgIHJlc29sdmUobnVsbCk7CiAgICB9OwogIH0pOwoKICAvLyBXYWl0IGZvciB0aGUgdXNlciB0byBwaWNrIHRoZSBmaWxlcy4KICBjb25zdCBmaWxlcyA9IHlpZWxkIHsKICAgIHByb21pc2U6IFByb21pc2UucmFjZShbcGlja2VkUHJvbWlzZSwgY2FuY2VsUHJvbWlzZV0pLAogICAgcmVzcG9uc2U6IHsKICAgICAgYWN0aW9uOiAnc3RhcnRpbmcnLAogICAgfQogIH07CgogIGNhbmNlbC5yZW1vdmUoKTsKCiAgLy8gRGlzYWJsZSB0aGUgaW5wdXQgZWxlbWVudCBzaW5jZSBmdXJ0aGVyIHBpY2tzIGFyZSBub3QgYWxsb3dlZC4KICBpbnB1dEVsZW1lbnQuZGlzYWJsZWQgPSB0cnVlOwoKICBpZiAoIWZpbGVzKSB7CiAgICByZXR1cm4gewogICAgICByZXNwb25zZTogewogICAgICAgIGFjdGlvbjogJ2NvbXBsZXRlJywKICAgICAgfQogICAgfTsKICB9CgogIGZvciAoY29uc3QgZmlsZSBvZiBmaWxlcykgewogICAgY29uc3QgbGkgPSBkb2N1bWVudC5jcmVhdGVFbGVtZW50KCdsaScpOwogICAgbGkuYXBwZW5kKHNwYW4oZmlsZS5uYW1lLCB7Zm9udFdlaWdodDogJ2JvbGQnfSkpOwogICAgbGkuYXBwZW5kKHNwYW4oCiAgICAgICAgYCgke2ZpbGUudHlwZSB8fCAnbi9hJ30pIC0gJHtmaWxlLnNpemV9IGJ5dGVzLCBgICsKICAgICAgICBgbGFzdCBtb2RpZmllZDogJHsKICAgICAgICAgICAgZmlsZS5sYXN0TW9kaWZpZWREYXRlID8gZmlsZS5sYXN0TW9kaWZpZWREYXRlLnRvTG9jYWxlRGF0ZVN0cmluZygpIDoKICAgICAgICAgICAgICAgICAgICAgICAgICAgICAgICAgICAgJ24vYSd9IC0gYCkpOwogICAgY29uc3QgcGVyY2VudCA9IHNwYW4oJzAlIGRvbmUnKTsKICAgIGxpLmFwcGVuZENoaWxkKHBlcmNlbnQpOwoKICAgIG91dHB1dEVsZW1lbnQuYXBwZW5kQ2hpbGQobGkpOwoKICAgIGNvbnN0IGZpbGVEYXRhUHJvbWlzZSA9IG5ldyBQcm9taXNlKChyZXNvbHZlKSA9PiB7CiAgICAgIGNvbnN0IHJlYWRlciA9IG5ldyBGaWxlUmVhZGVyKCk7CiAgICAgIHJlYWRlci5vbmxvYWQgPSAoZSkgPT4gewogICAgICAgIHJlc29sdmUoZS50YXJnZXQucmVzdWx0KTsKICAgICAgfTsKICAgICAgcmVhZGVyLnJlYWRBc0FycmF5QnVmZmVyKGZpbGUpOwogICAgfSk7CiAgICAvLyBXYWl0IGZvciB0aGUgZGF0YSB0byBiZSByZWFkeS4KICAgIGxldCBmaWxlRGF0YSA9IHlpZWxkIHsKICAgICAgcHJvbWlzZTogZmlsZURhdGFQcm9taXNlLAogICAgICByZXNwb25zZTogewogICAgICAgIGFjdGlvbjogJ2NvbnRpbnVlJywKICAgICAgfQogICAgfTsKCiAgICAvLyBVc2UgYSBjaHVua2VkIHNlbmRpbmcgdG8gYXZvaWQgbWVzc2FnZSBzaXplIGxpbWl0cy4gU2VlIGIvNjIxMTU2NjAuCiAgICBsZXQgcG9zaXRpb24gPSAwOwogICAgZG8gewogICAgICBjb25zdCBsZW5ndGggPSBNYXRoLm1pbihmaWxlRGF0YS5ieXRlTGVuZ3RoIC0gcG9zaXRpb24sIE1BWF9QQVlMT0FEX1NJWkUpOwogICAgICBjb25zdCBjaHVuayA9IG5ldyBVaW50OEFycmF5KGZpbGVEYXRhLCBwb3NpdGlvbiwgbGVuZ3RoKTsKICAgICAgcG9zaXRpb24gKz0gbGVuZ3RoOwoKICAgICAgY29uc3QgYmFzZTY0ID0gYnRvYShTdHJpbmcuZnJvbUNoYXJDb2RlLmFwcGx5KG51bGwsIGNodW5rKSk7CiAgICAgIHlpZWxkIHsKICAgICAgICByZXNwb25zZTogewogICAgICAgICAgYWN0aW9uOiAnYXBwZW5kJywKICAgICAgICAgIGZpbGU6IGZpbGUubmFtZSwKICAgICAgICAgIGRhdGE6IGJhc2U2NCwKICAgICAgICB9LAogICAgICB9OwoKICAgICAgbGV0IHBlcmNlbnREb25lID0gZmlsZURhdGEuYnl0ZUxlbmd0aCA9PT0gMCA/CiAgICAgICAgICAxMDAgOgogICAgICAgICAgTWF0aC5yb3VuZCgocG9zaXRpb24gLyBmaWxlRGF0YS5ieXRlTGVuZ3RoKSAqIDEwMCk7CiAgICAgIHBlcmNlbnQudGV4dENvbnRlbnQgPSBgJHtwZXJjZW50RG9uZX0lIGRvbmVgOwoKICAgIH0gd2hpbGUgKHBvc2l0aW9uIDwgZmlsZURhdGEuYnl0ZUxlbmd0aCk7CiAgfQoKICAvLyBBbGwgZG9uZS4KICB5aWVsZCB7CiAgICByZXNwb25zZTogewogICAgICBhY3Rpb246ICdjb21wbGV0ZScsCiAgICB9CiAgfTsKfQoKc2NvcGUuZ29vZ2xlID0gc2NvcGUuZ29vZ2xlIHx8IHt9OwpzY29wZS5nb29nbGUuY29sYWIgPSBzY29wZS5nb29nbGUuY29sYWIgfHwge307CnNjb3BlLmdvb2dsZS5jb2xhYi5fZmlsZXMgPSB7CiAgX3VwbG9hZEZpbGVzLAogIF91cGxvYWRGaWxlc0NvbnRpbnVlLAp9Owp9KShzZWxmKTsK",
              "ok": true,
              "headers": [
                [
                  "content-type",
                  "application/javascript"
                ]
              ],
              "status": 200,
              "status_text": "OK"
            }
          },
          "base_uri": "https://localhost:8080/",
          "height": 93
        },
        "id": "A2S9_s2TR-ye",
        "outputId": "1792cf2a-63a1-4fc4-c6d3-e4763b087ba8"
      },
      "source": [
        "from google.colab import files\n",
        "uploaded = files.upload()\n",
        "\n",
        "df_data_train_00_01 = pd.read_csv(io.BytesIO(uploaded['FLDAS_00_01_extracted.csv']))\n",
        "\n",
        "#dataset = dataframe.values\n",
        "#df_data_train_00_01.head(3)\n",
        "print(df_data_train_00_01.shape)"
      ],
      "execution_count": 8,
      "outputs": [
        {
          "output_type": "display_data",
          "data": {
            "text/html": [
              "\n",
              "     <input type=\"file\" id=\"files-57f5908d-a81c-437e-ae91-ee49bedb697d\" name=\"files[]\" multiple disabled\n",
              "        style=\"border:none\" />\n",
              "     <output id=\"result-57f5908d-a81c-437e-ae91-ee49bedb697d\">\n",
              "      Upload widget is only available when the cell has been executed in the\n",
              "      current browser session. Please rerun this cell to enable.\n",
              "      </output>\n",
              "      <script src=\"/nbextensions/google.colab/files.js\"></script> "
            ],
            "text/plain": [
              "<IPython.core.display.HTML object>"
            ]
          },
          "metadata": {}
        },
        {
          "output_type": "stream",
          "name": "stdout",
          "text": [
            "Saving FLDAS_00_01_extracted.csv to FLDAS_00_01_extracted.csv\n",
            "(2390, 26)\n"
          ]
        }
      ]
    },
    {
      "cell_type": "code",
      "metadata": {
        "colab": {
          "resources": {
            "http://localhost:8080/nbextensions/google.colab/files.js": {
              "data": "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",
              "ok": true,
              "headers": [
                [
                  "content-type",
                  "application/javascript"
                ]
              ],
              "status": 200,
              "status_text": "OK"
            }
          },
          "base_uri": "https://localhost:8080/",
          "height": 93
        },
        "id": "qpzixZUDR--O",
        "outputId": "9b5e047c-d653-4e23-fde3-ffbee762ae36"
      },
      "source": [
        "from google.colab import files\n",
        "uploaded = files.upload()\n",
        "\n",
        "df_data_train_02_03 = pd.read_csv(io.BytesIO(uploaded['FLDAS_02_03_extracted.csv']))\n",
        "\n",
        "#dataset = dataframe.values\n",
        "df_data_train_02_03.head(3)\n",
        "print(df_data_train_02_03.shape)"
      ],
      "execution_count": 9,
      "outputs": [
        {
          "output_type": "display_data",
          "data": {
            "text/html": [
              "\n",
              "     <input type=\"file\" id=\"files-22ea4ba9-8c78-4ad5-afc3-612d6fff85f6\" name=\"files[]\" multiple disabled\n",
              "        style=\"border:none\" />\n",
              "     <output id=\"result-22ea4ba9-8c78-4ad5-afc3-612d6fff85f6\">\n",
              "      Upload widget is only available when the cell has been executed in the\n",
              "      current browser session. Please rerun this cell to enable.\n",
              "      </output>\n",
              "      <script src=\"/nbextensions/google.colab/files.js\"></script> "
            ],
            "text/plain": [
              "<IPython.core.display.HTML object>"
            ]
          },
          "metadata": {}
        },
        {
          "output_type": "stream",
          "name": "stdout",
          "text": [
            "Saving FLDAS_02_03_extracted.csv to FLDAS_02_03_extracted.csv\n",
            "(2548, 26)\n"
          ]
        }
      ]
    },
    {
      "cell_type": "code",
      "metadata": {
        "colab": {
          "resources": {
            "http://localhost:8080/nbextensions/google.colab/files.js": {
              "data": "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",
              "ok": true,
              "headers": [
                [
                  "content-type",
                  "application/javascript"
                ]
              ],
              "status": 200,
              "status_text": "OK"
            }
          },
          "base_uri": "https://localhost:8080/",
          "height": 93
        },
        "id": "8ivt4kmxR_En",
        "outputId": "9fbf7cc7-23fd-45ed-c8f8-d5243b28ca30"
      },
      "source": [
        "from google.colab import files\n",
        "uploaded = files.upload()\n",
        "\n",
        "df_data_train_04 = pd.read_csv(io.BytesIO(uploaded['FLDAS_04_extracted.csv']))\n",
        "\n",
        "#dataset = dataframe.values  \n",
        "df_data_train_04.head(3)  \n",
        "print(df_data_train_04.shape)  "
      ],
      "execution_count": 10,
      "outputs": [
        {
          "output_type": "display_data",
          "data": {
            "text/html": [
              "\n",
              "     <input type=\"file\" id=\"files-857bf2f9-060f-4959-83e2-6c74224ff40d\" name=\"files[]\" multiple disabled\n",
              "        style=\"border:none\" />\n",
              "     <output id=\"result-857bf2f9-060f-4959-83e2-6c74224ff40d\">\n",
              "      Upload widget is only available when the cell has been executed in the\n",
              "      current browser session. Please rerun this cell to enable.\n",
              "      </output>\n",
              "      <script src=\"/nbextensions/google.colab/files.js\"></script> "
            ],
            "text/plain": [
              "<IPython.core.display.HTML object>"
            ]
          },
          "metadata": {}
        },
        {
          "output_type": "stream",
          "name": "stdout",
          "text": [
            "Saving FLDAS_04_extracted.csv to FLDAS_04_extracted.csv\n",
            "(17344, 26)\n"
          ]
        }
      ]
    },
    {
      "cell_type": "code",
      "metadata": {
        "id": "ETt0dBnVR_Hx",
        "colab": {
          "resources": {
            "http://localhost:8080/nbextensions/google.colab/files.js": {
              "data": "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",
              "ok": true,
              "headers": [
                [
                  "content-type",
                  "application/javascript"
                ]
              ],
              "status": 200,
              "status_text": "OK"
            }
          },
          "base_uri": "https://localhost:8080/",
          "height": 75
        },
        "outputId": "70f219b0-79c6-4ef3-b475-d9e8bfabe5a2"
      },
      "source": [
        "from google.colab import files\n",
        "uploaded = files.upload()\n",
        "\n",
        "df_data_train_05 = pd.read_csv(io.BytesIO(uploaded['FLDAS_05_extracted.csv']))\n",
        "\n",
        "#dataset = dataframe.values\n",
        "#df_data_train_05.head(3)\n",
        "#print(df_data_train_05.shape)"
      ],
      "execution_count": 11,
      "outputs": [
        {
          "output_type": "display_data",
          "data": {
            "text/html": [
              "\n",
              "     <input type=\"file\" id=\"files-60dd393d-abd0-4e8c-b082-d71570a9d094\" name=\"files[]\" multiple disabled\n",
              "        style=\"border:none\" />\n",
              "     <output id=\"result-60dd393d-abd0-4e8c-b082-d71570a9d094\">\n",
              "      Upload widget is only available when the cell has been executed in the\n",
              "      current browser session. Please rerun this cell to enable.\n",
              "      </output>\n",
              "      <script src=\"/nbextensions/google.colab/files.js\"></script> "
            ],
            "text/plain": [
              "<IPython.core.display.HTML object>"
            ]
          },
          "metadata": {}
        },
        {
          "output_type": "stream",
          "name": "stdout",
          "text": [
            "Saving FLDAS_05_extracted.csv to FLDAS_05_extracted.csv\n"
          ]
        }
      ]
    },
    {
      "cell_type": "code",
      "metadata": {
        "id": "x1S-IOfvSyNq"
      },
      "source": [
        "# combine train dataframes into one df\n",
        "frames = [df_data_train_98_99, df_data_train_00_01, df_data_train_02_03, df_data_train_04, df_data_train_05]\n",
        "\n",
        "train_df_fldas = pd.concat(frames)\n",
        "\n",
        "\n",
        "# change the order of columns in pandas dataframe\n",
        "train_df_fldas = train_df_fldas[[\"Unnamed: 0\", \"Month\", \"X\", \"Y\", \"Year\", \"evap\", \"heatnet\",\n",
        "       \"humid\", \"id\", \"latheat\", \"prep\", \"pressure\", \"radtemp\", \"runoff\",\n",
        "       \"soilheat\", \"soilmoi_10cm\", \"soilmoi_1m\", \"soilmoi_2m\", \"soilmoi_40cm\",\n",
        "       \"soiltemp_10cm\", \"soiltemp_1m\", \"soiltemp_2m\", \"soiltemp_40cm\",\"surfacetemp\", \"windspeed\", \"PRESENCE\"]]\n",
        "\n",
        "\n",
        "#print(train_df_fldas.info())"
      ],
      "execution_count": 12,
      "outputs": []
    },
    {
      "cell_type": "code",
      "metadata": {
        "colab": {
          "base_uri": "https://localhost:8080/"
        },
        "id": "8Y4BMihWfbyw",
        "outputId": "e9d710e9-da09-438c-837e-d417c1442975"
      },
      "source": [
        "print(type(train_df_fldas))\n",
        "print(len(train_df_fldas))\n",
        "print(train_df_fldas.shape)\n",
        "#train_df_fldas.describe().transpose()"
      ],
      "execution_count": 14,
      "outputs": [
        {
          "output_type": "stream",
          "name": "stdout",
          "text": [
            "<class 'pandas.core.frame.DataFrame'>\n",
            "26987\n",
            "(26987, 26)\n"
          ]
        }
      ]
    },
    {
      "cell_type": "code",
      "metadata": {
        "id": "q6TMQ8lpgvOK",
        "colab": {
          "base_uri": "https://localhost:8080/"
        },
        "outputId": "0a74a7d4-63e1-4865-c72f-fe2eeb129077"
      },
      "source": [
        "#sns.violinplot(data=train_df_fldas[['soilmoi_2m']])\n",
        "train_df_fldas.columns"
      ],
      "execution_count": 15,
      "outputs": [
        {
          "output_type": "execute_result",
          "data": {
            "text/plain": [
              "Index(['Unnamed: 0', 'Month', 'X', 'Y', 'Year', 'evap', 'heatnet', 'humid',\n",
              "       'id', 'latheat', 'prep', 'pressure', 'radtemp', 'runoff', 'soilheat',\n",
              "       'soilmoi_10cm', 'soilmoi_1m', 'soilmoi_2m', 'soilmoi_40cm',\n",
              "       'soiltemp_10cm', 'soiltemp_1m', 'soiltemp_2m', 'soiltemp_40cm',\n",
              "       'surfacetemp', 'windspeed', 'PRESENCE'],\n",
              "      dtype='object')"
            ]
          },
          "metadata": {},
          "execution_count": 15
        }
      ]
    },
    {
      "cell_type": "code",
      "metadata": {
        "colab": {
          "base_uri": "https://localhost:8080/",
          "height": 149
        },
        "id": "ud8vv_YMgRZy",
        "outputId": "58a2926d-286d-4c4d-b94c-1df005392bb2"
      },
      "source": [
        "# Divide train data to presence and absence to exclude 2-5 % of upper and lower outliers\n",
        "\n",
        "train_df_fldas_presence = train_df_fldas[train_df_fldas['PRESENCE'] == 1]\n",
        "train_df_fldas_absence = train_df_fldas[train_df_fldas['PRESENCE'] == 0]\n",
        "train_df_fldas_presence.head(2)\n",
        "#sns.violinplot(data=train_df_fldas_presence[['soilmoi_2m']])\n",
        "#sns.violinplot(data=train_df_fldas_presence[['soilmoi_2m']])"
      ],
      "execution_count": 16,
      "outputs": [
        {
          "output_type": "execute_result",
          "data": {
            "text/html": [
              "<div>\n",
              "<style scoped>\n",
              "    .dataframe tbody tr th:only-of-type {\n",
              "        vertical-align: middle;\n",
              "    }\n",
              "\n",
              "    .dataframe tbody tr th {\n",
              "        vertical-align: top;\n",
              "    }\n",
              "\n",
              "    .dataframe thead th {\n",
              "        text-align: right;\n",
              "    }\n",
              "</style>\n",
              "<table border=\"1\" class=\"dataframe\">\n",
              "  <thead>\n",
              "    <tr style=\"text-align: right;\">\n",
              "      <th></th>\n",
              "      <th>Unnamed: 0</th>\n",
              "      <th>Month</th>\n",
              "      <th>X</th>\n",
              "      <th>Y</th>\n",
              "      <th>Year</th>\n",
              "      <th>evap</th>\n",
              "      <th>heatnet</th>\n",
              "      <th>humid</th>\n",
              "      <th>id</th>\n",
              "      <th>latheat</th>\n",
              "      <th>prep</th>\n",
              "      <th>pressure</th>\n",
              "      <th>radtemp</th>\n",
              "      <th>runoff</th>\n",
              "      <th>soilheat</th>\n",
              "      <th>soilmoi_10cm</th>\n",
              "      <th>soilmoi_1m</th>\n",
              "      <th>soilmoi_2m</th>\n",
              "      <th>soilmoi_40cm</th>\n",
              "      <th>soiltemp_10cm</th>\n",
              "      <th>soiltemp_1m</th>\n",
              "      <th>soiltemp_2m</th>\n",
              "      <th>soiltemp_40cm</th>\n",
              "      <th>surfacetemp</th>\n",
              "      <th>windspeed</th>\n",
              "      <th>PRESENCE</th>\n",
              "    </tr>\n",
              "  </thead>\n",
              "  <tbody>\n",
              "    <tr>\n",
              "      <th>99</th>\n",
              "      <td>2406</td>\n",
              "      <td>1</td>\n",
              "      <td>38.533</td>\n",
              "      <td>17.317</td>\n",
              "      <td>1998</td>\n",
              "      <td>0.000009</td>\n",
              "      <td>68.608475</td>\n",
              "      <td>0.012515</td>\n",
              "      <td>40221</td>\n",
              "      <td>22.448561</td>\n",
              "      <td>0.000014</td>\n",
              "      <td>97360.648438</td>\n",
              "      <td>297.968567</td>\n",
              "      <td>0.000001</td>\n",
              "      <td>-2.626832</td>\n",
              "      <td>0.241868</td>\n",
              "      <td>0.328349</td>\n",
              "      <td>0.324109</td>\n",
              "      <td>0.330645</td>\n",
              "      <td>298.107727</td>\n",
              "      <td>299.426208</td>\n",
              "      <td>300.359131</td>\n",
              "      <td>298.613708</td>\n",
              "      <td>296.056091</td>\n",
              "      <td>4.524924</td>\n",
              "      <td>1.0</td>\n",
              "    </tr>\n",
              "    <tr>\n",
              "      <th>100</th>\n",
              "      <td>2407</td>\n",
              "      <td>1</td>\n",
              "      <td>38.533</td>\n",
              "      <td>17.317</td>\n",
              "      <td>1998</td>\n",
              "      <td>0.000009</td>\n",
              "      <td>68.608475</td>\n",
              "      <td>0.012515</td>\n",
              "      <td>48390</td>\n",
              "      <td>22.448561</td>\n",
              "      <td>0.000014</td>\n",
              "      <td>97360.648438</td>\n",
              "      <td>297.968567</td>\n",
              "      <td>0.000001</td>\n",
              "      <td>-2.626832</td>\n",
              "      <td>0.241868</td>\n",
              "      <td>0.328349</td>\n",
              "      <td>0.324109</td>\n",
              "      <td>0.330645</td>\n",
              "      <td>298.107727</td>\n",
              "      <td>299.426208</td>\n",
              "      <td>300.359131</td>\n",
              "      <td>298.613708</td>\n",
              "      <td>296.056091</td>\n",
              "      <td>4.524924</td>\n",
              "      <td>1.0</td>\n",
              "    </tr>\n",
              "  </tbody>\n",
              "</table>\n",
              "</div>"
            ],
            "text/plain": [
              "     Unnamed: 0  Month       X  ...  surfacetemp  windspeed  PRESENCE\n",
              "99         2406      1  38.533  ...   296.056091   4.524924       1.0\n",
              "100        2407      1  38.533  ...   296.056091   4.524924       1.0\n",
              "\n",
              "[2 rows x 26 columns]"
            ]
          },
          "metadata": {},
          "execution_count": 16
        }
      ]
    },
    {
      "cell_type": "code",
      "metadata": {
        "colab": {
          "base_uri": "https://localhost:8080/"
        },
        "id": "KeqfW4ypvzls",
        "outputId": "b9da2975-507e-4c05-ed9d-952cd9dc4cce"
      },
      "source": [
        "# Percentage of presence and absence in train data\n",
        "print (\"Presence: %i (%.1f%%)\"%(len(train_df_fldas_presence), float(len(train_df_fldas_presence))/len(train_df_fldas)*100.0))\n",
        "print (\"Absence: %i (%.1f%%)\"%(len(train_df_fldas_absence), float(len(train_df_fldas_absence))/len(train_df_fldas)*100.0))\n",
        "print (\"Total: %i\"%len(train_df_fldas))"
      ],
      "execution_count": 17,
      "outputs": [
        {
          "output_type": "stream",
          "name": "stdout",
          "text": [
            "Presence: 17428 (64.6%)\n",
            "Absence: 9559 (35.4%)\n",
            "Total: 26987\n"
          ]
        }
      ]
    },
    {
      "cell_type": "code",
      "metadata": {
        "colab": {
          "base_uri": "https://localhost:8080/",
          "height": 391
        },
        "id": "RobcUpwuy36G",
        "outputId": "8c5d5883-aeb6-44cf-a0f4-8c3135a902a0"
      },
      "source": [
        "# Perform log transformation on \"latheat\", \"evap\" & \"runoff\" to deal with skewed data\n",
        "# 'latheat'\n",
        "dataset_train_fldas_latheat = np.log1p(train_df_fldas[['latheat']].values)\n",
        "#print(type(dataset_train))\n",
        "\n",
        "\n",
        "# Create a new dataframe to compare the original with log transform data\n",
        "dist_df_latheat = pd.DataFrame({'latheat' : train_df_fldas['latheat'], 'log_latheat': dataset_train_fldas_latheat[:, 0]})\n",
        "\n",
        "# Histogram plot original vs log transform data\n",
        "plt.figure(figsize = (12,6))\n",
        "dist_df_latheat.hist()\n",
        "\n",
        "# 'evap'\n",
        "dataset_train_fldas_evap = np.log1p(train_df_fldas[['evap']].values)\n",
        "#print(type(dataset_train))\n",
        "\n",
        "\n",
        "# Create a new dataframe to compare the original with log transform data\n",
        "dist_df_evap = pd.DataFrame({'evap' : train_df_fldas['evap'], 'log_evap': dataset_train_fldas_evap[:, 0]})\n",
        "\n",
        "# Histogram plot original vs log transform data\n",
        "plt.figure(figsize = (12,6))\n",
        "#dist_df_evap.hist()\n",
        "\n",
        "# 'runoff'\n",
        "dataset_train_fldas_runoff = np.log1p(train_df_fldas[['runoff']].values)\n",
        "#print(type(dataset_train))\n",
        "\n",
        "\n",
        "# Create a new dataframe to compare the original with log transform data\n",
        "#dist_df_runoff = pd.DataFrame({'runoff' : train_df_fldas['runoff'], 'log_runoff': dataset_train_fldas_runoff[:, 0]})\n",
        "\n",
        "# Histogram plot original vs log transform data\n",
        "plt.figure(figsize = (12,6))\n",
        "#dist_df_runoff.hist()"
      ],
      "execution_count": 18,
      "outputs": [
        {
          "output_type": "stream",
          "name": "stderr",
          "text": [
            "/usr/local/lib/python3.7/dist-packages/ipykernel_launcher.py:3: RuntimeWarning: invalid value encountered in log1p\n",
            "  This is separate from the ipykernel package so we can avoid doing imports until\n"
          ]
        },
        {
          "output_type": "execute_result",
          "data": {
            "text/plain": [
              "<Figure size 864x432 with 0 Axes>"
            ]
          },
          "metadata": {},
          "execution_count": 18
        },
        {
          "output_type": "display_data",
          "data": {
            "text/plain": [
              "<Figure size 864x432 with 0 Axes>"
            ]
          },
          "metadata": {}
        },
        {
          "output_type": "display_data",
          "data": {
            "image/png": "[encoded data removed]",
            "text/plain": [
              "<Figure size 432x288 with 2 Axes>"
            ]
          },
          "metadata": {
            "needs_background": "light"
          }
        },
        {
          "output_type": "display_data",
          "data": {
            "text/plain": [
              "<Figure size 864x432 with 0 Axes>"
            ]
          },
          "metadata": {}
        },
        {
          "output_type": "display_data",
          "data": {
            "text/plain": [
              "<Figure size 864x432 with 0 Axes>"
            ]
          },
          "metadata": {}
        }
      ]
    },
    {
      "cell_type": "markdown",
      "metadata": {
        "id": "Qwr2Fu10CZfd"
      },
      "source": [
        "#### Landsat\n"
      ]
    },
    {
      "cell_type": "code",
      "metadata": {
        "colab": {
          "resources": {
            "http://localhost:8080/nbextensions/google.colab/files.js": {
              "data": "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",
              "ok": true,
              "headers": [
                [
                  "content-type",
                  "application/javascript"
                ]
              ],
              "status": 200,
              "status_text": "OK"
            }
          },
          "base_uri": "https://localhost:8080/",
          "height": 93
        },
        "id": "3FDcrm1MFVU4",
        "outputId": "3583043d-2454-40ef-9ab3-56efbb98684c"
      },
      "source": [
        "from google.colab import files\n",
        "uploaded = files.upload()\n",
        "\n",
        "df_data_train_landsat_98_99 = pd.read_csv(io.BytesIO(uploaded['Landsat_98_99_extracted.csv']))\n",
        "\n",
        "#dataset = dataframe.values\n",
        "df_data_train_landsat_98_99.head(3)\n",
        "print(df_data_train_landsat_98_99.shape)"
      ],
      "execution_count": 19,
      "outputs": [
        {
          "output_type": "display_data",
          "data": {
            "text/html": [
              "\n",
              "     <input type=\"file\" id=\"files-ce63d3bf-e35e-4b37-a256-6b827aac6f2a\" name=\"files[]\" multiple disabled\n",
              "        style=\"border:none\" />\n",
              "     <output id=\"result-ce63d3bf-e35e-4b37-a256-6b827aac6f2a\">\n",
              "      Upload widget is only available when the cell has been executed in the\n",
              "      current browser session. Please rerun this cell to enable.\n",
              "      </output>\n",
              "      <script src=\"/nbextensions/google.colab/files.js\"></script> "
            ],
            "text/plain": [
              "<IPython.core.display.HTML object>"
            ]
          },
          "metadata": {}
        },
        {
          "output_type": "stream",
          "name": "stdout",
          "text": [
            "Saving Landsat_98_99_extracted.csv to Landsat_98_99_extracted.csv\n",
            "(1168, 13)\n"
          ]
        }
      ]
    },
    {
      "cell_type": "code",
      "metadata": {
        "colab": {
          "resources": {
            "http://localhost:8080/nbextensions/google.colab/files.js": {
              "data": "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",
              "ok": true,
              "headers": [
                [
                  "content-type",
                  "application/javascript"
                ]
              ],
              "status": 200,
              "status_text": "OK"
            }
          },
          "base_uri": "https://localhost:8080/",
          "height": 93
        },
        "id": "15ZpWNR-GWWy",
        "outputId": "b9b4d41a-37bb-4f90-8ad6-f6a1ccc7b147"
      },
      "source": [
        "from google.colab import files\n",
        "uploaded = files.upload()\n",
        "\n",
        "df_data_train_landsat_00_01 = pd.read_csv(io.BytesIO(uploaded['Landsat_00_01_extracted.csv']))\n",
        "\n",
        "#dataset = dataframe.values\n",
        "df_data_train_landsat_00_01.head(3)\n",
        "print(df_data_train_landsat_00_01.shape)"
      ],
      "execution_count": 20,
      "outputs": [
        {
          "output_type": "display_data",
          "data": {
            "text/html": [
              "\n",
              "     <input type=\"file\" id=\"files-a562f3f6-c441-4302-8856-b7910991ac0c\" name=\"files[]\" multiple disabled\n",
              "        style=\"border:none\" />\n",
              "     <output id=\"result-a562f3f6-c441-4302-8856-b7910991ac0c\">\n",
              "      Upload widget is only available when the cell has been executed in the\n",
              "      current browser session. Please rerun this cell to enable.\n",
              "      </output>\n",
              "      <script src=\"/nbextensions/google.colab/files.js\"></script> "
            ],
            "text/plain": [
              "<IPython.core.display.HTML object>"
            ]
          },
          "metadata": {}
        },
        {
          "output_type": "stream",
          "name": "stdout",
          "text": [
            "Saving Landsat_00_01_extracted.csv to Landsat_00_01_extracted.csv\n",
            "(1587, 13)\n"
          ]
        }
      ]
    },
    {
      "cell_type": "code",
      "metadata": {
        "colab": {
          "resources": {
            "http://localhost:8080/nbextensions/google.colab/files.js": {
              "data": "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",
              "ok": true,
              "headers": [
                [
                  "content-type",
                  "application/javascript"
                ]
              ],
              "status": 200,
              "status_text": "OK"
            }
          },
          "base_uri": "https://localhost:8080/",
          "height": 93
        },
        "id": "clfGoevKGfzC",
        "outputId": "bacda9ef-bbdd-459e-f0ac-d1ee907c6818"
      },
      "source": [
        "from google.colab import files\n",
        "uploaded = files.upload()\n",
        "\n",
        "df_data_train_landsat_02_03 = pd.read_csv(io.BytesIO(uploaded['Landsat_02_03_extracted.csv']))\n",
        "\n",
        "#dataset = dataframe.values\n",
        "df_data_train_landsat_02_03.head(3)\n",
        "print(df_data_train_landsat_02_03.shape)"
      ],
      "execution_count": 21,
      "outputs": [
        {
          "output_type": "display_data",
          "data": {
            "text/html": [
              "\n",
              "     <input type=\"file\" id=\"files-37295cc8-86dc-48a6-872f-c2cf9eab9d88\" name=\"files[]\" multiple disabled\n",
              "        style=\"border:none\" />\n",
              "     <output id=\"result-37295cc8-86dc-48a6-872f-c2cf9eab9d88\">\n",
              "      Upload widget is only available when the cell has been executed in the\n",
              "      current browser session. Please rerun this cell to enable.\n",
              "      </output>\n",
              "      <script src=\"/nbextensions/google.colab/files.js\"></script> "
            ],
            "text/plain": [
              "<IPython.core.display.HTML object>"
            ]
          },
          "metadata": {}
        },
        {
          "output_type": "stream",
          "name": "stdout",
          "text": [
            "Saving Landsat_02_03_extracted.csv to Landsat_02_03_extracted.csv\n",
            "(1651, 13)\n"
          ]
        }
      ]
    },
    {
      "cell_type": "code",
      "metadata": {
        "colab": {
          "resources": {
            "http://localhost:8080/nbextensions/google.colab/files.js": {
              "data": "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",
              "ok": true,
              "headers": [
                [
                  "content-type",
                  "application/javascript"
                ]
              ],
              "status": 200,
              "status_text": "OK"
            }
          },
          "base_uri": "https://localhost:8080/",
          "height": 93
        },
        "id": "_RbqOctdGpfU",
        "outputId": "d2460797-5df2-43e3-eee0-bdc9bef7a6f5"
      },
      "source": [
        "from google.colab import files\n",
        "uploaded = files.upload()\n",
        "\n",
        "df_data_train_landsat_04 = pd.read_csv(io.BytesIO(uploaded['Landsat_04_extracted.csv']))\n",
        "\n",
        "#dataset = dataframe.values\n",
        "df_data_train_landsat_04.head(3)\n",
        "print(df_data_train_landsat_04.shape)"
      ],
      "execution_count": 22,
      "outputs": [
        {
          "output_type": "display_data",
          "data": {
            "text/html": [
              "\n",
              "     <input type=\"file\" id=\"files-95184829-8a9a-4255-93f6-60acabbdfab9\" name=\"files[]\" multiple disabled\n",
              "        style=\"border:none\" />\n",
              "     <output id=\"result-95184829-8a9a-4255-93f6-60acabbdfab9\">\n",
              "      Upload widget is only available when the cell has been executed in the\n",
              "      current browser session. Please rerun this cell to enable.\n",
              "      </output>\n",
              "      <script src=\"/nbextensions/google.colab/files.js\"></script> "
            ],
            "text/plain": [
              "<IPython.core.display.HTML object>"
            ]
          },
          "metadata": {}
        },
        {
          "output_type": "stream",
          "name": "stdout",
          "text": [
            "Saving Landsat_04_extracted.csv to Landsat_04_extracted.csv\n",
            "(12712, 13)\n"
          ]
        }
      ]
    },
    {
      "cell_type": "code",
      "metadata": {
        "colab": {
          "resources": {
            "http://localhost:8080/nbextensions/google.colab/files.js": {
              "data": "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",
              "ok": true,
              "headers": [
                [
                  "content-type",
                  "application/javascript"
                ]
              ],
              "status": 200,
              "status_text": "OK"
            }
          },
          "base_uri": "https://localhost:8080/",
          "height": 93
        },
        "id": "jILE_tZL53yF",
        "outputId": "bfb616ac-1da3-4ec8-c5fa-7de6e80329ce"
      },
      "source": [
        "from google.colab import files\n",
        "uploaded = files.upload()\n",
        "\n",
        "df_data_train_landsat_05 = pd.read_csv(io.BytesIO(uploaded['Landsat_05_extracted.csv']))\n",
        "\n",
        "#dataset = dataframe.values\n",
        "df_data_train_landsat_05.head(3)\n",
        "print(df_data_train_landsat_05.shape)"
      ],
      "execution_count": 23,
      "outputs": [
        {
          "output_type": "display_data",
          "data": {
            "text/html": [
              "\n",
              "     <input type=\"file\" id=\"files-39238d19-e627-4582-90a6-2f72f1b5dd87\" name=\"files[]\" multiple disabled\n",
              "        style=\"border:none\" />\n",
              "     <output id=\"result-39238d19-e627-4582-90a6-2f72f1b5dd87\">\n",
              "      Upload widget is only available when the cell has been executed in the\n",
              "      current browser session. Please rerun this cell to enable.\n",
              "      </output>\n",
              "      <script src=\"/nbextensions/google.colab/files.js\"></script> "
            ],
            "text/plain": [
              "<IPython.core.display.HTML object>"
            ]
          },
          "metadata": {}
        },
        {
          "output_type": "stream",
          "name": "stdout",
          "text": [
            "Saving Landsat_05_extracted.csv to Landsat_05_extracted.csv\n",
            "(1668, 13)\n"
          ]
        }
      ]
    },
    {
      "cell_type": "code",
      "metadata": {
        "id": "2eZBGrz_G3TF"
      },
      "source": [
        "# combine landsat train dataframes into one df\n",
        "frames_landsat = [df_data_train_landsat_98_99, df_data_train_landsat_00_01, df_data_train_landsat_02_03, df_data_train_landsat_04, df_data_train_landsat_05]\n",
        "\n",
        "train_df_landsat = pd.concat(frames_landsat)"
      ],
      "execution_count": 24,
      "outputs": []
    },
    {
      "cell_type": "markdown",
      "metadata": {
        "id": "bmj7HKjjCOKG"
      },
      "source": [
        "#### SRTM"
      ]
    },
    {
      "cell_type": "code",
      "metadata": {
        "colab": {
          "resources": {
            "http://localhost:8080/nbextensions/google.colab/files.js": {
              "data": "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",
              "ok": true,
              "headers": [
                [
                  "content-type",
                  "application/javascript"
                ]
              ],
              "status": 200,
              "status_text": "OK"
            }
          },
          "base_uri": "https://localhost:8080/",
          "height": 93
        },
        "id": "95QJn-RG-mDY",
        "outputId": "d62b8ba5-101a-4303-f609-b55dc07058f5"
      },
      "source": [
        "# Load DEM data\n",
        "from google.colab import files\n",
        "uploaded = files.upload()\n",
        "\n",
        "df_data_dem = pd.read_csv(io.BytesIO(uploaded['DEM_extracted.csv']))\n",
        "\n",
        "#dataset = dataframe.values  \n",
        "df_data_dem.head(3)  \n",
        "print(df_data_dem.shape) "
      ],
      "execution_count": 26,
      "outputs": [
        {
          "output_type": "display_data",
          "data": {
            "text/html": [
              "\n",
              "     <input type=\"file\" id=\"files-ccf0b457-4670-4897-a6a9-c7d567c0d2ae\" name=\"files[]\" multiple disabled\n",
              "        style=\"border:none\" />\n",
              "     <output id=\"result-ccf0b457-4670-4897-a6a9-c7d567c0d2ae\">\n",
              "      Upload widget is only available when the cell has been executed in the\n",
              "      current browser session. Please rerun this cell to enable.\n",
              "      </output>\n",
              "      <script src=\"/nbextensions/google.colab/files.js\"></script> "
            ],
            "text/plain": [
              "<IPython.core.display.HTML object>"
            ]
          },
          "metadata": {}
        },
        {
          "output_type": "stream",
          "name": "stdout",
          "text": [
            "Saving DEM_extracted.csv to DEM_extracted.csv\n",
            "(69876, 6)\n"
          ]
        }
      ]
    },
    {
      "cell_type": "code",
      "metadata": {
        "colab": {
          "base_uri": "https://localhost:8080/",
          "height": 162
        },
        "id": "LgOOltj8AkUa",
        "outputId": "6ad9e93b-088b-400b-b3c2-655e9e9b5e9d"
      },
      "source": [
        "print(type(df_data_dem))\n",
        "df_data_dem.head(3)  "
      ],
      "execution_count": 28,
      "outputs": [
        {
          "output_type": "stream",
          "name": "stdout",
          "text": [
            "<class 'pandas.core.frame.DataFrame'>\n"
          ]
        },
        {
          "output_type": "execute_result",
          "data": {
            "text/html": [
              "<div>\n",
              "<style scoped>\n",
              "    .dataframe tbody tr th:only-of-type {\n",
              "        vertical-align: middle;\n",
              "    }\n",
              "\n",
              "    .dataframe tbody tr th {\n",
              "        vertical-align: top;\n",
              "    }\n",
              "\n",
              "    .dataframe thead th {\n",
              "        text-align: right;\n",
              "    }\n",
              "</style>\n",
              "<table border=\"1\" class=\"dataframe\">\n",
              "  <thead>\n",
              "    <tr style=\"text-align: right;\">\n",
              "      <th></th>\n",
              "      <th>Unnamed: 0</th>\n",
              "      <th>PRESENCE</th>\n",
              "      <th>X</th>\n",
              "      <th>Y</th>\n",
              "      <th>id</th>\n",
              "      <th>mean</th>\n",
              "    </tr>\n",
              "  </thead>\n",
              "  <tbody>\n",
              "    <tr>\n",
              "      <th>0</th>\n",
              "      <td>0</td>\n",
              "      <td>0.0</td>\n",
              "      <td>19.969617</td>\n",
              "      <td>-2.284019</td>\n",
              "      <td>145</td>\n",
              "      <td>359.0</td>\n",
              "    </tr>\n",
              "    <tr>\n",
              "      <th>1</th>\n",
              "      <td>1</td>\n",
              "      <td>0.0</td>\n",
              "      <td>29.771012</td>\n",
              "      <td>0.631425</td>\n",
              "      <td>131</td>\n",
              "      <td>761.0</td>\n",
              "    </tr>\n",
              "    <tr>\n",
              "      <th>2</th>\n",
              "      <td>2</td>\n",
              "      <td>0.0</td>\n",
              "      <td>29.375540</td>\n",
              "      <td>19.856063</td>\n",
              "      <td>164</td>\n",
              "      <td>288.0</td>\n",
              "    </tr>\n",
              "  </tbody>\n",
              "</table>\n",
              "</div>"
            ],
            "text/plain": [
              "   Unnamed: 0  PRESENCE          X          Y   id   mean\n",
              "0           0       0.0  19.969617  -2.284019  145  359.0\n",
              "1           1       0.0  29.771012   0.631425  131  761.0\n",
              "2           2       0.0  29.375540  19.856063  164  288.0"
            ]
          },
          "metadata": {},
          "execution_count": 28
        }
      ]
    },
    {
      "cell_type": "markdown",
      "metadata": {
        "id": "3Bq7Wqsv-m-0"
      },
      "source": [
        "#### Combine data from different sources \n",
        "##### The join is done on 'id' as the common column"
      ]
    },
    {
      "cell_type": "code",
      "metadata": {
        "colab": {
          "base_uri": "https://localhost:8080/"
        },
        "id": "qBfGvCDa-tD1",
        "outputId": "d59345d1-757a-440c-b481-9df0fb3d0f2f"
      },
      "source": [
        "# train_df_landsat, train_df_fldas, df_data_dem\n",
        "train_df_landsat = train_df_landsat[['Blue', 'Green', 'NIR', 'Red', 'SWIR1', 'SWIR2', 'X', 'Y', 'id']] #'PRESENCE', 'Year' ,'Month'\n",
        "train_df_merge_fldas_landsat = pd.merge(train_df_fldas, train_df_landsat, on = 'id') #how='left', left_on=['X','Y'], right_on = ['X','Y']\n",
        "\n",
        "print(train_df_merge_fldas_landsat.head(2))\n",
        "print(train_df_merge_fldas_landsat.columns)\n",
        "\n",
        "\n",
        "df_data_dem = df_data_dem[['X', 'Y', 'mean', 'id']]\n",
        "train_df_merge_fldas_landsat_dem = pd.merge(train_df_merge_fldas_landsat, df_data_dem, on = 'id')# how='left', left_on=['X','Y'], right_on = ['X','Y']\n",
        "print(train_df_merge_fldas_landsat_dem.head(2))\n",
        "print(train_df_merge_fldas_landsat_dem.columns)\n"
      ],
      "execution_count": 92,
      "outputs": [
        {
          "output_type": "stream",
          "name": "stdout",
          "text": [
            "   Unnamed: 0  Month        X_x  ...        SWIR2        X_y        Y_y\n",
            "0        1096      1  35.731989  ...  1092.198413  35.731989   3.470450\n",
            "1        1101      1   0.073893  ...  4031.856574   0.073893  33.568867\n",
            "\n",
            "[2 rows x 34 columns]\n",
            "Index(['Unnamed: 0', 'Month', 'X_x', 'Y_x', 'Year', 'evap', 'heatnet', 'humid',\n",
            "       'id', 'latheat', 'prep', 'pressure', 'radtemp', 'runoff', 'soilheat',\n",
            "       'soilmoi_10cm', 'soilmoi_1m', 'soilmoi_2m', 'soilmoi_40cm',\n",
            "       'soiltemp_10cm', 'soiltemp_1m', 'soiltemp_2m', 'soiltemp_40cm',\n",
            "       'surfacetemp', 'windspeed', 'PRESENCE', 'Blue', 'Green', 'NIR', 'Red',\n",
            "       'SWIR1', 'SWIR2', 'X_y', 'Y_y'],\n",
            "      dtype='object')\n",
            "   Unnamed: 0  Month        X_x  ...          X          Y    mean\n",
            "0        1096      1  35.731989  ...  35.731989   3.470450   473.0\n",
            "1        1101      1   0.073893  ...   0.073893  33.568867  1178.0\n",
            "\n",
            "[2 rows x 37 columns]\n",
            "Index(['Unnamed: 0', 'Month', 'X_x', 'Y_x', 'Year', 'evap', 'heatnet', 'humid',\n",
            "       'id', 'latheat', 'prep', 'pressure', 'radtemp', 'runoff', 'soilheat',\n",
            "       'soilmoi_10cm', 'soilmoi_1m', 'soilmoi_2m', 'soilmoi_40cm',\n",
            "       'soiltemp_10cm', 'soiltemp_1m', 'soiltemp_2m', 'soiltemp_40cm',\n",
            "       'surfacetemp', 'windspeed', 'PRESENCE', 'Blue', 'Green', 'NIR', 'Red',\n",
            "       'SWIR1', 'SWIR2', 'X_y', 'Y_y', 'X', 'Y', 'mean'],\n",
            "      dtype='object')\n"
          ]
        }
      ]
    },
    {
      "cell_type": "code",
      "metadata": {
        "colab": {
          "base_uri": "https://localhost:8080/"
        },
        "id": "GRa5EpNkKnBl",
        "outputId": "e6309416-d6d9-442e-aba7-38bc8a1c7a30"
      },
      "source": [
        "# move the \"PRESENCE\" column to the last one\n",
        "train_df_merge_fldas_landsat_dem = train_df_merge_fldas_landsat_dem[['Month', 'X', 'Y', 'Year', 'evap', 'heatnet', 'humid',\n",
        "       'id', 'latheat', 'prep', 'pressure', 'radtemp', 'runoff', 'soilheat',\n",
        "       'soilmoi_10cm', 'soilmoi_1m', 'soilmoi_2m', 'soilmoi_40cm',\n",
        "       'soiltemp_10cm', 'soiltemp_1m', 'soiltemp_2m', 'soiltemp_40cm',\n",
        "       'surfacetemp', 'windspeed', 'Blue', 'Green', 'NIR', 'Red',\n",
        "       'SWIR1', 'SWIR2', 'mean','PRESENCE']] #'Unnamed: 0',\n",
        "\n",
        "print(train_df_merge_fldas_landsat_dem.tail(2))\n",
        "print(train_df_merge_fldas_landsat_dem.shape)"
      ],
      "execution_count": 93,
      "outputs": [
        {
          "output_type": "stream",
          "name": "stdout",
          "text": [
            "       Month          X         Y  ...       SWIR2   mean  PRESENCE\n",
            "18713     12  25.017645 -3.648007  ...  591.916335  574.0       0.0\n",
            "18714     12  25.017645 -3.648007  ...  591.916335  574.0       0.0\n",
            "\n",
            "[2 rows x 32 columns]\n",
            "(18715, 32)\n"
          ]
        }
      ]
    },
    {
      "cell_type": "code",
      "metadata": {
        "id": "xLmXDjX8ZB-3"
      },
      "source": [
        "# check for NaN values in train and test dataframes\n",
        "train_df_merge_fldas_landsat_dem.isnull().any()\n",
        "\n",
        "# impute the data\n",
        "train_df_merge_fldas_landsat_dem = train_df_merge_fldas_landsat_dem.fillna(train_df_merge_fldas_landsat_dem.median())#lambda x: x.median()"
      ],
      "execution_count": 94,
      "outputs": []
    },
    {
      "cell_type": "code",
      "metadata": {
        "id": "GKomEzg_nppL"
      },
      "source": [
        "#print(train_df_merge_fldas_landsat_dem.info())"
      ],
      "execution_count": 95,
      "outputs": []
    },
    {
      "cell_type": "markdown",
      "metadata": {
        "id": "Jv8lNXr6oOS8"
      },
      "source": [
        "#### Changing Features of numeric type (skewed distrib.)\n",
        "##### log-transformation on \"evap\", \"runoff\" and \"latheat\"\n"
      ]
    },
    {
      "cell_type": "markdown",
      "metadata": {
        "id": "Atj3DQ3Loe0B"
      },
      "source": [
        "###### 1. evap"
      ]
    },
    {
      "cell_type": "code",
      "metadata": {
        "id": "9wuQZkuppJlw"
      },
      "source": [
        " train_df_merge_fldas_landsat_dem['evap_log']= train_df_merge_fldas_landsat_dem['evap'].apply(np.log)"
      ],
      "execution_count": 96,
      "outputs": []
    },
    {
      "cell_type": "markdown",
      "metadata": {
        "id": "zqmgs2-f6ROu"
      },
      "source": [
        "###### 2. runoff "
      ]
    },
    {
      "cell_type": "code",
      "metadata": {
        "id": "5A_FfbkM7JQx"
      },
      "source": [
        "train_df_merge_fldas_landsat_dem['runoff_log']= train_df_merge_fldas_landsat_dem['runoff'].apply(np.log)"
      ],
      "execution_count": 97,
      "outputs": []
    },
    {
      "cell_type": "markdown",
      "metadata": {
        "id": "gCpU_teq6W9V"
      },
      "source": [
        "###### 3. latheat  "
      ]
    },
    {
      "cell_type": "code",
      "metadata": {
        "id": "UWSXyIueoRMn"
      },
      "source": [
        "train_df_merge_fldas_landsat_dem['latheat_log']= train_df_merge_fldas_landsat_dem['latheat'].apply(np.log)"
      ],
      "execution_count": 98,
      "outputs": []
    },
    {
      "cell_type": "code",
      "metadata": {
        "id": "ZWhpEceP7063"
      },
      "source": [
        "# impute the data\n",
        "train_df_merge_fldas_landsat_dem = train_df_merge_fldas_landsat_dem.fillna(train_df_merge_fldas_landsat_dem.median())"
      ],
      "execution_count": 99,
      "outputs": []
    },
    {
      "cell_type": "code",
      "metadata": {
        "id": "LxopJdtq7jmS"
      },
      "source": [
        "# move the \"PRESENCE\" column to the last one and remove \"id\"\n",
        "train_df_merge_fldas_landsat_dem = train_df_merge_fldas_landsat_dem[['Month', 'X', 'Y', 'Year', 'evap_log', 'heatnet', 'humid',\n",
        "       'latheat_log', 'prep', 'pressure', 'radtemp', 'runoff_log', 'soilheat',\n",
        "       'soilmoi_10cm', 'soilmoi_1m', 'soilmoi_2m', 'soilmoi_40cm',\n",
        "       'soiltemp_10cm', 'soiltemp_1m', 'soiltemp_2m', 'soiltemp_40cm',\n",
        "       'surfacetemp', 'windspeed', 'Blue', 'Green', 'NIR', 'Red',\n",
        "       'SWIR1', 'SWIR2', 'mean','PRESENCE']] #'id',"
      ],
      "execution_count": 100,
      "outputs": []
    },
    {
      "cell_type": "code",
      "metadata": {
        "id": "tRGmv2WoGAgC"
      },
      "source": [
        "train_df_merge_fldas_landsat_dem = train_df_merge_fldas_landsat_dem.fillna(train_df_merge_fldas_landsat_dem.median()).clip(-1e11,1e11)"
      ],
      "execution_count": 101,
      "outputs": []
    },
    {
      "cell_type": "code",
      "metadata": {
        "id": "VPLh0YC4AITF"
      },
      "source": [
        "#rm(train_df_merge_fldas_landsat_dem)"
      ],
      "execution_count": 102,
      "outputs": []
    },
    {
      "cell_type": "markdown",
      "metadata": {
        "id": "d-f1Nhf4Ly-q"
      },
      "source": [
        "#### Check correlation with heatmap graph"
      ]
    },
    {
      "cell_type": "code",
      "metadata": {
        "colab": {
          "base_uri": "https://localhost:8080/",
          "height": 353
        },
        "id": "G0h5CqElLnqi",
        "outputId": "6e064fad-5518-470d-8f48-e369e4a90d71"
      },
      "source": [
        "import seaborn as sns\n",
        "corr = train_df_merge_fldas_landsat_dem.corr()\n",
        "sns.heatmap(corr, \n",
        "            xticklabels=corr.columns.values,\n",
        "            yticklabels=corr.columns.values)"
      ],
      "execution_count": 103,
      "outputs": [
        {
          "output_type": "execute_result",
          "data": {
            "text/plain": [
              "<matplotlib.axes._subplots.AxesSubplot at 0x7f6323c48b90>"
            ]
          },
          "metadata": {},
          "execution_count": 103
        },
        {
          "output_type": "display_data",
          "data": {
            "image/png": "[encoded data removed]",
            "text/plain": [
              "<Figure size 432x288 with 2 Axes>"
            ]
          },
          "metadata": {
            "needs_background": "light"
          }
        }
      ]
    },
    {
      "cell_type": "code",
      "metadata": {
        "colab": {
          "base_uri": "https://localhost:8080/"
        },
        "id": "wqalRo8gaO2q",
        "outputId": "d6f6e895-adbc-4f0d-c34e-2392ab3abf29"
      },
      "source": [
        "#dataset = train_df_merge_fldas_landsat_dem.values\n",
        "dataset = train_df_merge_fldas_landsat_dem.to_numpy()\n",
        "print(type(dataset))\n",
        "\n",
        "# split into input (X) and output (Y) variables\n",
        "X = dataset[:,1:30]\n",
        "Y = dataset[:,30]\n",
        "print(X.shape)\n",
        "print(Y)"
      ],
      "execution_count": 104,
      "outputs": [
        {
          "output_type": "stream",
          "name": "stdout",
          "text": [
            "<class 'numpy.ndarray'>\n",
            "(18715, 29)\n",
            "[0. 0. 0. ... 0. 0. 0.]\n"
          ]
        }
      ]
    },
    {
      "cell_type": "code",
      "metadata": {
        "colab": {
          "base_uri": "https://localhost:8080/",
          "height": 299
        },
        "id": "1bzHu6iOJ9Xm",
        "outputId": "d9b83b6e-133b-44d9-f925-4a0a2164e26e"
      },
      "source": [
        "Y = Y.astype(int)\n",
        "print(Y)\n",
        "_ = plt.hist(Y, bins='auto')  # arguments are passed to np.histogram\n",
        "\n",
        "plt.title(\"Histogram with 'auto' bins\")\n",
        "#Text(0.5, 1.0, \"Histogram with 'auto' bins\")\n",
        "\n",
        "plt.show()"
      ],
      "execution_count": 105,
      "outputs": [
        {
          "output_type": "stream",
          "name": "stdout",
          "text": [
            "[0 0 0 ... 0 0 0]\n"
          ]
        },
        {
          "output_type": "display_data",
          "data": {
            "image/png": "[encoded data removed]",
            "text/plain": [
              "<Figure size 432x288 with 1 Axes>"
            ]
          },
          "metadata": {
            "needs_background": "light"
          }
        }
      ]
    },
    {
      "cell_type": "code",
      "metadata": {
        "colab": {
          "base_uri": "https://localhost:8080/"
        },
        "id": "UlVP3pay4MTS",
        "outputId": "4a790b95-71fd-46d9-9259-8dedf6e6077a"
      },
      "source": [
        "print(Y.ndim)\n",
        "print(Y.shape)\n",
        "print(train_df_merge_fldas_landsat_dem[['PRESENCE']])"
      ],
      "execution_count": 106,
      "outputs": [
        {
          "output_type": "stream",
          "name": "stdout",
          "text": [
            "1\n",
            "(18715,)\n",
            "       PRESENCE\n",
            "0           0.0\n",
            "1           0.0\n",
            "2           0.0\n",
            "3           0.0\n",
            "4           0.0\n",
            "...         ...\n",
            "18710       0.0\n",
            "18711       0.0\n",
            "18712       0.0\n",
            "18713       0.0\n",
            "18714       0.0\n",
            "\n",
            "[18715 rows x 1 columns]\n"
          ]
        }
      ]
    },
    {
      "cell_type": "code",
      "metadata": {
        "id": "HeAbfsYtgfFe"
      },
      "source": [
        "# encode class values as integers\n",
        "encoder = LabelEncoder()\n",
        "encoder.fit(Y)\n",
        "encoded_Y = encoder.transform(Y)"
      ],
      "execution_count": 107,
      "outputs": []
    },
    {
      "cell_type": "markdown",
      "metadata": {
        "id": "1YrvPXaP6tvA"
      },
      "source": [
        "### Validation data"
      ]
    },
    {
      "cell_type": "code",
      "metadata": {
        "colab": {
          "resources": {
            "http://localhost:8080/nbextensions/google.colab/files.js": {
              "data": "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",
              "ok": true,
              "headers": [
                [
                  "content-type",
                  "application/javascript"
                ]
              ],
              "status": 200,
              "status_text": "OK"
            }
          },
          "base_uri": "https://localhost:8080/",
          "height": 93
        },
        "id": "kx08aMwy6wr6",
        "outputId": "c666e274-b444-4417-9496-a9710c216980"
      },
      "source": [
        "# load validation data\n",
        "# select the \"tmax_1980_2018.csv\" from your local project drive\n",
        "from google.colab import files\n",
        "uploaded = files.upload()\n",
        "\n",
        "df_data_val = pd.read_csv(io.BytesIO(uploaded['FLDAS_06_07_extracted.csv']))\n",
        "\n",
        "#dataset = dataframe.values\n",
        "df_data_val.head(2)\n",
        "print(df_data_val.shape)"
      ],
      "execution_count": 49,
      "outputs": [
        {
          "output_type": "display_data",
          "data": {
            "text/html": [
              "\n",
              "     <input type=\"file\" id=\"files-3a4ce8ee-baf8-417c-be42-45f90668cb69\" name=\"files[]\" multiple disabled\n",
              "        style=\"border:none\" />\n",
              "     <output id=\"result-3a4ce8ee-baf8-417c-be42-45f90668cb69\">\n",
              "      Upload widget is only available when the cell has been executed in the\n",
              "      current browser session. Please rerun this cell to enable.\n",
              "      </output>\n",
              "      <script src=\"/nbextensions/google.colab/files.js\"></script> "
            ],
            "text/plain": [
              "<IPython.core.display.HTML object>"
            ]
          },
          "metadata": {}
        },
        {
          "output_type": "stream",
          "name": "stdout",
          "text": [
            "Saving FLDAS_06_07_extracted.csv to FLDAS_06_07_extracted.csv\n",
            "(2839, 26)\n"
          ]
        }
      ]
    },
    {
      "cell_type": "code",
      "metadata": {
        "colab": {
          "base_uri": "https://localhost:8080/"
        },
        "id": "9cjUCfNr6wr-",
        "outputId": "221d59ff-8e80-42c4-abfe-c0d68870af7b"
      },
      "source": [
        "df_data_val.columns"
      ],
      "execution_count": 50,
      "outputs": [
        {
          "output_type": "execute_result",
          "data": {
            "text/plain": [
              "Index(['Unnamed: 0', 'Month', 'PRESENCE', 'X', 'Y', 'Year', 'evap', 'heatnet',\n",
              "       'humid', 'id', 'latheat', 'prep', 'pressure', 'radtemp', 'runoff',\n",
              "       'soilheat', 'soilmoi_10cm', 'soilmoi_1m', 'soilmoi_2m', 'soilmoi_40cm',\n",
              "       'soiltemp_10cm', 'soiltemp_1m', 'soiltemp_2m', 'soiltemp_40cm',\n",
              "       'surfacetemp', 'windspeed'],\n",
              "      dtype='object')"
            ]
          },
          "metadata": {},
          "execution_count": 50
        }
      ]
    },
    {
      "cell_type": "code",
      "metadata": {
        "id": "xToQkiW_6wsC"
      },
      "source": [
        "# Change the order of columns in pandas df to have \"PRESENCE\" as the last col\n",
        "df_data_val = df_data_val[[\"Month\", \"X\", \"Y\", \"Year\", \"evap\", \"heatnet\",\n",
        "       \"humid\", \"id\", \"latheat\", \"prep\", \"pressure\", \"radtemp\", \"runoff\",\n",
        "       \"soilheat\", \"soilmoi_10cm\", \"soilmoi_1m\", \"soilmoi_2m\", \"soilmoi_40cm\",\n",
        "       \"soiltemp_10cm\", \"soiltemp_1m\", \"soiltemp_2m\", \"soiltemp_40cm\",\"surfacetemp\", \"windspeed\", \"PRESENCE\"]]# \n"
      ],
      "execution_count": 51,
      "outputs": []
    },
    {
      "cell_type": "code",
      "metadata": {
        "colab": {
          "base_uri": "https://localhost:8080/"
        },
        "id": "Zf2dFSPo6wsH",
        "outputId": "fed7c76a-af2d-49cd-984f-b1e599d60757"
      },
      "source": [
        "print(df_data_val.head(2))\n",
        "print(df_data_val.shape)\n",
        "#print(df_data_val.info())"
      ],
      "execution_count": 52,
      "outputs": [
        {
          "output_type": "stream",
          "name": "stdout",
          "text": [
            "   Month          X          Y  ...  surfacetemp  windspeed  PRESENCE\n",
            "0      1  21.384989  -0.281897  ...   300.521423   2.289917       0.0\n",
            "1      1  36.557216  16.060265  ...   298.687592   6.868981       0.0\n",
            "\n",
            "[2 rows x 25 columns]\n",
            "(2839, 25)\n"
          ]
        }
      ]
    },
    {
      "cell_type": "code",
      "metadata": {
        "colab": {
          "base_uri": "https://localhost:8080/",
          "height": 834
        },
        "id": "OZciN33E6wsK",
        "outputId": "7b2c7eb1-f8c6-4761-ab14-2722048b43d4"
      },
      "source": [
        "df_data_val.describe().transpose()\n",
        "#len(df_data_val)"
      ],
      "execution_count": 53,
      "outputs": [
        {
          "output_type": "execute_result",
          "data": {
            "text/html": [
              "<div>\n",
              "<style scoped>\n",
              "    .dataframe tbody tr th:only-of-type {\n",
              "        vertical-align: middle;\n",
              "    }\n",
              "\n",
              "    .dataframe tbody tr th {\n",
              "        vertical-align: top;\n",
              "    }\n",
              "\n",
              "    .dataframe thead th {\n",
              "        text-align: right;\n",
              "    }\n",
              "</style>\n",
              "<table border=\"1\" class=\"dataframe\">\n",
              "  <thead>\n",
              "    <tr style=\"text-align: right;\">\n",
              "      <th></th>\n",
              "      <th>count</th>\n",
              "      <th>mean</th>\n",
              "      <th>std</th>\n",
              "      <th>min</th>\n",
              "      <th>25%</th>\n",
              "      <th>50%</th>\n",
              "      <th>75%</th>\n",
              "      <th>max</th>\n",
              "    </tr>\n",
              "  </thead>\n",
              "  <tbody>\n",
              "    <tr>\n",
              "      <th>Month</th>\n",
              "      <td>2839.0</td>\n",
              "      <td>6.856640</td>\n",
              "      <td>3.564104</td>\n",
              "      <td>1.000000e+00</td>\n",
              "      <td>4.000000e+00</td>\n",
              "      <td>7.000000e+00</td>\n",
              "      <td>1.000000e+01</td>\n",
              "      <td>12.000000</td>\n",
              "    </tr>\n",
              "    <tr>\n",
              "      <th>X</th>\n",
              "      <td>2839.0</td>\n",
              "      <td>18.649586</td>\n",
              "      <td>16.216305</td>\n",
              "      <td>-1.662118e+01</td>\n",
              "      <td>7.085231e+00</td>\n",
              "      <td>2.034771e+01</td>\n",
              "      <td>3.326788e+01</td>\n",
              "      <td>49.628811</td>\n",
              "    </tr>\n",
              "    <tr>\n",
              "      <th>Y</th>\n",
              "      <td>2839.0</td>\n",
              "      <td>14.737187</td>\n",
              "      <td>11.424770</td>\n",
              "      <td>-1.191785e+01</td>\n",
              "      <td>6.826402e+00</td>\n",
              "      <td>1.731075e+01</td>\n",
              "      <td>2.303427e+01</td>\n",
              "      <td>36.745027</td>\n",
              "    </tr>\n",
              "    <tr>\n",
              "      <th>Year</th>\n",
              "      <td>2839.0</td>\n",
              "      <td>2006.577316</td>\n",
              "      <td>0.494073</td>\n",
              "      <td>2.006000e+03</td>\n",
              "      <td>2.006000e+03</td>\n",
              "      <td>2.007000e+03</td>\n",
              "      <td>2.007000e+03</td>\n",
              "      <td>2007.000000</td>\n",
              "    </tr>\n",
              "    <tr>\n",
              "      <th>evap</th>\n",
              "      <td>2839.0</td>\n",
              "      <td>0.000015</td>\n",
              "      <td>0.000020</td>\n",
              "      <td>-2.301517e-07</td>\n",
              "      <td>4.243267e-07</td>\n",
              "      <td>3.458980e-06</td>\n",
              "      <td>3.000919e-05</td>\n",
              "      <td>0.000072</td>\n",
              "    </tr>\n",
              "    <tr>\n",
              "      <th>heatnet</th>\n",
              "      <td>2839.0</td>\n",
              "      <td>56.842540</td>\n",
              "      <td>38.600993</td>\n",
              "      <td>-2.803090e+01</td>\n",
              "      <td>2.418934e+01</td>\n",
              "      <td>5.568921e+01</td>\n",
              "      <td>8.298677e+01</td>\n",
              "      <td>176.265305</td>\n",
              "    </tr>\n",
              "    <tr>\n",
              "      <th>humid</th>\n",
              "      <td>2839.0</td>\n",
              "      <td>0.009301</td>\n",
              "      <td>0.004670</td>\n",
              "      <td>1.777293e-03</td>\n",
              "      <td>4.785058e-03</td>\n",
              "      <td>9.276419e-03</td>\n",
              "      <td>1.365306e-02</td>\n",
              "      <td>0.018755</td>\n",
              "    </tr>\n",
              "    <tr>\n",
              "      <th>id</th>\n",
              "      <td>2839.0</td>\n",
              "      <td>31169.158859</td>\n",
              "      <td>11669.466969</td>\n",
              "      <td>2.520000e+04</td>\n",
              "      <td>2.591050e+04</td>\n",
              "      <td>2.662300e+04</td>\n",
              "      <td>2.733350e+04</td>\n",
              "      <td>69202.000000</td>\n",
              "    </tr>\n",
              "    <tr>\n",
              "      <th>latheat</th>\n",
              "      <td>2839.0</td>\n",
              "      <td>37.547384</td>\n",
              "      <td>49.074036</td>\n",
              "      <td>-5.756093e-01</td>\n",
              "      <td>1.061241e+00</td>\n",
              "      <td>8.650908e+00</td>\n",
              "      <td>7.505299e+01</td>\n",
              "      <td>180.976532</td>\n",
              "    </tr>\n",
              "    <tr>\n",
              "      <th>prep</th>\n",
              "      <td>2839.0</td>\n",
              "      <td>0.000018</td>\n",
              "      <td>0.000031</td>\n",
              "      <td>0.000000e+00</td>\n",
              "      <td>0.000000e+00</td>\n",
              "      <td>2.435070e-06</td>\n",
              "      <td>2.217668e-05</td>\n",
              "      <td>0.000228</td>\n",
              "    </tr>\n",
              "    <tr>\n",
              "      <th>pressure</th>\n",
              "      <td>2839.0</td>\n",
              "      <td>95416.077737</td>\n",
              "      <td>4210.097704</td>\n",
              "      <td>6.380552e+04</td>\n",
              "      <td>9.387890e+04</td>\n",
              "      <td>9.613039e+04</td>\n",
              "      <td>9.804684e+04</td>\n",
              "      <td>103336.257812</td>\n",
              "    </tr>\n",
              "    <tr>\n",
              "      <th>radtemp</th>\n",
              "      <td>2839.0</td>\n",
              "      <td>299.055937</td>\n",
              "      <td>6.015650</td>\n",
              "      <td>2.693591e+02</td>\n",
              "      <td>2.962777e+02</td>\n",
              "      <td>2.995618e+02</td>\n",
              "      <td>3.030133e+02</td>\n",
              "      <td>313.410187</td>\n",
              "    </tr>\n",
              "    <tr>\n",
              "      <th>runoff</th>\n",
              "      <td>2839.0</td>\n",
              "      <td>0.000001</td>\n",
              "      <td>0.000005</td>\n",
              "      <td>0.000000e+00</td>\n",
              "      <td>2.146470e-12</td>\n",
              "      <td>1.440109e-08</td>\n",
              "      <td>6.370177e-07</td>\n",
              "      <td>0.000083</td>\n",
              "    </tr>\n",
              "    <tr>\n",
              "      <th>soilheat</th>\n",
              "      <td>2839.0</td>\n",
              "      <td>-0.044336</td>\n",
              "      <td>3.145530</td>\n",
              "      <td>-1.075154e+01</td>\n",
              "      <td>-1.928482e+00</td>\n",
              "      <td>2.764029e-02</td>\n",
              "      <td>1.771412e+00</td>\n",
              "      <td>10.446856</td>\n",
              "    </tr>\n",
              "    <tr>\n",
              "      <th>soilmoi_10cm</th>\n",
              "      <td>2839.0</td>\n",
              "      <td>0.225260</td>\n",
              "      <td>0.093089</td>\n",
              "      <td>1.383975e-01</td>\n",
              "      <td>1.515268e-01</td>\n",
              "      <td>1.817053e-01</td>\n",
              "      <td>2.909513e-01</td>\n",
              "      <td>0.434899</td>\n",
              "    </tr>\n",
              "    <tr>\n",
              "      <th>soilmoi_1m</th>\n",
              "      <td>2839.0</td>\n",
              "      <td>0.259590</td>\n",
              "      <td>0.109016</td>\n",
              "      <td>7.999995e-02</td>\n",
              "      <td>1.793646e-01</td>\n",
              "      <td>2.844091e-01</td>\n",
              "      <td>3.408947e-01</td>\n",
              "      <td>0.444428</td>\n",
              "    </tr>\n",
              "    <tr>\n",
              "      <th>soilmoi_2m</th>\n",
              "      <td>2839.0</td>\n",
              "      <td>0.267653</td>\n",
              "      <td>0.122906</td>\n",
              "      <td>7.999995e-02</td>\n",
              "      <td>1.093287e-01</td>\n",
              "      <td>3.094366e-01</td>\n",
              "      <td>3.531672e-01</td>\n",
              "      <td>0.467923</td>\n",
              "    </tr>\n",
              "    <tr>\n",
              "      <th>soilmoi_40cm</th>\n",
              "      <td>2839.0</td>\n",
              "      <td>0.271602</td>\n",
              "      <td>0.097612</td>\n",
              "      <td>7.999995e-02</td>\n",
              "      <td>2.082649e-01</td>\n",
              "      <td>2.905281e-01</td>\n",
              "      <td>3.427378e-01</td>\n",
              "      <td>0.437361</td>\n",
              "    </tr>\n",
              "    <tr>\n",
              "      <th>soiltemp_10cm</th>\n",
              "      <td>2839.0</td>\n",
              "      <td>299.060477</td>\n",
              "      <td>5.924755</td>\n",
              "      <td>2.735899e+02</td>\n",
              "      <td>2.963526e+02</td>\n",
              "      <td>2.995877e+02</td>\n",
              "      <td>3.029637e+02</td>\n",
              "      <td>313.248505</td>\n",
              "    </tr>\n",
              "    <tr>\n",
              "      <th>soiltemp_1m</th>\n",
              "      <td>2839.0</td>\n",
              "      <td>299.071660</td>\n",
              "      <td>5.291779</td>\n",
              "      <td>2.771136e+02</td>\n",
              "      <td>2.963382e+02</td>\n",
              "      <td>2.996284e+02</td>\n",
              "      <td>3.026732e+02</td>\n",
              "      <td>311.297577</td>\n",
              "    </tr>\n",
              "    <tr>\n",
              "      <th>soiltemp_2m</th>\n",
              "      <td>2839.0</td>\n",
              "      <td>298.984819</td>\n",
              "      <td>4.944814</td>\n",
              "      <td>2.788129e+02</td>\n",
              "      <td>2.964060e+02</td>\n",
              "      <td>2.994639e+02</td>\n",
              "      <td>3.026881e+02</td>\n",
              "      <td>308.923706</td>\n",
              "    </tr>\n",
              "    <tr>\n",
              "      <th>soiltemp_40cm</th>\n",
              "      <td>2839.0</td>\n",
              "      <td>299.068150</td>\n",
              "      <td>5.652301</td>\n",
              "      <td>2.756757e+02</td>\n",
              "      <td>2.963599e+02</td>\n",
              "      <td>2.995842e+02</td>\n",
              "      <td>3.026216e+02</td>\n",
              "      <td>312.640900</td>\n",
              "    </tr>\n",
              "    <tr>\n",
              "      <th>surfacetemp</th>\n",
              "      <td>2839.0</td>\n",
              "      <td>298.045535</td>\n",
              "      <td>5.491145</td>\n",
              "      <td>2.740001e+02</td>\n",
              "      <td>2.958588e+02</td>\n",
              "      <td>2.985714e+02</td>\n",
              "      <td>3.012449e+02</td>\n",
              "      <td>311.498779</td>\n",
              "    </tr>\n",
              "    <tr>\n",
              "      <th>windspeed</th>\n",
              "      <td>2839.0</td>\n",
              "      <td>5.476658</td>\n",
              "      <td>1.852137</td>\n",
              "      <td>1.338898e+00</td>\n",
              "      <td>4.333723e+00</td>\n",
              "      <td>5.575811e+00</td>\n",
              "      <td>6.813821e+00</td>\n",
              "      <td>11.495053</td>\n",
              "    </tr>\n",
              "    <tr>\n",
              "      <th>PRESENCE</th>\n",
              "      <td>2839.0</td>\n",
              "      <td>0.156393</td>\n",
              "      <td>0.363292</td>\n",
              "      <td>0.000000e+00</td>\n",
              "      <td>0.000000e+00</td>\n",
              "      <td>0.000000e+00</td>\n",
              "      <td>0.000000e+00</td>\n",
              "      <td>1.000000</td>\n",
              "    </tr>\n",
              "  </tbody>\n",
              "</table>\n",
              "</div>"
            ],
            "text/plain": [
              "                count          mean  ...           75%            max\n",
              "Month          2839.0      6.856640  ...  1.000000e+01      12.000000\n",
              "X              2839.0     18.649586  ...  3.326788e+01      49.628811\n",
              "Y              2839.0     14.737187  ...  2.303427e+01      36.745027\n",
              "Year           2839.0   2006.577316  ...  2.007000e+03    2007.000000\n",
              "evap           2839.0      0.000015  ...  3.000919e-05       0.000072\n",
              "heatnet        2839.0     56.842540  ...  8.298677e+01     176.265305\n",
              "humid          2839.0      0.009301  ...  1.365306e-02       0.018755\n",
              "id             2839.0  31169.158859  ...  2.733350e+04   69202.000000\n",
              "latheat        2839.0     37.547384  ...  7.505299e+01     180.976532\n",
              "prep           2839.0      0.000018  ...  2.217668e-05       0.000228\n",
              "pressure       2839.0  95416.077737  ...  9.804684e+04  103336.257812\n",
              "radtemp        2839.0    299.055937  ...  3.030133e+02     313.410187\n",
              "runoff         2839.0      0.000001  ...  6.370177e-07       0.000083\n",
              "soilheat       2839.0     -0.044336  ...  1.771412e+00      10.446856\n",
              "soilmoi_10cm   2839.0      0.225260  ...  2.909513e-01       0.434899\n",
              "soilmoi_1m     2839.0      0.259590  ...  3.408947e-01       0.444428\n",
              "soilmoi_2m     2839.0      0.267653  ...  3.531672e-01       0.467923\n",
              "soilmoi_40cm   2839.0      0.271602  ...  3.427378e-01       0.437361\n",
              "soiltemp_10cm  2839.0    299.060477  ...  3.029637e+02     313.248505\n",
              "soiltemp_1m    2839.0    299.071660  ...  3.026732e+02     311.297577\n",
              "soiltemp_2m    2839.0    298.984819  ...  3.026881e+02     308.923706\n",
              "soiltemp_40cm  2839.0    299.068150  ...  3.026216e+02     312.640900\n",
              "surfacetemp    2839.0    298.045535  ...  3.012449e+02     311.498779\n",
              "windspeed      2839.0      5.476658  ...  6.813821e+00      11.495053\n",
              "PRESENCE       2839.0      0.156393  ...  0.000000e+00       1.000000\n",
              "\n",
              "[25 rows x 8 columns]"
            ]
          },
          "metadata": {},
          "execution_count": 53
        }
      ]
    },
    {
      "cell_type": "code",
      "metadata": {
        "colab": {
          "base_uri": "https://localhost:8080/",
          "height": 132
        },
        "id": "nKo0i5B96wsN",
        "outputId": "bd900b69-ca99-4c77-dfb6-aa9c00a1b434"
      },
      "source": [
        "# divide validation data to presence and absence to exclude 2-5 % of upper and lower outliers\n",
        "df_data_val_presence = df_data_val[df_data_val['PRESENCE'] == 1]\n",
        "df_data_val_absence = df_data_val[df_data_val['PRESENCE'] == 0]\n",
        "df_data_val_absence.head(2)"
      ],
      "execution_count": 54,
      "outputs": [
        {
          "output_type": "execute_result",
          "data": {
            "text/html": [
              "<div>\n",
              "<style scoped>\n",
              "    .dataframe tbody tr th:only-of-type {\n",
              "        vertical-align: middle;\n",
              "    }\n",
              "\n",
              "    .dataframe tbody tr th {\n",
              "        vertical-align: top;\n",
              "    }\n",
              "\n",
              "    .dataframe thead th {\n",
              "        text-align: right;\n",
              "    }\n",
              "</style>\n",
              "<table border=\"1\" class=\"dataframe\">\n",
              "  <thead>\n",
              "    <tr style=\"text-align: right;\">\n",
              "      <th></th>\n",
              "      <th>Month</th>\n",
              "      <th>X</th>\n",
              "      <th>Y</th>\n",
              "      <th>Year</th>\n",
              "      <th>evap</th>\n",
              "      <th>heatnet</th>\n",
              "      <th>humid</th>\n",
              "      <th>id</th>\n",
              "      <th>latheat</th>\n",
              "      <th>prep</th>\n",
              "      <th>pressure</th>\n",
              "      <th>radtemp</th>\n",
              "      <th>runoff</th>\n",
              "      <th>soilheat</th>\n",
              "      <th>soilmoi_10cm</th>\n",
              "      <th>soilmoi_1m</th>\n",
              "      <th>soilmoi_2m</th>\n",
              "      <th>soilmoi_40cm</th>\n",
              "      <th>soiltemp_10cm</th>\n",
              "      <th>soiltemp_1m</th>\n",
              "      <th>soiltemp_2m</th>\n",
              "      <th>soiltemp_40cm</th>\n",
              "      <th>surfacetemp</th>\n",
              "      <th>windspeed</th>\n",
              "      <th>PRESENCE</th>\n",
              "    </tr>\n",
              "  </thead>\n",
              "  <tbody>\n",
              "    <tr>\n",
              "      <th>0</th>\n",
              "      <td>1</td>\n",
              "      <td>21.384989</td>\n",
              "      <td>-0.281897</td>\n",
              "      <td>2006</td>\n",
              "      <td>5.991438e-05</td>\n",
              "      <td>-0.872525</td>\n",
              "      <td>0.015506</td>\n",
              "      <td>25239</td>\n",
              "      <td>149.845856</td>\n",
              "      <td>0.000065</td>\n",
              "      <td>96397.65625</td>\n",
              "      <td>298.997528</td>\n",
              "      <td>5.876605e-06</td>\n",
              "      <td>0.64746</td>\n",
              "      <td>0.411574</td>\n",
              "      <td>0.42046</td>\n",
              "      <td>0.436016</td>\n",
              "      <td>0.414271</td>\n",
              "      <td>298.905762</td>\n",
              "      <td>298.359406</td>\n",
              "      <td>298.134247</td>\n",
              "      <td>298.557770</td>\n",
              "      <td>300.521423</td>\n",
              "      <td>2.289917</td>\n",
              "      <td>0.0</td>\n",
              "    </tr>\n",
              "    <tr>\n",
              "      <th>1</th>\n",
              "      <td>1</td>\n",
              "      <td>36.557216</td>\n",
              "      <td>16.060265</td>\n",
              "      <td>2006</td>\n",
              "      <td>5.806991e-07</td>\n",
              "      <td>64.039223</td>\n",
              "      <td>0.008563</td>\n",
              "      <td>25204</td>\n",
              "      <td>1.452328</td>\n",
              "      <td>0.000000</td>\n",
              "      <td>95336.40625</td>\n",
              "      <td>300.164062</td>\n",
              "      <td>5.769270e-12</td>\n",
              "      <td>-1.63430</td>\n",
              "      <td>0.145005</td>\n",
              "      <td>0.32994</td>\n",
              "      <td>0.331969</td>\n",
              "      <td>0.329165</td>\n",
              "      <td>300.277191</td>\n",
              "      <td>301.167755</td>\n",
              "      <td>301.835480</td>\n",
              "      <td>300.690979</td>\n",
              "      <td>298.687592</td>\n",
              "      <td>6.868981</td>\n",
              "      <td>0.0</td>\n",
              "    </tr>\n",
              "  </tbody>\n",
              "</table>\n",
              "</div>"
            ],
            "text/plain": [
              "   Month          X          Y  ...  surfacetemp  windspeed  PRESENCE\n",
              "0      1  21.384989  -0.281897  ...   300.521423   2.289917       0.0\n",
              "1      1  36.557216  16.060265  ...   298.687592   6.868981       0.0\n",
              "\n",
              "[2 rows x 25 columns]"
            ]
          },
          "metadata": {},
          "execution_count": 54
        }
      ]
    },
    {
      "cell_type": "code",
      "metadata": {
        "colab": {
          "base_uri": "https://localhost:8080/"
        },
        "id": "jDwjMHgU6wsR",
        "outputId": "59cdfc1b-30c3-4e71-a7a9-854991483b67"
      },
      "source": [
        "# Percentage of presence and absence in test data\n",
        "print (\"Presence: %i (%.1f%%)\"%(len(df_data_val_presence), float(len(df_data_val_presence))/len(df_data_val)*100.0))\n",
        "print (\"Absence: %i (%.1f%%)\"%(len(df_data_val_absence), float(len(df_data_val_absence))/len(df_data_val)*100.0))\n",
        "print (\"Total: %i\"%len(df_data_val))"
      ],
      "execution_count": 55,
      "outputs": [
        {
          "output_type": "stream",
          "name": "stdout",
          "text": [
            "Presence: 444 (15.6%)\n",
            "Absence: 2395 (84.4%)\n",
            "Total: 2839\n"
          ]
        }
      ]
    },
    {
      "cell_type": "code",
      "metadata": {
        "colab": {
          "resources": {
            "http://localhost:8080/nbextensions/google.colab/files.js": {
              "data": "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",
              "ok": true,
              "headers": [
                [
                  "content-type",
                  "application/javascript"
                ]
              ],
              "status": 200,
              "status_text": "OK"
            }
          },
          "base_uri": "https://localhost:8080/",
          "height": 93
        },
        "id": "ZrZloQwb6wsT",
        "outputId": "09e29422-5e91-47d2-e28a-f16cd12432e0"
      },
      "source": [
        "from google.colab import files\n",
        "uploaded = files.upload()\n",
        "\n",
        "df_data_val_landsat_06_07 = pd.read_csv(io.BytesIO(uploaded['Landsat_06_07_extracted.csv']))\n",
        "\n",
        "#dataset = dataframe.values\n",
        "df_data_val_landsat_06_07.head(2)\n",
        "print(df_data_val_landsat_06_07.shape)"
      ],
      "execution_count": 56,
      "outputs": [
        {
          "output_type": "display_data",
          "data": {
            "text/html": [
              "\n",
              "     <input type=\"file\" id=\"files-a3af1fb3-4e16-4601-b3bc-e97d7430e836\" name=\"files[]\" multiple disabled\n",
              "        style=\"border:none\" />\n",
              "     <output id=\"result-a3af1fb3-4e16-4601-b3bc-e97d7430e836\">\n",
              "      Upload widget is only available when the cell has been executed in the\n",
              "      current browser session. Please rerun this cell to enable.\n",
              "      </output>\n",
              "      <script src=\"/nbextensions/google.colab/files.js\"></script> "
            ],
            "text/plain": [
              "<IPython.core.display.HTML object>"
            ]
          },
          "metadata": {}
        },
        {
          "output_type": "stream",
          "name": "stdout",
          "text": [
            "Saving Landsat_06_07_extracted.csv to Landsat_06_07_extracted.csv\n",
            "(1810, 13)\n"
          ]
        }
      ]
    },
    {
      "cell_type": "code",
      "metadata": {
        "colab": {
          "base_uri": "https://localhost:8080/"
        },
        "id": "lgWSLeDJ6wsZ",
        "outputId": "485f3668-26a7-4221-99c0-edc8f52e7376"
      },
      "source": [
        "# df_data_val_landsat_06_07, df_data_val, df_data_dem\n",
        "val_df_landsat = df_data_val_landsat_06_07[['Blue', 'Green', 'NIR', 'Red', 'SWIR1', 'SWIR2', 'X', 'Y', 'id']] #'PRESENCE', 'Year' ,'Month'\n",
        "val_df_merge_fldas_landsat = pd.merge(df_data_val, val_df_landsat, on = 'id') #how='left', left_on=['X','Y'], right_on = ['X','Y']\n",
        "\n",
        "print(val_df_merge_fldas_landsat.head(2))\n",
        "print(val_df_merge_fldas_landsat.columns)\n",
        "\n",
        "df_data_dem = df_data_dem[['X', 'Y', 'mean', 'id']]\n",
        "val_df_merge_fldas_landsat_dem = pd.merge(val_df_merge_fldas_landsat, df_data_dem, on = 'id')# how='left', left_on=['X','Y'], right_on = ['X','Y']\n",
        "print(val_df_merge_fldas_landsat_dem.head(2))\n",
        "print(val_df_merge_fldas_landsat_dem.columns)"
      ],
      "execution_count": 110,
      "outputs": [
        {
          "output_type": "stream",
          "name": "stdout",
          "text": [
            "   Month        X_x        Y_x  ...        SWIR2        X_y        Y_y\n",
            "0      1  36.557216  16.060265  ...  2863.392000  36.557216  16.060265\n",
            "1      1  40.222654   7.432943  ...   780.242063  40.222654   7.432943\n",
            "\n",
            "[2 rows x 33 columns]\n",
            "Index(['Month', 'X_x', 'Y_x', 'Year', 'evap', 'heatnet', 'humid', 'id',\n",
            "       'latheat', 'prep', 'pressure', 'radtemp', 'runoff', 'soilheat',\n",
            "       'soilmoi_10cm', 'soilmoi_1m', 'soilmoi_2m', 'soilmoi_40cm',\n",
            "       'soiltemp_10cm', 'soiltemp_1m', 'soiltemp_2m', 'soiltemp_40cm',\n",
            "       'surfacetemp', 'windspeed', 'PRESENCE', 'Blue', 'Green', 'NIR', 'Red',\n",
            "       'SWIR1', 'SWIR2', 'X_y', 'Y_y'],\n",
            "      dtype='object')\n",
            "   Month        X_x        Y_x  Year  ...        Y_y          X          Y    mean\n",
            "0      1  36.557216  16.060265  2006  ...  16.060265  36.557216  16.060265   493.0\n",
            "1      1  40.222654   7.432943  2006  ...   7.432943  40.222654   7.432943  2084.0\n",
            "\n",
            "[2 rows x 36 columns]\n",
            "Index(['Month', 'X_x', 'Y_x', 'Year', 'evap', 'heatnet', 'humid', 'id',\n",
            "       'latheat', 'prep', 'pressure', 'radtemp', 'runoff', 'soilheat',\n",
            "       'soilmoi_10cm', 'soilmoi_1m', 'soilmoi_2m', 'soilmoi_40cm',\n",
            "       'soiltemp_10cm', 'soiltemp_1m', 'soiltemp_2m', 'soiltemp_40cm',\n",
            "       'surfacetemp', 'windspeed', 'PRESENCE', 'Blue', 'Green', 'NIR', 'Red',\n",
            "       'SWIR1', 'SWIR2', 'X_y', 'Y_y', 'X', 'Y', 'mean'],\n",
            "      dtype='object')\n"
          ]
        }
      ]
    },
    {
      "cell_type": "code",
      "metadata": {
        "colab": {
          "base_uri": "https://localhost:8080/"
        },
        "id": "PtVeE_3K6wsc",
        "outputId": "3b7c60aa-5d2d-4cb9-d585-47abded92d02"
      },
      "source": [
        "# move the \"PRESENCE\" column to the last one\n",
        "val_df_merge_fldas_landsat_dem = val_df_merge_fldas_landsat_dem[['Month', 'X', 'Y', 'Year', 'evap', 'heatnet', 'humid',\n",
        "       'latheat', 'prep', 'pressure', 'radtemp', 'runoff', 'soilheat',\n",
        "       'soilmoi_10cm', 'soilmoi_1m', 'soilmoi_2m', 'soilmoi_40cm',\n",
        "       'soiltemp_10cm', 'soiltemp_1m', 'soiltemp_2m', 'soiltemp_40cm',\n",
        "       'surfacetemp', 'windspeed', 'Blue', 'Green', 'NIR', 'Red',\n",
        "       'SWIR1', 'SWIR2', 'mean','PRESENCE']] #'Unnamed: 0', 'id', \n",
        "\n",
        "print(val_df_merge_fldas_landsat_dem.tail(2))\n",
        "print(val_df_merge_fldas_landsat_dem.shape)"
      ],
      "execution_count": 111,
      "outputs": [
        {
          "output_type": "stream",
          "name": "stdout",
          "text": [
            "      Month          X          Y  ...        SWIR2   mean  PRESENCE\n",
            "1806     12  37.674722  18.268333  ...  2163.334661   37.0       1.0\n",
            "1807     12  -5.506731  29.449649  ...  3818.438735  627.0       0.0\n",
            "\n",
            "[2 rows x 31 columns]\n",
            "(1808, 31)\n"
          ]
        }
      ]
    },
    {
      "cell_type": "code",
      "metadata": {
        "id": "6CYDkKUE6wsg"
      },
      "source": [
        "# check for NaN values in train and test dataframes\n",
        "val_df_merge_fldas_landsat_dem.isnull().any()\n",
        "\n",
        "# impute the data\n",
        "val_df_merge_fldas_landsat_dem = val_df_merge_fldas_landsat_dem.fillna(val_df_merge_fldas_landsat_dem.median())"
      ],
      "execution_count": 112,
      "outputs": []
    },
    {
      "cell_type": "code",
      "metadata": {
        "id": "ecy3ekZ46wsi"
      },
      "source": [
        "#val_df_merge_fldas_landsat_dem.isnull().any()\n",
        "#print(val_df_merge_fldas_landsat_dem.shape)"
      ],
      "execution_count": 61,
      "outputs": []
    },
    {
      "cell_type": "markdown",
      "metadata": {
        "id": "ihJAh2ID6wsk"
      },
      "source": [
        "#### Log tranform on validation data for \"evap\", \"runoff\", \"latheat\""
      ]
    },
    {
      "cell_type": "code",
      "metadata": {
        "id": "IZGUa0cV6wsm"
      },
      "source": [
        " val_df_merge_fldas_landsat_dem['evap_log']= val_df_merge_fldas_landsat_dem['evap'].apply(np.log)"
      ],
      "execution_count": 113,
      "outputs": []
    },
    {
      "cell_type": "code",
      "metadata": {
        "id": "ig9FGQoQ6wso"
      },
      "source": [
        "val_df_merge_fldas_landsat_dem['runoff_log']= val_df_merge_fldas_landsat_dem['runoff'].apply(np.log)"
      ],
      "execution_count": 114,
      "outputs": []
    },
    {
      "cell_type": "code",
      "metadata": {
        "id": "WsH6V6936wsp"
      },
      "source": [
        "val_df_merge_fldas_landsat_dem['latheat_log']= val_df_merge_fldas_landsat_dem['latheat'].apply(np.log)"
      ],
      "execution_count": 115,
      "outputs": []
    },
    {
      "cell_type": "code",
      "metadata": {
        "id": "Nzdi70ri6wsr"
      },
      "source": [
        "# impute the data\n",
        "val_df_merge_fldas_landsat_dem = val_df_merge_fldas_landsat_dem.fillna(val_df_merge_fldas_landsat_dem.median())"
      ],
      "execution_count": 116,
      "outputs": []
    },
    {
      "cell_type": "code",
      "metadata": {
        "id": "NIEpwelC6wst"
      },
      "source": [
        "# move the \"PRESENCE\" column to the last one\n",
        "val_df_merge_fldas_landsat_dem = val_df_merge_fldas_landsat_dem[['Month', 'X', 'Y', 'Year', 'evap_log', 'heatnet', 'humid',\n",
        "       'latheat_log', 'prep', 'pressure', 'radtemp', 'runoff_log', 'soilheat',\n",
        "       'soilmoi_10cm', 'soilmoi_1m', 'soilmoi_2m', 'soilmoi_40cm',\n",
        "       'soiltemp_10cm', 'soiltemp_1m', 'soiltemp_2m', 'soiltemp_40cm',\n",
        "       'surfacetemp', 'windspeed', 'Blue', 'Green', 'NIR', 'Red',\n",
        "       'SWIR1', 'SWIR2', 'mean','PRESENCE']] #'id', "
      ],
      "execution_count": 117,
      "outputs": []
    },
    {
      "cell_type": "code",
      "metadata": {
        "id": "eQVrPG3t6wsv"
      },
      "source": [
        "val_df_merge_fldas_landsat_dem = val_df_merge_fldas_landsat_dem.fillna(val_df_merge_fldas_landsat_dem.median()).clip(-1e11,1e11)"
      ],
      "execution_count": 118,
      "outputs": []
    },
    {
      "cell_type": "code",
      "metadata": {
        "id": "sM97wsihAbP4"
      },
      "source": [
        "#rm(val_df_merge_fldas_landsat_dem)"
      ],
      "execution_count": 109,
      "outputs": []
    },
    {
      "cell_type": "code",
      "metadata": {
        "colab": {
          "base_uri": "https://localhost:8080/"
        },
        "id": "d0q8giRH6wsw",
        "outputId": "35684047-d581-43ac-ed69-2decca0a15c7"
      },
      "source": [
        "#print(val_df_merge_fldas_landsat_dem.info())\n",
        "print(val_df_merge_fldas_landsat_dem.shape)"
      ],
      "execution_count": 119,
      "outputs": [
        {
          "output_type": "stream",
          "name": "stdout",
          "text": [
            "(1808, 31)\n"
          ]
        }
      ]
    },
    {
      "cell_type": "code",
      "metadata": {
        "colab": {
          "base_uri": "https://localhost:8080/"
        },
        "id": "Tm2MP3wT6wsy",
        "outputId": "558ace30-61c6-499d-c1cf-1bb1d7840f9f"
      },
      "source": [
        "dataset_val = val_df_merge_fldas_landsat_dem.values\n",
        "print(type(dataset_val))\n",
        "print(dataset_val.size)\n",
        "\n",
        "# split into input (X) and output (Y) variables\n",
        "X_val = dataset_val[:,1:30]\n",
        "Y_val = dataset_val[:,30]\n",
        "Y_val\n",
        "#print(X_val.shape)\n",
        "#print(Y_val) "
      ],
      "execution_count": 120,
      "outputs": [
        {
          "output_type": "stream",
          "name": "stdout",
          "text": [
            "<class 'numpy.ndarray'>\n",
            "56048\n"
          ]
        },
        {
          "output_type": "execute_result",
          "data": {
            "text/plain": [
              "array([0., 0., 0., ..., 1., 1., 0.])"
            ]
          },
          "metadata": {},
          "execution_count": 120
        }
      ]
    },
    {
      "cell_type": "code",
      "metadata": {
        "id": "rDUqx01aK1j7"
      },
      "source": [
        "Y_val = Y_val.astype(int)"
      ],
      "execution_count": 121,
      "outputs": []
    },
    {
      "cell_type": "code",
      "metadata": {
        "id": "4ZFLngBM6ws0"
      },
      "source": [
        "# encode class values as integers\n",
        "encoder_val = LabelEncoder()\n",
        "encoder_val.fit(Y_val) \n",
        "encoded_Y_val = encoder_val.transform(Y_val)"
      ],
      "execution_count": 122,
      "outputs": []
    },
    {
      "cell_type": "code",
      "metadata": {
        "id": "HNDdguIp6ws2"
      },
      "source": [
        "#print(X_val.size)\n",
        "#X_val"
      ],
      "execution_count": 123,
      "outputs": []
    },
    {
      "cell_type": "markdown",
      "metadata": {
        "id": "ShpLWfYAWNhI"
      },
      "source": [
        "### Train_new & Val_new"
      ]
    },
    {
      "cell_type": "code",
      "metadata": {
        "colab": {
          "base_uri": "https://localhost:8080/",
          "height": 132
        },
        "id": "AlSwbiZoWOFk",
        "outputId": "a75046db-75d2-45d8-dc53-595fd8d0500b"
      },
      "source": [
        "tv_frames = [train_df_merge_fldas_landsat_dem, val_df_merge_fldas_landsat_dem]\n",
        "tv_new = pd.concat(tv_frames)\n",
        "tv_new.head(2)"
      ],
      "execution_count": 124,
      "outputs": [
        {
          "output_type": "execute_result",
          "data": {
            "text/html": [
              "<div>\n",
              "<style scoped>\n",
              "    .dataframe tbody tr th:only-of-type {\n",
              "        vertical-align: middle;\n",
              "    }\n",
              "\n",
              "    .dataframe tbody tr th {\n",
              "        vertical-align: top;\n",
              "    }\n",
              "\n",
              "    .dataframe thead th {\n",
              "        text-align: right;\n",
              "    }\n",
              "</style>\n",
              "<table border=\"1\" class=\"dataframe\">\n",
              "  <thead>\n",
              "    <tr style=\"text-align: right;\">\n",
              "      <th></th>\n",
              "      <th>Month</th>\n",
              "      <th>X</th>\n",
              "      <th>Y</th>\n",
              "      <th>Year</th>\n",
              "      <th>evap_log</th>\n",
              "      <th>heatnet</th>\n",
              "      <th>humid</th>\n",
              "      <th>latheat_log</th>\n",
              "      <th>prep</th>\n",
              "      <th>pressure</th>\n",
              "      <th>radtemp</th>\n",
              "      <th>runoff_log</th>\n",
              "      <th>soilheat</th>\n",
              "      <th>soilmoi_10cm</th>\n",
              "      <th>soilmoi_1m</th>\n",
              "      <th>soilmoi_2m</th>\n",
              "      <th>soilmoi_40cm</th>\n",
              "      <th>soiltemp_10cm</th>\n",
              "      <th>soiltemp_1m</th>\n",
              "      <th>soiltemp_2m</th>\n",
              "      <th>soiltemp_40cm</th>\n",
              "      <th>surfacetemp</th>\n",
              "      <th>windspeed</th>\n",
              "      <th>Blue</th>\n",
              "      <th>Green</th>\n",
              "      <th>NIR</th>\n",
              "      <th>Red</th>\n",
              "      <th>SWIR1</th>\n",
              "      <th>SWIR2</th>\n",
              "      <th>mean</th>\n",
              "      <th>PRESENCE</th>\n",
              "    </tr>\n",
              "  </thead>\n",
              "  <tbody>\n",
              "    <tr>\n",
              "      <th>0</th>\n",
              "      <td>1</td>\n",
              "      <td>35.731989</td>\n",
              "      <td>3.470450</td>\n",
              "      <td>1998</td>\n",
              "      <td>-12.173651</td>\n",
              "      <td>119.128960</td>\n",
              "      <td>0.014811</td>\n",
              "      <td>2.55855</td>\n",
              "      <td>0.000005</td>\n",
              "      <td>95705.359375</td>\n",
              "      <td>302.899567</td>\n",
              "      <td>-16.444806</td>\n",
              "      <td>1.246766</td>\n",
              "      <td>0.202167</td>\n",
              "      <td>0.312230</td>\n",
              "      <td>0.307770</td>\n",
              "      <td>0.312708</td>\n",
              "      <td>302.830627</td>\n",
              "      <td>302.213257</td>\n",
              "      <td>301.765289</td>\n",
              "      <td>302.570862</td>\n",
              "      <td>299.943359</td>\n",
              "      <td>6.886012</td>\n",
              "      <td>796.285714</td>\n",
              "      <td>1172.329365</td>\n",
              "      <td>1851.488095</td>\n",
              "      <td>1327.222222</td>\n",
              "      <td>1573.500000</td>\n",
              "      <td>1092.198413</td>\n",
              "      <td>473.0</td>\n",
              "      <td>0.0</td>\n",
              "    </tr>\n",
              "    <tr>\n",
              "      <th>1</th>\n",
              "      <td>1</td>\n",
              "      <td>0.073893</td>\n",
              "      <td>33.568867</td>\n",
              "      <td>1998</td>\n",
              "      <td>-11.942462</td>\n",
              "      <td>4.174149</td>\n",
              "      <td>0.004427</td>\n",
              "      <td>2.78974</td>\n",
              "      <td>0.000006</td>\n",
              "      <td>88644.242188</td>\n",
              "      <td>279.236481</td>\n",
              "      <td>-15.782495</td>\n",
              "      <td>-3.765432</td>\n",
              "      <td>0.283599</td>\n",
              "      <td>0.318301</td>\n",
              "      <td>0.323309</td>\n",
              "      <td>0.311076</td>\n",
              "      <td>279.421295</td>\n",
              "      <td>281.684265</td>\n",
              "      <td>283.677917</td>\n",
              "      <td>280.183350</td>\n",
              "      <td>279.670135</td>\n",
              "      <td>6.322828</td>\n",
              "      <td>1070.948207</td>\n",
              "      <td>1809.454183</td>\n",
              "      <td>3534.836653</td>\n",
              "      <td>2750.888446</td>\n",
              "      <td>4557.131474</td>\n",
              "      <td>4031.856574</td>\n",
              "      <td>1178.0</td>\n",
              "      <td>0.0</td>\n",
              "    </tr>\n",
              "  </tbody>\n",
              "</table>\n",
              "</div>"
            ],
            "text/plain": [
              "   Month          X          Y  ...        SWIR2    mean  PRESENCE\n",
              "0      1  35.731989   3.470450  ...  1092.198413   473.0       0.0\n",
              "1      1   0.073893  33.568867  ...  4031.856574  1178.0       0.0\n",
              "\n",
              "[2 rows x 31 columns]"
            ]
          },
          "metadata": {},
          "execution_count": 124
        }
      ]
    },
    {
      "cell_type": "code",
      "metadata": {
        "colab": {
          "base_uri": "https://localhost:8080/",
          "height": 1000
        },
        "id": "A9i1iP_cwb9r",
        "outputId": "2cb36c79-43b0-4146-bdd0-02a810678ff4"
      },
      "source": [
        "# check the distribution of each column using histogram\n",
        "fig = plt.figure(figsize = (15,20))\n",
        "ax = fig.gca()\n",
        "tv_new.hist(ax = ax)"
      ],
      "execution_count": 125,
      "outputs": [
        {
          "output_type": "stream",
          "name": "stderr",
          "text": [
            "/usr/local/lib/python3.7/dist-packages/ipykernel_launcher.py:4: UserWarning: To output multiple subplots, the figure containing the passed axes is being cleared\n",
            "  after removing the cwd from sys.path.\n"
          ]
        },
        {
          "output_type": "execute_result",
          "data": {
            "text/plain": [
              "array([[<matplotlib.axes._subplots.AxesSubplot object at 0x7f6323ae8b10>,\n",
              "        <matplotlib.axes._subplots.AxesSubplot object at 0x7f6323a4da10>,\n",
              "        <matplotlib.axes._subplots.AxesSubplot object at 0x7f63239fef90>,\n",
              "        <matplotlib.axes._subplots.AxesSubplot object at 0x7f6323a37090>,\n",
              "        <matplotlib.axes._subplots.AxesSubplot object at 0x7f63239f61d0>,\n",
              "        <matplotlib.axes._subplots.AxesSubplot object at 0x7f63239ac750>],\n",
              "       [<matplotlib.axes._subplots.AxesSubplot object at 0x7f6323960d50>,\n",
              "        <matplotlib.axes._subplots.AxesSubplot object at 0x7f6323924250>,\n",
              "        <matplotlib.axes._subplots.AxesSubplot object at 0x7f6323924290>,\n",
              "        <matplotlib.axes._subplots.AxesSubplot object at 0x7f63238d6910>,\n",
              "        <matplotlib.axes._subplots.AxesSubplot object at 0x7f6323850350>,\n",
              "        <matplotlib.axes._subplots.AxesSubplot object at 0x7f63238048d0>],\n",
              "       [<matplotlib.axes._subplots.AxesSubplot object at 0x7f632383ae50>,\n",
              "        <matplotlib.axes._subplots.AxesSubplot object at 0x7f632377e390>,\n",
              "        <matplotlib.axes._subplots.AxesSubplot object at 0x7f63237b28d0>,\n",
              "        <matplotlib.axes._subplots.AxesSubplot object at 0x7f6323769e50>,\n",
              "        <matplotlib.axes._subplots.AxesSubplot object at 0x7f6323730610>,\n",
              "        <matplotlib.axes._subplots.AxesSubplot object at 0x7f63236e7990>],\n",
              "       [<matplotlib.axes._subplots.AxesSubplot object at 0x7f6323699f50>,\n",
              "        <matplotlib.axes._subplots.AxesSubplot object at 0x7f632365a4d0>,\n",
              "        <matplotlib.axes._subplots.AxesSubplot object at 0x7f6323610a90>,\n",
              "        <matplotlib.axes._subplots.AxesSubplot object at 0x7f63235c3fd0>,\n",
              "        <matplotlib.axes._subplots.AxesSubplot object at 0x7f63235865d0>,\n",
              "        <matplotlib.axes._subplots.AxesSubplot object at 0x7f632353cb50>],\n",
              "       [<matplotlib.axes._subplots.AxesSubplot object at 0x7f63234fe110>,\n",
              "        <matplotlib.axes._subplots.AxesSubplot object at 0x7f6323532690>,\n",
              "        <matplotlib.axes._subplots.AxesSubplot object at 0x7f63234e8c10>,\n",
              "        <matplotlib.axes._subplots.AxesSubplot object at 0x7f63234ab1d0>,\n",
              "        <matplotlib.axes._subplots.AxesSubplot object at 0x7f6323460750>,\n",
              "        <matplotlib.axes._subplots.AxesSubplot object at 0x7f6323417cd0>],\n",
              "       [<matplotlib.axes._subplots.AxesSubplot object at 0x7f63233d9290>,\n",
              "        <matplotlib.axes._subplots.AxesSubplot object at 0x7f632338d810>,\n",
              "        <matplotlib.axes._subplots.AxesSubplot object at 0x7f6323342d90>,\n",
              "        <matplotlib.axes._subplots.AxesSubplot object at 0x7f6323305350>,\n",
              "        <matplotlib.axes._subplots.AxesSubplot object at 0x7f632333b8d0>,\n",
              "        <matplotlib.axes._subplots.AxesSubplot object at 0x7f63232f0e50>]],\n",
              "      dtype=object)"
            ]
          },
          "metadata": {},
          "execution_count": 125
        },
        {
          "output_type": "display_data",
          "data": {
            "image/png": "[encoded data removed]",
            "text/plain": [
              "<Figure size 1080x1440 with 36 Axes>"
            ]
          },
          "metadata": {
            "needs_background": "light"
          }
        }
      ]
    },
    {
      "cell_type": "code",
      "metadata": {
        "colab": {
          "base_uri": "https://localhost:8080/"
        },
        "id": "hVCFM2UxYug7",
        "outputId": "0388e92a-8454-4a4f-ffb0-a38430ff1906"
      },
      "source": [
        "dataset_new_tv = tv_new.values\n",
        "print(type(dataset_new_tv))\n",
        "print(dataset_new_tv.size)\n",
        "\n",
        "# split into input (X) and output (Y) variables\n",
        "X_new_tv = dataset_new_tv[:,1:30]\n",
        "Y_new_tv = dataset_new_tv[:,30]"
      ],
      "execution_count": 126,
      "outputs": [
        {
          "output_type": "stream",
          "name": "stdout",
          "text": [
            "<class 'numpy.ndarray'>\n",
            "636213\n"
          ]
        }
      ]
    },
    {
      "cell_type": "code",
      "metadata": {
        "colab": {
          "base_uri": "https://localhost:8080/"
        },
        "id": "FHnyalFrYdBS",
        "outputId": "f6d8372e-fd67-41a1-b440-d424c0a1cb51"
      },
      "source": [
        "# split the new combined data (train and validation ) with 70 %, 30% proportions\n",
        "from sklearn.model_selection import train_test_split\n",
        "\n",
        "train_new_X, val_new_X, train_new_y, val_new_y = train_test_split(X_new_tv, Y_new_tv, \n",
        "                                                    #train_size=0.5,\n",
        "                                                    test_size=0.3,\n",
        "                                                    random_state=123, \n",
        "                                                    #stratify=y\n",
        "                                                    )\n",
        "\n",
        "print(train_new_X)"
      ],
      "execution_count": 128,
      "outputs": [
        {
          "output_type": "stream",
          "name": "stdout",
          "text": [
            "[[ 9.95717308e+00  3.71383236e+00  2.00300000e+03 ...  2.27989243e+03\n",
            "   1.17998805e+03  2.40000000e+01]\n",
            " [ 2.41916669e+01  2.02184123e+00  2.00600000e+03 ...  1.21071713e+03\n",
            "   4.55533864e+02  4.35000000e+02]\n",
            " [-8.50000000e+00  3.05000000e+01  2.00400000e+03 ...  2.09062698e+03\n",
            "   1.63661905e+03  7.14000000e+02]\n",
            " ...\n",
            " [ 4.21666667e+00  3.24333333e+01  2.00500000e+03 ...  5.89355159e+03\n",
            "   5.01252778e+03  3.72000000e+02]\n",
            " [-8.17777778e+00  2.96833333e+01  2.00400000e+03 ...  7.67083333e+02\n",
            "   6.43994048e+02  8.24000000e+02]\n",
            " [ 3.80860287e+00  1.07376524e+01  2.00700000e+03 ...  2.69668526e+03\n",
            "   1.76849801e+03  2.98000000e+02]]\n"
          ]
        }
      ]
    },
    {
      "cell_type": "code",
      "metadata": {
        "id": "IepYNbG43NkM"
      },
      "source": [
        "# encode class values as integers\n",
        "encoder_train_new = LabelEncoder()\n",
        "encoder_train_new.fit(train_new_y)\n",
        "encoded_train_new_Y = encoder_train_new.transform(train_new_y)"
      ],
      "execution_count": 129,
      "outputs": []
    },
    {
      "cell_type": "code",
      "metadata": {
        "id": "8JZWyrs242Du"
      },
      "source": [
        "# encode class values as integers\n",
        "encoder_val_new = LabelEncoder()\n",
        "encoder_val_new.fit(val_new_y)\n",
        "encoded_val_new_Y = encoder_train_new.transform(val_new_y)"
      ],
      "execution_count": 130,
      "outputs": []
    },
    {
      "cell_type": "markdown",
      "metadata": {
        "id": "rOLii9KpMFz0"
      },
      "source": [
        "### Test data"
      ]
    },
    {
      "cell_type": "code",
      "metadata": {
        "colab": {
          "resources": {
            "http://localhost:8080/nbextensions/google.colab/files.js": {
              "data": "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",
              "ok": true,
              "headers": [
                [
                  "content-type",
                  "application/javascript"
                ]
              ],
              "status": 200,
              "status_text": "OK"
            }
          },
          "base_uri": "https://localhost:8080/",
          "height": 93
        },
        "id": "4m6iy2CvaJVV",
        "outputId": "3fef9e85-710d-4265-a038-fdab711be390"
      },
      "source": [
        "# load test data\n",
        "# select the \"tmax_1980_2018.csv\" from your local project drive\n",
        "from google.colab import files\n",
        "uploaded = files.upload()\n",
        "\n",
        "df_data_test = pd.read_csv(io.BytesIO(uploaded['FLDAS_10_11_extracted.csv']))\n",
        "\n",
        "#dataset = dataframe.values\n",
        "df_data_test.head(3)\n",
        "print(df_data_test.shape)"
      ],
      "execution_count": 38,
      "outputs": [
        {
          "output_type": "display_data",
          "data": {
            "text/html": [
              "\n",
              "     <input type=\"file\" id=\"files-2e4a0823-ccc8-4f4f-95b9-8662a0c5036f\" name=\"files[]\" multiple disabled\n",
              "        style=\"border:none\" />\n",
              "     <output id=\"result-2e4a0823-ccc8-4f4f-95b9-8662a0c5036f\">\n",
              "      Upload widget is only available when the cell has been executed in the\n",
              "      current browser session. Please rerun this cell to enable.\n",
              "      </output>\n",
              "      <script src=\"/nbextensions/google.colab/files.js\"></script> "
            ],
            "text/plain": [
              "<IPython.core.display.HTML object>"
            ]
          },
          "metadata": {}
        },
        {
          "output_type": "stream",
          "name": "stdout",
          "text": [
            "Saving FLDAS_10_11_extracted.csv to FLDAS_10_11_extracted.csv\n",
            "(2501, 26)\n"
          ]
        }
      ]
    },
    {
      "cell_type": "code",
      "metadata": {
        "colab": {
          "base_uri": "https://localhost:8080/"
        },
        "id": "j98qR-PfDr74",
        "outputId": "95561851-f5f8-4e89-92ac-203d9bc8b2d9"
      },
      "source": [
        "df_data_test.columns"
      ],
      "execution_count": 411,
      "outputs": [
        {
          "output_type": "execute_result",
          "data": {
            "text/plain": [
              "Index(['Month', 'X', 'Y', 'Year', 'evap', 'heatnet', 'humid', 'id', 'latheat',\n",
              "       'prep', 'pressure', 'radtemp', 'runoff', 'soilheat', 'soilmoi_10cm',\n",
              "       'soilmoi_1m', 'soilmoi_2m', 'soilmoi_40cm', 'soiltemp_10cm',\n",
              "       'soiltemp_1m', 'soiltemp_2m', 'soiltemp_40cm', 'surfacetemp',\n",
              "       'windspeed', 'PRESENCE'],\n",
              "      dtype='object')"
            ]
          },
          "metadata": {},
          "execution_count": 411
        }
      ]
    },
    {
      "cell_type": "code",
      "metadata": {
        "id": "RuvtHelDBpIH"
      },
      "source": [
        "# Change the order of columns in pandas df to have \"PRESENCE\" as the last col\n",
        "df_data_test = df_data_test[[\"Month\", \"X\", \"Y\", \"Year\", \"evap\", \"heatnet\",\n",
        "       \"humid\", \"id\", \"latheat\", \"prep\", \"pressure\", \"radtemp\", \"runoff\",\n",
        "       \"soilheat\", \"soilmoi_10cm\", \"soilmoi_1m\", \"soilmoi_2m\", \"soilmoi_40cm\",\n",
        "       \"soiltemp_10cm\", \"soiltemp_1m\", \"soiltemp_2m\", \"soiltemp_40cm\",\"surfacetemp\", \"windspeed\", \"PRESENCE\"]]\n"
      ],
      "execution_count": 412,
      "outputs": []
    },
    {
      "cell_type": "code",
      "metadata": {
        "colab": {
          "base_uri": "https://localhost:8080/"
        },
        "id": "qpkMHaK5H5Ay",
        "outputId": "154805c5-d1af-49e9-868e-e7a1b9865d23"
      },
      "source": [
        "print(df_data_test.head(2))\n",
        "print(df_data_test.shape)\n",
        "#print(df_data_test.info())"
      ],
      "execution_count": 413,
      "outputs": [
        {
          "output_type": "stream",
          "name": "stdout",
          "text": [
            "   Month          X          Y  ...  surfacetemp  windspeed  PRESENCE\n",
            "0      1  22.977782   8.294751  ...   299.809662   5.166034       0.0\n",
            "1      1   3.417286  28.594087  ...   287.979553   6.197610       0.0\n",
            "\n",
            "[2 rows x 25 columns]\n",
            "(2501, 25)\n"
          ]
        }
      ]
    },
    {
      "cell_type": "code",
      "metadata": {
        "colab": {
          "base_uri": "https://localhost:8080/"
        },
        "id": "cmGeUkhxfIFd",
        "outputId": "56af9cb4-c89b-4538-b17e-a9ea3c7e82b4"
      },
      "source": [
        "df_data_test.describe().transpose()\n",
        "len(df_data_test)"
      ],
      "execution_count": 414,
      "outputs": [
        {
          "output_type": "execute_result",
          "data": {
            "text/plain": [
              "2501"
            ]
          },
          "metadata": {},
          "execution_count": 414
        }
      ]
    },
    {
      "cell_type": "code",
      "metadata": {
        "colab": {
          "base_uri": "https://localhost:8080/",
          "height": 132
        },
        "id": "FPS5NAXUP3bg",
        "outputId": "d0b7dc5f-80be-4e18-acbf-d0f23da9cea7"
      },
      "source": [
        "# divide test data to presence and absence to exclude 2-5 % of upper and lower outliers\n",
        "\n",
        "df_data_test_presence = df_data_test[df_data_test['PRESENCE'] == 1]\n",
        "df_data_test_absence = df_data_test[df_data_test['PRESENCE'] == 0]\n",
        "df_data_test_absence.head(2)"
      ],
      "execution_count": 415,
      "outputs": [
        {
          "output_type": "execute_result",
          "data": {
            "text/html": [
              "<div>\n",
              "<style scoped>\n",
              "    .dataframe tbody tr th:only-of-type {\n",
              "        vertical-align: middle;\n",
              "    }\n",
              "\n",
              "    .dataframe tbody tr th {\n",
              "        vertical-align: top;\n",
              "    }\n",
              "\n",
              "    .dataframe thead th {\n",
              "        text-align: right;\n",
              "    }\n",
              "</style>\n",
              "<table border=\"1\" class=\"dataframe\">\n",
              "  <thead>\n",
              "    <tr style=\"text-align: right;\">\n",
              "      <th></th>\n",
              "      <th>Month</th>\n",
              "      <th>X</th>\n",
              "      <th>Y</th>\n",
              "      <th>Year</th>\n",
              "      <th>evap</th>\n",
              "      <th>heatnet</th>\n",
              "      <th>humid</th>\n",
              "      <th>id</th>\n",
              "      <th>latheat</th>\n",
              "      <th>prep</th>\n",
              "      <th>pressure</th>\n",
              "      <th>radtemp</th>\n",
              "      <th>runoff</th>\n",
              "      <th>soilheat</th>\n",
              "      <th>soilmoi_10cm</th>\n",
              "      <th>soilmoi_1m</th>\n",
              "      <th>soilmoi_2m</th>\n",
              "      <th>soilmoi_40cm</th>\n",
              "      <th>soiltemp_10cm</th>\n",
              "      <th>soiltemp_1m</th>\n",
              "      <th>soiltemp_2m</th>\n",
              "      <th>soiltemp_40cm</th>\n",
              "      <th>surfacetemp</th>\n",
              "      <th>windspeed</th>\n",
              "      <th>PRESENCE</th>\n",
              "    </tr>\n",
              "  </thead>\n",
              "  <tbody>\n",
              "    <tr>\n",
              "      <th>0</th>\n",
              "      <td>1</td>\n",
              "      <td>22.977782</td>\n",
              "      <td>8.294751</td>\n",
              "      <td>2010</td>\n",
              "      <td>5.837062e-06</td>\n",
              "      <td>94.003792</td>\n",
              "      <td>0.006183</td>\n",
              "      <td>30000</td>\n",
              "      <td>14.598494</td>\n",
              "      <td>0.0</td>\n",
              "      <td>92378.000000</td>\n",
              "      <td>301.950378</td>\n",
              "      <td>0.0</td>\n",
              "      <td>3.135654</td>\n",
              "      <td>0.159769</td>\n",
              "      <td>0.389519</td>\n",
              "      <td>0.398845</td>\n",
              "      <td>0.385400</td>\n",
              "      <td>301.583771</td>\n",
              "      <td>299.438660</td>\n",
              "      <td>298.589569</td>\n",
              "      <td>300.229584</td>\n",
              "      <td>299.809662</td>\n",
              "      <td>5.166034</td>\n",
              "      <td>0.0</td>\n",
              "    </tr>\n",
              "    <tr>\n",
              "      <th>1</th>\n",
              "      <td>1</td>\n",
              "      <td>3.417286</td>\n",
              "      <td>28.594087</td>\n",
              "      <td>2010</td>\n",
              "      <td>4.943250e-07</td>\n",
              "      <td>28.490023</td>\n",
              "      <td>0.003265</td>\n",
              "      <td>30001</td>\n",
              "      <td>1.236307</td>\n",
              "      <td>0.0</td>\n",
              "      <td>95231.046875</td>\n",
              "      <td>287.705688</td>\n",
              "      <td>0.0</td>\n",
              "      <td>-3.034967</td>\n",
              "      <td>0.158402</td>\n",
              "      <td>0.080000</td>\n",
              "      <td>0.080000</td>\n",
              "      <td>0.118378</td>\n",
              "      <td>287.926056</td>\n",
              "      <td>290.024445</td>\n",
              "      <td>292.021393</td>\n",
              "      <td>288.686218</td>\n",
              "      <td>287.979553</td>\n",
              "      <td>6.197610</td>\n",
              "      <td>0.0</td>\n",
              "    </tr>\n",
              "  </tbody>\n",
              "</table>\n",
              "</div>"
            ],
            "text/plain": [
              "   Month          X          Y  ...  surfacetemp  windspeed  PRESENCE\n",
              "0      1  22.977782   8.294751  ...   299.809662   5.166034       0.0\n",
              "1      1   3.417286  28.594087  ...   287.979553   6.197610       0.0\n",
              "\n",
              "[2 rows x 25 columns]"
            ]
          },
          "metadata": {},
          "execution_count": 415
        }
      ]
    },
    {
      "cell_type": "code",
      "metadata": {
        "colab": {
          "base_uri": "https://localhost:8080/"
        },
        "id": "u7t4yD0NwZ90",
        "outputId": "c350681d-9ecb-4d6e-a769-0df794e29116"
      },
      "source": [
        "# Percentage of presence and absence in test data\n",
        "print (\"Presence: %i (%.1f%%)\"%(len(df_data_test_presence), float(len(df_data_test_presence))/len(df_data_test)*100.0))\n",
        "print (\"Absence: %i (%.1f%%)\"%(len(df_data_test_absence), float(len(df_data_test_absence))/len(df_data_test)*100.0))\n",
        "print (\"Total: %i\"%len(df_data_test))"
      ],
      "execution_count": 416,
      "outputs": [
        {
          "output_type": "stream",
          "name": "stdout",
          "text": [
            "Presence: 108 (4.3%)\n",
            "Absence: 2393 (95.7%)\n",
            "Total: 2501\n"
          ]
        }
      ]
    },
    {
      "cell_type": "code",
      "metadata": {
        "colab": {
          "resources": {
            "http://localhost:8080/nbextensions/google.colab/files.js": {
              "data": "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",
              "ok": true,
              "headers": [
                [
                  "content-type",
                  "application/javascript"
                ]
              ],
              "status": 200,
              "status_text": "OK"
            }
          },
          "base_uri": "https://localhost:8080/",
          "height": 93
        },
        "id": "9p7lbmOlMl3f",
        "outputId": "c98a6954-04a5-4a02-9fb7-95a3cb1ab028"
      },
      "source": [
        "from google.colab import files\n",
        "uploaded = files.upload()\n",
        "\n",
        "df_data_test_landsat_10_11 = pd.read_csv(io.BytesIO(uploaded['Landsat_10_11_extracted.csv']))\n",
        "\n",
        "#dataset = dataframe.values\n",
        "df_data_test_landsat_10_11.head(2)\n",
        "print(df_data_test_landsat_10_11.shape)"
      ],
      "execution_count": 45,
      "outputs": [
        {
          "output_type": "display_data",
          "data": {
            "text/html": [
              "\n",
              "     <input type=\"file\" id=\"files-d29b51c2-a5b4-4a45-89ee-061c799552a5\" name=\"files[]\" multiple disabled\n",
              "        style=\"border:none\" />\n",
              "     <output id=\"result-d29b51c2-a5b4-4a45-89ee-061c799552a5\">\n",
              "      Upload widget is only available when the cell has been executed in the\n",
              "      current browser session. Please rerun this cell to enable.\n",
              "      </output>\n",
              "      <script src=\"/nbextensions/google.colab/files.js\"></script> "
            ],
            "text/plain": [
              "<IPython.core.display.HTML object>"
            ]
          },
          "metadata": {}
        },
        {
          "output_type": "stream",
          "name": "stdout",
          "text": [
            "Saving Landsat_10_11_extracted.csv to Landsat_10_11_extracted.csv\n",
            "(1397, 13)\n"
          ]
        }
      ]
    },
    {
      "cell_type": "code",
      "metadata": {
        "colab": {
          "base_uri": "https://localhost:8080/"
        },
        "id": "wZgZkwZkNCtW",
        "outputId": "b00d2a21-411a-4633-9b1f-5d0298959f58"
      },
      "source": [
        "# df_data_test_landsat_10_11, df_data_test, df_data_dem\n",
        "test_df_landsat = df_data_test_landsat_10_11[['Blue', 'Green', 'NIR', 'Red', 'SWIR1', 'SWIR2', 'X', 'Y', 'id']] #'PRESENCE', 'Year' ,'Month'\n",
        "test_df_merge_fldas_landsat = pd.merge(df_data_test, test_df_landsat, on = 'id') #how='left', left_on=['X','Y'], right_on = ['X','Y']\n",
        "\n",
        "print(test_df_merge_fldas_landsat.head(2))\n",
        "print(test_df_merge_fldas_landsat.columns)\n",
        "\n",
        "df_data_dem = df_data_dem[['X', 'Y', 'mean', 'id']]\n",
        "test_df_merge_fldas_landsat_dem = pd.merge(test_df_merge_fldas_landsat, df_data_dem, on = 'id')# how='left', left_on=['X','Y'], right_on = ['X','Y']\n",
        "print(test_df_merge_fldas_landsat_dem.head(2))\n",
        "print(test_df_merge_fldas_landsat_dem.columns)"
      ],
      "execution_count": 417,
      "outputs": [
        {
          "output_type": "stream",
          "name": "stdout",
          "text": [
            "   Month        X_x        Y_x  ...        SWIR2        X_y        Y_y\n",
            "0      1  22.977782   8.294751  ...  1194.484000  22.977782   8.294751\n",
            "1      1   3.417286  28.594087  ...  4293.418327   3.417286  28.594087\n",
            "\n",
            "[2 rows x 33 columns]\n",
            "Index(['Month', 'X_x', 'Y_x', 'Year', 'evap', 'heatnet', 'humid', 'id',\n",
            "       'latheat', 'prep', 'pressure', 'radtemp', 'runoff', 'soilheat',\n",
            "       'soilmoi_10cm', 'soilmoi_1m', 'soilmoi_2m', 'soilmoi_40cm',\n",
            "       'soiltemp_10cm', 'soiltemp_1m', 'soiltemp_2m', 'soiltemp_40cm',\n",
            "       'surfacetemp', 'windspeed', 'PRESENCE', 'Blue', 'Green', 'NIR', 'Red',\n",
            "       'SWIR1', 'SWIR2', 'X_y', 'Y_y'],\n",
            "      dtype='object')\n",
            "   Month        X_x        Y_x  Year  ...        Y_y          X          Y   mean\n",
            "0      1  22.977782   8.294751  2010  ...   8.294751  22.977782   8.294751  856.0\n",
            "1      1   3.417286  28.594087  2010  ...  28.594087   3.417286  28.594087  551.0\n",
            "\n",
            "[2 rows x 36 columns]\n",
            "Index(['Month', 'X_x', 'Y_x', 'Year', 'evap', 'heatnet', 'humid', 'id',\n",
            "       'latheat', 'prep', 'pressure', 'radtemp', 'runoff', 'soilheat',\n",
            "       'soilmoi_10cm', 'soilmoi_1m', 'soilmoi_2m', 'soilmoi_40cm',\n",
            "       'soiltemp_10cm', 'soiltemp_1m', 'soiltemp_2m', 'soiltemp_40cm',\n",
            "       'surfacetemp', 'windspeed', 'PRESENCE', 'Blue', 'Green', 'NIR', 'Red',\n",
            "       'SWIR1', 'SWIR2', 'X_y', 'Y_y', 'X', 'Y', 'mean'],\n",
            "      dtype='object')\n"
          ]
        }
      ]
    },
    {
      "cell_type": "code",
      "metadata": {
        "colab": {
          "base_uri": "https://localhost:8080/"
        },
        "id": "5dYH2OcgXBOx",
        "outputId": "4dacc14c-7f5b-4dd2-fb48-d79b56e95b84"
      },
      "source": [
        "# move the \"PRESENCE\" column to the last one\n",
        "test_df_merge_fldas_landsat_dem = test_df_merge_fldas_landsat_dem[['Month', 'X', 'Y', 'Year', 'evap', 'heatnet', 'humid',\n",
        "        'latheat', 'prep', 'pressure', 'radtemp', 'runoff', 'soilheat',\n",
        "       'soilmoi_10cm', 'soilmoi_1m', 'soilmoi_2m', 'soilmoi_40cm',\n",
        "       'soiltemp_10cm', 'soiltemp_1m', 'soiltemp_2m', 'soiltemp_40cm',\n",
        "       'surfacetemp', 'windspeed', 'Blue', 'Green', 'NIR', 'Red',\n",
        "       'SWIR1', 'SWIR2', 'mean','PRESENCE']] #'Unnamed: 0', 'id',\n",
        "\n",
        "print(test_df_merge_fldas_landsat_dem.tail(2))\n",
        "print(test_df_merge_fldas_landsat_dem.shape)"
      ],
      "execution_count": 418,
      "outputs": [
        {
          "output_type": "stream",
          "name": "stdout",
          "text": [
            "      Month          X         Y  ...       SWIR2    mean  PRESENCE\n",
            "1390     12  40.908570  3.429349  ...  1100.89243   620.0       0.0\n",
            "1391     12  31.952412 -4.735578  ...  2690.12749  1102.0       0.0\n",
            "\n",
            "[2 rows x 31 columns]\n",
            "(1392, 31)\n"
          ]
        }
      ]
    },
    {
      "cell_type": "code",
      "metadata": {
        "id": "9FqPzMQmYceK"
      },
      "source": [
        "# check for NaN values in train and test dataframes\n",
        "test_df_merge_fldas_landsat_dem.isnull().any()\n",
        "\n",
        "# impute the data\n",
        "test_df_merge_fldas_landsat_dem = test_df_merge_fldas_landsat_dem.fillna(test_df_merge_fldas_landsat_dem.median())#lambda x: x.median())"
      ],
      "execution_count": 419,
      "outputs": []
    },
    {
      "cell_type": "code",
      "metadata": {
        "colab": {
          "base_uri": "https://localhost:8080/"
        },
        "id": "p_oyUIfHYvvq",
        "outputId": "937e6d19-8687-447b-976c-d5e1852e797a"
      },
      "source": [
        "test_df_merge_fldas_landsat_dem.isnull().any()"
      ],
      "execution_count": 420,
      "outputs": [
        {
          "output_type": "execute_result",
          "data": {
            "text/plain": [
              "Month            False\n",
              "X                False\n",
              "Y                False\n",
              "Year             False\n",
              "evap             False\n",
              "heatnet          False\n",
              "humid            False\n",
              "latheat          False\n",
              "prep             False\n",
              "pressure         False\n",
              "radtemp          False\n",
              "runoff           False\n",
              "soilheat         False\n",
              "soilmoi_10cm     False\n",
              "soilmoi_1m       False\n",
              "soilmoi_2m       False\n",
              "soilmoi_40cm     False\n",
              "soiltemp_10cm    False\n",
              "soiltemp_1m      False\n",
              "soiltemp_2m      False\n",
              "soiltemp_40cm    False\n",
              "surfacetemp      False\n",
              "windspeed        False\n",
              "Blue             False\n",
              "Green            False\n",
              "NIR              False\n",
              "Red              False\n",
              "SWIR1            False\n",
              "SWIR2            False\n",
              "mean             False\n",
              "PRESENCE         False\n",
              "dtype: bool"
            ]
          },
          "metadata": {},
          "execution_count": 420
        }
      ]
    },
    {
      "cell_type": "markdown",
      "metadata": {
        "id": "8v9gF584Ha9k"
      },
      "source": [
        "#### Log tranform on test data for \"evap\", \"runoff\", \"latheat\""
      ]
    },
    {
      "cell_type": "code",
      "metadata": {
        "id": "6IV_RSf-HVpn"
      },
      "source": [
        " test_df_merge_fldas_landsat_dem['evap_log']= test_df_merge_fldas_landsat_dem['evap'].apply(np.log)"
      ],
      "execution_count": 421,
      "outputs": []
    },
    {
      "cell_type": "code",
      "metadata": {
        "id": "Lts9Q0tDHVpn"
      },
      "source": [
        "test_df_merge_fldas_landsat_dem['runoff_log']= test_df_merge_fldas_landsat_dem['runoff'].apply(np.log)"
      ],
      "execution_count": 422,
      "outputs": []
    },
    {
      "cell_type": "code",
      "metadata": {
        "id": "_gswpwGSHVpn"
      },
      "source": [
        "test_df_merge_fldas_landsat_dem['latheat_log']= test_df_merge_fldas_landsat_dem['latheat'].apply(np.log)"
      ],
      "execution_count": 423,
      "outputs": []
    },
    {
      "cell_type": "code",
      "metadata": {
        "id": "goFh0QHKHVpo"
      },
      "source": [
        "#  impute the data\n",
        "test_df_merge_fldas_landsat_dem = test_df_merge_fldas_landsat_dem.fillna(test_df_merge_fldas_landsat_dem.median())"
      ],
      "execution_count": 424,
      "outputs": []
    },
    {
      "cell_type": "code",
      "metadata": {
        "id": "F_p1unLlHVpo"
      },
      "source": [
        "# move the \"PRESENCE\" column to the last one\n",
        "test_df_merge_fldas_landsat_dem = test_df_merge_fldas_landsat_dem[['Month', 'X', 'Y', 'Year', 'evap_log', 'heatnet', 'humid',\n",
        "        'latheat_log', 'prep', 'pressure', 'radtemp', 'runoff_log', 'soilheat',\n",
        "       'soilmoi_10cm', 'soilmoi_1m', 'soilmoi_2m', 'soilmoi_40cm',\n",
        "       'soiltemp_10cm', 'soiltemp_1m', 'soiltemp_2m', 'soiltemp_40cm',\n",
        "       'surfacetemp', 'windspeed', 'Blue', 'Green', 'NIR', 'Red',\n",
        "       'SWIR1', 'SWIR2', 'mean','PRESENCE']] #'id',"
      ],
      "execution_count": 425,
      "outputs": []
    },
    {
      "cell_type": "code",
      "metadata": {
        "id": "W_rrWNMRHVpq"
      },
      "source": [
        "test_df_merge_fldas_landsat_dem = test_df_merge_fldas_landsat_dem.fillna(test_df_merge_fldas_landsat_dem.median()).clip(-1e11,1e11)"
      ],
      "execution_count": 426,
      "outputs": []
    },
    {
      "cell_type": "code",
      "metadata": {
        "colab": {
          "base_uri": "https://localhost:8080/"
        },
        "id": "SfeuU5j1c8l7",
        "outputId": "e181a31a-6a33-4c4f-a965-9554f5103db6"
      },
      "source": [
        "print (test_df_merge_fldas_landsat_dem.info())"
      ],
      "execution_count": 427,
      "outputs": [
        {
          "output_type": "stream",
          "name": "stdout",
          "text": [
            "<class 'pandas.core.frame.DataFrame'>\n",
            "Int64Index: 1392 entries, 0 to 1391\n",
            "Data columns (total 31 columns):\n",
            " #   Column         Non-Null Count  Dtype  \n",
            "---  ------         --------------  -----  \n",
            " 0   Month          1392 non-null   int64  \n",
            " 1   X              1392 non-null   float64\n",
            " 2   Y              1392 non-null   float64\n",
            " 3   Year           1392 non-null   int64  \n",
            " 4   evap_log       1392 non-null   float64\n",
            " 5   heatnet        1392 non-null   float64\n",
            " 6   humid          1392 non-null   float64\n",
            " 7   latheat_log    1392 non-null   float64\n",
            " 8   prep           1392 non-null   float64\n",
            " 9   pressure       1392 non-null   float64\n",
            " 10  radtemp        1392 non-null   float64\n",
            " 11  runoff_log     1392 non-null   float64\n",
            " 12  soilheat       1392 non-null   float64\n",
            " 13  soilmoi_10cm   1392 non-null   float64\n",
            " 14  soilmoi_1m     1392 non-null   float64\n",
            " 15  soilmoi_2m     1392 non-null   float64\n",
            " 16  soilmoi_40cm   1392 non-null   float64\n",
            " 17  soiltemp_10cm  1392 non-null   float64\n",
            " 18  soiltemp_1m    1392 non-null   float64\n",
            " 19  soiltemp_2m    1392 non-null   float64\n",
            " 20  soiltemp_40cm  1392 non-null   float64\n",
            " 21  surfacetemp    1392 non-null   float64\n",
            " 22  windspeed      1392 non-null   float64\n",
            " 23  Blue           1392 non-null   float64\n",
            " 24  Green          1392 non-null   float64\n",
            " 25  NIR            1392 non-null   float64\n",
            " 26  Red            1392 non-null   float64\n",
            " 27  SWIR1          1392 non-null   float64\n",
            " 28  SWIR2          1392 non-null   float64\n",
            " 29  mean           1392 non-null   float64\n",
            " 30  PRESENCE       1392 non-null   float64\n",
            "dtypes: float64(29), int64(2)\n",
            "memory usage: 348.0 KB\n",
            "None\n"
          ]
        }
      ]
    },
    {
      "cell_type": "code",
      "metadata": {
        "colab": {
          "base_uri": "https://localhost:8080/"
        },
        "id": "OiByUlafPsBa",
        "outputId": "8a733e34-bc58-40b2-df57-abf2d1374532"
      },
      "source": [
        "dataset_test = test_df_merge_fldas_landsat_dem.values\n",
        "print(type(dataset_test))\n",
        "print(dataset_test.size)\n",
        "\n",
        "# split into input (X) and output (Y) variables\n",
        "X_test = dataset_test[:,1:30]\n",
        "Y_test = dataset_test[:,30]\n",
        "Y_test\n",
        "#print(X_test.shape)\n",
        "#print(Y_test) "
      ],
      "execution_count": 428,
      "outputs": [
        {
          "output_type": "stream",
          "name": "stdout",
          "text": [
            "<class 'numpy.ndarray'>\n",
            "43152\n"
          ]
        },
        {
          "output_type": "execute_result",
          "data": {
            "text/plain": [
              "array([0., 0., 0., ..., 0., 0., 0.])"
            ]
          },
          "metadata": {},
          "execution_count": 428
        }
      ]
    },
    {
      "cell_type": "code",
      "metadata": {
        "id": "mU_90qTHK6gE"
      },
      "source": [
        "Y_test = Y_test.astype(int)"
      ],
      "execution_count": 429,
      "outputs": []
    },
    {
      "cell_type": "code",
      "metadata": {
        "id": "oYxYAfFwQBTJ"
      },
      "source": [
        "# encode class values as integers\n",
        "encoder_test = LabelEncoder()\n",
        "encoder_test.fit(Y_test) \n",
        "encoded_Y_test = encoder_test.transform(Y_test)"
      ],
      "execution_count": 430,
      "outputs": []
    },
    {
      "cell_type": "code",
      "metadata": {
        "colab": {
          "base_uri": "https://localhost:8080/"
        },
        "id": "QTkZXhtBXdBH",
        "outputId": "6b651a7b-e42b-4568-a4bf-33b07c636dbc"
      },
      "source": [
        "#print(X.size)\n",
        "X_test "
      ],
      "execution_count": 431,
      "outputs": [
        {
          "output_type": "execute_result",
          "data": {
            "text/plain": [
              "array([[ 2.29777820e+01,  8.29475054e+00,  2.01000000e+03, ...,\n",
              "         1.74822800e+03,  1.19448400e+03,  8.56000000e+02],\n",
              "       [ 3.41728579e+00,  2.85940873e+01,  2.01000000e+03, ...,\n",
              "         5.67280279e+03,  4.29341833e+03,  5.51000000e+02],\n",
              "       [ 4.52559973e+01,  4.67244713e+00,  2.01000000e+03, ...,\n",
              "         3.89746200e+03,  3.53162000e+03,  1.80000000e+02],\n",
              "       ...,\n",
              "       [ 1.19116028e+00,  3.21752909e+01,  2.01100000e+03, ...,\n",
              "         5.47752966e+03,  4.94187712e+03,  6.98000000e+02],\n",
              "       [ 4.09085700e+01,  3.42934925e+00,  2.01100000e+03, ...,\n",
              "         2.05273307e+03,  1.10089243e+03,  6.20000000e+02],\n",
              "       [ 3.19524118e+01, -4.73557799e+00,  2.01100000e+03, ...,\n",
              "         3.37087649e+03,  2.69012749e+03,  1.10200000e+03]])"
            ]
          },
          "metadata": {},
          "execution_count": 431
        }
      ]
    },
    {
      "cell_type": "markdown",
      "metadata": {
        "id": "OQlonAHbfIod"
      },
      "source": [
        "## Section 2\n",
        "\n",
        "> Model creation and hyperparameter tuning\n",
        "\n"
      ]
    },
    {
      "cell_type": "markdown",
      "metadata": {
        "id": "5ccUSqqp4zrW"
      },
      "source": [
        "### Base_Model \n",
        "\n",
        "\n"
      ]
    },
    {
      "cell_type": "code",
      "metadata": {
        "id": "Znk_vmTqhNvu"
      },
      "source": [
        "def create_baseline():\n",
        "\t# create model\n",
        "\tmodel = Sequential()\n",
        "\tmodel.add(Dense(30, input_dim=29, activation='relu'))\n",
        "\tmodel.add(Dense(1, activation='sigmoid'))\n",
        "\t# Compile model\n",
        "\tmodel.compile(loss='binary_crossentropy', optimizer='adam', \n",
        "\t              metrics=['accuracy'])\n",
        "\treturn model"
      ],
      "execution_count": 131,
      "outputs": []
    },
    {
      "cell_type": "code",
      "metadata": {
        "colab": {
          "base_uri": "https://localhost:8080/"
        },
        "id": "OzPhe7ws40Bo",
        "outputId": "f2bfd75b-c3db-4b16-b073-2f918a5b03b8"
      },
      "source": [
        "base_model = create_baseline()\n",
        "base_model.summary()"
      ],
      "execution_count": 132,
      "outputs": [
        {
          "output_type": "stream",
          "name": "stdout",
          "text": [
            "Model: \"sequential\"\n",
            "_________________________________________________________________\n",
            "Layer (type)                 Output Shape              Param #   \n",
            "=================================================================\n",
            "dense (Dense)                (None, 30)                900       \n",
            "_________________________________________________________________\n",
            "dense_1 (Dense)              (None, 1)                 31        \n",
            "=================================================================\n",
            "Total params: 931\n",
            "Trainable params: 931\n",
            "Non-trainable params: 0\n",
            "_________________________________________________________________\n"
          ]
        }
      ]
    },
    {
      "cell_type": "code",
      "metadata": {
        "id": "P7xxuVivhhwC",
        "colab": {
          "base_uri": "https://localhost:8080/"
        },
        "outputId": "042fac50-4aff-4d40-f35c-946c8b991896"
      },
      "source": [
        "# evaluate model with standardized dataset \n",
        "# 3' time with accu: 93.14%, 10 epochs and batch_size = 20\n",
        "# 1' 47 seconds accu: 93.31%,\n",
        "# 1' 56' accu: 92.48%\n",
        "# 1' 39\", epochs=10, accu: 75.66% (The difference with the previous results is removing a column called \"id\" in the train, validation and test data)\n",
        "# 3' 2\", epochs = 20, accu:77.78% (5.12%)(The difference with the previous results is removing a column called \"id\" in the train, validation and test data)\n",
        "# 14' 24\" epochs = 60 , accu : 80.00% (5.10%)(The difference with the previous results is removing a column called \"id\" in the train, validation and test data)\n",
        "# 16' 44\" epochs = 60 , accu : 77.90% (6.00%) (5.10%)(The difference with the previous results is removing a column called \"id\" in data & using encoded_train_new_y instead of train_new_y for cross validation)]'\n",
        "# 14' 26\": epochs = 60, 78.30% (4.11%)\n",
        "# epochs : 60, acc: 79.81% (4.67%)\n",
        "\n",
        "estimator = KerasClassifier(build_fn=create_baseline, epochs=60, batch_size=20, verbose=0)\n",
        "kfold = StratifiedKFold(n_splits=10, shuffle=True)\n",
        "results = cross_val_score(estimator, train_new_X, encoded_train_new_Y, cv=kfold) #train_new_X, val_new_X, train_new_y, val_new_y\n",
        "print(\"Baseline: %.2f%% (%.2f%%)\" % (results.mean()*100, results.std()*100))\n"
      ],
      "execution_count": 133,
      "outputs": [
        {
          "output_type": "stream",
          "name": "stdout",
          "text": [
            "Baseline: 79.81% (4.67%)\n"
          ]
        }
      ]
    },
    {
      "cell_type": "code",
      "metadata": {
        "colab": {
          "base_uri": "https://localhost:8080/"
        },
        "id": "dyzPeox1SZBU",
        "outputId": "80a162d4-7e14-4bc2-cd04-b2934148a915"
      },
      "source": [
        "#encoded_train_new_Y"
      ],
      "execution_count": 466,
      "outputs": [
        {
          "output_type": "execute_result",
          "data": {
            "text/plain": [
              "array([0, 0, 1, ..., 1, 1, 0])"
            ]
          },
          "metadata": {},
          "execution_count": 466
        }
      ]
    },
    {
      "cell_type": "code",
      "metadata": {
        "id": "xBoOABvwVxwO"
      },
      "source": [
        "# smaller model\n",
        "#(new log_transformed train and test data: 30 epochs, 20' time and accuracy: 100%)\n",
        "# 60 epochs, accu: % time: \n",
        "from keras.wrappers.scikit_learn import KerasClassifier\n",
        "\n",
        "def create_smaller():\n",
        "\t# create model\n",
        "\tmodel = Sequential()\n",
        "\tmodel.add(Dense(15, input_dim=29, activation='relu'))\n",
        "\tmodel.add(Dense(1, activation='sigmoid'))\n",
        "\t# Compile model\n",
        "\tmodel.compile(loss='binary_crossentropy', optimizer='adam', metrics=['accuracy'])\n",
        "\treturn model\n",
        "\n",
        "#estimators = []\n",
        "#estimators.append(('standardize', StandardScaler()))# \"StandardScaler\" can not be used bc many of features do no have normal distribution\n",
        "#estimators.append(('mlp', KerasClassifier(build_fn=create_smaller, epochs=60, batch_size=5, verbose=0)))\n",
        "#pipeline = Pipeline(estimators)\n",
        "\n",
        "estimator = KerasClassifier(build_fn=create_smaller, epochs=60, batch_size=5, verbose=0)\n",
        "kfold = StratifiedKFold(n_splits=10, shuffle=True)\n",
        "results = cross_val_score(estimator, train_new_X, encoded_train_new_Y, cv=kfold)# X, encoded_Y\n",
        "print(\"Smaller: %.2f%% (%.2f%%)\" % (results.mean()*100, results.std()*100))"
      ],
      "execution_count": null,
      "outputs": []
    },
    {
      "cell_type": "code",
      "metadata": {
        "colab": {
          "base_uri": "https://localhost:8080/"
        },
        "id": "icN6p4lBaVj6",
        "outputId": "3a41bd42-5252-460a-bc10-e3210126df64"
      },
      "source": [
        "# time:19' , accuracy(sd):  100.00% (0.00%)\n",
        "# larger model\n",
        "def create_larger():\n",
        "\t# create model\n",
        "\tmodel = Sequential()\n",
        "\tmodel.add(Dense(30, input_dim=29, activation='relu'))\n",
        "\tmodel.add(Dense(15, activation='relu'))\n",
        "\tmodel.add(Dense(1, activation='sigmoid'))\n",
        "\t# Compile model\n",
        "\tmodel.compile(loss='binary_crossentropy', optimizer='adam', metrics=['accuracy'])\n",
        "\treturn model\n",
        "\n",
        "#estimators = []\n",
        "#estimators.append(('standardize', StandardScaler()))\n",
        "#estimators.append(('mlp', KerasClassifier(build_fn=create_larger, epochs=30, batch_size=5, verbose=0)))\n",
        "#pipeline = Pipeline(estimators)\n",
        "estimator = KerasClassifier(build_fn=create_larger, epochs=60, batch_size=5, verbose=0)\n",
        "kfold = StratifiedKFold(n_splits=10, shuffle=True)\n",
        "results = cross_val_score(estimator, train_new_X, encoded_train_new_Y, cv=kfold)#X, encoded_Y\n",
        "print(\"Larger: %.2f%% (%.2f%%)\" % (results.mean()*100, results.std()*100))"
      ],
      "execution_count": 366,
      "outputs": [
        {
          "output_type": "stream",
          "name": "stdout",
          "text": [
            "Larger: 100.00% (0.00%)\n"
          ]
        }
      ]
    },
    {
      "cell_type": "markdown",
      "metadata": {
        "id": "1x6QaFp35cSu"
      },
      "source": [
        "#### Train the model"
      ]
    },
    {
      "cell_type": "code",
      "metadata": {
        "id": "GUiZ0GgD5vUR"
      },
      "source": [
        "EPOCHS = 50\n",
        "BATCH_SIZE = 20\n",
        "\n",
        "early_stopping = tf.keras.callbacks.EarlyStopping(\n",
        "    monitor = 'val_accuracy',#'val_prc', \n",
        "    verbose = 1,\n",
        "    patience = 10,\n",
        "    mode = 'max',\n",
        "    restore_best_weights = True)\n"
      ],
      "execution_count": 346,
      "outputs": []
    },
    {
      "cell_type": "code",
      "metadata": {
        "colab": {
          "base_uri": "https://localhost:8080/"
        },
        "id": "DCqDzh-e5blj",
        "outputId": "5b2cd34b-65b0-4fe2-f336-f633db76d954"
      },
      "source": [
        "base_model = create_baseline()\n",
        "#model.load_weights(initial_weights)\n",
        "baseline_history = base_model.fit(\n",
        "    x = train_new_X,#X, \n",
        "    y = encoded_train_new_Y,#Y,#encoded_Y,\n",
        "    batch_size = BATCH_SIZE,\n",
        "    epochs = EPOCHS,\n",
        "    callbacks = [early_stopping],\n",
        "    validation_data = (val_new_X, val_new_y))# (X_val, Y_val)# encoded_Y_val\n"
      ],
      "execution_count": 348,
      "outputs": [
        {
          "output_type": "stream",
          "name": "stdout",
          "text": [
            "Epoch 1/50\n",
            "719/719 [==============================] - 2s 2ms/step - loss: 18286198.0000 - accuracy: 0.8895 - val_loss: 4319578.5000 - val_accuracy: 0.9068\n",
            "Epoch 2/50\n",
            "719/719 [==============================] - 2s 2ms/step - loss: 8693589.0000 - accuracy: 0.9288 - val_loss: 5541875.5000 - val_accuracy: 0.9368\n",
            "Epoch 3/50\n",
            "719/719 [==============================] - 2s 2ms/step - loss: 11347966.0000 - accuracy: 0.9270 - val_loss: 3533570.0000 - val_accuracy: 0.9378\n",
            "Epoch 4/50\n",
            "719/719 [==============================] - 2s 2ms/step - loss: 6998716.0000 - accuracy: 0.9282 - val_loss: 2999156.5000 - val_accuracy: 0.9100\n",
            "Epoch 5/50\n",
            "719/719 [==============================] - 1s 2ms/step - loss: 8666818.0000 - accuracy: 0.9291 - val_loss: 5858154.0000 - val_accuracy: 0.9384\n",
            "Epoch 6/50\n",
            "719/719 [==============================] - 2s 2ms/step - loss: 8269050.0000 - accuracy: 0.9299 - val_loss: 635456.5000 - val_accuracy: 0.9100\n",
            "Epoch 7/50\n",
            "719/719 [==============================] - 2s 2ms/step - loss: 8984459.0000 - accuracy: 0.9283 - val_loss: 2094941.1250 - val_accuracy: 0.9099\n",
            "Epoch 8/50\n",
            "719/719 [==============================] - 2s 2ms/step - loss: 7953615.5000 - accuracy: 0.9307 - val_loss: 5768218.5000 - val_accuracy: 0.9381\n",
            "Epoch 9/50\n",
            "719/719 [==============================] - 2s 2ms/step - loss: 11500746.0000 - accuracy: 0.9298 - val_loss: 15445508.0000 - val_accuracy: 0.9389\n",
            "Epoch 10/50\n",
            "719/719 [==============================] - 2s 3ms/step - loss: 6142345.5000 - accuracy: 0.9292 - val_loss: 6900962.5000 - val_accuracy: 0.9383\n",
            "Epoch 11/50\n",
            "719/719 [==============================] - 2s 2ms/step - loss: 10599500.0000 - accuracy: 0.9307 - val_loss: 1688959.0000 - val_accuracy: 0.9108\n",
            "Epoch 12/50\n",
            "719/719 [==============================] - 2s 3ms/step - loss: 7182564.5000 - accuracy: 0.9314 - val_loss: 11524368.0000 - val_accuracy: 0.9388\n",
            "Epoch 13/50\n",
            "719/719 [==============================] - 2s 3ms/step - loss: 9036646.0000 - accuracy: 0.9314 - val_loss: 5124271.5000 - val_accuracy: 0.9383\n",
            "Epoch 14/50\n",
            "719/719 [==============================] - 2s 2ms/step - loss: 6301658.0000 - accuracy: 0.9264 - val_loss: 1264107.6250 - val_accuracy: 0.9103\n",
            "Epoch 15/50\n",
            "719/719 [==============================] - 2s 2ms/step - loss: 6510574.0000 - accuracy: 0.9310 - val_loss: 3484964.2500 - val_accuracy: 0.9095\n",
            "Epoch 16/50\n",
            "719/719 [==============================] - 2s 2ms/step - loss: 6796681.5000 - accuracy: 0.9287 - val_loss: 1160694.8750 - val_accuracy: 0.9102\n",
            "Epoch 17/50\n",
            "719/719 [==============================] - 2s 2ms/step - loss: 6646682.0000 - accuracy: 0.9305 - val_loss: 2346043.0000 - val_accuracy: 0.9386\n",
            "Epoch 18/50\n",
            "719/719 [==============================] - 2s 2ms/step - loss: 5425976.5000 - accuracy: 0.9284 - val_loss: 17459000.0000 - val_accuracy: 0.9388\n",
            "Epoch 19/50\n",
            "719/719 [==============================] - 2s 2ms/step - loss: 7834579.0000 - accuracy: 0.9300 - val_loss: 11492803.0000 - val_accuracy: 0.9383\n",
            "Restoring model weights from the end of the best epoch.\n",
            "Epoch 00019: early stopping\n"
          ]
        }
      ]
    },
    {
      "cell_type": "markdown",
      "metadata": {
        "id": "TmZJ2MmR-Ca3"
      },
      "source": [
        "#### Check training history"
      ]
    },
    {
      "cell_type": "code",
      "metadata": {
        "id": "OdY0u2mx-CuD"
      },
      "source": [
        "def plot_metrics(history):\n",
        "  metrics = ['loss', 'accuracy']#['loss', 'prc', 'precision', 'recall'] , 'val_loss', 'val_accuracy'\n",
        "  for n, metric in enumerate(metrics):\n",
        "    name = metric.replace(\"_\",\" \").capitalize()\n",
        "    plt.subplot(2,2,n+1)\n",
        "    plt.plot(history.epoch, history.history[metric], color=colors[0], label='Train')\n",
        "    plt.plot(history.epoch, history.history['val_'+metric],\n",
        "             color=colors[0], linestyle=\"--\", label='Val')\n",
        "    plt.xlabel('Epoch')\n",
        "    plt.ylabel(name)\n",
        "    if metric == 'loss':\n",
        "      plt.ylim([0, plt.ylim()[1]])\n",
        "    elif metric == 'auc':\n",
        "      plt.ylim([0.8,1])\n",
        "    else:\n",
        "      plt.ylim([0,1])\n",
        "\n",
        "    plt.legend()\n"
      ],
      "execution_count": 349,
      "outputs": []
    },
    {
      "cell_type": "code",
      "metadata": {
        "id": "rVz3BxST-bCq"
      },
      "source": [
        "mpl.rcParams['figure.figsize'] = (12, 10)\n",
        "colors = plt.rcParams['axes.prop_cycle'].by_key()['color']"
      ],
      "execution_count": 350,
      "outputs": []
    },
    {
      "cell_type": "code",
      "metadata": {
        "colab": {
          "base_uri": "https://localhost:8080/",
          "height": 338
        },
        "id": "EyU6DWBP-Oop",
        "outputId": "2e60e6f7-98fe-443c-c40d-5e92b8f7ebce"
      },
      "source": [
        "history_dict = baseline_history.history\n",
        "print(history_dict.keys())\n",
        "plot_metrics(baseline_history)"
      ],
      "execution_count": 351,
      "outputs": [
        {
          "output_type": "stream",
          "name": "stdout",
          "text": [
            "dict_keys(['loss', 'accuracy', 'val_loss', 'val_accuracy'])\n"
          ]
        },
        {
          "output_type": "display_data",
          "data": {
            "image/png": "[encoded data removed]",
            "text/plain": [
              "<Figure size 864x720 with 2 Axes>"
            ]
          },
          "metadata": {
            "needs_background": "light"
          }
        }
      ]
    },
    {
      "cell_type": "markdown",
      "metadata": {
        "id": "4CP4E-YL8HnW"
      },
      "source": [
        " ### Linear method"
      ]
    },
    {
      "cell_type": "markdown",
      "metadata": {
        "id": "r6_szaCehifo"
      },
      "source": [
        "#### Logistic Regression"
      ]
    },
    {
      "cell_type": "code",
      "metadata": {
        "colab": {
          "base_uri": "https://localhost:8080/"
        },
        "id": "E8ub7X8GNrcB",
        "outputId": "8354f2e6-3641-48d8-cb2c-c3ce9c9bbee1"
      },
      "source": [
        "# Logistic Regression\n",
        "\n",
        "logreg = LogisticRegression()\n",
        "logreg.fit(train_new_X, encoded_train_new_Y)  #(X, Y)\n",
        "Y_pred = logreg.predict(val_new_X)#(X_test)\n",
        "acc_log = round(logreg.score(train_new_X, encoded_train_new_Y) * 100, 2)\n",
        "acc_log "
      ],
      "execution_count": 134,
      "outputs": [
        {
          "output_type": "execute_result",
          "data": {
            "text/plain": [
              "70.16"
            ]
          },
          "metadata": {},
          "execution_count": 134
        }
      ]
    },
    {
      "cell_type": "markdown",
      "metadata": {
        "id": "5YV3c28DBRcy"
      },
      "source": [
        "### Instance methods"
      ]
    },
    {
      "cell_type": "markdown",
      "metadata": {
        "id": "LmfvsBbQhmWi"
      },
      "source": [
        "#### Support Vector Machines"
      ]
    },
    {
      "cell_type": "code",
      "metadata": {
        "colab": {
          "base_uri": "https://localhost:8080/"
        },
        "id": "4-wPFImqQUuA",
        "outputId": "9c9e3da8-a417-47a2-f00f-c26f90744264"
      },
      "source": [
        "# Support Vector Machines\n",
        "\n",
        "svc = SVC()\n",
        "svc.fit(train_new_X, encoded_train_new_Y)#(X, Y)\n",
        "Y_pred = svc.predict(val_new_X)\n",
        "acc_svc = round(svc.score(train_new_X, encoded_train_new_Y) * 100, 2)\n",
        "acc_svc "
      ],
      "execution_count": 447,
      "outputs": [
        {
          "output_type": "execute_result",
          "data": {
            "text/plain": [
              "69.34"
            ]
          },
          "metadata": {},
          "execution_count": 447
        }
      ]
    },
    {
      "cell_type": "markdown",
      "metadata": {
        "id": "JRBZ58t-hpq_"
      },
      "source": [
        "#### KNN"
      ]
    },
    {
      "cell_type": "code",
      "metadata": {
        "colab": {
          "base_uri": "https://localhost:8080/"
        },
        "id": "D4Dr1_nYQyiU",
        "outputId": "a9ed7e39-86ea-4be6-c3e6-b63af81ab6b2"
      },
      "source": [
        "knn = KNeighborsClassifier(n_neighbors = 3)\n",
        "knn.fit(train_new_X, encoded_train_new_Y)#(X, Y)\n",
        "Y_pred = knn.predict(val_new_X)\n",
        "acc_knn = round(knn.score(train_new_X, encoded_train_new_Y) * 100, 2)\n",
        "acc_knn"
      ],
      "execution_count": 135,
      "outputs": [
        {
          "output_type": "execute_result",
          "data": {
            "text/plain": [
              "94.88"
            ]
          },
          "metadata": {},
          "execution_count": 135
        }
      ]
    },
    {
      "cell_type": "markdown",
      "metadata": {
        "id": "ybJJPrhfhtzd"
      },
      "source": [
        "### Gaussian Naive Bayes"
      ]
    },
    {
      "cell_type": "code",
      "metadata": {
        "colab": {
          "base_uri": "https://localhost:8080/"
        },
        "id": "budo7JemQ9iZ",
        "outputId": "783853d9-951f-4917-8582-ec04126a5623"
      },
      "source": [
        "# Gaussian Naive Bayes\n",
        "\n",
        "gaussian = GaussianNB()\n",
        "gaussian.fit(train_new_X, encoded_train_new_Y)#(X, Y)\n",
        "Y_pred = gaussian.predict(val_new_X)\n",
        "acc_gaussian = round(gaussian.score(train_new_X, encoded_train_new_Y) * 100, 2)\n",
        "acc_gaussian"
      ],
      "execution_count": 136,
      "outputs": [
        {
          "output_type": "execute_result",
          "data": {
            "text/plain": [
              "69.34"
            ]
          },
          "metadata": {},
          "execution_count": 136
        }
      ]
    },
    {
      "cell_type": "markdown",
      "metadata": {
        "id": "v0IVQJ36BfRU"
      },
      "source": [
        "### Other neural network methods"
      ]
    },
    {
      "cell_type": "markdown",
      "metadata": {
        "id": "Mft8SnETh0m8"
      },
      "source": [
        "#### Perceptron\n",
        "##### Linear machine learning algorithm for binary classification, \n",
        "##### One of the simplest types of artificial neural networks\n"
      ]
    },
    {
      "cell_type": "code",
      "metadata": {
        "colab": {
          "base_uri": "https://localhost:8080/"
        },
        "id": "IrQk467ERFh1",
        "outputId": "e26365e2-2320-4e49-eab0-09ed25348f63"
      },
      "source": [
        "# Perceptron\n",
        "\n",
        "perceptron = Perceptron(max_iter=1000)# default: max_iter=1000\n",
        "perceptron.fit(train_new_X, encoded_train_new_Y)#(X, Y)\n",
        "Y_pred = perceptron.predict(val_new_X)\n",
        "acc_perceptron = round(perceptron.score(train_new_X, encoded_train_new_Y) * 100, 2)\n",
        "acc_perceptron"
      ],
      "execution_count": 450,
      "outputs": [
        {
          "output_type": "execute_result",
          "data": {
            "text/plain": [
              "55.81"
            ]
          },
          "metadata": {},
          "execution_count": 450
        }
      ]
    },
    {
      "cell_type": "code",
      "metadata": {
        "colab": {
          "base_uri": "https://localhost:8080/"
        },
        "id": "Xbf52xm7m4Lj",
        "outputId": "a98f7325-f228-426a-8cb2-1377efad8e94"
      },
      "source": [
        "# Evaluate a perceptron model on the dataset\n",
        "from numpy import mean\n",
        "from numpy import std\n",
        "from sklearn.datasets import make_classification\n",
        "from sklearn.model_selection import RepeatedStratifiedKFold\n",
        "\n",
        "\n",
        "# Define model evaluation method\n",
        "cv = RepeatedStratifiedKFold(n_splits=10, n_repeats=3, random_state=1)\n",
        "\n",
        "# Evaluate model\n",
        "scores = cross_val_score(perceptron, train_new_X, encoded_train_new_Y, scoring='accuracy', cv=cv, n_jobs=-1)\n",
        "\n",
        "# Summarize result\n",
        "print('Mean Accuracy of Perceptron: %.3f (%.3f)' % (mean(scores), std(scores)))"
      ],
      "execution_count": 452,
      "outputs": [
        {
          "output_type": "stream",
          "name": "stdout",
          "text": [
            "Mean Accuracy of Perceptron: 0.597 (0.069)\n"
          ]
        }
      ]
    },
    {
      "cell_type": "markdown",
      "metadata": {
        "id": "-B7Bd7-aoVyN"
      },
      "source": [
        "##### Tune Perceptron Hyperparameters\n"
      ]
    },
    {
      "cell_type": "code",
      "metadata": {
        "id": "vsqpv-mWoTty"
      },
      "source": [
        "# define grid\n",
        "grid = dict()\n",
        "grid['eta0'] = [0.0001, 0.001, 0.01, 0.1, 1.0]"
      ],
      "execution_count": 453,
      "outputs": []
    },
    {
      "cell_type": "markdown",
      "metadata": {
        "id": "XqkwSG0SpMK7"
      },
      "source": [
        "###### 'eta0' parameter"
      ]
    },
    {
      "cell_type": "code",
      "metadata": {
        "colab": {
          "base_uri": "https://localhost:8080/"
        },
        "id": "vP7NF3i1otE7",
        "outputId": "574de076-a981-43a7-8905-16814ea6b92d"
      },
      "source": [
        "# grid search learning rate for the perceptron\n",
        "from sklearn.model_selection import GridSearchCV\n",
        "\n",
        "# define model evaluation method\n",
        "cv = RepeatedStratifiedKFold(n_splits=10, n_repeats=3, random_state=1)\n",
        "# define grid\n",
        "grid = dict()\n",
        "grid['eta0'] = [0.0001, 0.001, 0.01, 0.1, 1.0]\n",
        "\n",
        "# define search\n",
        "search = GridSearchCV(perceptron, grid, scoring='accuracy', cv=cv, n_jobs=-1)\n",
        "\n",
        "# perform the search\n",
        "results = search.fit(train_new_X, encoded_train_new_Y) #(X, Y)\n",
        "# summarize\n",
        "print('Mean Accuracy: %.3f' % results.best_score_)\n",
        "print('Config: %s' % results.best_params_)\n",
        "\n",
        "# summarize all\n",
        "means = results.cv_results_['mean_test_score']\n",
        "params = results.cv_results_['params']\n",
        "for mean, param in zip(means, params):\n",
        "    print(\">%.3f with: %r\" % (mean, param))"
      ],
      "execution_count": 454,
      "outputs": [
        {
          "output_type": "stream",
          "name": "stdout",
          "text": [
            "Mean Accuracy: 0.597\n",
            "Config: {'eta0': 0.0001}\n",
            ">0.597 with: {'eta0': 0.0001}\n",
            ">0.597 with: {'eta0': 0.001}\n",
            ">0.597 with: {'eta0': 0.01}\n",
            ">0.597 with: {'eta0': 0.1}\n",
            ">0.597 with: {'eta0': 1.0}\n"
          ]
        }
      ]
    },
    {
      "cell_type": "markdown",
      "metadata": {
        "id": "jsbuL11tpUMs"
      },
      "source": [
        "###### 'max_iter' parameter"
      ]
    },
    {
      "cell_type": "code",
      "metadata": {
        "id": "9B-VG9YXpUcK"
      },
      "source": [
        "# define grid\n",
        "grid = dict()\n",
        "grid['max_iter'] = [1, 10, 100, 1000, 10000]"
      ],
      "execution_count": 455,
      "outputs": []
    },
    {
      "cell_type": "code",
      "metadata": {
        "colab": {
          "base_uri": "https://localhost:8080/"
        },
        "id": "c7SlOeZTpx_-",
        "outputId": "f6553b15-f49a-4d95-82eb-00671f3b8e46"
      },
      "source": [
        "# grid search total epochs for the perceptron\n",
        "from sklearn.model_selection import GridSearchCV\n",
        "from sklearn.model_selection import RepeatedStratifiedKFold\n",
        "\n",
        "\n",
        "# define model\n",
        "model = Perceptron(eta0=0.0001)\n",
        "\n",
        "# define model evaluation method\n",
        "cv = RepeatedStratifiedKFold(n_splits=10, n_repeats=3, random_state=1)\n",
        "\n",
        "# define grid\n",
        "grid = dict()\n",
        "grid['max_iter'] = [1, 10, 100, 1000, 10000]\n",
        "\n",
        "# define search\n",
        "search = GridSearchCV(model, grid, scoring='accuracy', cv=cv, n_jobs=-1)\n",
        "\n",
        "# perform the search\n",
        "results = search.fit(train_new_X, encoded_train_new_Y) #(X, Y)\n",
        "\n",
        "# summarize\n",
        "print('Mean Accuracy: %.3f' % results.best_score_)\n",
        "print('Config: %s' % results.best_params_)\n",
        "# summarize all\n",
        "means = results.cv_results_['mean_test_score']\n",
        "params = results.cv_results_['params']\n",
        "for mean, param in zip(means, params):\n",
        "    print(\">%.3f with: %r\" % (mean, param))"
      ],
      "execution_count": 456,
      "outputs": [
        {
          "output_type": "stream",
          "name": "stdout",
          "text": [
            "Mean Accuracy: 0.599\n",
            "Config: {'max_iter': 10}\n",
            ">0.568 with: {'max_iter': 1}\n",
            ">0.599 with: {'max_iter': 10}\n",
            ">0.597 with: {'max_iter': 100}\n",
            ">0.597 with: {'max_iter': 1000}\n",
            ">0.597 with: {'max_iter': 10000}\n"
          ]
        }
      ]
    },
    {
      "cell_type": "markdown",
      "metadata": {
        "id": "ZWNuUUWlqNEN"
      },
      "source": [
        "##### Hyperparameter tuning for Perceptron model:\n",
        "###### 'max_iter' should be at least 100. For our dataset changing 'eta0' did not make any tangible difference to the accuracy result"
      ]
    },
    {
      "cell_type": "markdown",
      "metadata": {
        "id": "g_kj5Q-xEo2T"
      },
      "source": [
        "### Linear SVC"
      ]
    },
    {
      "cell_type": "code",
      "metadata": {
        "colab": {
          "base_uri": "https://localhost:8080/"
        },
        "id": "cvhcheIERRrc",
        "outputId": "e56e7b2c-a271-492f-9296-df15ea460936"
      },
      "source": [
        "linear_svc = LinearSVC()\n",
        "linear_svc.fit(train_new_X, encoded_train_new_Y)#(X, Y)\n",
        "Y_pred = linear_svc.predict(val_new_X)\n",
        "acc_linear_svc = round(linear_svc.score(train_new_X, encoded_train_new_Y) * 100, 2)\n",
        "acc_linear_svc"
      ],
      "execution_count": 457,
      "outputs": [
        {
          "output_type": "stream",
          "name": "stderr",
          "text": [
            "/usr/local/lib/python3.7/dist-packages/sklearn/svm/_base.py:947: ConvergenceWarning: Liblinear failed to converge, increase the number of iterations.\n",
            "  \"the number of iterations.\", ConvergenceWarning)\n"
          ]
        },
        {
          "output_type": "execute_result",
          "data": {
            "text/plain": [
              "66.71"
            ]
          },
          "metadata": {},
          "execution_count": 457
        }
      ]
    },
    {
      "cell_type": "markdown",
      "metadata": {
        "id": "jgQsSXlEEvXs"
      },
      "source": [
        "### Stochastic Gradient Descent"
      ]
    },
    {
      "cell_type": "code",
      "metadata": {
        "colab": {
          "base_uri": "https://localhost:8080/"
        },
        "id": "Kg0bojxBRYVQ",
        "outputId": "fc100a11-1606-44ae-8155-4ebf753593f5"
      },
      "source": [
        "sgd = SGDClassifier()\n",
        "sgd.fit(train_new_X, encoded_train_new_Y) #(X, Y)\n",
        "Y_pred = sgd.predict(val_new_X)\n",
        "acc_sgd = round(sgd.score(train_new_X, encoded_train_new_Y) * 100, 2)\n",
        "acc_sgd"
      ],
      "execution_count": 458,
      "outputs": [
        {
          "output_type": "execute_result",
          "data": {
            "text/plain": [
              "55.28"
            ]
          },
          "metadata": {},
          "execution_count": 458
        }
      ]
    },
    {
      "cell_type": "markdown",
      "metadata": {
        "id": "ChfjVRMf9gF3"
      },
      "source": [
        "### Tree method"
      ]
    },
    {
      "cell_type": "markdown",
      "metadata": {
        "id": "vOfjVNf-EMrt"
      },
      "source": [
        "#### Decision Tree"
      ]
    },
    {
      "cell_type": "code",
      "metadata": {
        "colab": {
          "base_uri": "https://localhost:8080/"
        },
        "id": "0QN9bpC7Rnl1",
        "outputId": "5d6b89af-e998-4a5b-f3d7-80b3625af604"
      },
      "source": [
        "# Decision Tree\n",
        "decision_tree = DecisionTreeClassifier()\n",
        "decision_tree.fit(train_new_X, encoded_train_new_Y) #(X, Y)\n",
        "Y_pred = decision_tree.predict(val_new_X)\n",
        "acc_decision_tree = round(decision_tree.score(train_new_X, encoded_train_new_Y) * 100, 2)\n",
        "acc_decision_tree"
      ],
      "execution_count": null,
      "outputs": [
        {
          "output_type": "execute_result",
          "data": {
            "text/plain": [
              "100.0"
            ]
          },
          "metadata": {},
          "execution_count": 459
        }
      ]
    },
    {
      "cell_type": "markdown",
      "metadata": {
        "id": "f2mC-5TyBoOp"
      },
      "source": [
        "#### Random Forest"
      ]
    },
    {
      "cell_type": "code",
      "metadata": {
        "colab": {
          "base_uri": "https://localhost:8080/"
        },
        "id": "zO6HN1D7RoDK",
        "outputId": "e4c52f0b-cbbd-418e-df93-f336f3a91138"
      },
      "source": [
        "random_forest = RandomForestClassifier(n_estimators=100)\n",
        "random_forest.fit(train_new_X, encoded_train_new_Y) #(X, Y)\n",
        "Y_pred = random_forest.predict(val_new_X)\n",
        "random_forest.score(train_new_X, encoded_train_new_Y)\n",
        "acc_random_forest = round(random_forest.score(train_new_X, encoded_train_new_Y) * 100, 2)\n",
        "acc_random_forest"
      ],
      "execution_count": 460,
      "outputs": [
        {
          "output_type": "execute_result",
          "data": {
            "text/plain": [
              "100.0"
            ]
          },
          "metadata": {},
          "execution_count": 460
        }
      ]
    },
    {
      "cell_type": "markdown",
      "metadata": {
        "id": "mIuFhcP4B5tu"
      },
      "source": [
        "### Comparison of methods "
      ]
    },
    {
      "cell_type": "code",
      "metadata": {
        "colab": {
          "base_uri": "https://localhost:8080/",
          "height": 332
        },
        "id": "5rpi7juDRzxI",
        "outputId": "20a4aea5-e732-4654-8af9-6365a45b6641"
      },
      "source": [
        "models = pd.DataFrame({\n",
        "    'Model': ['Support Vector Machines', 'KNN', 'Logistic Regression', \n",
        "              'Random Forest', 'Naive Bayes', 'Perceptron', \n",
        "              'Stochastic Gradient Decent', 'Linear SVC', \n",
        "              'Decision Tree'],\n",
        "    'Score': [acc_svc, acc_knn, acc_log, \n",
        "              acc_random_forest, acc_gaussian, acc_perceptron, \n",
        "              acc_sgd, acc_linear_svc, acc_decision_tree]})\n",
        "models.sort_values(by='Score', ascending=False)"
      ],
      "execution_count": 461,
      "outputs": [
        {
          "output_type": "execute_result",
          "data": {
            "text/html": [
              "<div>\n",
              "<style scoped>\n",
              "    .dataframe tbody tr th:only-of-type {\n",
              "        vertical-align: middle;\n",
              "    }\n",
              "\n",
              "    .dataframe tbody tr th {\n",
              "        vertical-align: top;\n",
              "    }\n",
              "\n",
              "    .dataframe thead th {\n",
              "        text-align: right;\n",
              "    }\n",
              "</style>\n",
              "<table border=\"1\" class=\"dataframe\">\n",
              "  <thead>\n",
              "    <tr style=\"text-align: right;\">\n",
              "      <th></th>\n",
              "      <th>Model</th>\n",
              "      <th>Score</th>\n",
              "    </tr>\n",
              "  </thead>\n",
              "  <tbody>\n",
              "    <tr>\n",
              "      <th>3</th>\n",
              "      <td>Random Forest</td>\n",
              "      <td>100.00</td>\n",
              "    </tr>\n",
              "    <tr>\n",
              "      <th>8</th>\n",
              "      <td>Decision Tree</td>\n",
              "      <td>100.00</td>\n",
              "    </tr>\n",
              "    <tr>\n",
              "      <th>1</th>\n",
              "      <td>KNN</td>\n",
              "      <td>94.88</td>\n",
              "    </tr>\n",
              "    <tr>\n",
              "      <th>2</th>\n",
              "      <td>Logistic Regression</td>\n",
              "      <td>70.16</td>\n",
              "    </tr>\n",
              "    <tr>\n",
              "      <th>0</th>\n",
              "      <td>Support Vector Machines</td>\n",
              "      <td>69.34</td>\n",
              "    </tr>\n",
              "    <tr>\n",
              "      <th>4</th>\n",
              "      <td>Naive Bayes</td>\n",
              "      <td>69.34</td>\n",
              "    </tr>\n",
              "    <tr>\n",
              "      <th>7</th>\n",
              "      <td>Linear SVC</td>\n",
              "      <td>66.71</td>\n",
              "    </tr>\n",
              "    <tr>\n",
              "      <th>5</th>\n",
              "      <td>Perceptron</td>\n",
              "      <td>55.81</td>\n",
              "    </tr>\n",
              "    <tr>\n",
              "      <th>6</th>\n",
              "      <td>Stochastic Gradient Decent</td>\n",
              "      <td>55.28</td>\n",
              "    </tr>\n",
              "  </tbody>\n",
              "</table>\n",
              "</div>"
            ],
            "text/plain": [
              "                        Model   Score\n",
              "3               Random Forest  100.00\n",
              "8               Decision Tree  100.00\n",
              "1                         KNN   94.88\n",
              "2         Logistic Regression   70.16\n",
              "0     Support Vector Machines   69.34\n",
              "4                 Naive Bayes   69.34\n",
              "7                  Linear SVC   66.71\n",
              "5                  Perceptron   55.81\n",
              "6  Stochastic Gradient Decent   55.28"
            ]
          },
          "metadata": {},
          "execution_count": 461
        }
      ]
    },
    {
      "cell_type": "markdown",
      "metadata": {
        "id": "8_lkjeWER3Fg"
      },
      "source": [
        "## Section 3 \n",
        "\n",
        "\n",
        "> Model Evaluation\n",
        "\n"
      ]
    },
    {
      "cell_type": "markdown",
      "metadata": {
        "id": "BJ1TcqTXS06O"
      },
      "source": [
        "#### Keras Classification Metrics for \"base_model\"\n",
        "\n",
        "\n",
        "> Binary Accuracy: \"binary_accuracy\", \"acc\"\n",
        "\n"
      ]
    },
    {
      "cell_type": "markdown",
      "metadata": {
        "id": "WuMOuygGVRtm"
      },
      "source": [
        "##### \"accuracy\" of base_model with plot"
      ]
    },
    {
      "cell_type": "code",
      "metadata": {
        "id": "HVM22oGMS_Nn"
      },
      "source": [
        "# train model\n",
        "history = base_model.fit(train_new_X, encoded_train_new_Y, epochs=100, batch_size=20, verbose=2)\n",
        "\n",
        "# plot metrics\n",
        "plt.plot(history.history['accuracy'])\n",
        "plt.show()"
      ],
      "execution_count": null,
      "outputs": []
    },
    {
      "cell_type": "code",
      "metadata": {
        "colab": {
          "base_uri": "https://localhost:8080/",
          "height": 1000
        },
        "id": "YcDQ8sbGXFa7",
        "outputId": "d16ab58c-a229-4a48-dc38-f5b8e36164e5"
      },
      "source": [
        "# fit model\n",
        "history = base_model.fit(train_new_X, encoded_train_new_Y, validation_data=(val_new_X, encoded_val_new_Y), epochs=100, verbose=2)\n",
        "\n",
        "# evaluate the model\n",
        "_, train_acc = base_model.evaluate(train_new_X, encoded_train_new_Y, verbose=0)\n",
        "_, test_acc = base_model.evaluate(val_new_X, encoded_val_new_Y, verbose=0)\n",
        "print('Train: %.3f, Test: %.3f' % (train_acc, test_acc))\n",
        "\n",
        "# plot loss during training\n",
        "plt.subplot(211)\n",
        "plt.title('Loss')\n",
        "plt.plot(history.history['loss'], label='train')\n",
        "plt.plot(history.history['val_loss'], label='validation')\n",
        "plt.legend()\n",
        "# plot accuracy during training\n",
        "plt.subplot(212)\n",
        "plt.title('Accuracy')\n",
        "plt.plot(history.history['accuracy'], label='train')\n",
        "plt.plot(history.history['val_accuracy'], label='validation')\n",
        "plt.legend()\n",
        "plt.show()"
      ],
      "execution_count": 483,
      "outputs": [
        {
          "output_type": "stream",
          "name": "stdout",
          "text": [
            "Epoch 1/100\n",
            "449/449 - 1s - loss: 3.1608 - accuracy: 0.7839 - val_loss: 3.3926 - val_accuracy: 0.8158\n",
            "Epoch 2/100\n",
            "449/449 - 1s - loss: 3.9468 - accuracy: 0.7764 - val_loss: 3.2091 - val_accuracy: 0.7738\n",
            "Epoch 3/100\n",
            "449/449 - 1s - loss: 2.9519 - accuracy: 0.7848 - val_loss: 1.3005 - val_accuracy: 0.8262\n",
            "Epoch 4/100\n",
            "449/449 - 1s - loss: 2.9291 - accuracy: 0.7721 - val_loss: 4.4893 - val_accuracy: 0.7603\n",
            "Epoch 5/100\n",
            "449/449 - 1s - loss: 2.9694 - accuracy: 0.7775 - val_loss: 2.7259 - val_accuracy: 0.8101\n",
            "Epoch 6/100\n",
            "449/449 - 1s - loss: 3.4121 - accuracy: 0.7564 - val_loss: 11.2121 - val_accuracy: 0.7841\n",
            "Epoch 7/100\n",
            "449/449 - 1s - loss: 3.3911 - accuracy: 0.7799 - val_loss: 4.4905 - val_accuracy: 0.8252\n",
            "Epoch 8/100\n",
            "449/449 - 1s - loss: 3.3244 - accuracy: 0.7631 - val_loss: 2.0189 - val_accuracy: 0.8170\n",
            "Epoch 9/100\n",
            "449/449 - 1s - loss: 2.8272 - accuracy: 0.7819 - val_loss: 1.9941 - val_accuracy: 0.8174\n",
            "Epoch 10/100\n",
            "449/449 - 1s - loss: 2.6075 - accuracy: 0.7807 - val_loss: 3.2854 - val_accuracy: 0.7913\n",
            "Epoch 11/100\n",
            "449/449 - 1s - loss: 2.7391 - accuracy: 0.7777 - val_loss: 4.1816 - val_accuracy: 0.8230\n",
            "Epoch 12/100\n",
            "449/449 - 1s - loss: 2.7760 - accuracy: 0.7795 - val_loss: 1.7588 - val_accuracy: 0.7981\n",
            "Epoch 13/100\n",
            "449/449 - 1s - loss: 2.3978 - accuracy: 0.7802 - val_loss: 1.4283 - val_accuracy: 0.8390\n",
            "Epoch 14/100\n",
            "449/449 - 1s - loss: 2.3045 - accuracy: 0.7818 - val_loss: 1.1824 - val_accuracy: 0.8337\n",
            "Epoch 15/100\n",
            "449/449 - 1s - loss: 2.4701 - accuracy: 0.7828 - val_loss: 2.2367 - val_accuracy: 0.8275\n",
            "Epoch 16/100\n",
            "449/449 - 1s - loss: 2.2712 - accuracy: 0.7809 - val_loss: 2.9272 - val_accuracy: 0.7804\n",
            "Epoch 17/100\n",
            "449/449 - 1s - loss: 2.2503 - accuracy: 0.7773 - val_loss: 1.9211 - val_accuracy: 0.8205\n",
            "Epoch 18/100\n",
            "449/449 - 1s - loss: 2.0817 - accuracy: 0.7792 - val_loss: 1.1814 - val_accuracy: 0.8187\n",
            "Epoch 19/100\n",
            "449/449 - 1s - loss: 2.0621 - accuracy: 0.7856 - val_loss: 5.1649 - val_accuracy: 0.7180\n",
            "Epoch 20/100\n",
            "449/449 - 1s - loss: 2.2296 - accuracy: 0.7820 - val_loss: 1.7864 - val_accuracy: 0.8134\n",
            "Epoch 21/100\n",
            "449/449 - 1s - loss: 2.2074 - accuracy: 0.7723 - val_loss: 3.1115 - val_accuracy: 0.5459\n",
            "Epoch 22/100\n",
            "449/449 - 1s - loss: 2.4859 - accuracy: 0.7708 - val_loss: 2.3244 - val_accuracy: 0.5969\n",
            "Epoch 23/100\n",
            "449/449 - 1s - loss: 2.3608 - accuracy: 0.7792 - val_loss: 1.5838 - val_accuracy: 0.7278\n",
            "Epoch 24/100\n",
            "449/449 - 1s - loss: 2.3731 - accuracy: 0.7689 - val_loss: 2.1012 - val_accuracy: 0.8080\n",
            "Epoch 25/100\n",
            "449/449 - 1s - loss: 2.1711 - accuracy: 0.7789 - val_loss: 3.0409 - val_accuracy: 0.7599\n",
            "Epoch 26/100\n",
            "449/449 - 1s - loss: 2.0473 - accuracy: 0.7781 - val_loss: 1.1941 - val_accuracy: 0.8160\n",
            "Epoch 27/100\n",
            "449/449 - 1s - loss: 1.8547 - accuracy: 0.7876 - val_loss: 1.3170 - val_accuracy: 0.8377\n",
            "Epoch 28/100\n",
            "449/449 - 1s - loss: 1.9438 - accuracy: 0.7817 - val_loss: 0.9845 - val_accuracy: 0.8415\n",
            "Epoch 29/100\n",
            "449/449 - 1s - loss: 2.0020 - accuracy: 0.7732 - val_loss: 1.5391 - val_accuracy: 0.8158\n",
            "Epoch 30/100\n",
            "449/449 - 1s - loss: 1.7853 - accuracy: 0.7834 - val_loss: 1.2785 - val_accuracy: 0.8316\n",
            "Epoch 31/100\n",
            "449/449 - 1s - loss: 140.2145 - accuracy: 0.7836 - val_loss: 2.4194 - val_accuracy: 0.7947\n",
            "Epoch 32/100\n",
            "449/449 - 1s - loss: 1.7970 - accuracy: 0.7782 - val_loss: 1.1475 - val_accuracy: 0.8288\n",
            "Epoch 33/100\n",
            "449/449 - 1s - loss: 1.7656 - accuracy: 0.7766 - val_loss: 0.8995 - val_accuracy: 0.8454\n",
            "Epoch 34/100\n",
            "449/449 - 1s - loss: 1.8921 - accuracy: 0.7794 - val_loss: 1.8016 - val_accuracy: 0.8157\n",
            "Epoch 35/100\n",
            "449/449 - 1s - loss: 1.5284 - accuracy: 0.7871 - val_loss: 0.9869 - val_accuracy: 0.8394\n",
            "Epoch 36/100\n",
            "449/449 - 1s - loss: 2.0020 - accuracy: 0.7683 - val_loss: 1.8293 - val_accuracy: 0.7923\n",
            "Epoch 37/100\n",
            "449/449 - 1s - loss: 1.5925 - accuracy: 0.7862 - val_loss: 1.2544 - val_accuracy: 0.8231\n",
            "Epoch 38/100\n",
            "449/449 - 1s - loss: 59.0398 - accuracy: 0.7797 - val_loss: 0.9507 - val_accuracy: 0.8288\n",
            "Epoch 39/100\n",
            "449/449 - 1s - loss: 1.4245 - accuracy: 0.7768 - val_loss: 0.7774 - val_accuracy: 0.8241\n",
            "Epoch 40/100\n",
            "449/449 - 1s - loss: 1.4417 - accuracy: 0.7749 - val_loss: 0.8179 - val_accuracy: 0.8379\n",
            "Epoch 41/100\n",
            "449/449 - 1s - loss: 1.6751 - accuracy: 0.7658 - val_loss: 1.0798 - val_accuracy: 0.8092\n",
            "Epoch 42/100\n",
            "449/449 - 1s - loss: 1.3311 - accuracy: 0.7823 - val_loss: 2.2035 - val_accuracy: 0.7601\n",
            "Epoch 43/100\n",
            "449/449 - 1s - loss: 1.3554 - accuracy: 0.7800 - val_loss: 0.9718 - val_accuracy: 0.8077\n",
            "Epoch 44/100\n",
            "449/449 - 1s - loss: 1.5462 - accuracy: 0.7653 - val_loss: 0.7822 - val_accuracy: 0.8368\n",
            "Epoch 45/100\n",
            "449/449 - 1s - loss: 1.5123 - accuracy: 0.7747 - val_loss: 0.8702 - val_accuracy: 0.8298\n",
            "Epoch 46/100\n",
            "449/449 - 1s - loss: 1.5668 - accuracy: 0.7761 - val_loss: 0.7876 - val_accuracy: 0.8394\n",
            "Epoch 47/100\n",
            "449/449 - 1s - loss: 1.4287 - accuracy: 0.7755 - val_loss: 2.7414 - val_accuracy: 0.7871\n",
            "Epoch 48/100\n",
            "449/449 - 1s - loss: 1.5212 - accuracy: 0.7681 - val_loss: 1.1597 - val_accuracy: 0.6953\n",
            "Epoch 49/100\n",
            "449/449 - 1s - loss: 1.6394 - accuracy: 0.7637 - val_loss: 0.7870 - val_accuracy: 0.8347\n",
            "Epoch 50/100\n",
            "449/449 - 1s - loss: 1.3607 - accuracy: 0.7806 - val_loss: 0.9845 - val_accuracy: 0.8241\n",
            "Epoch 51/100\n",
            "449/449 - 1s - loss: 1.6214 - accuracy: 0.7626 - val_loss: 1.4646 - val_accuracy: 0.6705\n",
            "Epoch 52/100\n",
            "449/449 - 1s - loss: 1.9714 - accuracy: 0.7521 - val_loss: 4.7951 - val_accuracy: 0.7072\n",
            "Epoch 53/100\n",
            "449/449 - 1s - loss: 1.4831 - accuracy: 0.7827 - val_loss: 0.8859 - val_accuracy: 0.8371\n",
            "Epoch 54/100\n",
            "449/449 - 1s - loss: 1.3848 - accuracy: 0.7805 - val_loss: 1.0395 - val_accuracy: 0.8192\n",
            "Epoch 55/100\n",
            "449/449 - 1s - loss: 1.2524 - accuracy: 0.7912 - val_loss: 1.1203 - val_accuracy: 0.6859\n",
            "Epoch 56/100\n",
            "449/449 - 1s - loss: 1.5124 - accuracy: 0.7719 - val_loss: 0.7725 - val_accuracy: 0.8412\n",
            "Epoch 57/100\n",
            "449/449 - 1s - loss: 1.2348 - accuracy: 0.7841 - val_loss: 1.5727 - val_accuracy: 0.6005\n",
            "Epoch 58/100\n",
            "449/449 - 1s - loss: 1.2977 - accuracy: 0.7809 - val_loss: 1.4266 - val_accuracy: 0.8093\n",
            "Epoch 59/100\n",
            "449/449 - 1s - loss: 1.3859 - accuracy: 0.7683 - val_loss: 2.5971 - val_accuracy: 0.7465\n",
            "Epoch 60/100\n",
            "449/449 - 1s - loss: 1.2178 - accuracy: 0.7830 - val_loss: 1.0051 - val_accuracy: 0.7242\n",
            "Epoch 61/100\n",
            "449/449 - 1s - loss: 1.0760 - accuracy: 0.7974 - val_loss: 1.0235 - val_accuracy: 0.7538\n",
            "Epoch 62/100\n",
            "449/449 - 1s - loss: 1.2044 - accuracy: 0.7837 - val_loss: 1.0895 - val_accuracy: 0.7028\n",
            "Epoch 63/100\n",
            "449/449 - 1s - loss: 1.5823 - accuracy: 0.7616 - val_loss: 5.6051 - val_accuracy: 0.7039\n",
            "Epoch 64/100\n",
            "449/449 - 1s - loss: 10.3808 - accuracy: 0.7933 - val_loss: 4.5279 - val_accuracy: 0.6635\n",
            "Epoch 65/100\n",
            "449/449 - 1s - loss: 1.2641 - accuracy: 0.7821 - val_loss: 0.7101 - val_accuracy: 0.8027\n",
            "Epoch 66/100\n",
            "449/449 - 1s - loss: 1.2204 - accuracy: 0.7749 - val_loss: 0.8952 - val_accuracy: 0.8140\n",
            "Epoch 67/100\n",
            "449/449 - 1s - loss: 1.3008 - accuracy: 0.7724 - val_loss: 0.9005 - val_accuracy: 0.8056\n",
            "Epoch 68/100\n",
            "449/449 - 1s - loss: 1.0797 - accuracy: 0.7832 - val_loss: 0.9034 - val_accuracy: 0.7937\n",
            "Epoch 69/100\n",
            "449/449 - 1s - loss: 1.0165 - accuracy: 0.7870 - val_loss: 0.8748 - val_accuracy: 0.7825\n",
            "Epoch 70/100\n",
            "449/449 - 1s - loss: 1.1772 - accuracy: 0.7733 - val_loss: 0.8660 - val_accuracy: 0.8038\n",
            "Epoch 71/100\n",
            "449/449 - 1s - loss: 1.0990 - accuracy: 0.7783 - val_loss: 0.7615 - val_accuracy: 0.8088\n",
            "Epoch 72/100\n",
            "449/449 - 1s - loss: 1.1363 - accuracy: 0.7722 - val_loss: 0.7117 - val_accuracy: 0.8238\n",
            "Epoch 73/100\n",
            "449/449 - 1s - loss: 1.1153 - accuracy: 0.7752 - val_loss: 0.8655 - val_accuracy: 0.8197\n",
            "Epoch 74/100\n",
            "449/449 - 1s - loss: 0.8766 - accuracy: 0.7914 - val_loss: 0.5751 - val_accuracy: 0.8270\n",
            "Epoch 75/100\n",
            "449/449 - 1s - loss: 0.9669 - accuracy: 0.7784 - val_loss: 0.6494 - val_accuracy: 0.8184\n",
            "Epoch 76/100\n",
            "449/449 - 1s - loss: 1.1593 - accuracy: 0.7718 - val_loss: 0.6451 - val_accuracy: 0.8225\n",
            "Epoch 77/100\n",
            "449/449 - 1s - loss: 0.8496 - accuracy: 0.7873 - val_loss: 0.7971 - val_accuracy: 0.8111\n",
            "Epoch 78/100\n",
            "449/449 - 1s - loss: 1.0971 - accuracy: 0.7724 - val_loss: 0.7303 - val_accuracy: 0.8191\n",
            "Epoch 79/100\n",
            "449/449 - 1s - loss: 0.7486 - accuracy: 0.7992 - val_loss: 0.5176 - val_accuracy: 0.8181\n",
            "Epoch 80/100\n",
            "449/449 - 1s - loss: 0.7924 - accuracy: 0.7933 - val_loss: 0.6792 - val_accuracy: 0.8174\n",
            "Epoch 81/100\n",
            "449/449 - 1s - loss: 0.7736 - accuracy: 0.7920 - val_loss: 0.6493 - val_accuracy: 0.8113\n",
            "Epoch 82/100\n",
            "449/449 - 1s - loss: 0.7279 - accuracy: 0.7982 - val_loss: 0.4693 - val_accuracy: 0.8291\n",
            "Epoch 83/100\n",
            "449/449 - 1s - loss: 0.7908 - accuracy: 0.7847 - val_loss: 0.7665 - val_accuracy: 0.7286\n",
            "Epoch 84/100\n",
            "449/449 - 1s - loss: 0.9418 - accuracy: 0.7743 - val_loss: 0.5390 - val_accuracy: 0.8150\n",
            "Epoch 85/100\n",
            "449/449 - 1s - loss: 0.6808 - accuracy: 0.7964 - val_loss: 0.6989 - val_accuracy: 0.8030\n",
            "Epoch 86/100\n",
            "449/449 - 1s - loss: 0.7544 - accuracy: 0.7881 - val_loss: 0.7857 - val_accuracy: 0.7228\n",
            "Epoch 87/100\n",
            "449/449 - 1s - loss: 0.7247 - accuracy: 0.7862 - val_loss: 0.4984 - val_accuracy: 0.8249\n",
            "Epoch 88/100\n",
            "449/449 - 1s - loss: 0.7388 - accuracy: 0.7871 - val_loss: 0.4893 - val_accuracy: 0.8267\n",
            "Epoch 89/100\n",
            "449/449 - 1s - loss: 0.6450 - accuracy: 0.8029 - val_loss: 0.6841 - val_accuracy: 0.7958\n",
            "Epoch 90/100\n",
            "449/449 - 1s - loss: 0.6922 - accuracy: 0.7884 - val_loss: 0.4599 - val_accuracy: 0.8321\n",
            "Epoch 91/100\n",
            "449/449 - 1s - loss: 0.7325 - accuracy: 0.7844 - val_loss: 0.7492 - val_accuracy: 0.7876\n",
            "Epoch 92/100\n",
            "449/449 - 1s - loss: 0.7644 - accuracy: 0.7874 - val_loss: 0.4310 - val_accuracy: 0.8386\n",
            "Epoch 93/100\n",
            "449/449 - 1s - loss: 0.8433 - accuracy: 0.7655 - val_loss: 0.5272 - val_accuracy: 0.8350\n",
            "Epoch 94/100\n",
            "449/449 - 1s - loss: 0.7125 - accuracy: 0.7874 - val_loss: 0.5951 - val_accuracy: 0.7986\n",
            "Epoch 95/100\n",
            "449/449 - 1s - loss: 0.6243 - accuracy: 0.7999 - val_loss: 0.7618 - val_accuracy: 0.7905\n",
            "Epoch 96/100\n",
            "449/449 - 1s - loss: 0.6285 - accuracy: 0.7943 - val_loss: 0.6066 - val_accuracy: 0.7991\n",
            "Epoch 97/100\n",
            "449/449 - 1s - loss: 0.6936 - accuracy: 0.7838 - val_loss: 0.4823 - val_accuracy: 0.8340\n",
            "Epoch 98/100\n",
            "449/449 - 1s - loss: 0.7688 - accuracy: 0.7740 - val_loss: 0.7296 - val_accuracy: 0.7879\n",
            "Epoch 99/100\n",
            "449/449 - 1s - loss: 0.6699 - accuracy: 0.7876 - val_loss: 0.4498 - val_accuracy: 0.8301\n",
            "Epoch 100/100\n",
            "449/449 - 1s - loss: 0.6846 - accuracy: 0.7899 - val_loss: 0.4634 - val_accuracy: 0.8321\n",
            "Train: 0.833, Test: 0.832\n"
          ]
        },
        {
          "output_type": "display_data",
          "data": {
            "image/png": "[encoded data removed]",
            "text/plain": [
              "<Figure size 864x720 with 2 Axes>"
            ]
          },
          "metadata": {
            "needs_background": "light"
          }
        }
      ]
    },
    {
      "cell_type": "markdown",
      "metadata": {
        "id": "OOCRvOi8Y1v5"
      },
      "source": [
        "##### Other model metrics for binary classification\n",
        "\n",
        "\n",
        "> Precision\n",
        "    \n",
        ">  Recall\n",
        "\n",
        "> F1 Score\n",
        "\n",
        "\n"
      ]
    },
    {
      "cell_type": "code",
      "metadata": {
        "colab": {
          "base_uri": "https://localhost:8080/"
        },
        "id": "UnKuLNISZLgH",
        "outputId": "a6c7472b-a198-4bde-914f-83c552904e74"
      },
      "source": [
        "# Calculating metrics for a neural network model using sklearn\n",
        "from sklearn.metrics import accuracy_score\n",
        "from sklearn.metrics import precision_score\n",
        "from sklearn.metrics import recall_score\n",
        "from sklearn.metrics import f1_score\n",
        "from sklearn.metrics import cohen_kappa_score\n",
        "from sklearn.metrics import roc_auc_score\n",
        "from sklearn.metrics import confusion_matrix\n",
        "\n",
        " \n",
        "# define and fit the model\n",
        "# create model(same as \"base_model\")\n",
        "model = Sequential()\n",
        "model.add(Dense(30, input_dim=29, activation='relu'))\n",
        "model.add(Dense(1, activation='sigmoid'))\n",
        "# Compile model\n",
        "model.compile(loss='binary_crossentropy', optimizer='adam', \n",
        "\t              metrics=['accuracy'])\n",
        "# fit model\n",
        "model.fit(train_new_X, encoded_train_new_Y, epochs=100, verbose=2)\n",
        "\n",
        "\n",
        "# predict probabilities for test set\n",
        "yhat_probs = model.predict(val_new_X, verbose=2)\n",
        "\n",
        "# predict crisp classes for test set\n",
        "yhat_classes= np.where(yhat_probs > 0.5, 1,0)\n",
        "#yhat_classes = model.predict_classes(val_new_X, verbose=2)\n",
        "\n",
        "\n",
        "# reduce to 1d array\n",
        "yhat_probs = yhat_probs[:, 0]\n",
        "yhat_classes = yhat_classes[:, 0]\n",
        " \n",
        "# accuracy: (tp + tn) / (p + n)\n",
        "accuracy = accuracy_score(encoded_val_new_Y, yhat_classes)\n",
        "print('Accuracy: %f' % accuracy)\n",
        "# precision tp / (tp + fp)\n",
        "precision = precision_score(encoded_val_new_Y, yhat_classes)\n",
        "print('Precision: %f' % precision)\n",
        "# recall: tp / (tp + fn)\n",
        "recall = recall_score(encoded_val_new_Y, yhat_classes)\n",
        "print('Recall: %f' % recall)\n",
        "# f1: 2 tp / (2 tp + fp + fn)\n",
        "f1 = f1_score(encoded_val_new_Y, yhat_classes)\n",
        "print('F1 score: %f' % f1)\n",
        " \n",
        "# kappa\n",
        "kappa = cohen_kappa_score(encoded_val_new_Y, yhat_classes)\n",
        "print('Cohens kappa: %f' % kappa)\n",
        "# ROC AUC\n",
        "auc = roc_auc_score(encoded_val_new_Y, yhat_probs)\n",
        "print('ROC AUC: %f' % auc)\n",
        "# confusion matrix\n",
        "matrix = confusion_matrix(encoded_val_new_Y, yhat_classes)\n",
        "print(matrix)"
      ],
      "execution_count": 503,
      "outputs": [
        {
          "output_type": "stream",
          "name": "stdout",
          "text": [
            "Epoch 1/100\n",
            "449/449 - 1s - loss: 100433376.0000 - accuracy: 0.6013\n",
            "Epoch 2/100\n",
            "449/449 - 1s - loss: 6482728.5000 - accuracy: 0.7056\n",
            "Epoch 3/100\n",
            "449/449 - 1s - loss: 5862523.5000 - accuracy: 0.7307\n",
            "Epoch 4/100\n",
            "449/449 - 1s - loss: 7041357.0000 - accuracy: 0.7421\n",
            "Epoch 5/100\n",
            "449/449 - 1s - loss: 8509058.0000 - accuracy: 0.7836\n",
            "Epoch 6/100\n",
            "449/449 - 1s - loss: 8884412.0000 - accuracy: 0.7413\n",
            "Epoch 7/100\n",
            "449/449 - 1s - loss: 6956767.5000 - accuracy: 0.7578\n",
            "Epoch 8/100\n",
            "449/449 - 1s - loss: 6517869.5000 - accuracy: 0.7552\n",
            "Epoch 9/100\n",
            "449/449 - 1s - loss: 6066822.0000 - accuracy: 0.7625\n",
            "Epoch 10/100\n",
            "449/449 - 1s - loss: 6160732.5000 - accuracy: 0.7525\n",
            "Epoch 11/100\n",
            "449/449 - 1s - loss: 6705400.0000 - accuracy: 0.7525\n",
            "Epoch 12/100\n",
            "449/449 - 1s - loss: 6732533.0000 - accuracy: 0.7866\n",
            "Epoch 13/100\n",
            "449/449 - 1s - loss: 7113762.5000 - accuracy: 0.7599\n",
            "Epoch 14/100\n",
            "449/449 - 1s - loss: 8078032.0000 - accuracy: 0.7371\n",
            "Epoch 15/100\n",
            "449/449 - 1s - loss: 8908599.0000 - accuracy: 0.7584\n",
            "Epoch 16/100\n",
            "449/449 - 1s - loss: 6865163.5000 - accuracy: 0.7814\n",
            "Epoch 17/100\n",
            "449/449 - 1s - loss: 8837139.0000 - accuracy: 0.7754\n",
            "Epoch 18/100\n",
            "449/449 - 1s - loss: 6452870.0000 - accuracy: 0.7584\n",
            "Epoch 19/100\n",
            "449/449 - 1s - loss: 7445294.5000 - accuracy: 0.7637\n",
            "Epoch 20/100\n",
            "449/449 - 1s - loss: 6823826.5000 - accuracy: 0.7789\n",
            "Epoch 21/100\n",
            "449/449 - 1s - loss: 8761536.0000 - accuracy: 0.7777\n",
            "Epoch 22/100\n",
            "449/449 - 1s - loss: 7445724.5000 - accuracy: 0.7641\n",
            "Epoch 23/100\n",
            "449/449 - 1s - loss: 7853770.5000 - accuracy: 0.7743\n",
            "Epoch 24/100\n",
            "449/449 - 1s - loss: 9158014.0000 - accuracy: 0.7703\n",
            "Epoch 25/100\n",
            "449/449 - 1s - loss: 7357085.0000 - accuracy: 0.7842\n",
            "Epoch 26/100\n",
            "449/449 - 1s - loss: 8913518.0000 - accuracy: 0.7761\n",
            "Epoch 27/100\n",
            "449/449 - 1s - loss: 7312829.0000 - accuracy: 0.7681\n",
            "Epoch 28/100\n",
            "449/449 - 1s - loss: 10933428.0000 - accuracy: 0.7731\n",
            "Epoch 29/100\n",
            "449/449 - 1s - loss: 4994055.5000 - accuracy: 0.7832\n",
            "Epoch 30/100\n",
            "449/449 - 1s - loss: 5778867.5000 - accuracy: 0.7766\n",
            "Epoch 31/100\n",
            "449/449 - 1s - loss: 5895747.5000 - accuracy: 0.7891\n",
            "Epoch 32/100\n",
            "449/449 - 1s - loss: 6390070.0000 - accuracy: 0.7856\n",
            "Epoch 33/100\n",
            "449/449 - 1s - loss: 7611284.0000 - accuracy: 0.7803\n",
            "Epoch 34/100\n",
            "449/449 - 1s - loss: 6823271.0000 - accuracy: 0.7848\n",
            "Epoch 35/100\n",
            "449/449 - 1s - loss: 6915534.0000 - accuracy: 0.7825\n",
            "Epoch 36/100\n",
            "449/449 - 1s - loss: 6141333.5000 - accuracy: 0.7821\n",
            "Epoch 37/100\n",
            "449/449 - 1s - loss: 5625578.0000 - accuracy: 0.7823\n",
            "Epoch 38/100\n",
            "449/449 - 1s - loss: 7495117.0000 - accuracy: 0.7817\n",
            "Epoch 39/100\n",
            "449/449 - 1s - loss: 4781141.0000 - accuracy: 0.7878\n",
            "Epoch 40/100\n",
            "449/449 - 1s - loss: 5613658.0000 - accuracy: 0.7923\n",
            "Epoch 41/100\n",
            "449/449 - 1s - loss: 4968668.0000 - accuracy: 0.7820\n",
            "Epoch 42/100\n",
            "449/449 - 1s - loss: 5001537.5000 - accuracy: 0.7873\n",
            "Epoch 43/100\n",
            "449/449 - 1s - loss: 8575580.0000 - accuracy: 0.7680\n",
            "Epoch 44/100\n",
            "449/449 - 1s - loss: 6199046.5000 - accuracy: 0.7836\n",
            "Epoch 45/100\n",
            "449/449 - 1s - loss: 6131249.5000 - accuracy: 0.7800\n",
            "Epoch 46/100\n",
            "449/449 - 1s - loss: 5049836.0000 - accuracy: 0.7990\n",
            "Epoch 47/100\n",
            "449/449 - 1s - loss: 5475828.5000 - accuracy: 0.7795\n",
            "Epoch 48/100\n",
            "449/449 - 1s - loss: 5773085.0000 - accuracy: 0.7899\n",
            "Epoch 49/100\n",
            "449/449 - 1s - loss: 5071150.0000 - accuracy: 0.7831\n",
            "Epoch 50/100\n",
            "449/449 - 1s - loss: 5656209.0000 - accuracy: 0.7937\n",
            "Epoch 51/100\n",
            "449/449 - 1s - loss: 6336256.5000 - accuracy: 0.7713\n",
            "Epoch 52/100\n",
            "449/449 - 1s - loss: 7692637.0000 - accuracy: 0.7950\n",
            "Epoch 53/100\n",
            "449/449 - 1s - loss: 4058165.2500 - accuracy: 0.7842\n",
            "Epoch 54/100\n",
            "449/449 - 1s - loss: 5083225.0000 - accuracy: 0.7989\n",
            "Epoch 55/100\n",
            "449/449 - 1s - loss: 6021642.0000 - accuracy: 0.7942\n",
            "Epoch 56/100\n",
            "449/449 - 1s - loss: 4054492.7500 - accuracy: 0.7832\n",
            "Epoch 57/100\n",
            "449/449 - 1s - loss: 5763111.5000 - accuracy: 0.7939\n",
            "Epoch 58/100\n",
            "449/449 - 1s - loss: 4571556.5000 - accuracy: 0.7789\n",
            "Epoch 59/100\n",
            "449/449 - 1s - loss: 6248295.5000 - accuracy: 0.7892\n",
            "Epoch 60/100\n",
            "449/449 - 1s - loss: 6223871.0000 - accuracy: 0.7939\n",
            "Epoch 61/100\n",
            "449/449 - 1s - loss: 5249815.0000 - accuracy: 0.7997\n",
            "Epoch 62/100\n",
            "449/449 - 1s - loss: 5835711.5000 - accuracy: 0.7900\n",
            "Epoch 63/100\n",
            "449/449 - 1s - loss: 5127542.5000 - accuracy: 0.7974\n",
            "Epoch 64/100\n",
            "449/449 - 1s - loss: 3712281.0000 - accuracy: 0.7972\n",
            "Epoch 65/100\n",
            "449/449 - 1s - loss: 4294647.0000 - accuracy: 0.7885\n",
            "Epoch 66/100\n",
            "449/449 - 1s - loss: 4875208.5000 - accuracy: 0.7941\n",
            "Epoch 67/100\n",
            "449/449 - 1s - loss: 5648748.0000 - accuracy: 0.7938\n",
            "Epoch 68/100\n",
            "449/449 - 1s - loss: 5975536.5000 - accuracy: 0.7842\n",
            "Epoch 69/100\n",
            "449/449 - 1s - loss: 5100381.0000 - accuracy: 0.7915\n",
            "Epoch 70/100\n",
            "449/449 - 1s - loss: 5109613.0000 - accuracy: 0.7917\n",
            "Epoch 71/100\n",
            "449/449 - 1s - loss: 4320461.5000 - accuracy: 0.7865\n",
            "Epoch 72/100\n",
            "449/449 - 1s - loss: 5235305.5000 - accuracy: 0.7864\n",
            "Epoch 73/100\n",
            "449/449 - 1s - loss: 3866217.5000 - accuracy: 0.7912\n",
            "Epoch 74/100\n",
            "449/449 - 1s - loss: 5786591.0000 - accuracy: 0.7845\n",
            "Epoch 75/100\n",
            "449/449 - 1s - loss: 5349247.5000 - accuracy: 0.7862\n",
            "Epoch 76/100\n",
            "449/449 - 1s - loss: 4920303.5000 - accuracy: 0.7965\n",
            "Epoch 77/100\n",
            "449/449 - 1s - loss: 4977246.0000 - accuracy: 0.7912\n",
            "Epoch 78/100\n",
            "449/449 - 1s - loss: 4580533.0000 - accuracy: 0.7876\n",
            "Epoch 79/100\n",
            "449/449 - 1s - loss: 3545760.5000 - accuracy: 0.7843\n",
            "Epoch 80/100\n",
            "449/449 - 1s - loss: 4363269.5000 - accuracy: 0.7915\n",
            "Epoch 81/100\n",
            "449/449 - 1s - loss: 3786914.2500 - accuracy: 0.7960\n",
            "Epoch 82/100\n",
            "449/449 - 1s - loss: 4449461.5000 - accuracy: 0.7891\n",
            "Epoch 83/100\n",
            "449/449 - 1s - loss: 7629107.5000 - accuracy: 0.7951\n",
            "Epoch 84/100\n",
            "449/449 - 1s - loss: 4577903.5000 - accuracy: 0.7959\n",
            "Epoch 85/100\n",
            "449/449 - 1s - loss: 5180957.0000 - accuracy: 0.7908\n",
            "Epoch 86/100\n",
            "449/449 - 1s - loss: 7465331.0000 - accuracy: 0.7901\n",
            "Epoch 87/100\n",
            "449/449 - 1s - loss: 4810998.0000 - accuracy: 0.7908\n",
            "Epoch 88/100\n",
            "449/449 - 1s - loss: 4655237.5000 - accuracy: 0.8017\n",
            "Epoch 89/100\n",
            "449/449 - 1s - loss: 4528234.5000 - accuracy: 0.7916\n",
            "Epoch 90/100\n",
            "449/449 - 1s - loss: 3985935.5000 - accuracy: 0.7889\n",
            "Epoch 91/100\n",
            "449/449 - 1s - loss: 5473231.5000 - accuracy: 0.7976\n",
            "Epoch 92/100\n",
            "449/449 - 1s - loss: 3695216.0000 - accuracy: 0.8019\n",
            "Epoch 93/100\n",
            "449/449 - 1s - loss: 3732551.5000 - accuracy: 0.8052\n",
            "Epoch 94/100\n",
            "449/449 - 1s - loss: 3190420.7500 - accuracy: 0.7926\n",
            "Epoch 95/100\n",
            "449/449 - 1s - loss: 6165650.0000 - accuracy: 0.7935\n",
            "Epoch 96/100\n",
            "449/449 - 1s - loss: 4051900.5000 - accuracy: 0.7974\n",
            "Epoch 97/100\n",
            "449/449 - 1s - loss: 4453221.0000 - accuracy: 0.7915\n",
            "Epoch 98/100\n",
            "449/449 - 1s - loss: 4508162.5000 - accuracy: 0.7973\n",
            "Epoch 99/100\n",
            "449/449 - 1s - loss: 5201107.0000 - accuracy: 0.7980\n",
            "Epoch 100/100\n",
            "449/449 - 1s - loss: 5683174.0000 - accuracy: 0.7928\n",
            "193/193 - 0s\n",
            "[[1.]\n",
            " [1.]\n",
            " [1.]\n",
            " ...\n",
            " [1.]\n",
            " [1.]\n",
            " [1.]]\n",
            "[[1]\n",
            " [1]\n",
            " [1]\n",
            " ...\n",
            " [1]\n",
            " [1]\n",
            " [1]]\n",
            "Accuracy: 0.803151\n",
            "Precision: 0.780267\n",
            "Recall: 0.976870\n",
            "F1 score: 0.867570\n",
            "Cohens kappa: 0.502302\n",
            "ROC AUC: 0.728959\n",
            "[[ 975 1118]\n",
            " [  94 3970]]\n"
          ]
        }
      ]
    },
    {
      "cell_type": "markdown",
      "metadata": {
        "id": "2Itr-PodwKBz"
      },
      "source": [
        ""
      ]
    },
    {
      "cell_type": "markdown",
      "metadata": {
        "id": "Txx5t0tIwKlJ"
      },
      "source": [
        "#### Keras Classification Metrics for \"smaller_model\"\n",
        "\n",
        "\n",
        "> Binary Accuracy: \"binary_accuracy\", \"acc\"\n",
        "\n"
      ]
    },
    {
      "cell_type": "code",
      "metadata": {
        "id": "tnngXzrcwOOc"
      },
      "source": [
        ""
      ],
      "execution_count": null,
      "outputs": []
    },
    {
      "cell_type": "markdown",
      "metadata": {
        "id": "awjmGEHw0_2b"
      },
      "source": [
        "## Section 4 \n",
        "\n",
        "\n",
        "> Unnecessary analysis\n",
        "\n"
      ]
    },
    {
      "cell_type": "markdown",
      "metadata": {
        "id": "n6chroBJ2lYs"
      },
      "source": [
        "### Grid Search Hyperparameters"
      ]
    },
    {
      "cell_type": "markdown",
      "metadata": {
        "id": "c_QCK7lx-NZy"
      },
      "source": [
        "####  Tune Batch Size and Number of Epochs\n",
        "###### {'batch_size': 20, 'epochs': 10} & {'batch_size': 40, 'epochs': 100} had the best accurac"
      ]
    },
    {
      "cell_type": "code",
      "metadata": {
        "colab": {
          "base_uri": "https://localhost:8080/",
          "height": 398
        },
        "id": "qM6wN6Nd-MPa",
        "outputId": "70e3ba0a-eb45-43cc-b940-208e93eb7e5f"
      },
      "source": [
        "# Use scikit-learn to grid search the batch size and epochs\n",
        "from keras.wrappers.scikit_learn import KerasClassifier\n",
        "\n",
        "# Function to create model, required for KerasClassifier\n",
        "def create_model():\n",
        "\t# create model\n",
        "\tmodel = Sequential()\n",
        "\tmodel.add(Dense(30, input_dim=30, activation='relu'))\n",
        "\tmodel.add(Dense(1, activation='sigmoid'))\n",
        "\t# Compile model\n",
        "\tmodel.compile(loss='binary_crossentropy', optimizer='Nadam', metrics=['accuracy'])\n",
        "\treturn model\n",
        "\n",
        "# fix random seed for reproducibility\n",
        "seed = 7\n",
        "np.random.seed(seed)\n",
        "\n",
        "# create model\n",
        "model = KerasClassifier(build_fn=create_model, verbose=0)\n",
        "\n",
        "# define the grid search parameters\n",
        "batch_size = [10, 20, 40, 60, 80, 100]\n",
        "epochs = [10, 50, 100]\n",
        "param_grid = dict(batch_size=batch_size, epochs=epochs)\n",
        "grid = GridSearchCV(estimator=model, param_grid=param_grid, n_jobs=-1, cv=3)\n",
        "grid_result = grid.fit(X, Y)\n",
        "\n",
        "# summarize results\n",
        "print(\"Best: %f using %s\" % (grid_result.best_score_, grid_result.best_params_))\n",
        "means = grid_result.cv_results_['mean_test_score']\n",
        "stds = grid_result.cv_results_['std_test_score']\n",
        "params = grid_result.cv_results_['params']\n",
        "for mean, stdev, param in zip(means, stds, params):\n",
        "    print(\"%f (%f) with: %r\" % (mean, stdev, param))\n",
        "\n",
        "# Based on results of this cell: 0.942470 (0.058475) with: {'batch_size': 20, 'epochs': 10} had the best accuracy, {'batch_size': 40, 'epochs': 100} had the same acc:0.942939%"
      ],
      "execution_count": null,
      "outputs": [
        {
          "output_type": "error",
          "ename": "KeyboardInterrupt",
          "evalue": "ignored",
          "traceback": [
            "\u001b[0;31m---------------------------------------------------------------------------\u001b[0m",
            "\u001b[0;31mKeyboardInterrupt\u001b[0m                         Traceback (most recent call last)",
            "\u001b[0;32m<ipython-input-159-a528d8833f29>\u001b[0m in \u001b[0;36m<module>\u001b[0;34m()\u001b[0m\n\u001b[1;32m     24\u001b[0m \u001b[0mparam_grid\u001b[0m \u001b[0;34m=\u001b[0m \u001b[0mdict\u001b[0m\u001b[0;34m(\u001b[0m\u001b[0mbatch_size\u001b[0m\u001b[0;34m=\u001b[0m\u001b[0mbatch_size\u001b[0m\u001b[0;34m,\u001b[0m \u001b[0mepochs\u001b[0m\u001b[0;34m=\u001b[0m\u001b[0mepochs\u001b[0m\u001b[0;34m)\u001b[0m\u001b[0;34m\u001b[0m\u001b[0;34m\u001b[0m\u001b[0m\n\u001b[1;32m     25\u001b[0m \u001b[0mgrid\u001b[0m \u001b[0;34m=\u001b[0m \u001b[0mGridSearchCV\u001b[0m\u001b[0;34m(\u001b[0m\u001b[0mestimator\u001b[0m\u001b[0;34m=\u001b[0m\u001b[0mmodel\u001b[0m\u001b[0;34m,\u001b[0m \u001b[0mparam_grid\u001b[0m\u001b[0;34m=\u001b[0m\u001b[0mparam_grid\u001b[0m\u001b[0;34m,\u001b[0m \u001b[0mn_jobs\u001b[0m\u001b[0;34m=\u001b[0m\u001b[0;34m-\u001b[0m\u001b[0;36m1\u001b[0m\u001b[0;34m,\u001b[0m \u001b[0mcv\u001b[0m\u001b[0;34m=\u001b[0m\u001b[0;36m3\u001b[0m\u001b[0;34m)\u001b[0m\u001b[0;34m\u001b[0m\u001b[0;34m\u001b[0m\u001b[0m\n\u001b[0;32m---> 26\u001b[0;31m \u001b[0mgrid_result\u001b[0m \u001b[0;34m=\u001b[0m \u001b[0mgrid\u001b[0m\u001b[0;34m.\u001b[0m\u001b[0mfit\u001b[0m\u001b[0;34m(\u001b[0m\u001b[0mX\u001b[0m\u001b[0;34m,\u001b[0m \u001b[0mY\u001b[0m\u001b[0;34m)\u001b[0m\u001b[0;34m\u001b[0m\u001b[0;34m\u001b[0m\u001b[0m\n\u001b[0m\u001b[1;32m     27\u001b[0m \u001b[0;34m\u001b[0m\u001b[0m\n\u001b[1;32m     28\u001b[0m \u001b[0;31m# summarize results\u001b[0m\u001b[0;34m\u001b[0m\u001b[0;34m\u001b[0m\u001b[0;34m\u001b[0m\u001b[0m\n",
            "\u001b[0;32m/usr/local/lib/python3.7/dist-packages/sklearn/model_selection/_search.py\u001b[0m in \u001b[0;36mfit\u001b[0;34m(self, X, y, groups, **fit_params)\u001b[0m\n\u001b[1;32m    708\u001b[0m                 \u001b[0;32mreturn\u001b[0m \u001b[0mresults\u001b[0m\u001b[0;34m\u001b[0m\u001b[0;34m\u001b[0m\u001b[0m\n\u001b[1;32m    709\u001b[0m \u001b[0;34m\u001b[0m\u001b[0m\n\u001b[0;32m--> 710\u001b[0;31m             \u001b[0mself\u001b[0m\u001b[0;34m.\u001b[0m\u001b[0m_run_search\u001b[0m\u001b[0;34m(\u001b[0m\u001b[0mevaluate_candidates\u001b[0m\u001b[0;34m)\u001b[0m\u001b[0;34m\u001b[0m\u001b[0;34m\u001b[0m\u001b[0m\n\u001b[0m\u001b[1;32m    711\u001b[0m \u001b[0;34m\u001b[0m\u001b[0m\n\u001b[1;32m    712\u001b[0m         \u001b[0;31m# For multi-metric evaluation, store the best_index_, best_params_ and\u001b[0m\u001b[0;34m\u001b[0m\u001b[0;34m\u001b[0m\u001b[0;34m\u001b[0m\u001b[0m\n",
            "\u001b[0;32m/usr/local/lib/python3.7/dist-packages/sklearn/model_selection/_search.py\u001b[0m in \u001b[0;36m_run_search\u001b[0;34m(self, evaluate_candidates)\u001b[0m\n\u001b[1;32m   1149\u001b[0m     \u001b[0;32mdef\u001b[0m \u001b[0m_run_search\u001b[0m\u001b[0;34m(\u001b[0m\u001b[0mself\u001b[0m\u001b[0;34m,\u001b[0m \u001b[0mevaluate_candidates\u001b[0m\u001b[0;34m)\u001b[0m\u001b[0;34m:\u001b[0m\u001b[0;34m\u001b[0m\u001b[0;34m\u001b[0m\u001b[0m\n\u001b[1;32m   1150\u001b[0m         \u001b[0;34m\"\"\"Search all candidates in param_grid\"\"\"\u001b[0m\u001b[0;34m\u001b[0m\u001b[0;34m\u001b[0m\u001b[0m\n\u001b[0;32m-> 1151\u001b[0;31m         \u001b[0mevaluate_candidates\u001b[0m\u001b[0;34m(\u001b[0m\u001b[0mParameterGrid\u001b[0m\u001b[0;34m(\u001b[0m\u001b[0mself\u001b[0m\u001b[0;34m.\u001b[0m\u001b[0mparam_grid\u001b[0m\u001b[0;34m)\u001b[0m\u001b[0;34m)\u001b[0m\u001b[0;34m\u001b[0m\u001b[0;34m\u001b[0m\u001b[0m\n\u001b[0m\u001b[1;32m   1152\u001b[0m \u001b[0;34m\u001b[0m\u001b[0m\n\u001b[1;32m   1153\u001b[0m \u001b[0;34m\u001b[0m\u001b[0m\n",
            "\u001b[0;32m/usr/local/lib/python3.7/dist-packages/sklearn/model_selection/_search.py\u001b[0m in \u001b[0;36mevaluate_candidates\u001b[0;34m(candidate_params)\u001b[0m\n\u001b[1;32m    687\u001b[0m                                \u001b[0;32mfor\u001b[0m \u001b[0mparameters\u001b[0m\u001b[0;34m,\u001b[0m \u001b[0;34m(\u001b[0m\u001b[0mtrain\u001b[0m\u001b[0;34m,\u001b[0m \u001b[0mtest\u001b[0m\u001b[0;34m)\u001b[0m\u001b[0;34m\u001b[0m\u001b[0;34m\u001b[0m\u001b[0m\n\u001b[1;32m    688\u001b[0m                                in product(candidate_params,\n\u001b[0;32m--> 689\u001b[0;31m                                           cv.split(X, y, groups)))\n\u001b[0m\u001b[1;32m    690\u001b[0m \u001b[0;34m\u001b[0m\u001b[0m\n\u001b[1;32m    691\u001b[0m                 \u001b[0;32mif\u001b[0m \u001b[0mlen\u001b[0m\u001b[0;34m(\u001b[0m\u001b[0mout\u001b[0m\u001b[0;34m)\u001b[0m \u001b[0;34m<\u001b[0m \u001b[0;36m1\u001b[0m\u001b[0;34m:\u001b[0m\u001b[0;34m\u001b[0m\u001b[0;34m\u001b[0m\u001b[0m\n",
            "\u001b[0;32m/usr/local/lib/python3.7/dist-packages/joblib/parallel.py\u001b[0m in \u001b[0;36m__call__\u001b[0;34m(self, iterable)\u001b[0m\n\u001b[1;32m   1052\u001b[0m \u001b[0;34m\u001b[0m\u001b[0m\n\u001b[1;32m   1053\u001b[0m             \u001b[0;32mwith\u001b[0m \u001b[0mself\u001b[0m\u001b[0;34m.\u001b[0m\u001b[0m_backend\u001b[0m\u001b[0;34m.\u001b[0m\u001b[0mretrieval_context\u001b[0m\u001b[0;34m(\u001b[0m\u001b[0;34m)\u001b[0m\u001b[0;34m:\u001b[0m\u001b[0;34m\u001b[0m\u001b[0;34m\u001b[0m\u001b[0m\n\u001b[0;32m-> 1054\u001b[0;31m                 \u001b[0mself\u001b[0m\u001b[0;34m.\u001b[0m\u001b[0mretrieve\u001b[0m\u001b[0;34m(\u001b[0m\u001b[0;34m)\u001b[0m\u001b[0;34m\u001b[0m\u001b[0;34m\u001b[0m\u001b[0m\n\u001b[0m\u001b[1;32m   1055\u001b[0m             \u001b[0;31m# Make sure that we get a last message telling us we are done\u001b[0m\u001b[0;34m\u001b[0m\u001b[0;34m\u001b[0m\u001b[0;34m\u001b[0m\u001b[0m\n\u001b[1;32m   1056\u001b[0m             \u001b[0melapsed_time\u001b[0m \u001b[0;34m=\u001b[0m \u001b[0mtime\u001b[0m\u001b[0;34m.\u001b[0m\u001b[0mtime\u001b[0m\u001b[0;34m(\u001b[0m\u001b[0;34m)\u001b[0m \u001b[0;34m-\u001b[0m \u001b[0mself\u001b[0m\u001b[0;34m.\u001b[0m\u001b[0m_start_time\u001b[0m\u001b[0;34m\u001b[0m\u001b[0;34m\u001b[0m\u001b[0m\n",
            "\u001b[0;32m/usr/local/lib/python3.7/dist-packages/joblib/parallel.py\u001b[0m in \u001b[0;36mretrieve\u001b[0;34m(self)\u001b[0m\n\u001b[1;32m    931\u001b[0m             \u001b[0;32mtry\u001b[0m\u001b[0;34m:\u001b[0m\u001b[0;34m\u001b[0m\u001b[0;34m\u001b[0m\u001b[0m\n\u001b[1;32m    932\u001b[0m                 \u001b[0;32mif\u001b[0m \u001b[0mgetattr\u001b[0m\u001b[0;34m(\u001b[0m\u001b[0mself\u001b[0m\u001b[0;34m.\u001b[0m\u001b[0m_backend\u001b[0m\u001b[0;34m,\u001b[0m \u001b[0;34m'supports_timeout'\u001b[0m\u001b[0;34m,\u001b[0m \u001b[0;32mFalse\u001b[0m\u001b[0;34m)\u001b[0m\u001b[0;34m:\u001b[0m\u001b[0;34m\u001b[0m\u001b[0;34m\u001b[0m\u001b[0m\n\u001b[0;32m--> 933\u001b[0;31m                     \u001b[0mself\u001b[0m\u001b[0;34m.\u001b[0m\u001b[0m_output\u001b[0m\u001b[0;34m.\u001b[0m\u001b[0mextend\u001b[0m\u001b[0;34m(\u001b[0m\u001b[0mjob\u001b[0m\u001b[0;34m.\u001b[0m\u001b[0mget\u001b[0m\u001b[0;34m(\u001b[0m\u001b[0mtimeout\u001b[0m\u001b[0;34m=\u001b[0m\u001b[0mself\u001b[0m\u001b[0;34m.\u001b[0m\u001b[0mtimeout\u001b[0m\u001b[0;34m)\u001b[0m\u001b[0;34m)\u001b[0m\u001b[0;34m\u001b[0m\u001b[0;34m\u001b[0m\u001b[0m\n\u001b[0m\u001b[1;32m    934\u001b[0m                 \u001b[0;32melse\u001b[0m\u001b[0;34m:\u001b[0m\u001b[0;34m\u001b[0m\u001b[0;34m\u001b[0m\u001b[0m\n\u001b[1;32m    935\u001b[0m                     \u001b[0mself\u001b[0m\u001b[0;34m.\u001b[0m\u001b[0m_output\u001b[0m\u001b[0;34m.\u001b[0m\u001b[0mextend\u001b[0m\u001b[0;34m(\u001b[0m\u001b[0mjob\u001b[0m\u001b[0;34m.\u001b[0m\u001b[0mget\u001b[0m\u001b[0;34m(\u001b[0m\u001b[0;34m)\u001b[0m\u001b[0;34m)\u001b[0m\u001b[0;34m\u001b[0m\u001b[0;34m\u001b[0m\u001b[0m\n",
            "\u001b[0;32m/usr/local/lib/python3.7/dist-packages/joblib/_parallel_backends.py\u001b[0m in \u001b[0;36mwrap_future_result\u001b[0;34m(future, timeout)\u001b[0m\n\u001b[1;32m    540\u001b[0m         AsyncResults.get from multiprocessing.\"\"\"\n\u001b[1;32m    541\u001b[0m         \u001b[0;32mtry\u001b[0m\u001b[0;34m:\u001b[0m\u001b[0;34m\u001b[0m\u001b[0;34m\u001b[0m\u001b[0m\n\u001b[0;32m--> 542\u001b[0;31m             \u001b[0;32mreturn\u001b[0m \u001b[0mfuture\u001b[0m\u001b[0;34m.\u001b[0m\u001b[0mresult\u001b[0m\u001b[0;34m(\u001b[0m\u001b[0mtimeout\u001b[0m\u001b[0;34m=\u001b[0m\u001b[0mtimeout\u001b[0m\u001b[0;34m)\u001b[0m\u001b[0;34m\u001b[0m\u001b[0;34m\u001b[0m\u001b[0m\n\u001b[0m\u001b[1;32m    543\u001b[0m         \u001b[0;32mexcept\u001b[0m \u001b[0mCfTimeoutError\u001b[0m \u001b[0;32mas\u001b[0m \u001b[0me\u001b[0m\u001b[0;34m:\u001b[0m\u001b[0;34m\u001b[0m\u001b[0;34m\u001b[0m\u001b[0m\n\u001b[1;32m    544\u001b[0m             \u001b[0;32mraise\u001b[0m \u001b[0mTimeoutError\u001b[0m \u001b[0;32mfrom\u001b[0m \u001b[0me\u001b[0m\u001b[0;34m\u001b[0m\u001b[0;34m\u001b[0m\u001b[0m\n",
            "\u001b[0;32m/usr/lib/python3.7/concurrent/futures/_base.py\u001b[0m in \u001b[0;36mresult\u001b[0;34m(self, timeout)\u001b[0m\n\u001b[1;32m    428\u001b[0m                 \u001b[0;32mreturn\u001b[0m \u001b[0mself\u001b[0m\u001b[0;34m.\u001b[0m\u001b[0m__get_result\u001b[0m\u001b[0;34m(\u001b[0m\u001b[0;34m)\u001b[0m\u001b[0;34m\u001b[0m\u001b[0;34m\u001b[0m\u001b[0m\n\u001b[1;32m    429\u001b[0m \u001b[0;34m\u001b[0m\u001b[0m\n\u001b[0;32m--> 430\u001b[0;31m             \u001b[0mself\u001b[0m\u001b[0;34m.\u001b[0m\u001b[0m_condition\u001b[0m\u001b[0;34m.\u001b[0m\u001b[0mwait\u001b[0m\u001b[0;34m(\u001b[0m\u001b[0mtimeout\u001b[0m\u001b[0;34m)\u001b[0m\u001b[0;34m\u001b[0m\u001b[0;34m\u001b[0m\u001b[0m\n\u001b[0m\u001b[1;32m    431\u001b[0m \u001b[0;34m\u001b[0m\u001b[0m\n\u001b[1;32m    432\u001b[0m             \u001b[0;32mif\u001b[0m \u001b[0mself\u001b[0m\u001b[0;34m.\u001b[0m\u001b[0m_state\u001b[0m \u001b[0;32min\u001b[0m \u001b[0;34m[\u001b[0m\u001b[0mCANCELLED\u001b[0m\u001b[0;34m,\u001b[0m \u001b[0mCANCELLED_AND_NOTIFIED\u001b[0m\u001b[0;34m]\u001b[0m\u001b[0;34m:\u001b[0m\u001b[0;34m\u001b[0m\u001b[0;34m\u001b[0m\u001b[0m\n",
            "\u001b[0;32m/usr/lib/python3.7/threading.py\u001b[0m in \u001b[0;36mwait\u001b[0;34m(self, timeout)\u001b[0m\n\u001b[1;32m    294\u001b[0m         \u001b[0;32mtry\u001b[0m\u001b[0;34m:\u001b[0m    \u001b[0;31m# restore state no matter what (e.g., KeyboardInterrupt)\u001b[0m\u001b[0;34m\u001b[0m\u001b[0;34m\u001b[0m\u001b[0m\n\u001b[1;32m    295\u001b[0m             \u001b[0;32mif\u001b[0m \u001b[0mtimeout\u001b[0m \u001b[0;32mis\u001b[0m \u001b[0;32mNone\u001b[0m\u001b[0;34m:\u001b[0m\u001b[0;34m\u001b[0m\u001b[0;34m\u001b[0m\u001b[0m\n\u001b[0;32m--> 296\u001b[0;31m                 \u001b[0mwaiter\u001b[0m\u001b[0;34m.\u001b[0m\u001b[0macquire\u001b[0m\u001b[0;34m(\u001b[0m\u001b[0;34m)\u001b[0m\u001b[0;34m\u001b[0m\u001b[0;34m\u001b[0m\u001b[0m\n\u001b[0m\u001b[1;32m    297\u001b[0m                 \u001b[0mgotit\u001b[0m \u001b[0;34m=\u001b[0m \u001b[0;32mTrue\u001b[0m\u001b[0;34m\u001b[0m\u001b[0;34m\u001b[0m\u001b[0m\n\u001b[1;32m    298\u001b[0m             \u001b[0;32melse\u001b[0m\u001b[0;34m:\u001b[0m\u001b[0;34m\u001b[0m\u001b[0;34m\u001b[0m\u001b[0m\n",
            "\u001b[0;31mKeyboardInterrupt\u001b[0m: "
          ]
        }
      ]
    },
    {
      "cell_type": "markdown",
      "metadata": {
        "id": "yZnBnyA0-9i9"
      },
      "source": [
        "#### Tune the Training Optimization Algorithm\n",
        "##### result of the following cell: Only optimizers with more than 80% accuracy will be mentioned in this cell:\n",
        "\n",
        "> 0.880131 (0.086107) with: {'optimizer': 'Adam'}\n",
        "\n",
        "> 0.879369 (0.085561) with: {'optimizer': 'RMSprop'}\n",
        "\n",
        "> 0.878665 (0.087346) with: {'optimizer': 'Adamax'}\n",
        "\n",
        "\n",
        "> 0.868987 (0.071495) with: {'optimizer': 'Nadam'}\n",
        "\n",
        "\n",
        "> 0.781666 (0.187239) with: {'optimizer': 'Adagrad'}\n"
      ]
    },
    {
      "cell_type": "code",
      "metadata": {
        "colab": {
          "base_uri": "https://localhost:8080/"
        },
        "id": "H3ZkTH9N--hy",
        "outputId": "4dfe9d0e-0190-43bf-98d8-6a0a069ca2ba"
      },
      "source": [
        "# Function to create model, required for KerasClassifier\n",
        "def create_model(optimizer='adam'):\n",
        "\t# create model\n",
        "\tmodel = Sequential()\n",
        "\tmodel.add(Dense(30, input_dim=30, activation='relu'))\n",
        "\tmodel.add(Dense(1, activation='sigmoid'))\n",
        "\t# Compile model\n",
        "\tmodel.compile(loss='binary_crossentropy', optimizer=optimizer, metrics=['accuracy'])\n",
        "\treturn model\n",
        "# fix random seed for reproducibility\n",
        "seed = 7\n",
        "np.random.seed(seed)\n",
        "\n",
        "# create model\n",
        "model = KerasClassifier(build_fn=create_model, epochs=10, batch_size=20, verbose=0)\n",
        "# define the grid search parameters\n",
        "optimizer = ['SGD', 'RMSprop', 'Adagrad', 'Adadelta', 'Adam', 'Adamax', 'Nadam']\n",
        "param_grid = dict(optimizer=optimizer)\n",
        "grid = GridSearchCV(estimator=model, param_grid=param_grid, n_jobs=-1, cv=3)\n",
        "grid_result = grid.fit(X, Y)\n",
        "# summarize results\n",
        "print(\"Best: %f using %s\" % (grid_result.best_score_, grid_result.best_params_))\n",
        "means = grid_result.cv_results_['mean_test_score']\n",
        "stds = grid_result.cv_results_['std_test_score']\n",
        "params = grid_result.cv_results_['params']\n",
        "for mean, stdev, param in zip(means, stds, params):\n",
        "    print(\"%f (%f) with: %r\" % (mean, stdev, param))"
      ],
      "execution_count": null,
      "outputs": [
        {
          "output_type": "stream",
          "name": "stdout",
          "text": [
            "Best: 0.880131 using {'optimizer': 'Adam'}\n",
            "0.718096 (0.347545) with: {'optimizer': 'SGD'}\n",
            "0.879369 (0.085561) with: {'optimizer': 'RMSprop'}\n",
            "0.781666 (0.187239) with: {'optimizer': 'Adagrad'}\n",
            "0.524779 (0.242486) with: {'optimizer': 'Adadelta'}\n",
            "0.880131 (0.086107) with: {'optimizer': 'Adam'}\n",
            "0.878665 (0.087346) with: {'optimizer': 'Adamax'}\n",
            "0.868987 (0.071495) with: {'optimizer': 'Nadam'}\n"
          ]
        }
      ]
    },
    {
      "cell_type": "markdown",
      "metadata": {
        "id": "paXgBKLL_Nt0"
      },
      "source": [
        "#### Tune Learning Rate and Momentum\n",
        "##### The odd part about the result of the following cell:\n",
        "###### With the introduced learning rate and momentum, the accuracy result does not change much(stays flat around 71 to 72 %)\n",
        "###### Best: 0.728125 using {'learn_rate': 0.01, 'momentum': 0.9}"
      ]
    },
    {
      "cell_type": "code",
      "metadata": {
        "colab": {
          "base_uri": "https://localhost:8080/"
        },
        "id": "P9JcpU6y_Q8u",
        "outputId": "dad445a9-cc4a-4e36-f073-e18e73dbb1d0"
      },
      "source": [
        "from keras.wrappers.scikit_learn import KerasClassifier\n",
        "from tensorflow.keras.optimizers import SGD\n",
        "#from tensorflow.keras.optimizers import RMSprop\n",
        "\n",
        "# Function to create model, required for KerasClassifier\n",
        "def create_model(learn_rate=0.01, momentum=0):\n",
        "\t# create model\n",
        "\tmodel = Sequential()\n",
        "\tmodel.add(Dense(30, input_dim=30, activation='relu'))\n",
        "\tmodel.add(Dense(1, activation='sigmoid'))\n",
        "\t# Compile model\n",
        "\toptimizer = SGD(lr=learn_rate, momentum=momentum)\n",
        "\tmodel.compile(loss='binary_crossentropy', optimizer=optimizer, metrics=['accuracy'])\n",
        "\treturn model\n",
        "\n",
        "# fix random seed for reproducibility\n",
        "seed = 7\n",
        "np.random.seed(seed)\n",
        "\n",
        "# create model\n",
        "model = KerasClassifier(build_fn=create_model, epochs=10, batch_size=20, verbose=0)\n",
        "\n",
        "# define the grid search parameters\n",
        "learn_rate = [0.001, 0.01, 0.1, 0.2, 0.3]\n",
        "momentum = [0.0, 0.2, 0.4, 0.6, 0.8, 0.9]\n",
        "param_grid = dict(learn_rate=learn_rate, momentum=momentum)\n",
        "grid = GridSearchCV(estimator=model, param_grid=param_grid, n_jobs=-1, cv=3)\n",
        "grid_result = grid.fit(X, Y)\n",
        "\n",
        "# summarize results\n",
        "print(\"Best: %f using %s\" % (grid_result.best_score_, grid_result.best_params_))\n",
        "means = grid_result.cv_results_['mean_test_score']\n",
        "stds = grid_result.cv_results_['std_test_score']\n",
        "params = grid_result.cv_results_['params']\n",
        "for mean, stdev, param in zip(means, stds, params):\n",
        "    print(\"%f (%f) with: %r\" % (mean, stdev, param))"
      ],
      "execution_count": null,
      "outputs": [
        {
          "output_type": "stream",
          "name": "stderr",
          "text": [
            "/usr/local/lib/python3.7/dist-packages/keras/optimizer_v2/optimizer_v2.py:356: UserWarning: The `lr` argument is deprecated, use `learning_rate` instead.\n",
            "  \"The `lr` argument is deprecated, use `learning_rate` instead.\")\n"
          ]
        },
        {
          "output_type": "stream",
          "name": "stdout",
          "text": [
            "Best: 0.728125 using {'learn_rate': 0.01, 'momentum': 0.9}\n",
            "0.718917 (0.346385) with: {'learn_rate': 0.001, 'momentum': 0.0}\n",
            "0.718096 (0.347545) with: {'learn_rate': 0.001, 'momentum': 0.2}\n",
            "0.718096 (0.347545) with: {'learn_rate': 0.001, 'momentum': 0.4}\n",
            "0.718096 (0.347545) with: {'learn_rate': 0.001, 'momentum': 0.6}\n",
            "0.718096 (0.347545) with: {'learn_rate': 0.001, 'momentum': 0.8}\n",
            "0.718096 (0.347545) with: {'learn_rate': 0.001, 'momentum': 0.9}\n",
            "0.718096 (0.347545) with: {'learn_rate': 0.01, 'momentum': 0.0}\n",
            "0.718096 (0.347545) with: {'learn_rate': 0.01, 'momentum': 0.2}\n",
            "0.718038 (0.347506) with: {'learn_rate': 0.01, 'momentum': 0.4}\n",
            "0.718096 (0.347545) with: {'learn_rate': 0.01, 'momentum': 0.6}\n",
            "0.718096 (0.347545) with: {'learn_rate': 0.01, 'momentum': 0.8}\n",
            "0.728125 (0.333374) with: {'learn_rate': 0.01, 'momentum': 0.9}\n",
            "0.718096 (0.347545) with: {'learn_rate': 0.1, 'momentum': 0.0}\n",
            "0.718096 (0.347545) with: {'learn_rate': 0.1, 'momentum': 0.2}\n",
            "0.718096 (0.347545) with: {'learn_rate': 0.1, 'momentum': 0.4}\n",
            "0.718096 (0.347545) with: {'learn_rate': 0.1, 'momentum': 0.6}\n",
            "0.718155 (0.347462) with: {'learn_rate': 0.1, 'momentum': 0.8}\n",
            "0.719152 (0.346053) with: {'learn_rate': 0.1, 'momentum': 0.9}\n",
            "0.718096 (0.347545) with: {'learn_rate': 0.2, 'momentum': 0.0}\n",
            "0.718096 (0.347545) with: {'learn_rate': 0.2, 'momentum': 0.2}\n",
            "0.718096 (0.347545) with: {'learn_rate': 0.2, 'momentum': 0.4}\n",
            "0.718096 (0.347545) with: {'learn_rate': 0.2, 'momentum': 0.6}\n",
            "0.718096 (0.347545) with: {'learn_rate': 0.2, 'momentum': 0.8}\n",
            "0.727186 (0.334700) with: {'learn_rate': 0.2, 'momentum': 0.9}\n",
            "0.718096 (0.347545) with: {'learn_rate': 0.3, 'momentum': 0.0}\n",
            "0.718096 (0.347545) with: {'learn_rate': 0.3, 'momentum': 0.2}\n",
            "0.718155 (0.347462) with: {'learn_rate': 0.3, 'momentum': 0.4}\n",
            "0.718096 (0.347545) with: {'learn_rate': 0.3, 'momentum': 0.6}\n",
            "0.718096 (0.347545) with: {'learn_rate': 0.3, 'momentum': 0.8}\n",
            "0.718096 (0.347545) with: {'learn_rate': 0.3, 'momentum': 0.9}\n"
          ]
        }
      ]
    },
    {
      "cell_type": "markdown",
      "metadata": {
        "id": "eZbfKgRk_eAj"
      },
      "source": [
        "#### Tune Network Weight Initialization\n",
        "##### the result of following cell; only higher than 90% is shown in this cells\n",
        "\n",
        "> Best: 0.942001 using {'init_mode': 'he_uniform'}\n",
        "\n",
        "\n",
        "> 0.913674 (0.090315) with: {'init_mode': 'normal'}\n",
        "\n",
        "\n",
        "\n",
        "\n",
        "\n",
        "\n",
        "\n"
      ]
    },
    {
      "cell_type": "code",
      "metadata": {
        "colab": {
          "base_uri": "https://localhost:8080/"
        },
        "id": "XAOuuFXe_fHs",
        "outputId": "60aede7c-283d-471d-e351-80e0e9384b87"
      },
      "source": [
        "from keras.wrappers.scikit_learn import KerasClassifier\n",
        "# Function to create model, required for KerasClassifier\n",
        "def create_model(init_mode='uniform'):\n",
        "\t# create model\n",
        "\tmodel = Sequential()\n",
        "\tmodel.add(Dense(30, input_dim=30, kernel_initializer=init_mode, activation='relu'))\n",
        "\tmodel.add(Dense(1, kernel_initializer=init_mode, activation='sigmoid'))\n",
        "\t# Compile model\n",
        "\tmodel.compile(loss='binary_crossentropy', optimizer='Adam', metrics=['accuracy']) # optimizer='adam'\n",
        "\treturn model\n",
        "# fix random seed for reproducibility\n",
        "seed = 7\n",
        "np.random.seed(seed)\n",
        "\n",
        "# create model\n",
        "model = KerasClassifier(build_fn=create_model, epochs=10, batch_size=20, verbose=0)\n",
        "# define the grid search parameters\n",
        "init_mode = ['uniform', 'lecun_uniform', 'normal', 'zero', 'glorot_normal', 'glorot_uniform', 'he_normal', 'he_uniform']\n",
        "param_grid = dict(init_mode=init_mode)\n",
        "grid = GridSearchCV(estimator=model, param_grid=param_grid, n_jobs=-1, cv=3)\n",
        "grid_result = grid.fit(X, Y)\n",
        "# summarize results\n",
        "print(\"Best: %f using %s\" % (grid_result.best_score_, grid_result.best_params_))\n",
        "means = grid_result.cv_results_['mean_test_score']\n",
        "stds = grid_result.cv_results_['std_test_score']\n",
        "params = grid_result.cv_results_['params']\n",
        "for mean, stdev, param in zip(means, stds, params):\n",
        "    print(\"%f (%f) with: %r\" % (mean, stdev, param))"
      ],
      "execution_count": null,
      "outputs": [
        {
          "output_type": "stream",
          "name": "stdout",
          "text": [
            "Best: 0.942001 using {'init_mode': 'he_uniform'}\n",
            "0.881011 (0.085286) with: {'init_mode': 'uniform'}\n",
            "0.870160 (0.071540) with: {'init_mode': 'lecun_uniform'}\n",
            "0.913674 (0.090315) with: {'init_mode': 'normal'}\n",
            "0.718096 (0.347545) with: {'init_mode': 'zero'}\n",
            "0.880600 (0.085026) with: {'init_mode': 'glorot_normal'}\n",
            "0.879193 (0.086342) with: {'init_mode': 'glorot_uniform'}\n",
            "0.869690 (0.071485) with: {'init_mode': 'he_normal'}\n",
            "0.942001 (0.058368) with: {'init_mode': 'he_uniform'}\n"
          ]
        }
      ]
    },
    {
      "cell_type": "markdown",
      "metadata": {
        "id": "nyvfBcbC_xZH"
      },
      "source": [
        "#### Tune the Neuron Activation Function for the first layer\n",
        "##### Results higher than 87% are depicted in this cell:\n",
        "\n",
        "> Best: 0.881011 using {'activation': 'relu'}\n",
        "\n",
        "> 0.880835 (0.085478) with: {'activation': 'softplus'}\n",
        "\n",
        "> 0.870218 (0.071472) with: {'activation': 'softsign'}\n",
        "\n",
        "> 0.876143 (0.085282) with: {'activation': 'linear'}\n",
        "\n",
        "\n",
        "\n",
        "\n",
        "\n",
        "\n",
        "\n",
        "\n",
        "\n",
        "\n"
      ]
    },
    {
      "cell_type": "code",
      "metadata": {
        "colab": {
          "base_uri": "https://localhost:8080/"
        },
        "id": "MwaUo12w_yjw",
        "outputId": "d6826e7f-b2c5-4c9d-e154-6f37e718056c"
      },
      "source": [
        "from keras.wrappers.scikit_learn import KerasClassifier\n",
        "# Function to create model, required for KerasClassifier\n",
        "def create_model(activation='relu'):\n",
        "\t# create model\n",
        "\tmodel = Sequential()\n",
        "\tmodel.add(Dense(30, input_dim=30, kernel_initializer='uniform', activation=activation))\n",
        "\tmodel.add(Dense(1, kernel_initializer='uniform', activation='sigmoid'))\n",
        "\t# Compile model\n",
        "\tmodel.compile(loss='binary_crossentropy', optimizer='Adam', metrics=['accuracy'])\n",
        "\treturn model\n",
        "# fix random seed for reproducibility\n",
        "seed = 7\n",
        "np.random.seed(seed)\n",
        "\n",
        "# create model\n",
        "model = KerasClassifier(build_fn=create_model, epochs=10, batch_size=20, verbose=0)\n",
        "# define the grid search parameters\n",
        "activation = ['softmax', 'softplus', 'softsign', 'relu', 'tanh', 'sigmoid', 'hard_sigmoid', 'linear']\n",
        "param_grid = dict(activation=activation)\n",
        "grid = GridSearchCV(estimator=model, param_grid=param_grid, n_jobs=-1, cv=3)\n",
        "grid_result = grid.fit(X, Y)\n",
        "# summarize results\n",
        "print(\"Best: %f using %s\" % (grid_result.best_score_, grid_result.best_params_))\n",
        "means = grid_result.cv_results_['mean_test_score']\n",
        "stds = grid_result.cv_results_['std_test_score']\n",
        "params = grid_result.cv_results_['params']\n",
        "for mean, stdev, param in zip(means, stds, params):\n",
        "    print(\"%f (%f) with: %r\" % (mean, stdev, param))"
      ],
      "execution_count": null,
      "outputs": [
        {
          "output_type": "stream",
          "name": "stdout",
          "text": [
            "Best: 0.881011 using {'activation': 'relu'}\n",
            "0.663790 (0.313515) with: {'activation': 'softmax'}\n",
            "0.880835 (0.085478) with: {'activation': 'softplus'}\n",
            "0.870218 (0.071472) with: {'activation': 'softsign'}\n",
            "0.881011 (0.085286) with: {'activation': 'relu'}\n",
            "0.683202 (0.325222) with: {'activation': 'tanh'}\n",
            "0.683319 (0.325322) with: {'activation': 'sigmoid'}\n",
            "0.668482 (0.317808) with: {'activation': 'hard_sigmoid'}\n",
            "0.876143 (0.085282) with: {'activation': 'linear'}\n"
          ]
        }
      ]
    },
    {
      "cell_type": "markdown",
      "metadata": {
        "id": "93SxYYhh_9CX"
      },
      "source": [
        "#### Number of Neurons in the Hidden Layer\n",
        "###### Best: 0.881011 using {'neurons': 25}\n",
        "\n",
        "\n",
        "> 0.881011 (0.085286) with: {'neurons': 25}\n",
        "\n",
        "> 0.880776 (0.085542) with: {'neurons': 15}\n",
        "\n",
        "> 0.880717 (0.085181) with: {'neurons': 30}\n",
        "\n",
        "> 0.873796 (0.076238) with: {'neurons': 20}\n",
        "\n",
        "\n",
        "\n",
        "\n"
      ]
    },
    {
      "cell_type": "code",
      "metadata": {
        "colab": {
          "base_uri": "https://localhost:8080/"
        },
        "id": "EX1_vmpd_9NO",
        "outputId": "00841049-3576-4986-ae82-6bf2a98d3f5f"
      },
      "source": [
        "# Use scikit-learn to grid search the number of neurons\n",
        "from keras.wrappers.scikit_learn import KerasClassifier\n",
        "from keras.constraints import maxnorm\n",
        "\n",
        "# Function to create model, required for KerasClassifier\n",
        "def create_model(neurons=1):\n",
        "\t# create model\n",
        "\tmodel = Sequential()\n",
        "\tmodel.add(Dense(neurons, input_dim=30, kernel_initializer='uniform', activation='relu', kernel_constraint=maxnorm(4)))\n",
        "\t#model.add(Dropout(0.2))\n",
        "\tmodel.add(Dense(1, kernel_initializer='uniform', activation='sigmoid'))\n",
        "\t# Compile model\n",
        "\tmodel.compile(loss='binary_crossentropy', optimizer='Adam', metrics=['accuracy'])\n",
        "\treturn model\n",
        "# fix random seed for reproducibility\n",
        "seed = 7\n",
        "np.random.seed(seed)\n",
        "\n",
        "# create model\n",
        "model = KerasClassifier(build_fn=create_model, epochs=10, batch_size=20, verbose=0)\n",
        "# define the grid search parameters\n",
        "neurons = [1, 5, 10, 15, 20, 25, 30]\n",
        "param_grid = dict(neurons=neurons)\n",
        "grid = GridSearchCV(estimator=model, param_grid=param_grid, n_jobs=-1, cv=3)\n",
        "grid_result = grid.fit(X, Y)\n",
        "# summarize results\n",
        "print(\"Best: %f using %s\" % (grid_result.best_score_, grid_result.best_params_))\n",
        "means = grid_result.cv_results_['mean_test_score']\n",
        "stds = grid_result.cv_results_['std_test_score']\n",
        "params = grid_result.cv_results_['params']\n",
        "for mean, stdev, param in zip(means, stds, params):\n",
        "    print(\"%f (%f) with: %r\" % (mean, stdev, param))"
      ],
      "execution_count": null,
      "outputs": [
        {
          "output_type": "stream",
          "name": "stdout",
          "text": [
            "Best: 0.881011 using {'neurons': 25}\n",
            "0.718096 (0.347545) with: {'neurons': 1}\n",
            "0.869515 (0.072287) with: {'neurons': 5}\n",
            "0.870336 (0.071337) with: {'neurons': 10}\n",
            "0.880776 (0.085542) with: {'neurons': 15}\n",
            "0.873796 (0.076238) with: {'neurons': 20}\n",
            "0.881011 (0.085286) with: {'neurons': 25}\n",
            "0.880717 (0.085181) with: {'neurons': 30}\n"
          ]
        }
      ]
    },
    {
      "cell_type": "markdown",
      "metadata": {
        "id": "hYIazsSTIDGx"
      },
      "source": [
        "### Modify the model based on the hyperparameter tuning results in previous cells"
      ]
    },
    {
      "cell_type": "code",
      "metadata": {
        "colab": {
          "base_uri": "https://localhost:8080/"
        },
        "id": "bSIWt1ECPsYc",
        "outputId": "6aecba22-44cf-41b0-a28c-d1594333084b"
      },
      "source": [
        "# evaluate baseline model with standardized dataset\n",
        "# 30 epochs, time: 20', acc: 100.00%. \n",
        "estimators = []\n",
        "estimators.append(('standardize', StandardScaler()))\n",
        "estimators.append(('mlp', KerasClassifier(build_fn=create_baseline, epochs=30, batch_size=5, verbose=0)))\n",
        "pipeline = Pipeline(estimators)\n",
        "kfold = StratifiedKFold(n_splits=10, shuffle=True)\n",
        "results = cross_val_score(pipeline, X, encoded_Y, cv=kfold)\n",
        "print(\"Standardized: %.2f%% (%.2f%%)\" % (results.mean()*100, results.std()*100))"
      ],
      "execution_count": null,
      "outputs": [
        {
          "output_type": "stream",
          "name": "stdout",
          "text": [
            "Standardized: 100.00% (0.00%)\n"
          ]
        }
      ]
    },
    {
      "cell_type": "code",
      "metadata": {
        "id": "b7ALge_jO_Z0"
      },
      "source": [
        ""
      ],
      "execution_count": null,
      "outputs": []
    },
    {
      "cell_type": "markdown",
      "metadata": {
        "id": "nvAnBSIUKDbD"
      },
      "source": [
        "#### Treat overfitting issue"
      ]
    },
    {
      "cell_type": "markdown",
      "metadata": {
        "id": "9WcMD-G2PUIu"
      },
      "source": [
        "##### Gradual reduction of learning rate\n"
      ]
    },
    {
      "cell_type": "code",
      "metadata": {
        "id": "HFA_zqXSPqmM"
      },
      "source": [
        "N_VALIDATION = 1808 \n",
        "N_TRAIN = 18715\n",
        "BUFFER_SIZE = int(1e4)\n",
        "BATCH_SIZE = 500\n",
        "STEPS_PER_EPOCH = N_TRAIN//BATCH_SIZE\n",
        "\n",
        "FEATURES = 30\n"
      ],
      "execution_count": null,
      "outputs": []
    },
    {
      "cell_type": "code",
      "metadata": {
        "id": "0L4mArkLKNNS"
      },
      "source": [
        "lr_schedule = tf.keras.optimizers.schedules.InverseTimeDecay(\n",
        "  0.001,\n",
        "  decay_steps=STEPS_PER_EPOCH*1000,\n",
        "  decay_rate=1,\n",
        "  staircase=False)\n",
        "\n",
        "def get_optimizer():\n",
        "  return tf.keras.optimizers.Adam(lr_schedule)"
      ],
      "execution_count": null,
      "outputs": []
    },
    {
      "cell_type": "code",
      "metadata": {
        "colab": {
          "base_uri": "https://localhost:8080/",
          "height": 388
        },
        "id": "TxsEgFskQVB2",
        "outputId": "7fd0e770-b744-4839-89ed-73e78bdb47ba"
      },
      "source": [
        "step = np.linspace(0,100000)\n",
        "lr = lr_schedule(step)\n",
        "plt.figure(figsize = (8,6))\n",
        "plt.plot(step/STEPS_PER_EPOCH, lr)\n",
        "plt.ylim([0,max(plt.ylim())])\n",
        "plt.xlabel('Epoch')\n",
        "_ = plt.ylabel('Learning Rate')\n"
      ],
      "execution_count": null,
      "outputs": [
        {
          "output_type": "display_data",
          "data": {
            "image/png": "[encoded data removed]",
            "text/plain": [
              "<Figure size 576x432 with 1 Axes>"
            ]
          },
          "metadata": {
            "needs_background": "light"
          }
        }
      ]
    },
    {
      "cell_type": "markdown",
      "metadata": {
        "id": "9dI-rnaZQkyu"
      },
      "source": [
        "###### Tensorboard "
      ]
    },
    {
      "cell_type": "code",
      "metadata": {
        "id": "6pYy6R7AQd-C"
      },
      "source": [
        "def get_callbacks(name):\n",
        "  return [\n",
        "    tfdocs.modeling.EpochDots(),\n",
        "    tf.keras.callbacks.EarlyStopping(monitor='val_binary_crossentropy', patience=200),\n",
        "    tf.keras.callbacks.TensorBoard(logdir/name),\n",
        "  ]\n"
      ],
      "execution_count": null,
      "outputs": []
    },
    {
      "cell_type": "code",
      "metadata": {
        "id": "wlTokPmUQsTL"
      },
      "source": [
        "\n",
        "def compile_and_fit(model, name, optimizer=None, max_epochs=10000):\n",
        "  if optimizer is None:\n",
        "    optimizer = get_optimizer()\n",
        "\n",
        "  # Compile model\n",
        " \n",
        "  model.compile(optimizer=optimizer,\n",
        "                loss=tf.keras.losses.BinaryCrossentropy(from_logits=True),#\n",
        "                metrics=[\n",
        "                  tf.keras.losses.BinaryCrossentropy(\n",
        "                      from_logits=True, name='binary_crossentropy'),\n",
        "                  'accuracy'\n",
        "                  ])\n",
        "\n",
        "  model.summary()\n",
        "\n",
        "  history = model.fit(\n",
        "    train_new_X,#X,\n",
        "    train_new_y,#Y,#dataset,\n",
        "    #steps_per_epoch = STEPS_PER_EPOCH,\n",
        "    epochs = max_epochs,\n",
        "    validation_data = (val_new_X, val_new_y),#dataset_val, \n",
        "    callbacks = get_callbacks(name),\n",
        "    verbose = 0)\n",
        "  return history"
      ],
      "execution_count": null,
      "outputs": []
    },
    {
      "cell_type": "markdown",
      "metadata": {
        "id": "cg4S7rJ1RYbc"
      },
      "source": [
        "##### Tiny model"
      ]
    },
    {
      "cell_type": "code",
      "metadata": {
        "colab": {
          "base_uri": "https://localhost:8080/"
        },
        "id": "njPekjDYRUfz",
        "outputId": "42acc2e7-29d2-432c-85f4-a8659e71bc6d"
      },
      "source": [
        "#!pip install git+https://github.com/tensorflow/docs\n",
        "\n",
        "from tensorflow.keras import layers\n",
        "import tensorflow_docs as tfdocs\n",
        "import tensorflow_docs.modeling\n",
        "import tensorflow_docs.plots\n",
        "\n",
        "import pathlib\n",
        "import tempfile\n",
        "import shutil"
      ],
      "execution_count": null,
      "outputs": [
        {
          "output_type": "stream",
          "name": "stdout",
          "text": [
            "Collecting git+https://github.com/tensorflow/docs\n",
            "  Cloning https://github.com/tensorflow/docs to /tmp/pip-req-build-vqxa8axf\n",
            "  Running command git clone -q https://github.com/tensorflow/docs /tmp/pip-req-build-vqxa8axf\n",
            "Requirement already satisfied: astor in /usr/local/lib/python3.7/dist-packages (from tensorflow-docs==0.0.0.dev0) (0.8.1)\n",
            "Requirement already satisfied: absl-py in /usr/local/lib/python3.7/dist-packages (from tensorflow-docs==0.0.0.dev0) (0.12.0)\n",
            "Requirement already satisfied: protobuf>=3.14 in /usr/local/lib/python3.7/dist-packages (from tensorflow-docs==0.0.0.dev0) (3.17.3)\n",
            "Requirement already satisfied: pyyaml in /usr/local/lib/python3.7/dist-packages (from tensorflow-docs==0.0.0.dev0) (3.13)\n",
            "Requirement already satisfied: six>=1.9 in /usr/local/lib/python3.7/dist-packages (from protobuf>=3.14->tensorflow-docs==0.0.0.dev0) (1.15.0)\n"
          ]
        }
      ]
    },
    {
      "cell_type": "code",
      "metadata": {
        "id": "wV7UB89Qgya-"
      },
      "source": [
        "tiny_model = tf.keras.Sequential([\n",
        "    layers.Dense(16, activation='relu', input_dim=29),#,input_shape=(FEATURES,)\n",
        "    layers.Dense(1)#, activation='sigmoid'\n",
        "])"
      ],
      "execution_count": null,
      "outputs": []
    },
    {
      "cell_type": "code",
      "metadata": {
        "id": "972te-vrTfRa"
      },
      "source": [
        "logdir = pathlib.Path(tempfile.mkdtemp())/\"tensorboard_logs\"\n",
        "shutil.rmtree(logdir, ignore_errors=True)"
      ],
      "execution_count": null,
      "outputs": []
    },
    {
      "cell_type": "code",
      "metadata": {
        "id": "KDlcIoUZSfXh"
      },
      "source": [
        "size_histories = {}"
      ],
      "execution_count": null,
      "outputs": []
    },
    {
      "cell_type": "code",
      "metadata": {
        "colab": {
          "base_uri": "https://localhost:8080/"
        },
        "id": "uKoAGkPzSiLz",
        "outputId": "a8cf4a1a-c012-454d-c3f3-1f82e3f99dbd"
      },
      "source": [
        "size_histories['Tiny'] = compile_and_fit(tiny_model, 'sizes/Tiny')"
      ],
      "execution_count": null,
      "outputs": [
        {
          "output_type": "stream",
          "name": "stdout",
          "text": [
            "Model: \"sequential_82\"\n",
            "_________________________________________________________________\n",
            "Layer (type)                 Output Shape              Param #   \n",
            "=================================================================\n",
            "dense_188 (Dense)            (None, 16)                496       \n",
            "_________________________________________________________________\n",
            "dense_189 (Dense)            (None, 1)                 17        \n",
            "=================================================================\n",
            "Total params: 513\n",
            "Trainable params: 513\n",
            "Non-trainable params: 0\n",
            "_________________________________________________________________\n",
            "WARNING:tensorflow:Callback method `on_train_batch_end` is slow compared to the batch time (batch time: 0.0024s vs `on_train_batch_end` time: 0.0804s). Check your callbacks.\n",
            "\n",
            "Epoch: 0, accuracy:0.9147,  binary_crossentropy:1017281600.0000,  loss:1017423168.0000,  val_accuracy:0.9110,  val_binary_crossentropy:825745.2500,  val_loss:821717.5000,  \n",
            "....................................................................................................\n",
            "Epoch: 100, accuracy:0.9307,  binary_crossentropy:574750.4375,  loss:574780.2500,  val_accuracy:0.9389,  val_binary_crossentropy:406264.7500,  val_loss:407518.4375,  \n",
            "....................................................................................................\n",
            "Epoch: 200, accuracy:0.9319,  binary_crossentropy:283689.3750,  loss:283658.5938,  val_accuracy:0.9110,  val_binary_crossentropy:1508011.5000,  val_loss:1500651.0000,  \n",
            "....................................................................................................\n",
            "Epoch: 300, accuracy:0.9307,  binary_crossentropy:242201.6562,  loss:242223.1094,  val_accuracy:0.9110,  val_binary_crossentropy:295421.6875,  val_loss:293972.8438,  \n",
            "....................................................................................................\n",
            "Epoch: 400, accuracy:0.9316,  binary_crossentropy:157020.3125,  loss:157009.3438,  val_accuracy:0.9389,  val_binary_crossentropy:284906.9062,  val_loss:285786.0938,  \n",
            "....................................................................................................\n",
            "Epoch: 500, accuracy:1.0000,  binary_crossentropy:0.0000,  loss:0.0000,  val_accuracy:1.0000,  val_binary_crossentropy:0.0000,  val_loss:0.0000,  \n",
            "..............................................................."
          ]
        }
      ]
    },
    {
      "cell_type": "code",
      "metadata": {
        "colab": {
          "base_uri": "https://localhost:8080/",
          "height": 624
        },
        "id": "2lxH9Pg-XB76",
        "outputId": "15a6e284-1b4e-41fc-c688-e250ff682132"
      },
      "source": [
        "plotter = tfdocs.plots.HistoryPlotter(metric = 'binary_crossentropy', smoothing_std=20)\n",
        "plotter.plot(size_histories)\n",
        "plt.ylim([0, 900000])"
      ],
      "execution_count": null,
      "outputs": [
        {
          "output_type": "execute_result",
          "data": {
            "text/plain": [
              "(0.0, 750000.0)"
            ]
          },
          "metadata": {},
          "execution_count": 275
        },
        {
          "output_type": "display_data",
          "data": {
            "image/png": "[encoded data removed]",
            "text/plain": [
              "<Figure size 864x720 with 1 Axes>"
            ]
          },
          "metadata": {
            "needs_background": "light"
          }
        }
      ]
    },
    {
      "cell_type": "markdown",
      "metadata": {
        "id": "-OIFeJOnXEpW"
      },
      "source": [
        "##### Small model"
      ]
    },
    {
      "cell_type": "code",
      "metadata": {
        "id": "RIMLnnWuXHVA"
      },
      "source": [
        "small_model = tf.keras.Sequential([\n",
        "    # `input_shape` is only required here so that `.summary` works.\n",
        "    layers.Dense(16, activation='relu', input_dim=29),\n",
        "    layers.Dense(16, activation='relu'),\n",
        "    layers.Dense(1)#, activation='sigmoid'\n",
        "])"
      ],
      "execution_count": null,
      "outputs": []
    },
    {
      "cell_type": "code",
      "metadata": {
        "colab": {
          "base_uri": "https://localhost:8080/"
        },
        "id": "lruWjrRTXSUY",
        "outputId": "e69972dc-235a-461a-d17d-d2238e751dc4"
      },
      "source": [
        "size_histories['Small'] = compile_and_fit(small_model, 'sizes/Small')"
      ],
      "execution_count": null,
      "outputs": [
        {
          "output_type": "stream",
          "name": "stdout",
          "text": [
            "Model: \"sequential_67\"\n",
            "_________________________________________________________________\n",
            "Layer (type)                 Output Shape              Param #   \n",
            "=================================================================\n",
            "dense_152 (Dense)            (None, 16)                496       \n",
            "_________________________________________________________________\n",
            "dense_153 (Dense)            (None, 16)                272       \n",
            "_________________________________________________________________\n",
            "dense_154 (Dense)            (None, 1)                 17        \n",
            "=================================================================\n",
            "Total params: 785\n",
            "Trainable params: 785\n",
            "Non-trainable params: 0\n",
            "_________________________________________________________________\n",
            "WARNING:tensorflow:Callback method `on_train_batch_end` is slow compared to the batch time (batch time: 0.0024s vs `on_train_batch_end` time: 0.0102s). Check your callbacks.\n",
            "\n",
            "Epoch: 0, accuracy:0.8955,  binary_crossentropy:166410944.0000,  loss:166454304.0000,  val_accuracy:0.7600,  val_binary_crossentropy:21400818.0000,  val_loss:21483326.0000,  \n",
            "....................................................................................................\n",
            "Epoch: 100, accuracy:0.9384,  binary_crossentropy:0.0950,  loss:0.0950,  val_accuracy:0.9652,  val_binary_crossentropy:1.8264,  val_loss:1.8419,  \n",
            "....................................................................................................\n",
            "Epoch: 200, accuracy:0.9384,  binary_crossentropy:0.0950,  loss:0.0950,  val_accuracy:0.9652,  val_binary_crossentropy:1.8242,  val_loss:1.8397,  \n",
            ".........................................................................................."
          ]
        }
      ]
    },
    {
      "cell_type": "markdown",
      "metadata": {
        "id": "WI0Uq3f6XWYV"
      },
      "source": [
        "##### Medium model"
      ]
    },
    {
      "cell_type": "code",
      "metadata": {
        "id": "hY_Lxm2qXUb9"
      },
      "source": [
        "medium_model = tf.keras.Sequential([\n",
        "    layers.Dense(30, activation='relu',  input_dim=29),\n",
        "    layers.Dense(30, activation='relu'),\n",
        "    layers.Dense(30, activation='relu'),\n",
        "    layers.Dense(1)#, activation='sigmoid'\n",
        "])\n"
      ],
      "execution_count": null,
      "outputs": []
    },
    {
      "cell_type": "code",
      "metadata": {
        "colab": {
          "base_uri": "https://localhost:8080/"
        },
        "id": "kUd9ol7-XePP",
        "outputId": "b5d914c1-9080-4d05-f00b-c6032c17e5c1"
      },
      "source": [
        "size_histories['Medium']  = compile_and_fit(medium_model, \"sizes/Medium\")"
      ],
      "execution_count": null,
      "outputs": [
        {
          "output_type": "stream",
          "name": "stdout",
          "text": [
            "Model: \"sequential_68\"\n",
            "_________________________________________________________________\n",
            "Layer (type)                 Output Shape              Param #   \n",
            "=================================================================\n",
            "dense_155 (Dense)            (None, 30)                930       \n",
            "_________________________________________________________________\n",
            "dense_156 (Dense)            (None, 30)                930       \n",
            "_________________________________________________________________\n",
            "dense_157 (Dense)            (None, 30)                930       \n",
            "_________________________________________________________________\n",
            "dense_158 (Dense)            (None, 1)                 31        \n",
            "=================================================================\n",
            "Total params: 2,821\n",
            "Trainable params: 2,821\n",
            "Non-trainable params: 0\n",
            "_________________________________________________________________\n",
            "WARNING:tensorflow:Callback method `on_train_batch_end` is slow compared to the batch time (batch time: 0.0031s vs `on_train_batch_end` time: 0.0151s). Check your callbacks.\n",
            "\n",
            "Epoch: 0, accuracy:0.8966,  binary_crossentropy:23294272.0000,  loss:23300394.0000,  val_accuracy:0.5708,  val_binary_crossentropy:28400392.0000,  val_loss:28509882.0000,  \n",
            "....................................................................................................\n",
            "Epoch: 100, accuracy:0.9384,  binary_crossentropy:0.0950,  loss:0.0950,  val_accuracy:0.9690,  val_binary_crossentropy:0.1555,  val_loss:0.1562,  \n",
            "....................................................................................................\n",
            "Epoch: 200, accuracy:0.9384,  binary_crossentropy:0.0950,  loss:0.0950,  val_accuracy:0.9679,  val_binary_crossentropy:0.1704,  val_loss:0.1713,  \n",
            "........................................................................................."
          ]
        }
      ]
    },
    {
      "cell_type": "markdown",
      "metadata": {
        "id": "yqhCfbvOXkXo"
      },
      "source": [
        "##### Large model"
      ]
    },
    {
      "cell_type": "code",
      "metadata": {
        "id": "Qo7YPnJEXgV1"
      },
      "source": [
        "large_model = tf.keras.Sequential([\n",
        "    layers.Dense(60, activation='relu',  input_dim = 29),\n",
        "    layers.Dense(60, activation='relu'),\n",
        "    layers.Dense(60, activation='relu'),\n",
        "    layers.Dense(60, activation='relu'),\n",
        "    layers.Dense(1, activation='sigmoid')\n",
        "])"
      ],
      "execution_count": null,
      "outputs": []
    },
    {
      "cell_type": "code",
      "metadata": {
        "colab": {
          "base_uri": "https://localhost:8080/"
        },
        "id": "wQBihsVmXsiz",
        "outputId": "e3c48f02-70bf-4c4c-865b-38a7e3b14022"
      },
      "source": [
        "size_histories['large'] = compile_and_fit(large_model, \"sizes/large\")"
      ],
      "execution_count": null,
      "outputs": [
        {
          "output_type": "stream",
          "name": "stdout",
          "text": [
            "Model: \"sequential_23\"\n",
            "_________________________________________________________________\n",
            "Layer (type)                 Output Shape              Param #   \n",
            "=================================================================\n",
            "dense_61 (Dense)             (None, 60)                1860      \n",
            "_________________________________________________________________\n",
            "dense_62 (Dense)             (None, 60)                3660      \n",
            "_________________________________________________________________\n",
            "dense_63 (Dense)             (None, 60)                3660      \n",
            "_________________________________________________________________\n",
            "dense_64 (Dense)             (None, 60)                3660      \n",
            "_________________________________________________________________\n",
            "dense_65 (Dense)             (None, 1)                 61        \n",
            "=================================================================\n",
            "Total params: 12,901\n",
            "Trainable params: 12,901\n",
            "Non-trainable params: 0\n",
            "_________________________________________________________________\n"
          ]
        },
        {
          "output_type": "stream",
          "name": "stderr",
          "text": [
            "/usr/local/lib/python3.7/dist-packages/keras/backend.py:4994: UserWarning: \"`binary_crossentropy` received `from_logits=True`, but the `output` argument was produced by a sigmoid or softmax activation and thus does not represent logits. Was this intended?\"\n",
            "  '\"`binary_crossentropy` received `from_logits=True`, but the `output`'\n"
          ]
        },
        {
          "output_type": "stream",
          "name": "stdout",
          "text": [
            "WARNING:tensorflow:Callback method `on_train_batch_end` is slow compared to the batch time (batch time: 0.0036s vs `on_train_batch_end` time: 0.0123s). Check your callbacks.\n",
            "\n",
            "Epoch: 0, accuracy:0.7871,  binary_crossentropy:72090512.0000,  loss:72107648.0000,  val_accuracy:0.1798,  val_binary_crossentropy:96354720.0000,  val_loss:96726192.0000,  \n",
            "....................................................................................................\n",
            "Epoch: 100, accuracy:0.9332,  binary_crossentropy:164147.1094,  loss:164143.7031,  val_accuracy:0.7777,  val_binary_crossentropy:549724.1875,  val_loss:551843.5000,  \n",
            "....................................................................................................\n",
            "Epoch: 200, accuracy:0.9384,  binary_crossentropy:0.0950,  loss:0.0950,  val_accuracy:0.9690,  val_binary_crossentropy:0.1552,  val_loss:0.1559,  \n",
            "....................................................................................................\n",
            "Epoch: 300, accuracy:0.9384,  binary_crossentropy:0.0950,  loss:0.0950,  val_accuracy:0.9690,  val_binary_crossentropy:0.1552,  val_loss:0.1560,  \n",
            "....................................................................................................\n",
            "Epoch: 400, accuracy:0.9384,  binary_crossentropy:0.0950,  loss:0.0950,  val_accuracy:0.9690,  val_binary_crossentropy:0.1550,  val_loss:0.1557,  \n",
            "....................................................................................................\n",
            "Epoch: 500, accuracy:0.9384,  binary_crossentropy:0.0950,  loss:0.0950,  val_accuracy:0.9690,  val_binary_crossentropy:0.1554,  val_loss:0.1561,  \n",
            "................................................................................."
          ]
        }
      ]
    },
    {
      "cell_type": "markdown",
      "metadata": {
        "id": "3ONeaXTQXypZ"
      },
      "source": [
        "##### Plot the training and validation losses"
      ]
    },
    {
      "cell_type": "code",
      "metadata": {
        "colab": {
          "base_uri": "https://localhost:8080/",
          "height": 638
        },
        "id": "W1XmMBgpXuoA",
        "outputId": "2da25743-adcd-4eee-b1aa-25d9a9dcb6b0"
      },
      "source": [
        "plotter.plot(size_histories)\n",
        "a = plt.xscale('log')\n",
        "plt.xlim([5, max(plt.xlim())])\n",
        "plt.ylim([0, 20000000])#[0.5, 0.7]\n",
        "plt.xlabel(\"Epochs [Log Scale]\")"
      ],
      "execution_count": null,
      "outputs": [
        {
          "output_type": "execute_result",
          "data": {
            "text/plain": [
              "Text(0.5, 0, 'Epochs [Log Scale]')"
            ]
          },
          "metadata": {},
          "execution_count": 284
        },
        {
          "output_type": "display_data",
          "data": {
            "image/png": "[encoded data removed]",
            "text/plain": [
              "<Figure size 864x720 with 1 Axes>"
            ]
          },
          "metadata": {
            "needs_background": "light"
          }
        }
      ]
    },
    {
      "cell_type": "code",
      "metadata": {
        "colab": {
          "base_uri": "https://localhost:8080/",
          "height": 172
        },
        "id": "iClkry7wbhWb",
        "outputId": "af1eb237-92ba-4e8c-9087-891a608b0ee5"
      },
      "source": [
        "while True:pass"
      ],
      "execution_count": 504,
      "outputs": [
        {
          "output_type": "error",
          "ename": "KeyboardInterrupt",
          "evalue": "ignored",
          "traceback": [
            "\u001b[0;31m---------------------------------------------------------------------------\u001b[0m",
            "\u001b[0;31mKeyboardInterrupt\u001b[0m                         Traceback (most recent call last)",
            "\u001b[0;32m<ipython-input-504-534b7a74019f>\u001b[0m in \u001b[0;36m<module>\u001b[0;34m()\u001b[0m\n\u001b[0;32m----> 1\u001b[0;31m \u001b[0;32mwhile\u001b[0m \u001b[0;32mTrue\u001b[0m\u001b[0;34m:\u001b[0m\u001b[0;32mpass\u001b[0m\u001b[0;34m\u001b[0m\u001b[0;34m\u001b[0m\u001b[0m\n\u001b[0m",
            "\u001b[0;31mKeyboardInterrupt\u001b[0m: "
          ]
        }
      ]
    },
    {
      "cell_type": "markdown",
      "metadata": {
        "id": "JmGa66eqTR1A"
      },
      "source": [
        "## List of used sources :\n",
        "\n",
        "\n",
        "> [Grid_search_hyperparameters](https://machinelearningmastery.com/grid-search-hyperparameters-deep-learning-models-python-keras/)\n",
        "\n",
        "\n",
        "> [predict and test performance](https://github.com/dipanjanS/practical-machine-learning-with-python/blob/master/notebooks/Ch04_Feature_Engineering_and_Selection/Bonus%20-%20Classifying%20handwritten%20digits%20using%20Deep%20CNNs.ipynb)\n",
        "\n",
        "\n",
        "> [probability class](https://androidkt.com/get-class-labels-from-predict-method-in-keras/)\n",
        "\n",
        "\n",
        "\n",
        "> [Overfitting](https://www.tensorflow.org/tutorials/keras/overfit_and_underfit)\n",
        "\n",
        "\n",
        "\n",
        "> [Overfitting Machine Learning Models](https://machinelearningmastery.com/overfitting-machine-learning-models/)\n",
        "\n",
        "\n",
        "\n",
        "\n",
        "\n",
        "\n",
        "\n",
        "\n"
      ]
    }
  ]
}