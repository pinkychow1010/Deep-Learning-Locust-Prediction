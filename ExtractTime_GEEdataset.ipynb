{
 "cells": [
  {
   "cell_type": "markdown",
   "metadata": {},
   "source": [
    "# Deep Learning Locust Prediction in Ethiopia using Remote Sensing Data\n",
    "\n",
    "### Semester Project SS 2021 @ Advanced Programming for Remote Sensing\n",
    "#### Julius-Maximilians-Universität Würzburg\n",
    "\n",
    "This is a semester project for the course advanced programming aiming to use deep learning model and real-time climate variables to predict the emergence of locust swarms using data from Locust hub."
   ]
  },
  {
   "cell_type": "markdown",
   "metadata": {},
   "source": [
    "***\n",
    "## Description\n",
    "\n",
    "From Google Earth Engine, multiple csv files are created for all locust presence and absence data points. They includes 6 spectral bands from **Landsat 5,7,8**, as well as 19 selected variables from the **NASA FLDAS** (Famine Early Warning Systems Network) dataset, which is data assimilation designed for assisting food security by combining remote sensing data such as CHIRPS and MODIS. all time series data from 1985 to 2015. The variables included for example total precipitation, soil moisture and soil tempoerature. In order to creating training data, we need to remove unrelevant time series data for every row according to the occurence datetime of the data points. It will be done in python to post-process the data.\n",
    "\n",
    "**Tasks:**\n",
    "* Extract information from Landsat and FLDAS time series\n",
    "***"
   ]
  },
  {
   "cell_type": "markdown",
   "metadata": {},
   "source": [
    "#### Import Libraries"
   ]
  },
  {
   "cell_type": "code",
   "execution_count": null,
   "metadata": {
    "colab": {
     "base_uri": "https://localhost:8080/"
    },
    "id": "8umGgKyj1EBH",
    "outputId": "a608a072-b797-4de6-f627-4259f6e4062a"
   },
   "outputs": [
    {
     "name": "stdout",
     "output_type": "stream",
     "text": [
      "Requirement already satisfied: pandas in /usr/local/lib/python3.7/dist-packages (1.1.5)\n",
      "Collecting fiona\n",
      "  Downloading Fiona-1.8.20-cp37-cp37m-manylinux1_x86_64.whl (15.4 MB)\n",
      "\u001b[K     |████████████████████████████████| 15.4 MB 34 kB/s \n",
      "\u001b[?25hRequirement already satisfied: shapely in /usr/local/lib/python3.7/dist-packages (1.7.1)\n",
      "Collecting pyproj\n",
      "  Downloading pyproj-3.2.0-cp37-cp37m-manylinux_2_24_x86_64.whl (6.3 MB)\n",
      "\u001b[K     |████████████████████████████████| 6.3 MB 17.4 MB/s \n",
      "\u001b[?25hCollecting rtree\n",
      "  Downloading Rtree-0.9.7-cp37-cp37m-manylinux2010_x86_64.whl (994 kB)\n",
      "\u001b[K     |████████████████████████████████| 994 kB 52.0 MB/s \n",
      "\u001b[?25hRequirement already satisfied: pytz>=2017.2 in /usr/local/lib/python3.7/dist-packages (from pandas) (2018.9)\n",
      "Requirement already satisfied: numpy>=1.15.4 in /usr/local/lib/python3.7/dist-packages (from pandas) (1.19.5)\n",
      "Requirement already satisfied: python-dateutil>=2.7.3 in /usr/local/lib/python3.7/dist-packages (from pandas) (2.8.2)\n",
      "Requirement already satisfied: six>=1.5 in /usr/local/lib/python3.7/dist-packages (from python-dateutil>=2.7.3->pandas) (1.15.0)\n",
      "Requirement already satisfied: attrs>=17 in /usr/local/lib/python3.7/dist-packages (from fiona) (21.2.0)\n",
      "Collecting cligj>=0.5\n",
      "  Downloading cligj-0.7.2-py3-none-any.whl (7.1 kB)\n",
      "Requirement already satisfied: certifi in /usr/local/lib/python3.7/dist-packages (from fiona) (2021.5.30)\n",
      "Collecting click-plugins>=1.0\n",
      "  Downloading click_plugins-1.1.1-py2.py3-none-any.whl (7.5 kB)\n",
      "Collecting munch\n",
      "  Downloading munch-2.5.0-py2.py3-none-any.whl (10 kB)\n",
      "Requirement already satisfied: setuptools in /usr/local/lib/python3.7/dist-packages (from fiona) (57.4.0)\n",
      "Requirement already satisfied: click>=4.0 in /usr/local/lib/python3.7/dist-packages (from fiona) (7.1.2)\n",
      "Installing collected packages: munch, cligj, click-plugins, rtree, pyproj, fiona\n",
      "Successfully installed click-plugins-1.1.1 cligj-0.7.2 fiona-1.8.20 munch-2.5.0 pyproj-3.2.0 rtree-0.9.7\n",
      "\u001b[K     |████████████████████████████████| 1.3 MB 8.3 MB/s \n",
      "\u001b[K     |████████████████████████████████| 142 kB 67.7 MB/s \n",
      "\u001b[K     |████████████████████████████████| 294 kB 59.6 MB/s \n",
      "\u001b[?25hCollecting regions\n",
      "  Downloading regions-0.5-cp37-cp37m-manylinux_2_5_x86_64.manylinux1_x86_64.manylinux_2_12_x86_64.manylinux2010_x86_64.whl (744 kB)\n",
      "\u001b[K     |████████████████████████████████| 744 kB 5.3 MB/s \n",
      "\u001b[?25hRequirement already satisfied: astropy>=3.2 in /usr/local/lib/python3.7/dist-packages (from regions) (4.3.1)\n",
      "Requirement already satisfied: numpy>=1.16 in /usr/local/lib/python3.7/dist-packages (from regions) (1.19.5)\n",
      "Requirement already satisfied: pyerfa>=1.7.3 in /usr/local/lib/python3.7/dist-packages (from astropy>=3.2->regions) (2.0.0)\n",
      "Requirement already satisfied: importlib-metadata in /usr/local/lib/python3.7/dist-packages (from astropy>=3.2->regions) (4.6.4)\n",
      "Requirement already satisfied: typing-extensions>=3.6.4 in /usr/local/lib/python3.7/dist-packages (from importlib-metadata->astropy>=3.2->regions) (3.7.4.3)\n",
      "Requirement already satisfied: zipp>=0.5 in /usr/local/lib/python3.7/dist-packages (from importlib-metadata->astropy>=3.2->regions) (3.5.0)\n",
      "Installing collected packages: regions\n",
      "Successfully installed regions-0.5\n",
      "Collecting geopandas\n",
      "  Downloading geopandas-0.9.0-py2.py3-none-any.whl (994 kB)\n",
      "\u001b[K     |████████████████████████████████| 994 kB 5.4 MB/s \n",
      "\u001b[?25hRequirement already satisfied: pandas>=0.24.0 in /usr/local/lib/python3.7/dist-packages (from geopandas) (1.1.5)\n",
      "Requirement already satisfied: shapely>=1.6 in /usr/local/lib/python3.7/dist-packages (from geopandas) (1.7.1)\n",
      "Requirement already satisfied: pyproj>=2.2.0 in /usr/local/lib/python3.7/dist-packages (from geopandas) (3.2.0)\n",
      "Requirement already satisfied: fiona>=1.8 in /usr/local/lib/python3.7/dist-packages (from geopandas) (1.8.20)\n",
      "Requirement already satisfied: cligj>=0.5 in /usr/local/lib/python3.7/dist-packages (from fiona>=1.8->geopandas) (0.7.2)\n",
      "Requirement already satisfied: certifi in /usr/local/lib/python3.7/dist-packages (from fiona>=1.8->geopandas) (2021.5.30)\n",
      "Requirement already satisfied: six>=1.7 in /usr/local/lib/python3.7/dist-packages (from fiona>=1.8->geopandas) (1.15.0)\n",
      "Requirement already satisfied: click-plugins>=1.0 in /usr/local/lib/python3.7/dist-packages (from fiona>=1.8->geopandas) (1.1.1)\n",
      "Requirement already satisfied: setuptools in /usr/local/lib/python3.7/dist-packages (from fiona>=1.8->geopandas) (57.4.0)\n",
      "Requirement already satisfied: click>=4.0 in /usr/local/lib/python3.7/dist-packages (from fiona>=1.8->geopandas) (7.1.2)\n",
      "Requirement already satisfied: munch in /usr/local/lib/python3.7/dist-packages (from fiona>=1.8->geopandas) (2.5.0)\n",
      "Requirement already satisfied: attrs>=17 in /usr/local/lib/python3.7/dist-packages (from fiona>=1.8->geopandas) (21.2.0)\n",
      "Requirement already satisfied: pytz>=2017.2 in /usr/local/lib/python3.7/dist-packages (from pandas>=0.24.0->geopandas) (2018.9)\n",
      "Requirement already satisfied: python-dateutil>=2.7.3 in /usr/local/lib/python3.7/dist-packages (from pandas>=0.24.0->geopandas) (2.8.2)\n",
      "Requirement already satisfied: numpy>=1.15.4 in /usr/local/lib/python3.7/dist-packages (from pandas>=0.24.0->geopandas) (1.19.5)\n",
      "Installing collected packages: geopandas\n",
      "Successfully installed geopandas-0.9.0\n",
      "All libraries loaded\n"
     ]
    }
   ],
   "source": [
    "#@title Load Python libraries\n",
    "\n",
    "! pip install pandas fiona shapely pyproj rtree\n",
    "! pip install alpha_vantage -q\n",
    "! pip install regions\n",
    "! pip install geopandas\n",
    "\n",
    "# pip install numpy\n",
    "import numpy as np\n",
    "\n",
    "\n",
    "# pip install torch\n",
    "import torch\n",
    "import torch.nn as nn\n",
    "import torch.nn.functional as F\n",
    "import torch.optim as optim\n",
    "from torch.utils.data import Dataset\n",
    "from torch.utils.data import DataLoader\n",
    "import regions\n",
    "\n",
    "import pandas as pd\n",
    "import seaborn as sns\n",
    "import datetime\n",
    "\n",
    "#pip install matplotlib\n",
    "import matplotlib\n",
    "import matplotlib.pyplot as plt\n",
    "from matplotlib.pyplot import figure\n",
    "import matplotlib.animation as animation\n",
    "\n",
    "# pip install alpha_vantage\n",
    "from alpha_vantage.timeseries import TimeSeries \n",
    "\n",
    "from geopandas.tools import sjoin\n",
    "\n",
    "print(\"All libraries loaded\")"
   ]
  },
  {
   "cell_type": "markdown",
   "metadata": {},
   "source": [
    "#### Set up environment"
   ]
  },
  {
   "cell_type": "code",
   "execution_count": null,
   "metadata": {
    "id": "A-8l4hWY1NU8"
   },
   "outputs": [],
   "source": [
    "config = {\n",
    "    #\"alpha_vantage\": {\n",
    "    #    \"key\": \"YOUR_API_KEY\", # Claim your free API key here: https://www.alphavantage.co/support/#api-key\n",
    "     #   \"symbol\": \"IBM\",\n",
    "     #   \"outputsize\": \"full\",\n",
    "     #   \"key_adjusted_close\": \"5. adjusted close\",\n",
    "    #},\n",
    "    \"data\": {\n",
    "        \"window_size\": 20,\n",
    "        \"train_split_size\": 0.80,\n",
    "    }, \n",
    "    \"plots\": {\n",
    "        \"show_plots\": True,\n",
    "        \"xticks_interval\": 90,\n",
    "        \"color_actual\": \"#001f3f\",\n",
    "        \"color_train\": \"#3D9970\",\n",
    "        \"color_val\": \"#0074D9\",\n",
    "        \"color_pred_train\": \"#3D9970\",\n",
    "        \"color_pred_val\": \"#0074D9\",\n",
    "        \"color_pred_test\": \"#FF4136\",\n",
    "    },\n",
    "    \"model\": {\n",
    "        \"input_size\": 1, # since we are only using 1 feature, close price\n",
    "        \"num_lstm_layers\": 2,\n",
    "        \"lstm_size\": 32,\n",
    "        \"dropout\": 0.2,\n",
    "    },\n",
    "    \"training\": {\n",
    "        \"device\": \"cpu\", # \"cuda\" or \"cpu\"\n",
    "        \"batch_size\": 64,\n",
    "        \"num_epoch\": 100,\n",
    "        \"learning_rate\": 0.01,\n",
    "        \"scheduler_step_size\": 40,\n",
    "    }\n",
    "}"
   ]
  },
  {
   "cell_type": "markdown",
   "metadata": {},
   "source": [
    "## GEE output Postprocessing\n",
    "\n",
    "#### Import Data"
   ]
  },
  {
   "cell_type": "code",
   "execution_count": null,
   "metadata": {
    "colab": {
     "base_uri": "https://localhost:8080/",
     "height": 73,
     "resources": {
      "http://localhost:8080/nbextensions/google.colab/files.js": {
       "data": "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",
       "headers": [
        [
         "content-type",
         "application/javascript"
        ]
       ],
       "ok": true,
       "status": 200,
       "status_text": ""
      }
     }
    },
    "id": "IQdAhHj-1QTj",
    "outputId": "8cc40679-a308-4d1b-d916-935ca1e69782"
   },
   "outputs": [
    {
     "data": {
      "text/html": [
       "\n",
       "     <input type=\"file\" id=\"files-18441eb1-8bcc-4ca6-9bae-bbe21426483a\" name=\"files[]\" multiple disabled\n",
       "        style=\"border:none\" />\n",
       "     <output id=\"result-18441eb1-8bcc-4ca6-9bae-bbe21426483a\">\n",
       "      Upload widget is only available when the cell has been executed in the\n",
       "      current browser session. Please rerun this cell to enable.\n",
       "      </output>\n",
       "      <script src=\"/nbextensions/google.colab/files.js\"></script> "
      ],
      "text/plain": [
       "<IPython.core.display.HTML object>"
      ]
     },
     "metadata": {},
     "output_type": "display_data"
    },
    {
     "name": "stdout",
     "output_type": "stream",
     "text": [
      "Saving Landsat_06_07.csv to Landsat_06_07.csv\n"
     ]
    }
   ],
   "source": [
    "# select the \"Landsat_06_07.csv\" from your local project drive\n",
    "from google.colab import files\n",
    "uploaded = files.upload()\n",
    "\n",
    "# see the head of the dataframe\n",
    "import io\n",
    "import pandas as pd\n",
    "\n",
    "df_fldas = pd.read_csv(io.BytesIO(uploaded['Landsat_06_07.csv']))"
   ]
  },
  {
   "cell_type": "code",
   "execution_count": null,
   "metadata": {
    "colab": {
     "base_uri": "https://localhost:8080/",
     "height": 310
    },
    "id": "MMasRwsW1nRJ",
    "outputId": "bb202c9d-cec1-4ad9-ec63-85805e11f0eb",
    "scrolled": true
   },
   "outputs": [
    {
     "data": {
      "text/html": [
       "<div>\n",
       "<style scoped>\n",
       "    .dataframe tbody tr th:only-of-type {\n",
       "        vertical-align: middle;\n",
       "    }\n",
       "\n",
       "    .dataframe tbody tr th {\n",
       "        vertical-align: top;\n",
       "    }\n",
       "\n",
       "    .dataframe thead th {\n",
       "        text-align: right;\n",
       "    }\n",
       "</style>\n",
       "<table border=\"1\" class=\"dataframe\">\n",
       "  <thead>\n",
       "    <tr style=\"text-align: right;\">\n",
       "      <th></th>\n",
       "      <th>system:index</th>\n",
       "      <th>Blue</th>\n",
       "      <th>Green</th>\n",
       "      <th>Month</th>\n",
       "      <th>NIR</th>\n",
       "      <th>PRESENCE</th>\n",
       "      <th>Red</th>\n",
       "      <th>SWIR1</th>\n",
       "      <th>SWIR2</th>\n",
       "      <th>X</th>\n",
       "      <th>Y</th>\n",
       "      <th>Year</th>\n",
       "      <th>date</th>\n",
       "      <th>id</th>\n",
       "      <th>month</th>\n",
       "      <th>timestamp</th>\n",
       "      <th>year</th>\n",
       "      <th>.geo</th>\n",
       "    </tr>\n",
       "  </thead>\n",
       "  <tbody>\n",
       "    <tr>\n",
       "      <th>41998</th>\n",
       "      <td>23_000000000000000004cb</td>\n",
       "      <td>628.628968</td>\n",
       "      <td>751.815476</td>\n",
       "      <td>1</td>\n",
       "      <td>1403.797619</td>\n",
       "      <td>0</td>\n",
       "      <td>874.017857</td>\n",
       "      <td>2274.583333</td>\n",
       "      <td>1801.555556</td>\n",
       "      <td>6.176316</td>\n",
       "      <td>35.410463</td>\n",
       "      <td>2007</td>\n",
       "      <td>2007-12-01</td>\n",
       "      <td>26427</td>\n",
       "      <td>12</td>\n",
       "      <td>1.200000e+12</td>\n",
       "      <td>2007</td>\n",
       "      <td>{\"geodesic\":false,\"type\":\"Polygon\",\"coordinate...</td>\n",
       "    </tr>\n",
       "    <tr>\n",
       "      <th>41999</th>\n",
       "      <td>23_000000000000000004c6</td>\n",
       "      <td>2068.177866</td>\n",
       "      <td>3514.956522</td>\n",
       "      <td>1</td>\n",
       "      <td>5894.039526</td>\n",
       "      <td>0</td>\n",
       "      <td>5264.276680</td>\n",
       "      <td>7170.209486</td>\n",
       "      <td>6913.166008</td>\n",
       "      <td>-1.336950</td>\n",
       "      <td>27.220089</td>\n",
       "      <td>2007</td>\n",
       "      <td>2007-12-01</td>\n",
       "      <td>26422</td>\n",
       "      <td>12</td>\n",
       "      <td>1.200000e+12</td>\n",
       "      <td>2007</td>\n",
       "      <td>{\"geodesic\":false,\"type\":\"Polygon\",\"coordinate...</td>\n",
       "    </tr>\n",
       "    <tr>\n",
       "      <th>42000</th>\n",
       "      <td>23_000000000000000004d2</td>\n",
       "      <td>2068.177866</td>\n",
       "      <td>3514.956522</td>\n",
       "      <td>1</td>\n",
       "      <td>5894.039526</td>\n",
       "      <td>0</td>\n",
       "      <td>5264.276680</td>\n",
       "      <td>7170.209486</td>\n",
       "      <td>6913.166008</td>\n",
       "      <td>-1.336950</td>\n",
       "      <td>27.220089</td>\n",
       "      <td>2007</td>\n",
       "      <td>2007-12-01</td>\n",
       "      <td>26434</td>\n",
       "      <td>12</td>\n",
       "      <td>1.200000e+12</td>\n",
       "      <td>2007</td>\n",
       "      <td>{\"geodesic\":false,\"type\":\"Polygon\",\"coordinate...</td>\n",
       "    </tr>\n",
       "    <tr>\n",
       "      <th>42001</th>\n",
       "      <td>23_000000000000000004c2</td>\n",
       "      <td>2731.777778</td>\n",
       "      <td>4059.630952</td>\n",
       "      <td>1</td>\n",
       "      <td>6106.051587</td>\n",
       "      <td>0</td>\n",
       "      <td>5375.007937</td>\n",
       "      <td>7344.055556</td>\n",
       "      <td>6831.269841</td>\n",
       "      <td>13.500628</td>\n",
       "      <td>15.888393</td>\n",
       "      <td>2007</td>\n",
       "      <td>2007-12-01</td>\n",
       "      <td>26418</td>\n",
       "      <td>12</td>\n",
       "      <td>1.200000e+12</td>\n",
       "      <td>2007</td>\n",
       "      <td>{\"geodesic\":false,\"type\":\"Polygon\",\"coordinate...</td>\n",
       "    </tr>\n",
       "    <tr>\n",
       "      <th>42002</th>\n",
       "      <td>23_000000000000000004f2</td>\n",
       "      <td>819.092000</td>\n",
       "      <td>886.640000</td>\n",
       "      <td>1</td>\n",
       "      <td>1933.664000</td>\n",
       "      <td>0</td>\n",
       "      <td>895.776000</td>\n",
       "      <td>1672.004000</td>\n",
       "      <td>992.696000</td>\n",
       "      <td>22.822672</td>\n",
       "      <td>6.554854</td>\n",
       "      <td>2007</td>\n",
       "      <td>2007-12-01</td>\n",
       "      <td>26466</td>\n",
       "      <td>12</td>\n",
       "      <td>1.200000e+12</td>\n",
       "      <td>2007</td>\n",
       "      <td>{\"geodesic\":false,\"type\":\"Polygon\",\"coordinate...</td>\n",
       "    </tr>\n",
       "  </tbody>\n",
       "</table>\n",
       "</div>"
      ],
      "text/plain": [
       "                  system:index  ...                                               .geo\n",
       "41998  23_000000000000000004cb  ...  {\"geodesic\":false,\"type\":\"Polygon\",\"coordinate...\n",
       "41999  23_000000000000000004c6  ...  {\"geodesic\":false,\"type\":\"Polygon\",\"coordinate...\n",
       "42000  23_000000000000000004d2  ...  {\"geodesic\":false,\"type\":\"Polygon\",\"coordinate...\n",
       "42001  23_000000000000000004c2  ...  {\"geodesic\":false,\"type\":\"Polygon\",\"coordinate...\n",
       "42002  23_000000000000000004f2  ...  {\"geodesic\":false,\"type\":\"Polygon\",\"coordinate...\n",
       "\n",
       "[5 rows x 18 columns]"
      ]
     },
     "execution_count": 54,
     "metadata": {},
     "output_type": "execute_result"
    }
   ],
   "source": [
    "df_fldas.tail()"
   ]
  },
  {
   "cell_type": "markdown",
   "metadata": {},
   "source": [
    "In the csv file, there are data columns for every month for all years and two columns of year and month. for every row, we need to extract the value in the column with the datetime matching with the year and month columns, in order to get the climate/weather variables in the real-time relative to the occurence of the locust outbreak in records.\n",
    "\n",
    "In the dataframe, there are two months and years columns. \"year\" and \"month\" represent the timestamp of the climate variables, whereas \"Year\" and \"Month\" represent the occurence date of the locust outbreak in this datapoint. In order to extract the \"real-time\" information, we need to only keep rows that \"year\" and \"Year\" match, as well as \"month\" and \"Month\" match."
   ]
  },
  {
   "cell_type": "code",
   "execution_count": null,
   "metadata": {
    "id": "Xw1lIS2P1saO"
   },
   "outputs": [],
   "source": [
    "# remove unneeded columns\n",
    "df_fldas = df_fldas.drop(columns=['system:index', 'timestamp', '.geo'])"
   ]
  },
  {
   "cell_type": "code",
   "execution_count": null,
   "metadata": {
    "id": "vJv8735f3gbZ"
   },
   "outputs": [],
   "source": [
    "# set all year and month columns to integer\n",
    "df_fldas['year'] = df_fldas['year'].astype('int64')\n",
    "df_fldas['month'] = df_fldas['month'].astype('int64')\n",
    "df_fldas['Year'] = df_fldas['Year'].astype('int64')\n",
    "df_fldas['Month'] = df_fldas['Month'].astype('int64')"
   ]
  },
  {
   "cell_type": "code",
   "execution_count": null,
   "metadata": {
    "colab": {
     "base_uri": "https://localhost:8080/",
     "height": 310
    },
    "id": "bmtCwpaQ3WuZ",
    "outputId": "6482f7a2-0709-46e2-ff9b-6a950c9b9ae8"
   },
   "outputs": [
    {
     "data": {
      "text/html": [
       "<div>\n",
       "<style scoped>\n",
       "    .dataframe tbody tr th:only-of-type {\n",
       "        vertical-align: middle;\n",
       "    }\n",
       "\n",
       "    .dataframe tbody tr th {\n",
       "        vertical-align: top;\n",
       "    }\n",
       "\n",
       "    .dataframe thead th {\n",
       "        text-align: right;\n",
       "    }\n",
       "</style>\n",
       "<table border=\"1\" class=\"dataframe\">\n",
       "  <thead>\n",
       "    <tr style=\"text-align: right;\">\n",
       "      <th></th>\n",
       "      <th>Blue</th>\n",
       "      <th>Green</th>\n",
       "      <th>Month</th>\n",
       "      <th>NIR</th>\n",
       "      <th>PRESENCE</th>\n",
       "      <th>Red</th>\n",
       "      <th>SWIR1</th>\n",
       "      <th>SWIR2</th>\n",
       "      <th>X</th>\n",
       "      <th>Y</th>\n",
       "      <th>Year</th>\n",
       "      <th>date</th>\n",
       "      <th>id</th>\n",
       "      <th>month</th>\n",
       "      <th>year</th>\n",
       "    </tr>\n",
       "  </thead>\n",
       "  <tbody>\n",
       "    <tr>\n",
       "      <th>0</th>\n",
       "      <td>736.479839</td>\n",
       "      <td>1045.463710</td>\n",
       "      <td>2</td>\n",
       "      <td>1993.467742</td>\n",
       "      <td>0</td>\n",
       "      <td>1440.008065</td>\n",
       "      <td>2577.879032</td>\n",
       "      <td>1983.487903</td>\n",
       "      <td>34.638650</td>\n",
       "      <td>2.970945</td>\n",
       "      <td>2006</td>\n",
       "      <td>2006-01-01</td>\n",
       "      <td>25357</td>\n",
       "      <td>1</td>\n",
       "      <td>2006</td>\n",
       "    </tr>\n",
       "    <tr>\n",
       "      <th>1</th>\n",
       "      <td>736.479839</td>\n",
       "      <td>1045.463710</td>\n",
       "      <td>2</td>\n",
       "      <td>1993.467742</td>\n",
       "      <td>0</td>\n",
       "      <td>1440.008065</td>\n",
       "      <td>2577.879032</td>\n",
       "      <td>1983.487903</td>\n",
       "      <td>34.638650</td>\n",
       "      <td>2.970945</td>\n",
       "      <td>2006</td>\n",
       "      <td>2006-01-01</td>\n",
       "      <td>25368</td>\n",
       "      <td>1</td>\n",
       "      <td>2006</td>\n",
       "    </tr>\n",
       "    <tr>\n",
       "      <th>2</th>\n",
       "      <td>632.755020</td>\n",
       "      <td>820.088353</td>\n",
       "      <td>2</td>\n",
       "      <td>1667.662651</td>\n",
       "      <td>0</td>\n",
       "      <td>1034.000000</td>\n",
       "      <td>1969.734940</td>\n",
       "      <td>1423.116466</td>\n",
       "      <td>37.770269</td>\n",
       "      <td>5.198174</td>\n",
       "      <td>2006</td>\n",
       "      <td>2006-01-01</td>\n",
       "      <td>25388</td>\n",
       "      <td>1</td>\n",
       "      <td>2006</td>\n",
       "    </tr>\n",
       "    <tr>\n",
       "      <th>3</th>\n",
       "      <td>737.110672</td>\n",
       "      <td>1070.318182</td>\n",
       "      <td>2</td>\n",
       "      <td>2611.521739</td>\n",
       "      <td>0</td>\n",
       "      <td>1593.266798</td>\n",
       "      <td>3505.636364</td>\n",
       "      <td>2236.262846</td>\n",
       "      <td>22.762503</td>\n",
       "      <td>10.875932</td>\n",
       "      <td>2006</td>\n",
       "      <td>2006-01-01</td>\n",
       "      <td>25336</td>\n",
       "      <td>1</td>\n",
       "      <td>2006</td>\n",
       "    </tr>\n",
       "    <tr>\n",
       "      <th>4</th>\n",
       "      <td>737.110672</td>\n",
       "      <td>1070.318182</td>\n",
       "      <td>2</td>\n",
       "      <td>2611.521739</td>\n",
       "      <td>0</td>\n",
       "      <td>1593.266798</td>\n",
       "      <td>3505.636364</td>\n",
       "      <td>2236.262846</td>\n",
       "      <td>22.762503</td>\n",
       "      <td>10.875932</td>\n",
       "      <td>2006</td>\n",
       "      <td>2006-01-01</td>\n",
       "      <td>25385</td>\n",
       "      <td>1</td>\n",
       "      <td>2006</td>\n",
       "    </tr>\n",
       "  </tbody>\n",
       "</table>\n",
       "</div>"
      ],
      "text/plain": [
       "         Blue        Green  Month          NIR  ...        date     id  month  year\n",
       "0  736.479839  1045.463710      2  1993.467742  ...  2006-01-01  25357      1  2006\n",
       "1  736.479839  1045.463710      2  1993.467742  ...  2006-01-01  25368      1  2006\n",
       "2  632.755020   820.088353      2  1667.662651  ...  2006-01-01  25388      1  2006\n",
       "3  737.110672  1070.318182      2  2611.521739  ...  2006-01-01  25336      1  2006\n",
       "4  737.110672  1070.318182      2  2611.521739  ...  2006-01-01  25385      1  2006\n",
       "\n",
       "[5 rows x 15 columns]"
      ]
     },
     "execution_count": 57,
     "metadata": {},
     "output_type": "execute_result"
    }
   ],
   "source": [
    "df_fldas.head()"
   ]
  },
  {
   "cell_type": "code",
   "execution_count": null,
   "metadata": {
    "id": "-DBZzS4h30QZ"
   },
   "outputs": [],
   "source": [
    "# set up a condition to indicate weather the time information match with the locust occurence\n",
    "condition = np.logical_and(df_fldas.Year == df_fldas.year, df_fldas.Month == df_fldas.month)\n",
    "df_fldas = df_fldas.assign(match = np.where(condition,1,0))"
   ]
  },
  {
   "cell_type": "code",
   "execution_count": null,
   "metadata": {
    "colab": {
     "base_uri": "https://localhost:8080/"
    },
    "id": "g0cD_EVz4tdO",
    "outputId": "daf53fea-af32-4d3d-a150-6dac2a322235"
   },
   "outputs": [
    {
     "data": {
      "text/plain": [
       "count    42003.000000\n",
       "mean         0.043092\n",
       "std          0.203067\n",
       "min          0.000000\n",
       "25%          0.000000\n",
       "50%          0.000000\n",
       "75%          0.000000\n",
       "max          1.000000\n",
       "Name: match, dtype: float64"
      ]
     },
     "execution_count": 59,
     "metadata": {},
     "output_type": "execute_result"
    }
   ],
   "source": [
    "df_fldas.match.describe()"
   ]
  },
  {
   "cell_type": "code",
   "execution_count": null,
   "metadata": {
    "id": "WPuXRGwG6PH1"
   },
   "outputs": [],
   "source": [
    "# Keep only rows that match\n",
    "sub_df = df_fldas[df_fldas.match == 1]"
   ]
  },
  {
   "cell_type": "code",
   "execution_count": null,
   "metadata": {
    "id": "V9c6xiGboeNt"
   },
   "outputs": [],
   "source": [
    "# Delete unneeded columns\n",
    "sub_df = sub_df.drop(columns=['year','month','date'])"
   ]
  },
  {
   "cell_type": "code",
   "execution_count": null,
   "metadata": {
    "id": "_tfUVu5a6Xmu"
   },
   "outputs": [],
   "source": [
    "sub_df = sub_df.drop(columns=['match'])"
   ]
  },
  {
   "cell_type": "code",
   "execution_count": null,
   "metadata": {
    "colab": {
     "base_uri": "https://localhost:8080/",
     "height": 204
    },
    "id": "3SKXcWF_oj1w",
    "outputId": "31e423d4-4204-4c39-8a82-e1b49a75db46"
   },
   "outputs": [
    {
     "data": {
      "text/html": [
       "<div>\n",
       "<style scoped>\n",
       "    .dataframe tbody tr th:only-of-type {\n",
       "        vertical-align: middle;\n",
       "    }\n",
       "\n",
       "    .dataframe tbody tr th {\n",
       "        vertical-align: top;\n",
       "    }\n",
       "\n",
       "    .dataframe thead th {\n",
       "        text-align: right;\n",
       "    }\n",
       "</style>\n",
       "<table border=\"1\" class=\"dataframe\">\n",
       "  <thead>\n",
       "    <tr style=\"text-align: right;\">\n",
       "      <th></th>\n",
       "      <th>Blue</th>\n",
       "      <th>Green</th>\n",
       "      <th>Month</th>\n",
       "      <th>NIR</th>\n",
       "      <th>PRESENCE</th>\n",
       "      <th>Red</th>\n",
       "      <th>SWIR1</th>\n",
       "      <th>SWIR2</th>\n",
       "      <th>X</th>\n",
       "      <th>Y</th>\n",
       "      <th>Year</th>\n",
       "      <th>id</th>\n",
       "    </tr>\n",
       "  </thead>\n",
       "  <tbody>\n",
       "    <tr>\n",
       "      <th>712</th>\n",
       "      <td>1072.092000</td>\n",
       "      <td>1707.660000</td>\n",
       "      <td>1</td>\n",
       "      <td>3137.088000</td>\n",
       "      <td>0</td>\n",
       "      <td>2496.456000</td>\n",
       "      <td>3671.456000</td>\n",
       "      <td>2863.392000</td>\n",
       "      <td>36.557216</td>\n",
       "      <td>16.060265</td>\n",
       "      <td>2006</td>\n",
       "      <td>25204</td>\n",
       "    </tr>\n",
       "    <tr>\n",
       "      <th>713</th>\n",
       "      <td>385.428571</td>\n",
       "      <td>507.928571</td>\n",
       "      <td>1</td>\n",
       "      <td>1444.559524</td>\n",
       "      <td>0</td>\n",
       "      <td>560.698413</td>\n",
       "      <td>1262.321429</td>\n",
       "      <td>780.242063</td>\n",
       "      <td>40.222654</td>\n",
       "      <td>7.432943</td>\n",
       "      <td>2006</td>\n",
       "      <td>25236</td>\n",
       "    </tr>\n",
       "    <tr>\n",
       "      <th>714</th>\n",
       "      <td>385.428571</td>\n",
       "      <td>507.928571</td>\n",
       "      <td>1</td>\n",
       "      <td>1444.559524</td>\n",
       "      <td>0</td>\n",
       "      <td>560.698413</td>\n",
       "      <td>1262.321429</td>\n",
       "      <td>780.242063</td>\n",
       "      <td>40.222654</td>\n",
       "      <td>7.432943</td>\n",
       "      <td>2006</td>\n",
       "      <td>25282</td>\n",
       "    </tr>\n",
       "    <tr>\n",
       "      <th>715</th>\n",
       "      <td>385.428571</td>\n",
       "      <td>507.928571</td>\n",
       "      <td>1</td>\n",
       "      <td>1444.559524</td>\n",
       "      <td>0</td>\n",
       "      <td>560.698413</td>\n",
       "      <td>1262.321429</td>\n",
       "      <td>780.242063</td>\n",
       "      <td>40.222654</td>\n",
       "      <td>7.432943</td>\n",
       "      <td>2006</td>\n",
       "      <td>25288</td>\n",
       "    </tr>\n",
       "    <tr>\n",
       "      <th>716</th>\n",
       "      <td>598.150235</td>\n",
       "      <td>695.169014</td>\n",
       "      <td>1</td>\n",
       "      <td>1519.568075</td>\n",
       "      <td>0</td>\n",
       "      <td>745.915493</td>\n",
       "      <td>1768.225352</td>\n",
       "      <td>1180.455399</td>\n",
       "      <td>17.420898</td>\n",
       "      <td>6.874051</td>\n",
       "      <td>2006</td>\n",
       "      <td>25201</td>\n",
       "    </tr>\n",
       "  </tbody>\n",
       "</table>\n",
       "</div>"
      ],
      "text/plain": [
       "            Blue        Green  Month  ...          Y  Year     id\n",
       "712  1072.092000  1707.660000      1  ...  16.060265  2006  25204\n",
       "713   385.428571   507.928571      1  ...   7.432943  2006  25236\n",
       "714   385.428571   507.928571      1  ...   7.432943  2006  25282\n",
       "715   385.428571   507.928571      1  ...   7.432943  2006  25288\n",
       "716   598.150235   695.169014      1  ...   6.874051  2006  25201\n",
       "\n",
       "[5 rows x 12 columns]"
      ]
     },
     "execution_count": 63,
     "metadata": {},
     "output_type": "execute_result"
    }
   ],
   "source": [
    "sub_df.head()"
   ]
  },
  {
   "cell_type": "markdown",
   "metadata": {},
   "source": [
    "## Data Export"
   ]
  },
  {
   "cell_type": "code",
   "execution_count": null,
   "metadata": {
    "colab": {
     "base_uri": "https://localhost:8080/"
    },
    "id": "QEyrdGXBoxdC",
    "outputId": "aea1a7d9-81d8-454a-94a2-81f29507ceb0"
   },
   "outputs": [
    {
     "name": "stdout",
     "output_type": "stream",
     "text": [
      "Drive already mounted at drive; to attempt to forcibly remount, call drive.mount(\"drive\", force_remount=True).\n"
     ]
    }
   ],
   "source": [
    "from google.colab import drive\n",
    "drive.mount('drive')"
   ]
  },
  {
   "cell_type": "code",
   "execution_count": null,
   "metadata": {
    "id": "3ZMR0eH6qFDP"
   },
   "outputs": [],
   "source": [
    "sub_df.to_csv('Landsat_06_07_extracted.csv')\n",
    "!cp Landsat_06_07_extracted.csv \"drive/My Drive/\""
   ]
  }
 ],
 "metadata": {
  "colab": {
   "name": "FLDAS_postprocessing.ipynb",
   "provenance": []
  },
  "kernelspec": {
   "display_name": "Python 3",
   "language": "python",
   "name": "python3"
  },
  "language_info": {
   "codemirror_mode": {
    "name": "ipython",
    "version": 3
   },
   "file_extension": ".py",
   "mimetype": "text/x-python",
   "name": "python",
   "nbconvert_exporter": "python",
   "pygments_lexer": "ipython3",
   "version": "3.7.9"
  },
  "toc": {
   "base_numbering": 1,
   "nav_menu": {},
   "number_sections": false,
   "sideBar": true,
   "skip_h1_title": false,
   "title_cell": "Table of Contents",
   "title_sidebar": "Contents",
   "toc_cell": false,
   "toc_position": {},
   "toc_section_display": true,
   "toc_window_display": false
  }
 },
 "nbformat": 4,
 "nbformat_minor": 1
}
